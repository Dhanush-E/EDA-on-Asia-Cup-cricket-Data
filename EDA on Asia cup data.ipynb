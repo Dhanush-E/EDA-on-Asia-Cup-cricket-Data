{
 "cells": [
  {
   "cell_type": "markdown",
   "metadata": {},
   "source": [
    "## Installing Rquired libraries"
   ]
  },
  {
   "cell_type": "code",
   "execution_count": 1,
   "metadata": {},
   "outputs": [
    {
     "name": "stdout",
     "output_type": "stream",
     "text": [
      "Requirement already satisfied: numpy in c:\\users\\dhanu\\anaconda3\\lib\\site-packages (1.21.5)\n",
      "Note: you may need to restart the kernel to use updated packages.\n"
     ]
    }
   ],
   "source": [
    "pip install numpy"
   ]
  },
  {
   "cell_type": "code",
   "execution_count": 2,
   "metadata": {},
   "outputs": [
    {
     "name": "stdout",
     "output_type": "stream",
     "text": [
      "Requirement already satisfied: pandas in c:\\users\\dhanu\\anaconda3\\lib\\site-packages (1.4.2)\n",
      "Requirement already satisfied: numpy>=1.18.5 in c:\\users\\dhanu\\anaconda3\\lib\\site-packages (from pandas) (1.21.5)\n",
      "Requirement already satisfied: python-dateutil>=2.8.1 in c:\\users\\dhanu\\anaconda3\\lib\\site-packages (from pandas) (2.8.2)\n",
      "Requirement already satisfied: pytz>=2020.1 in c:\\users\\dhanu\\anaconda3\\lib\\site-packages (from pandas) (2021.3)\n",
      "Requirement already satisfied: six>=1.5 in c:\\users\\dhanu\\anaconda3\\lib\\site-packages (from python-dateutil>=2.8.1->pandas) (1.16.0)\n",
      "Note: you may need to restart the kernel to use updated packages.\n"
     ]
    }
   ],
   "source": [
    "pip install pandas"
   ]
  },
  {
   "cell_type": "code",
   "execution_count": 3,
   "metadata": {},
   "outputs": [
    {
     "name": "stdout",
     "output_type": "stream",
     "text": [
      "Requirement already satisfied: matplotlib in c:\\users\\dhanu\\anaconda3\\lib\\site-packages (3.5.1)\n",
      "Requirement already satisfied: kiwisolver>=1.0.1 in c:\\users\\dhanu\\anaconda3\\lib\\site-packages (from matplotlib) (1.3.2)\n",
      "Requirement already satisfied: pyparsing>=2.2.1 in c:\\users\\dhanu\\anaconda3\\lib\\site-packages (from matplotlib) (3.0.4)\n",
      "Requirement already satisfied: pillow>=6.2.0 in c:\\users\\dhanu\\anaconda3\\lib\\site-packages (from matplotlib) (9.0.1)\n",
      "Requirement already satisfied: packaging>=20.0 in c:\\users\\dhanu\\anaconda3\\lib\\site-packages (from matplotlib) (21.3)\n",
      "Requirement already satisfied: fonttools>=4.22.0 in c:\\users\\dhanu\\anaconda3\\lib\\site-packages (from matplotlib) (4.25.0)\n",
      "Requirement already satisfied: numpy>=1.17 in c:\\users\\dhanu\\anaconda3\\lib\\site-packages (from matplotlib) (1.21.5)\n",
      "Requirement already satisfied: cycler>=0.10 in c:\\users\\dhanu\\anaconda3\\lib\\site-packages (from matplotlib) (0.11.0)\n",
      "Requirement already satisfied: python-dateutil>=2.7 in c:\\users\\dhanu\\anaconda3\\lib\\site-packages (from matplotlib) (2.8.2)\n",
      "Requirement already satisfied: six>=1.5 in c:\\users\\dhanu\\anaconda3\\lib\\site-packages (from python-dateutil>=2.7->matplotlib) (1.16.0)\n",
      "Note: you may need to restart the kernel to use updated packages.\n"
     ]
    }
   ],
   "source": [
    "pip install matplotlib"
   ]
  },
  {
   "cell_type": "code",
   "execution_count": 4,
   "metadata": {},
   "outputs": [
    {
     "name": "stdout",
     "output_type": "stream",
     "text": [
      "Requirement already satisfied: seaborn in c:\\users\\dhanu\\anaconda3\\lib\\site-packages (0.11.2)\n",
      "Requirement already satisfied: matplotlib>=2.2 in c:\\users\\dhanu\\anaconda3\\lib\\site-packages (from seaborn) (3.5.1)\n",
      "Requirement already satisfied: scipy>=1.0 in c:\\users\\dhanu\\anaconda3\\lib\\site-packages (from seaborn) (1.7.3)\n",
      "Requirement already satisfied: numpy>=1.15 in c:\\users\\dhanu\\anaconda3\\lib\\site-packages (from seaborn) (1.21.5)\n",
      "Requirement already satisfied: pandas>=0.23 in c:\\users\\dhanu\\anaconda3\\lib\\site-packages (from seaborn) (1.4.2)\n",
      "Requirement already satisfied: cycler>=0.10 in c:\\users\\dhanu\\anaconda3\\lib\\site-packages (from matplotlib>=2.2->seaborn) (0.11.0)\n",
      "Requirement already satisfied: packaging>=20.0 in c:\\users\\dhanu\\anaconda3\\lib\\site-packages (from matplotlib>=2.2->seaborn) (21.3)\n",
      "Requirement already satisfied: fonttools>=4.22.0 in c:\\users\\dhanu\\anaconda3\\lib\\site-packages (from matplotlib>=2.2->seaborn) (4.25.0)\n",
      "Requirement already satisfied: python-dateutil>=2.7 in c:\\users\\dhanu\\anaconda3\\lib\\site-packages (from matplotlib>=2.2->seaborn) (2.8.2)\n",
      "Requirement already satisfied: kiwisolver>=1.0.1 in c:\\users\\dhanu\\anaconda3\\lib\\site-packages (from matplotlib>=2.2->seaborn) (1.3.2)\n",
      "Requirement already satisfied: pillow>=6.2.0 in c:\\users\\dhanu\\anaconda3\\lib\\site-packages (from matplotlib>=2.2->seaborn) (9.0.1)\n",
      "Requirement already satisfied: pyparsing>=2.2.1 in c:\\users\\dhanu\\anaconda3\\lib\\site-packages (from matplotlib>=2.2->seaborn) (3.0.4)\n",
      "Requirement already satisfied: pytz>=2020.1 in c:\\users\\dhanu\\anaconda3\\lib\\site-packages (from pandas>=0.23->seaborn) (2021.3)\n",
      "Requirement already satisfied: six>=1.5 in c:\\users\\dhanu\\anaconda3\\lib\\site-packages (from python-dateutil>=2.7->matplotlib>=2.2->seaborn) (1.16.0)\n",
      "Note: you may need to restart the kernel to use updated packages.\n"
     ]
    }
   ],
   "source": [
    "pip install seaborn"
   ]
  },
  {
   "cell_type": "code",
   "execution_count": 5,
   "metadata": {
    "colab": {
     "base_uri": "https://localhost:8080/"
    },
    "id": "laIC6R5gVnEg",
    "outputId": "0815a70c-b4eb-4bc4-efc9-a0d68a578b00"
   },
   "outputs": [
    {
     "name": "stdout",
     "output_type": "stream",
     "text": [
      "Requirement already satisfied: pywaffle in c:\\users\\dhanu\\anaconda3\\lib\\site-packages (1.1.0)\n",
      "Requirement already satisfied: fontawesomefree in c:\\users\\dhanu\\anaconda3\\lib\\site-packages (from pywaffle) (6.2.1)\n",
      "Requirement already satisfied: matplotlib in c:\\users\\dhanu\\anaconda3\\lib\\site-packages (from pywaffle) (3.5.1)\n",
      "Requirement already satisfied: pillow>=6.2.0 in c:\\users\\dhanu\\anaconda3\\lib\\site-packages (from matplotlib->pywaffle) (9.0.1)\n",
      "Requirement already satisfied: python-dateutil>=2.7 in c:\\users\\dhanu\\anaconda3\\lib\\site-packages (from matplotlib->pywaffle) (2.8.2)\n",
      "Requirement already satisfied: numpy>=1.17 in c:\\users\\dhanu\\anaconda3\\lib\\site-packages (from matplotlib->pywaffle) (1.21.5)\n",
      "Requirement already satisfied: cycler>=0.10 in c:\\users\\dhanu\\anaconda3\\lib\\site-packages (from matplotlib->pywaffle) (0.11.0)\n",
      "Requirement already satisfied: packaging>=20.0 in c:\\users\\dhanu\\anaconda3\\lib\\site-packages (from matplotlib->pywaffle) (21.3)\n",
      "Requirement already satisfied: kiwisolver>=1.0.1 in c:\\users\\dhanu\\anaconda3\\lib\\site-packages (from matplotlib->pywaffle) (1.3.2)\n",
      "Requirement already satisfied: pyparsing>=2.2.1 in c:\\users\\dhanu\\anaconda3\\lib\\site-packages (from matplotlib->pywaffle) (3.0.4)\n",
      "Requirement already satisfied: fonttools>=4.22.0 in c:\\users\\dhanu\\anaconda3\\lib\\site-packages (from matplotlib->pywaffle) (4.25.0)\n",
      "Requirement already satisfied: six>=1.5 in c:\\users\\dhanu\\anaconda3\\lib\\site-packages (from python-dateutil>=2.7->matplotlib->pywaffle) (1.16.0)\n",
      "Note: you may need to restart the kernel to use updated packages.\n"
     ]
    }
   ],
   "source": [
    "pip install pywaffle"
   ]
  },
  {
   "cell_type": "markdown",
   "metadata": {},
   "source": [
    "## Importing libraries"
   ]
  },
  {
   "cell_type": "code",
   "execution_count": 6,
   "metadata": {
    "id": "yspiss6SpyCk"
   },
   "outputs": [],
   "source": [
    "import numpy as np\n",
    "import pandas as pd\n",
    "import matplotlib.pyplot as plt\n",
    "from pywaffle import Waffle\n",
    "import seaborn as sns"
   ]
  },
  {
   "cell_type": "markdown",
   "metadata": {},
   "source": [
    "## Loading the Data"
   ]
  },
  {
   "cell_type": "code",
   "execution_count": 7,
   "metadata": {
    "colab": {
     "base_uri": "https://localhost:8080/",
     "height": 381
    },
    "id": "MIEFlFNvy2a0",
    "outputId": "32751eeb-cc11-4128-d1df-e855910450e7"
   },
   "outputs": [],
   "source": [
    "data_asia_cup=pd.read_csv('asia_cup_data/asiacup.csv')\n",
    "champion_data = pd.read_csv('asia_cup_data/champion.csv')\n",
    "wkd = pd.read_csv('asia_cup_data/wicketkeeper data odi.csv')\n",
    "bat_data = pd.read_csv('asia_cup_data/batsman data odi.csv')\n",
    "ball_data = pd.read_csv('asia_cup_data/bowler data odi.csv')"
   ]
  },
  {
   "cell_type": "markdown",
   "metadata": {},
   "source": [
    "## Data Preprocessing"
   ]
  },
  {
   "cell_type": "code",
   "execution_count": 8,
   "metadata": {
    "id": "xxZOUpE8-T9k"
   },
   "outputs": [
    {
     "data": {
      "text/html": [
       "<div>\n",
       "<style scoped>\n",
       "    .dataframe tbody tr th:only-of-type {\n",
       "        vertical-align: middle;\n",
       "    }\n",
       "\n",
       "    .dataframe tbody tr th {\n",
       "        vertical-align: top;\n",
       "    }\n",
       "\n",
       "    .dataframe thead th {\n",
       "        text-align: right;\n",
       "    }\n",
       "</style>\n",
       "<table border=\"1\" class=\"dataframe\">\n",
       "  <thead>\n",
       "    <tr style=\"text-align: right;\">\n",
       "      <th></th>\n",
       "      <th>Team</th>\n",
       "      <th>Opponent</th>\n",
       "      <th>Format</th>\n",
       "      <th>Ground</th>\n",
       "      <th>Year</th>\n",
       "      <th>Toss</th>\n",
       "      <th>Selection</th>\n",
       "      <th>Run Scored</th>\n",
       "      <th>Wicket Lost</th>\n",
       "      <th>Fours</th>\n",
       "      <th>Sixes</th>\n",
       "      <th>Extras</th>\n",
       "      <th>Run Rate</th>\n",
       "      <th>Avg Bat Strike Rate</th>\n",
       "      <th>Highest Score</th>\n",
       "      <th>Wicket Taken</th>\n",
       "      <th>Given Extras</th>\n",
       "      <th>Highest Individual wicket</th>\n",
       "      <th>Player Of The Match</th>\n",
       "      <th>Result</th>\n",
       "    </tr>\n",
       "  </thead>\n",
       "  <tbody>\n",
       "    <tr>\n",
       "      <th>0</th>\n",
       "      <td>Pakistan</td>\n",
       "      <td>Sri Lanka</td>\n",
       "      <td>ODI</td>\n",
       "      <td>Sharjah</td>\n",
       "      <td>1984</td>\n",
       "      <td>Lose</td>\n",
       "      <td>Batting</td>\n",
       "      <td>187.0</td>\n",
       "      <td>9.0</td>\n",
       "      <td>9.0</td>\n",
       "      <td>3.0</td>\n",
       "      <td>21.0</td>\n",
       "      <td>4.06</td>\n",
       "      <td>52.04</td>\n",
       "      <td>47.0</td>\n",
       "      <td>5.0</td>\n",
       "      <td>26.0</td>\n",
       "      <td>2.0</td>\n",
       "      <td>Roy Dias</td>\n",
       "      <td>Lose</td>\n",
       "    </tr>\n",
       "    <tr>\n",
       "      <th>1</th>\n",
       "      <td>Sri Lanka</td>\n",
       "      <td>Pakistan</td>\n",
       "      <td>ODI</td>\n",
       "      <td>Sharjah</td>\n",
       "      <td>1984</td>\n",
       "      <td>Win</td>\n",
       "      <td>Bowling</td>\n",
       "      <td>190.0</td>\n",
       "      <td>5.0</td>\n",
       "      <td>11.0</td>\n",
       "      <td>1.0</td>\n",
       "      <td>26.0</td>\n",
       "      <td>4.36</td>\n",
       "      <td>68.51</td>\n",
       "      <td>57.0</td>\n",
       "      <td>9.0</td>\n",
       "      <td>21.0</td>\n",
       "      <td>3.0</td>\n",
       "      <td>Roy Dias</td>\n",
       "      <td>Win</td>\n",
       "    </tr>\n",
       "    <tr>\n",
       "      <th>2</th>\n",
       "      <td>India</td>\n",
       "      <td>Sri Lanka</td>\n",
       "      <td>ODI</td>\n",
       "      <td>Sharjah</td>\n",
       "      <td>1984</td>\n",
       "      <td>Win</td>\n",
       "      <td>Bowling</td>\n",
       "      <td>97.0</td>\n",
       "      <td>0.0</td>\n",
       "      <td>9.0</td>\n",
       "      <td>0.0</td>\n",
       "      <td>14.0</td>\n",
       "      <td>4.47</td>\n",
       "      <td>60.48</td>\n",
       "      <td>51.0</td>\n",
       "      <td>10.0</td>\n",
       "      <td>8.0</td>\n",
       "      <td>3.0</td>\n",
       "      <td>Surinder Khanna</td>\n",
       "      <td>Win</td>\n",
       "    </tr>\n",
       "    <tr>\n",
       "      <th>3</th>\n",
       "      <td>Sri Lanka</td>\n",
       "      <td>India</td>\n",
       "      <td>ODI</td>\n",
       "      <td>Sharjah</td>\n",
       "      <td>1984</td>\n",
       "      <td>Lose</td>\n",
       "      <td>Batting</td>\n",
       "      <td>96.0</td>\n",
       "      <td>10.0</td>\n",
       "      <td>7.0</td>\n",
       "      <td>0.0</td>\n",
       "      <td>8.0</td>\n",
       "      <td>2.34</td>\n",
       "      <td>25.74</td>\n",
       "      <td>38.0</td>\n",
       "      <td>0.0</td>\n",
       "      <td>14.0</td>\n",
       "      <td>0.0</td>\n",
       "      <td>Surinder Khanna</td>\n",
       "      <td>Lose</td>\n",
       "    </tr>\n",
       "    <tr>\n",
       "      <th>4</th>\n",
       "      <td>India</td>\n",
       "      <td>Pakistan</td>\n",
       "      <td>ODI</td>\n",
       "      <td>Sharjah</td>\n",
       "      <td>1984</td>\n",
       "      <td>Win</td>\n",
       "      <td>Batting</td>\n",
       "      <td>188.0</td>\n",
       "      <td>4.0</td>\n",
       "      <td>13.0</td>\n",
       "      <td>3.0</td>\n",
       "      <td>17.0</td>\n",
       "      <td>4.08</td>\n",
       "      <td>60.21</td>\n",
       "      <td>56.0</td>\n",
       "      <td>10.0</td>\n",
       "      <td>5.0</td>\n",
       "      <td>3.0</td>\n",
       "      <td>Surinder Khanna</td>\n",
       "      <td>Win</td>\n",
       "    </tr>\n",
       "  </tbody>\n",
       "</table>\n",
       "</div>"
      ],
      "text/plain": [
       "        Team   Opponent Format   Ground  Year  Toss Selection  Run Scored  \\\n",
       "0   Pakistan  Sri Lanka    ODI  Sharjah  1984  Lose   Batting       187.0   \n",
       "1  Sri Lanka   Pakistan    ODI  Sharjah  1984   Win   Bowling       190.0   \n",
       "2      India  Sri Lanka    ODI  Sharjah  1984   Win   Bowling        97.0   \n",
       "3  Sri Lanka      India    ODI  Sharjah  1984  Lose   Batting        96.0   \n",
       "4      India   Pakistan    ODI  Sharjah  1984   Win   Batting       188.0   \n",
       "\n",
       "   Wicket Lost  Fours  Sixes  Extras  Run Rate  Avg Bat Strike Rate  \\\n",
       "0          9.0    9.0    3.0    21.0      4.06                52.04   \n",
       "1          5.0   11.0    1.0    26.0      4.36                68.51   \n",
       "2          0.0    9.0    0.0    14.0      4.47                60.48   \n",
       "3         10.0    7.0    0.0     8.0      2.34                25.74   \n",
       "4          4.0   13.0    3.0    17.0      4.08                60.21   \n",
       "\n",
       "   Highest Score  Wicket Taken  Given Extras  Highest Individual wicket  \\\n",
       "0           47.0           5.0          26.0                        2.0   \n",
       "1           57.0           9.0          21.0                        3.0   \n",
       "2           51.0          10.0           8.0                        3.0   \n",
       "3           38.0           0.0          14.0                        0.0   \n",
       "4           56.0          10.0           5.0                        3.0   \n",
       "\n",
       "  Player Of The Match Result  \n",
       "0            Roy Dias   Lose  \n",
       "1            Roy Dias    Win  \n",
       "2     Surinder Khanna    Win  \n",
       "3     Surinder Khanna   Lose  \n",
       "4     Surinder Khanna    Win  "
      ]
     },
     "execution_count": 8,
     "metadata": {},
     "output_type": "execute_result"
    }
   ],
   "source": [
    "#checking the data \n",
    "data_asia_cup.head()"
   ]
  },
  {
   "cell_type": "code",
   "execution_count": 9,
   "metadata": {
    "id": "jSHzfYswB9It"
   },
   "outputs": [
    {
     "name": "stdout",
     "output_type": "stream",
     "text": [
      "There are 20 columns in the dataset\n"
     ]
    }
   ],
   "source": [
    "shaped = data_asia_cup.shape\n",
    "print(f'There are {shaped[1]} columns in the dataset')"
   ]
  },
  {
   "cell_type": "code",
   "execution_count": 10,
   "metadata": {
    "id": "oZL2ad_vBX3N"
   },
   "outputs": [
    {
     "data": {
      "text/plain": [
       "Index(['Team', 'Opponent', 'Format', 'Ground', 'Year', 'Toss', 'Selection',\n",
       "       'Run Scored', 'Wicket Lost', 'Fours', 'Sixes', 'Extras', 'Run Rate',\n",
       "       'Avg Bat Strike Rate', 'Highest Score', 'Wicket Taken', 'Given Extras',\n",
       "       'Highest Individual wicket', 'Player Of The Match', 'Result'],\n",
       "      dtype='object')"
      ]
     },
     "execution_count": 10,
     "metadata": {},
     "output_type": "execute_result"
    }
   ],
   "source": [
    "data_asia_cup.columns"
   ]
  },
  {
   "cell_type": "code",
   "execution_count": 11,
   "metadata": {
    "id": "Z2g1YeJk-kJG"
   },
   "outputs": [
    {
     "data": {
      "text/plain": [
       "0"
      ]
     },
     "execution_count": 11,
     "metadata": {},
     "output_type": "execute_result"
    }
   ],
   "source": [
    "#checking for duplicated data\n",
    "data_asia_cup.duplicated().sum()"
   ]
  },
  {
   "cell_type": "markdown",
   "metadata": {},
   "source": [
    "There is no duplicated data in the data set"
   ]
  },
  {
   "cell_type": "code",
   "execution_count": 12,
   "metadata": {
    "id": "cyb3vCB7-x-_"
   },
   "outputs": [
    {
     "data": {
      "text/plain": [
       "Team                         0\n",
       "Opponent                     0\n",
       "Format                       0\n",
       "Ground                       0\n",
       "Year                         0\n",
       "Toss                         0\n",
       "Selection                    0\n",
       "Run Scored                   2\n",
       "Wicket Lost                  2\n",
       "Fours                        2\n",
       "Sixes                        2\n",
       "Extras                       2\n",
       "Run Rate                     2\n",
       "Avg Bat Strike Rate          2\n",
       "Highest Score                2\n",
       "Wicket Taken                 2\n",
       "Given Extras                 2\n",
       "Highest Individual wicket    2\n",
       "Player Of The Match          2\n",
       "Result                       0\n",
       "dtype: int64"
      ]
     },
     "execution_count": 12,
     "metadata": {},
     "output_type": "execute_result"
    }
   ],
   "source": [
    "#checking for null values\n",
    "data_asia_cup.isna().sum()"
   ]
  },
  {
   "cell_type": "markdown",
   "metadata": {},
   "source": [
    "There are very few null values so they can be ignored"
   ]
  },
  {
   "cell_type": "code",
   "execution_count": 13,
   "metadata": {},
   "outputs": [
    {
     "data": {
      "text/html": [
       "<div>\n",
       "<style scoped>\n",
       "    .dataframe tbody tr th:only-of-type {\n",
       "        vertical-align: middle;\n",
       "    }\n",
       "\n",
       "    .dataframe tbody tr th {\n",
       "        vertical-align: top;\n",
       "    }\n",
       "\n",
       "    .dataframe thead th {\n",
       "        text-align: right;\n",
       "    }\n",
       "</style>\n",
       "<table border=\"1\" class=\"dataframe\">\n",
       "  <thead>\n",
       "    <tr style=\"text-align: right;\">\n",
       "      <th></th>\n",
       "      <th>Year</th>\n",
       "      <th>Run Scored</th>\n",
       "      <th>Wicket Lost</th>\n",
       "      <th>Fours</th>\n",
       "      <th>Sixes</th>\n",
       "      <th>Extras</th>\n",
       "      <th>Run Rate</th>\n",
       "      <th>Avg Bat Strike Rate</th>\n",
       "      <th>Highest Score</th>\n",
       "      <th>Wicket Taken</th>\n",
       "      <th>Given Extras</th>\n",
       "      <th>Highest Individual wicket</th>\n",
       "    </tr>\n",
       "  </thead>\n",
       "  <tbody>\n",
       "    <tr>\n",
       "      <th>count</th>\n",
       "      <td>254.000000</td>\n",
       "      <td>252.000000</td>\n",
       "      <td>252.000000</td>\n",
       "      <td>252.000000</td>\n",
       "      <td>252.000000</td>\n",
       "      <td>252.000000</td>\n",
       "      <td>252.000000</td>\n",
       "      <td>252.000000</td>\n",
       "      <td>252.000000</td>\n",
       "      <td>252.000000</td>\n",
       "      <td>252.000000</td>\n",
       "      <td>252.000000</td>\n",
       "    </tr>\n",
       "    <tr>\n",
       "      <th>mean</th>\n",
       "      <td>2006.905512</td>\n",
       "      <td>201.920635</td>\n",
       "      <td>6.892857</td>\n",
       "      <td>15.626984</td>\n",
       "      <td>2.912698</td>\n",
       "      <td>13.238095</td>\n",
       "      <td>5.308214</td>\n",
       "      <td>76.676667</td>\n",
       "      <td>69.309524</td>\n",
       "      <td>6.892857</td>\n",
       "      <td>13.238095</td>\n",
       "      <td>2.563492</td>\n",
       "    </tr>\n",
       "    <tr>\n",
       "      <th>std</th>\n",
       "      <td>11.014495</td>\n",
       "      <td>67.331860</td>\n",
       "      <td>2.874609</td>\n",
       "      <td>7.754946</td>\n",
       "      <td>2.596411</td>\n",
       "      <td>7.621973</td>\n",
       "      <td>1.584823</td>\n",
       "      <td>30.678228</td>\n",
       "      <td>29.813488</td>\n",
       "      <td>2.874609</td>\n",
       "      <td>7.621973</td>\n",
       "      <td>1.100496</td>\n",
       "    </tr>\n",
       "    <tr>\n",
       "      <th>min</th>\n",
       "      <td>1984.000000</td>\n",
       "      <td>38.000000</td>\n",
       "      <td>0.000000</td>\n",
       "      <td>0.000000</td>\n",
       "      <td>0.000000</td>\n",
       "      <td>0.000000</td>\n",
       "      <td>2.200000</td>\n",
       "      <td>24.630000</td>\n",
       "      <td>8.000000</td>\n",
       "      <td>0.000000</td>\n",
       "      <td>0.000000</td>\n",
       "      <td>0.000000</td>\n",
       "    </tr>\n",
       "    <tr>\n",
       "      <th>25%</th>\n",
       "      <td>1997.750000</td>\n",
       "      <td>147.000000</td>\n",
       "      <td>5.000000</td>\n",
       "      <td>10.000000</td>\n",
       "      <td>1.000000</td>\n",
       "      <td>8.000000</td>\n",
       "      <td>4.227500</td>\n",
       "      <td>54.742500</td>\n",
       "      <td>47.000000</td>\n",
       "      <td>5.000000</td>\n",
       "      <td>8.000000</td>\n",
       "      <td>2.000000</td>\n",
       "    </tr>\n",
       "    <tr>\n",
       "      <th>50%</th>\n",
       "      <td>2008.000000</td>\n",
       "      <td>193.000000</td>\n",
       "      <td>7.000000</td>\n",
       "      <td>15.000000</td>\n",
       "      <td>2.000000</td>\n",
       "      <td>12.000000</td>\n",
       "      <td>5.090000</td>\n",
       "      <td>73.155000</td>\n",
       "      <td>66.500000</td>\n",
       "      <td>7.000000</td>\n",
       "      <td>12.000000</td>\n",
       "      <td>3.000000</td>\n",
       "    </tr>\n",
       "    <tr>\n",
       "      <th>75%</th>\n",
       "      <td>2016.000000</td>\n",
       "      <td>253.250000</td>\n",
       "      <td>10.000000</td>\n",
       "      <td>20.000000</td>\n",
       "      <td>4.250000</td>\n",
       "      <td>18.000000</td>\n",
       "      <td>6.100000</td>\n",
       "      <td>92.897500</td>\n",
       "      <td>85.000000</td>\n",
       "      <td>10.000000</td>\n",
       "      <td>18.000000</td>\n",
       "      <td>3.000000</td>\n",
       "    </tr>\n",
       "    <tr>\n",
       "      <th>max</th>\n",
       "      <td>2022.000000</td>\n",
       "      <td>385.000000</td>\n",
       "      <td>10.000000</td>\n",
       "      <td>41.000000</td>\n",
       "      <td>14.000000</td>\n",
       "      <td>38.000000</td>\n",
       "      <td>10.600000</td>\n",
       "      <td>194.050000</td>\n",
       "      <td>183.000000</td>\n",
       "      <td>10.000000</td>\n",
       "      <td>38.000000</td>\n",
       "      <td>6.000000</td>\n",
       "    </tr>\n",
       "  </tbody>\n",
       "</table>\n",
       "</div>"
      ],
      "text/plain": [
       "              Year  Run Scored  Wicket Lost       Fours       Sixes  \\\n",
       "count   254.000000  252.000000   252.000000  252.000000  252.000000   \n",
       "mean   2006.905512  201.920635     6.892857   15.626984    2.912698   \n",
       "std      11.014495   67.331860     2.874609    7.754946    2.596411   \n",
       "min    1984.000000   38.000000     0.000000    0.000000    0.000000   \n",
       "25%    1997.750000  147.000000     5.000000   10.000000    1.000000   \n",
       "50%    2008.000000  193.000000     7.000000   15.000000    2.000000   \n",
       "75%    2016.000000  253.250000    10.000000   20.000000    4.250000   \n",
       "max    2022.000000  385.000000    10.000000   41.000000   14.000000   \n",
       "\n",
       "           Extras    Run Rate  Avg Bat Strike Rate  Highest Score  \\\n",
       "count  252.000000  252.000000           252.000000     252.000000   \n",
       "mean    13.238095    5.308214            76.676667      69.309524   \n",
       "std      7.621973    1.584823            30.678228      29.813488   \n",
       "min      0.000000    2.200000            24.630000       8.000000   \n",
       "25%      8.000000    4.227500            54.742500      47.000000   \n",
       "50%     12.000000    5.090000            73.155000      66.500000   \n",
       "75%     18.000000    6.100000            92.897500      85.000000   \n",
       "max     38.000000   10.600000           194.050000     183.000000   \n",
       "\n",
       "       Wicket Taken  Given Extras  Highest Individual wicket  \n",
       "count    252.000000    252.000000                 252.000000  \n",
       "mean       6.892857     13.238095                   2.563492  \n",
       "std        2.874609      7.621973                   1.100496  \n",
       "min        0.000000      0.000000                   0.000000  \n",
       "25%        5.000000      8.000000                   2.000000  \n",
       "50%        7.000000     12.000000                   3.000000  \n",
       "75%       10.000000     18.000000                   3.000000  \n",
       "max       10.000000     38.000000                   6.000000  "
      ]
     },
     "execution_count": 13,
     "metadata": {},
     "output_type": "execute_result"
    }
   ],
   "source": [
    "data_asia_cup.describe()"
   ]
  },
  {
   "cell_type": "markdown",
   "metadata": {},
   "source": [
    "There are no outliers in the data"
   ]
  },
  {
   "cell_type": "code",
   "execution_count": 14,
   "metadata": {},
   "outputs": [
    {
     "data": {
      "text/plain": [
       "Index(['Player Name', 'Country', 'Time Period', 'Matches', 'Played',\n",
       "       'Not Outs', 'Runs', 'Highest Score', 'Batting Average', 'Balls Faced',\n",
       "       'Strike Rate', 'Centuries', 'Fifties', 'Ducks', 'Fours', 'Sixes'],\n",
       "      dtype='object')"
      ]
     },
     "execution_count": 14,
     "metadata": {},
     "output_type": "execute_result"
    }
   ],
   "source": [
    "bat_data.columns"
   ]
  },
  {
   "cell_type": "code",
   "execution_count": 15,
   "metadata": {},
   "outputs": [],
   "source": [
    "bat_data.drop(['Balls Faced'],axis=1,inplace=True)"
   ]
  },
  {
   "cell_type": "code",
   "execution_count": 16,
   "metadata": {},
   "outputs": [
    {
     "data": {
      "text/plain": [
       "Player Name        0\n",
       "Country            0\n",
       "Time Period        0\n",
       "Matches            0\n",
       "Played             0\n",
       "Not Outs           0\n",
       "Runs               0\n",
       "Highest Score      0\n",
       "Batting Average    0\n",
       "Strike Rate        0\n",
       "Centuries          0\n",
       "Fifties            0\n",
       "Ducks              0\n",
       "Fours              0\n",
       "Sixes              0\n",
       "dtype: int64"
      ]
     },
     "execution_count": 16,
     "metadata": {},
     "output_type": "execute_result"
    }
   ],
   "source": [
    "bat_data.isna().sum()"
   ]
  },
  {
   "cell_type": "markdown",
   "metadata": {},
   "source": [
    "There are no null values in the data set"
   ]
  },
  {
   "cell_type": "code",
   "execution_count": 17,
   "metadata": {},
   "outputs": [
    {
     "data": {
      "text/plain": [
       "0"
      ]
     },
     "execution_count": 17,
     "metadata": {},
     "output_type": "execute_result"
    }
   ],
   "source": [
    "bat_data.duplicated().sum()"
   ]
  },
  {
   "cell_type": "markdown",
   "metadata": {},
   "source": [
    "There is no duplicated data in the data set"
   ]
  },
  {
   "cell_type": "code",
   "execution_count": 18,
   "metadata": {},
   "outputs": [
    {
     "data": {
      "text/html": [
       "<div>\n",
       "<style scoped>\n",
       "    .dataframe tbody tr th:only-of-type {\n",
       "        vertical-align: middle;\n",
       "    }\n",
       "\n",
       "    .dataframe tbody tr th {\n",
       "        vertical-align: top;\n",
       "    }\n",
       "\n",
       "    .dataframe thead th {\n",
       "        text-align: right;\n",
       "    }\n",
       "</style>\n",
       "<table border=\"1\" class=\"dataframe\">\n",
       "  <thead>\n",
       "    <tr style=\"text-align: right;\">\n",
       "      <th></th>\n",
       "      <th>Matches</th>\n",
       "      <th>Played</th>\n",
       "      <th>Not Outs</th>\n",
       "      <th>Runs</th>\n",
       "      <th>Highest Score</th>\n",
       "      <th>Batting Average</th>\n",
       "      <th>Strike Rate</th>\n",
       "      <th>Centuries</th>\n",
       "      <th>Fifties</th>\n",
       "      <th>Ducks</th>\n",
       "      <th>Fours</th>\n",
       "      <th>Sixes</th>\n",
       "    </tr>\n",
       "  </thead>\n",
       "  <tbody>\n",
       "    <tr>\n",
       "      <th>count</th>\n",
       "      <td>50.000000</td>\n",
       "      <td>50.000000</td>\n",
       "      <td>50.000000</td>\n",
       "      <td>50.000000</td>\n",
       "      <td>50.000000</td>\n",
       "      <td>50.000000</td>\n",
       "      <td>50.000000</td>\n",
       "      <td>50.000000</td>\n",
       "      <td>50.000000</td>\n",
       "      <td>50.000000</td>\n",
       "      <td>50.000000</td>\n",
       "      <td>50.000000</td>\n",
       "    </tr>\n",
       "    <tr>\n",
       "      <th>mean</th>\n",
       "      <td>14.060000</td>\n",
       "      <td>13.120000</td>\n",
       "      <td>2.100000</td>\n",
       "      <td>487.340000</td>\n",
       "      <td>99.360000</td>\n",
       "      <td>50.031000</td>\n",
       "      <td>83.677800</td>\n",
       "      <td>0.920000</td>\n",
       "      <td>3.160000</td>\n",
       "      <td>0.580000</td>\n",
       "      <td>42.780000</td>\n",
       "      <td>6.660000</td>\n",
       "    </tr>\n",
       "    <tr>\n",
       "      <th>std</th>\n",
       "      <td>5.563768</td>\n",
       "      <td>5.137457</td>\n",
       "      <td>1.887121</td>\n",
       "      <td>215.852237</td>\n",
       "      <td>27.467799</td>\n",
       "      <td>32.193085</td>\n",
       "      <td>15.652533</td>\n",
       "      <td>1.209486</td>\n",
       "      <td>1.909803</td>\n",
       "      <td>0.702474</td>\n",
       "      <td>25.264551</td>\n",
       "      <td>5.542452</td>\n",
       "    </tr>\n",
       "    <tr>\n",
       "      <th>min</th>\n",
       "      <td>4.000000</td>\n",
       "      <td>3.000000</td>\n",
       "      <td>0.000000</td>\n",
       "      <td>250.000000</td>\n",
       "      <td>50.000000</td>\n",
       "      <td>21.000000</td>\n",
       "      <td>55.600000</td>\n",
       "      <td>0.000000</td>\n",
       "      <td>0.000000</td>\n",
       "      <td>0.000000</td>\n",
       "      <td>6.000000</td>\n",
       "      <td>0.000000</td>\n",
       "    </tr>\n",
       "    <tr>\n",
       "      <th>25%</th>\n",
       "      <td>10.250000</td>\n",
       "      <td>9.250000</td>\n",
       "      <td>1.000000</td>\n",
       "      <td>317.000000</td>\n",
       "      <td>76.500000</td>\n",
       "      <td>35.482500</td>\n",
       "      <td>76.275000</td>\n",
       "      <td>0.000000</td>\n",
       "      <td>2.000000</td>\n",
       "      <td>0.000000</td>\n",
       "      <td>26.250000</td>\n",
       "      <td>3.000000</td>\n",
       "    </tr>\n",
       "    <tr>\n",
       "      <th>50%</th>\n",
       "      <td>13.000000</td>\n",
       "      <td>12.000000</td>\n",
       "      <td>2.000000</td>\n",
       "      <td>443.500000</td>\n",
       "      <td>100.000000</td>\n",
       "      <td>44.420000</td>\n",
       "      <td>82.955000</td>\n",
       "      <td>1.000000</td>\n",
       "      <td>3.000000</td>\n",
       "      <td>0.000000</td>\n",
       "      <td>38.500000</td>\n",
       "      <td>5.000000</td>\n",
       "    </tr>\n",
       "    <tr>\n",
       "      <th>75%</th>\n",
       "      <td>17.750000</td>\n",
       "      <td>14.750000</td>\n",
       "      <td>3.000000</td>\n",
       "      <td>586.500000</td>\n",
       "      <td>115.500000</td>\n",
       "      <td>58.125000</td>\n",
       "      <td>89.792500</td>\n",
       "      <td>1.000000</td>\n",
       "      <td>4.000000</td>\n",
       "      <td>1.000000</td>\n",
       "      <td>50.500000</td>\n",
       "      <td>8.750000</td>\n",
       "    </tr>\n",
       "    <tr>\n",
       "      <th>max</th>\n",
       "      <td>28.000000</td>\n",
       "      <td>26.000000</td>\n",
       "      <td>6.000000</td>\n",
       "      <td>1220.000000</td>\n",
       "      <td>183.000000</td>\n",
       "      <td>251.000000</td>\n",
       "      <td>140.740000</td>\n",
       "      <td>6.000000</td>\n",
       "      <td>8.000000</td>\n",
       "      <td>3.000000</td>\n",
       "      <td>139.000000</td>\n",
       "      <td>26.000000</td>\n",
       "    </tr>\n",
       "  </tbody>\n",
       "</table>\n",
       "</div>"
      ],
      "text/plain": [
       "         Matches     Played   Not Outs         Runs  Highest Score  \\\n",
       "count  50.000000  50.000000  50.000000    50.000000      50.000000   \n",
       "mean   14.060000  13.120000   2.100000   487.340000      99.360000   \n",
       "std     5.563768   5.137457   1.887121   215.852237      27.467799   \n",
       "min     4.000000   3.000000   0.000000   250.000000      50.000000   \n",
       "25%    10.250000   9.250000   1.000000   317.000000      76.500000   \n",
       "50%    13.000000  12.000000   2.000000   443.500000     100.000000   \n",
       "75%    17.750000  14.750000   3.000000   586.500000     115.500000   \n",
       "max    28.000000  26.000000   6.000000  1220.000000     183.000000   \n",
       "\n",
       "       Batting Average  Strike Rate  Centuries    Fifties      Ducks  \\\n",
       "count        50.000000    50.000000  50.000000  50.000000  50.000000   \n",
       "mean         50.031000    83.677800   0.920000   3.160000   0.580000   \n",
       "std          32.193085    15.652533   1.209486   1.909803   0.702474   \n",
       "min          21.000000    55.600000   0.000000   0.000000   0.000000   \n",
       "25%          35.482500    76.275000   0.000000   2.000000   0.000000   \n",
       "50%          44.420000    82.955000   1.000000   3.000000   0.000000   \n",
       "75%          58.125000    89.792500   1.000000   4.000000   1.000000   \n",
       "max         251.000000   140.740000   6.000000   8.000000   3.000000   \n",
       "\n",
       "            Fours      Sixes  \n",
       "count   50.000000  50.000000  \n",
       "mean    42.780000   6.660000  \n",
       "std     25.264551   5.542452  \n",
       "min      6.000000   0.000000  \n",
       "25%     26.250000   3.000000  \n",
       "50%     38.500000   5.000000  \n",
       "75%     50.500000   8.750000  \n",
       "max    139.000000  26.000000  "
      ]
     },
     "execution_count": 18,
     "metadata": {},
     "output_type": "execute_result"
    }
   ],
   "source": [
    "bat_data.describe()"
   ]
  },
  {
   "cell_type": "markdown",
   "metadata": {},
   "source": [
    "There are no outliers in the data"
   ]
  },
  {
   "cell_type": "code",
   "execution_count": 19,
   "metadata": {},
   "outputs": [
    {
     "data": {
      "text/plain": [
       "Index(['Player Name', 'Country', 'Time Period', 'Matches', 'Played', 'Overs',\n",
       "       'Maiden Overs', 'Runs', 'Wickets', 'Best Figure', 'Bowling Average',\n",
       "       'Economy Rate', 'Strike Rate', 'Four Wickets', 'Five Wickets'],\n",
       "      dtype='object')"
      ]
     },
     "execution_count": 19,
     "metadata": {},
     "output_type": "execute_result"
    }
   ],
   "source": [
    "ball_data.columns"
   ]
  },
  {
   "cell_type": "code",
   "execution_count": 20,
   "metadata": {},
   "outputs": [],
   "source": [
    "ball_data.drop(['Overs','Four Wickets'],axis=1,inplace=True)"
   ]
  },
  {
   "cell_type": "code",
   "execution_count": 21,
   "metadata": {},
   "outputs": [
    {
     "data": {
      "text/plain": [
       "Player Name        0\n",
       "Country            0\n",
       "Time Period        0\n",
       "Matches            0\n",
       "Played             0\n",
       "Maiden Overs       0\n",
       "Runs               0\n",
       "Wickets            0\n",
       "Best Figure        0\n",
       "Bowling Average    0\n",
       "Economy Rate       0\n",
       "Strike Rate        0\n",
       "Five Wickets       0\n",
       "dtype: int64"
      ]
     },
     "execution_count": 21,
     "metadata": {},
     "output_type": "execute_result"
    }
   ],
   "source": [
    "ball_data.isna().sum()"
   ]
  },
  {
   "cell_type": "markdown",
   "metadata": {},
   "source": [
    "There are no null values in the data set"
   ]
  },
  {
   "cell_type": "code",
   "execution_count": 22,
   "metadata": {},
   "outputs": [
    {
     "data": {
      "text/plain": [
       "0"
      ]
     },
     "execution_count": 22,
     "metadata": {},
     "output_type": "execute_result"
    }
   ],
   "source": [
    "ball_data.duplicated().sum()"
   ]
  },
  {
   "cell_type": "markdown",
   "metadata": {},
   "source": [
    "There is no duplicated data in the data set"
   ]
  },
  {
   "cell_type": "code",
   "execution_count": 23,
   "metadata": {},
   "outputs": [
    {
     "data": {
      "text/html": [
       "<div>\n",
       "<style scoped>\n",
       "    .dataframe tbody tr th:only-of-type {\n",
       "        vertical-align: middle;\n",
       "    }\n",
       "\n",
       "    .dataframe tbody tr th {\n",
       "        vertical-align: top;\n",
       "    }\n",
       "\n",
       "    .dataframe thead th {\n",
       "        text-align: right;\n",
       "    }\n",
       "</style>\n",
       "<table border=\"1\" class=\"dataframe\">\n",
       "  <thead>\n",
       "    <tr style=\"text-align: right;\">\n",
       "      <th></th>\n",
       "      <th>Matches</th>\n",
       "      <th>Played</th>\n",
       "      <th>Maiden Overs</th>\n",
       "      <th>Runs</th>\n",
       "      <th>Wickets</th>\n",
       "      <th>Bowling Average</th>\n",
       "      <th>Economy Rate</th>\n",
       "      <th>Strike Rate</th>\n",
       "      <th>Five Wickets</th>\n",
       "    </tr>\n",
       "  </thead>\n",
       "  <tbody>\n",
       "    <tr>\n",
       "      <th>count</th>\n",
       "      <td>45.000000</td>\n",
       "      <td>45.000000</td>\n",
       "      <td>45.000000</td>\n",
       "      <td>45.00000</td>\n",
       "      <td>45.000000</td>\n",
       "      <td>45.000000</td>\n",
       "      <td>45.000000</td>\n",
       "      <td>45.000000</td>\n",
       "      <td>45.000000</td>\n",
       "    </tr>\n",
       "    <tr>\n",
       "      <th>mean</th>\n",
       "      <td>11.622222</td>\n",
       "      <td>10.977778</td>\n",
       "      <td>4.888889</td>\n",
       "      <td>407.40000</td>\n",
       "      <td>14.622222</td>\n",
       "      <td>28.798889</td>\n",
       "      <td>4.607778</td>\n",
       "      <td>37.073333</td>\n",
       "      <td>0.222222</td>\n",
       "    </tr>\n",
       "    <tr>\n",
       "      <th>std</th>\n",
       "      <td>5.737789</td>\n",
       "      <td>4.974886</td>\n",
       "      <td>3.632068</td>\n",
       "      <td>196.16753</td>\n",
       "      <td>5.737789</td>\n",
       "      <td>11.356828</td>\n",
       "      <td>0.761093</td>\n",
       "      <td>12.422604</td>\n",
       "      <td>0.598820</td>\n",
       "    </tr>\n",
       "    <tr>\n",
       "      <th>min</th>\n",
       "      <td>4.000000</td>\n",
       "      <td>4.000000</td>\n",
       "      <td>0.000000</td>\n",
       "      <td>120.00000</td>\n",
       "      <td>9.000000</td>\n",
       "      <td>10.420000</td>\n",
       "      <td>3.220000</td>\n",
       "      <td>15.600000</td>\n",
       "      <td>0.000000</td>\n",
       "    </tr>\n",
       "    <tr>\n",
       "      <th>25%</th>\n",
       "      <td>7.000000</td>\n",
       "      <td>7.000000</td>\n",
       "      <td>2.000000</td>\n",
       "      <td>263.00000</td>\n",
       "      <td>10.000000</td>\n",
       "      <td>20.550000</td>\n",
       "      <td>4.150000</td>\n",
       "      <td>27.700000</td>\n",
       "      <td>0.000000</td>\n",
       "    </tr>\n",
       "    <tr>\n",
       "      <th>50%</th>\n",
       "      <td>11.000000</td>\n",
       "      <td>10.000000</td>\n",
       "      <td>5.000000</td>\n",
       "      <td>331.00000</td>\n",
       "      <td>13.000000</td>\n",
       "      <td>26.570000</td>\n",
       "      <td>4.440000</td>\n",
       "      <td>35.400000</td>\n",
       "      <td>0.000000</td>\n",
       "    </tr>\n",
       "    <tr>\n",
       "      <th>75%</th>\n",
       "      <td>14.000000</td>\n",
       "      <td>14.000000</td>\n",
       "      <td>6.000000</td>\n",
       "      <td>505.00000</td>\n",
       "      <td>17.000000</td>\n",
       "      <td>36.180000</td>\n",
       "      <td>5.080000</td>\n",
       "      <td>45.200000</td>\n",
       "      <td>0.000000</td>\n",
       "    </tr>\n",
       "    <tr>\n",
       "      <th>max</th>\n",
       "      <td>25.000000</td>\n",
       "      <td>24.000000</td>\n",
       "      <td>20.000000</td>\n",
       "      <td>883.00000</td>\n",
       "      <td>30.000000</td>\n",
       "      <td>63.070000</td>\n",
       "      <td>6.870000</td>\n",
       "      <td>76.200000</td>\n",
       "      <td>3.000000</td>\n",
       "    </tr>\n",
       "  </tbody>\n",
       "</table>\n",
       "</div>"
      ],
      "text/plain": [
       "         Matches     Played  Maiden Overs       Runs    Wickets  \\\n",
       "count  45.000000  45.000000     45.000000   45.00000  45.000000   \n",
       "mean   11.622222  10.977778      4.888889  407.40000  14.622222   \n",
       "std     5.737789   4.974886      3.632068  196.16753   5.737789   \n",
       "min     4.000000   4.000000      0.000000  120.00000   9.000000   \n",
       "25%     7.000000   7.000000      2.000000  263.00000  10.000000   \n",
       "50%    11.000000  10.000000      5.000000  331.00000  13.000000   \n",
       "75%    14.000000  14.000000      6.000000  505.00000  17.000000   \n",
       "max    25.000000  24.000000     20.000000  883.00000  30.000000   \n",
       "\n",
       "       Bowling Average  Economy Rate  Strike Rate  Five Wickets  \n",
       "count        45.000000     45.000000    45.000000     45.000000  \n",
       "mean         28.798889      4.607778    37.073333      0.222222  \n",
       "std          11.356828      0.761093    12.422604      0.598820  \n",
       "min          10.420000      3.220000    15.600000      0.000000  \n",
       "25%          20.550000      4.150000    27.700000      0.000000  \n",
       "50%          26.570000      4.440000    35.400000      0.000000  \n",
       "75%          36.180000      5.080000    45.200000      0.000000  \n",
       "max          63.070000      6.870000    76.200000      3.000000  "
      ]
     },
     "execution_count": 23,
     "metadata": {},
     "output_type": "execute_result"
    }
   ],
   "source": [
    "ball_data.describe()"
   ]
  },
  {
   "cell_type": "markdown",
   "metadata": {},
   "source": [
    "There are no outliers in the data"
   ]
  },
  {
   "cell_type": "code",
   "execution_count": 24,
   "metadata": {},
   "outputs": [
    {
     "data": {
      "text/plain": [
       "Index(['Player Name', 'Country', 'Time Period', 'Matches', 'Played',\n",
       "       'Dismissals', 'Catches', 'Stumpings', 'Maximum Dismissals'],\n",
       "      dtype='object')"
      ]
     },
     "execution_count": 24,
     "metadata": {},
     "output_type": "execute_result"
    }
   ],
   "source": [
    "wkd.columns"
   ]
  },
  {
   "cell_type": "code",
   "execution_count": 25,
   "metadata": {},
   "outputs": [
    {
     "data": {
      "text/plain": [
       "Player Name           0\n",
       "Country               0\n",
       "Time Period           0\n",
       "Matches               0\n",
       "Played                0\n",
       "Dismissals            0\n",
       "Catches               0\n",
       "Stumpings             0\n",
       "Maximum Dismissals    0\n",
       "dtype: int64"
      ]
     },
     "execution_count": 25,
     "metadata": {},
     "output_type": "execute_result"
    }
   ],
   "source": [
    "wkd.isna().sum()"
   ]
  },
  {
   "cell_type": "markdown",
   "metadata": {},
   "source": [
    "There are no null values in the data set"
   ]
  },
  {
   "cell_type": "code",
   "execution_count": 26,
   "metadata": {},
   "outputs": [
    {
     "data": {
      "text/plain": [
       "0"
      ]
     },
     "execution_count": 26,
     "metadata": {},
     "output_type": "execute_result"
    }
   ],
   "source": [
    "wkd.duplicated().sum()"
   ]
  },
  {
   "cell_type": "markdown",
   "metadata": {},
   "source": [
    "There is no duplicated data in the data set"
   ]
  },
  {
   "cell_type": "code",
   "execution_count": 27,
   "metadata": {},
   "outputs": [
    {
     "data": {
      "text/html": [
       "<div>\n",
       "<style scoped>\n",
       "    .dataframe tbody tr th:only-of-type {\n",
       "        vertical-align: middle;\n",
       "    }\n",
       "\n",
       "    .dataframe tbody tr th {\n",
       "        vertical-align: top;\n",
       "    }\n",
       "\n",
       "    .dataframe thead th {\n",
       "        text-align: right;\n",
       "    }\n",
       "</style>\n",
       "<table border=\"1\" class=\"dataframe\">\n",
       "  <thead>\n",
       "    <tr style=\"text-align: right;\">\n",
       "      <th></th>\n",
       "      <th>Matches</th>\n",
       "      <th>Played</th>\n",
       "      <th>Dismissals</th>\n",
       "      <th>Catches</th>\n",
       "      <th>Stumpings</th>\n",
       "      <th>Maximum Dismissals</th>\n",
       "    </tr>\n",
       "  </thead>\n",
       "  <tbody>\n",
       "    <tr>\n",
       "      <th>count</th>\n",
       "      <td>40.000000</td>\n",
       "      <td>40.00000</td>\n",
       "      <td>40.000000</td>\n",
       "      <td>40.000000</td>\n",
       "      <td>40.000000</td>\n",
       "      <td>40.000000</td>\n",
       "    </tr>\n",
       "    <tr>\n",
       "      <th>mean</th>\n",
       "      <td>6.775000</td>\n",
       "      <td>5.12500</td>\n",
       "      <td>6.325000</td>\n",
       "      <td>4.850000</td>\n",
       "      <td>1.475000</td>\n",
       "      <td>2.175000</td>\n",
       "    </tr>\n",
       "    <tr>\n",
       "      <th>std</th>\n",
       "      <td>6.298097</td>\n",
       "      <td>5.57553</td>\n",
       "      <td>8.112629</td>\n",
       "      <td>6.032179</td>\n",
       "      <td>2.298132</td>\n",
       "      <td>1.217132</td>\n",
       "    </tr>\n",
       "    <tr>\n",
       "      <th>min</th>\n",
       "      <td>1.000000</td>\n",
       "      <td>0.00000</td>\n",
       "      <td>0.000000</td>\n",
       "      <td>0.000000</td>\n",
       "      <td>0.000000</td>\n",
       "      <td>0.000000</td>\n",
       "    </tr>\n",
       "    <tr>\n",
       "      <th>25%</th>\n",
       "      <td>2.000000</td>\n",
       "      <td>2.00000</td>\n",
       "      <td>2.000000</td>\n",
       "      <td>1.000000</td>\n",
       "      <td>0.000000</td>\n",
       "      <td>1.750000</td>\n",
       "    </tr>\n",
       "    <tr>\n",
       "      <th>50%</th>\n",
       "      <td>4.500000</td>\n",
       "      <td>3.00000</td>\n",
       "      <td>3.000000</td>\n",
       "      <td>3.000000</td>\n",
       "      <td>1.000000</td>\n",
       "      <td>2.000000</td>\n",
       "    </tr>\n",
       "    <tr>\n",
       "      <th>75%</th>\n",
       "      <td>9.750000</td>\n",
       "      <td>5.25000</td>\n",
       "      <td>7.000000</td>\n",
       "      <td>5.500000</td>\n",
       "      <td>2.000000</td>\n",
       "      <td>3.000000</td>\n",
       "    </tr>\n",
       "    <tr>\n",
       "      <th>max</th>\n",
       "      <td>24.000000</td>\n",
       "      <td>24.00000</td>\n",
       "      <td>36.000000</td>\n",
       "      <td>27.000000</td>\n",
       "      <td>11.000000</td>\n",
       "      <td>5.000000</td>\n",
       "    </tr>\n",
       "  </tbody>\n",
       "</table>\n",
       "</div>"
      ],
      "text/plain": [
       "         Matches    Played  Dismissals    Catches  Stumpings  \\\n",
       "count  40.000000  40.00000   40.000000  40.000000  40.000000   \n",
       "mean    6.775000   5.12500    6.325000   4.850000   1.475000   \n",
       "std     6.298097   5.57553    8.112629   6.032179   2.298132   \n",
       "min     1.000000   0.00000    0.000000   0.000000   0.000000   \n",
       "25%     2.000000   2.00000    2.000000   1.000000   0.000000   \n",
       "50%     4.500000   3.00000    3.000000   3.000000   1.000000   \n",
       "75%     9.750000   5.25000    7.000000   5.500000   2.000000   \n",
       "max    24.000000  24.00000   36.000000  27.000000  11.000000   \n",
       "\n",
       "       Maximum Dismissals  \n",
       "count           40.000000  \n",
       "mean             2.175000  \n",
       "std              1.217132  \n",
       "min              0.000000  \n",
       "25%              1.750000  \n",
       "50%              2.000000  \n",
       "75%              3.000000  \n",
       "max              5.000000  "
      ]
     },
     "execution_count": 27,
     "metadata": {},
     "output_type": "execute_result"
    }
   ],
   "source": [
    "wkd.describe()"
   ]
  },
  {
   "cell_type": "markdown",
   "metadata": {},
   "source": [
    "There are no outliers in the data"
   ]
  },
  {
   "cell_type": "code",
   "execution_count": 28,
   "metadata": {},
   "outputs": [
    {
     "data": {
      "text/plain": [
       "Index(['Year', 'Host', 'No Of Team', 'Champion', 'Runner Up',\n",
       "       'Player Of The Series', 'Highest Run Scorer', 'Highest Wicket Taker'],\n",
       "      dtype='object')"
      ]
     },
     "execution_count": 28,
     "metadata": {},
     "output_type": "execute_result"
    }
   ],
   "source": [
    "champion_data.columns"
   ]
  },
  {
   "cell_type": "code",
   "execution_count": 29,
   "metadata": {},
   "outputs": [],
   "source": [
    "champion_data.drop(['No Of Team'],axis=1,inplace=True)"
   ]
  },
  {
   "cell_type": "code",
   "execution_count": 30,
   "metadata": {},
   "outputs": [
    {
     "data": {
      "text/plain": [
       "Year                    0\n",
       "Host                    0\n",
       "Champion                0\n",
       "Runner Up               0\n",
       "Player Of The Series    0\n",
       "Highest Run Scorer      0\n",
       "Highest Wicket Taker    0\n",
       "dtype: int64"
      ]
     },
     "execution_count": 30,
     "metadata": {},
     "output_type": "execute_result"
    }
   ],
   "source": [
    "champion_data.isna().sum()"
   ]
  },
  {
   "cell_type": "markdown",
   "metadata": {},
   "source": [
    "There are no null values in the data set"
   ]
  },
  {
   "cell_type": "code",
   "execution_count": 31,
   "metadata": {},
   "outputs": [
    {
     "data": {
      "text/plain": [
       "0"
      ]
     },
     "execution_count": 31,
     "metadata": {},
     "output_type": "execute_result"
    }
   ],
   "source": [
    "champion_data.duplicated().sum()"
   ]
  },
  {
   "cell_type": "markdown",
   "metadata": {},
   "source": [
    "There is no duplicated data in the data set"
   ]
  },
  {
   "cell_type": "markdown",
   "metadata": {},
   "source": [
    "## Interpretations"
   ]
  },
  {
   "cell_type": "code",
   "execution_count": 32,
   "metadata": {
    "id": "rNHYZKOgy2kY"
   },
   "outputs": [
    {
     "name": "stdout",
     "output_type": "stream",
     "text": [
      "Batting    127\n",
      "Bowling    127\n",
      "Name: Selection, dtype: int64\n"
     ]
    }
   ],
   "source": [
    "#decision of the Toss winner\n",
    "toss_selection = data_asia_cup['Selection'].value_counts()\n",
    "print(toss_selection)"
   ]
  },
  {
   "cell_type": "code",
   "execution_count": 33,
   "metadata": {
    "id": "HYr4P1p5y2sD"
   },
   "outputs": [
    {
     "name": "stdout",
     "output_type": "stream",
     "text": [
      "The average runs scored : 201.9206349206349\n",
      "The average high score : 69.30952380952381\n",
      "The average wickets lost: 6.892857142857143\n",
      "The average Extras Given: 13.238095238095237\n"
     ]
    }
   ],
   "source": [
    "#average runs scored, Wicket lost and Extras in Asia cup\n",
    "print(f\"The average runs scored : {data_asia_cup['Run Scored'].mean()}\")\n",
    "print(f\"The average high score : {data_asia_cup['Highest Score'].mean()}\")\n",
    "print(f\"The average wickets lost: {data_asia_cup['Wicket Lost'].mean()}\")\n",
    "print(f\"The average Extras Given: {data_asia_cup['Extras'].mean()}\")"
   ]
  },
  {
   "cell_type": "markdown",
   "metadata": {},
   "source": [
    "### Batsmens Interpreatations"
   ]
  },
  {
   "cell_type": "code",
   "execution_count": 34,
   "metadata": {
    "id": "OYogunU8y2u5"
   },
   "outputs": [
    {
     "data": {
      "text/html": [
       "<div>\n",
       "<style scoped>\n",
       "    .dataframe tbody tr th:only-of-type {\n",
       "        vertical-align: middle;\n",
       "    }\n",
       "\n",
       "    .dataframe tbody tr th {\n",
       "        vertical-align: top;\n",
       "    }\n",
       "\n",
       "    .dataframe thead th {\n",
       "        text-align: right;\n",
       "    }\n",
       "</style>\n",
       "<table border=\"1\" class=\"dataframe\">\n",
       "  <thead>\n",
       "    <tr style=\"text-align: right;\">\n",
       "      <th></th>\n",
       "      <th>Player Name</th>\n",
       "      <th>Country</th>\n",
       "      <th>Time Period</th>\n",
       "      <th>Matches</th>\n",
       "      <th>Played</th>\n",
       "      <th>Not Outs</th>\n",
       "      <th>Runs</th>\n",
       "      <th>Highest Score</th>\n",
       "      <th>Batting Average</th>\n",
       "      <th>Strike Rate</th>\n",
       "      <th>Centuries</th>\n",
       "      <th>Fifties</th>\n",
       "      <th>Ducks</th>\n",
       "      <th>Fours</th>\n",
       "      <th>Sixes</th>\n",
       "    </tr>\n",
       "  </thead>\n",
       "  <tbody>\n",
       "    <tr>\n",
       "      <th>0</th>\n",
       "      <td>ST Jayasuriya</td>\n",
       "      <td>Sri Lanka</td>\n",
       "      <td>1990-2008</td>\n",
       "      <td>25</td>\n",
       "      <td>24</td>\n",
       "      <td>1</td>\n",
       "      <td>1220</td>\n",
       "      <td>130</td>\n",
       "      <td>53.04</td>\n",
       "      <td>102.52</td>\n",
       "      <td>6</td>\n",
       "      <td>3</td>\n",
       "      <td>1</td>\n",
       "      <td>139</td>\n",
       "      <td>23</td>\n",
       "    </tr>\n",
       "    <tr>\n",
       "      <th>1</th>\n",
       "      <td>KC Sangakkara</td>\n",
       "      <td>Sri Lanka</td>\n",
       "      <td>2004-2014</td>\n",
       "      <td>24</td>\n",
       "      <td>23</td>\n",
       "      <td>1</td>\n",
       "      <td>1075</td>\n",
       "      <td>121</td>\n",
       "      <td>48.86</td>\n",
       "      <td>84.51</td>\n",
       "      <td>4</td>\n",
       "      <td>8</td>\n",
       "      <td>2</td>\n",
       "      <td>107</td>\n",
       "      <td>7</td>\n",
       "    </tr>\n",
       "    <tr>\n",
       "      <th>2</th>\n",
       "      <td>SR Tendulkar</td>\n",
       "      <td>India</td>\n",
       "      <td>1990-2012</td>\n",
       "      <td>23</td>\n",
       "      <td>21</td>\n",
       "      <td>2</td>\n",
       "      <td>971</td>\n",
       "      <td>114</td>\n",
       "      <td>51.10</td>\n",
       "      <td>85.47</td>\n",
       "      <td>2</td>\n",
       "      <td>7</td>\n",
       "      <td>0</td>\n",
       "      <td>108</td>\n",
       "      <td>8</td>\n",
       "    </tr>\n",
       "    <tr>\n",
       "      <th>3</th>\n",
       "      <td>Shoaib Malik</td>\n",
       "      <td>Pakistan</td>\n",
       "      <td>2000-2018</td>\n",
       "      <td>17</td>\n",
       "      <td>15</td>\n",
       "      <td>3</td>\n",
       "      <td>786</td>\n",
       "      <td>143</td>\n",
       "      <td>65.50</td>\n",
       "      <td>90.65</td>\n",
       "      <td>3</td>\n",
       "      <td>3</td>\n",
       "      <td>0</td>\n",
       "      <td>76</td>\n",
       "      <td>8</td>\n",
       "    </tr>\n",
       "    <tr>\n",
       "      <th>4</th>\n",
       "      <td>RG Sharma</td>\n",
       "      <td>India</td>\n",
       "      <td>2008-2018</td>\n",
       "      <td>22</td>\n",
       "      <td>21</td>\n",
       "      <td>5</td>\n",
       "      <td>745</td>\n",
       "      <td>111</td>\n",
       "      <td>46.56</td>\n",
       "      <td>84.94</td>\n",
       "      <td>1</td>\n",
       "      <td>6</td>\n",
       "      <td>1</td>\n",
       "      <td>60</td>\n",
       "      <td>17</td>\n",
       "    </tr>\n",
       "  </tbody>\n",
       "</table>\n",
       "</div>"
      ],
      "text/plain": [
       "      Player Name    Country Time Period  Matches  Played  Not Outs  Runs  \\\n",
       "0  ST Jayasuriya   Sri Lanka   1990-2008       25      24         1  1220   \n",
       "1  KC Sangakkara   Sri Lanka   2004-2014       24      23         1  1075   \n",
       "2   SR Tendulkar       India   1990-2012       23      21         2   971   \n",
       "3   Shoaib Malik    Pakistan   2000-2018       17      15         3   786   \n",
       "4      RG Sharma       India   2008-2018       22      21         5   745   \n",
       "\n",
       "   Highest Score  Batting Average  Strike Rate  Centuries  Fifties  Ducks  \\\n",
       "0            130            53.04       102.52          6        3      1   \n",
       "1            121            48.86        84.51          4        8      2   \n",
       "2            114            51.10        85.47          2        7      0   \n",
       "3            143            65.50        90.65          3        3      0   \n",
       "4            111            46.56        84.94          1        6      1   \n",
       "\n",
       "   Fours  Sixes  \n",
       "0    139     23  \n",
       "1    107      7  \n",
       "2    108      8  \n",
       "3     76      8  \n",
       "4     60     17  "
      ]
     },
     "execution_count": 34,
     "metadata": {},
     "output_type": "execute_result"
    }
   ],
   "source": [
    "#Batsmens data\n",
    "bat_data.head()"
   ]
  },
  {
   "cell_type": "code",
   "execution_count": 35,
   "metadata": {},
   "outputs": [
    {
     "name": "stdout",
     "output_type": "stream",
     "text": [
      "Virat Kohli          12\n",
      "Sanath Jayasuriya    10\n",
      "Shoaib Malik         10\n",
      "Shahid Afridi         8\n",
      "Kumar Sangakkara      8\n",
      "Name: Player Of The Match, dtype: int64\n"
     ]
    }
   ],
   "source": [
    "#Man of the matches\n",
    "man_of_matches =  data_asia_cup['Player Of The Match'].value_counts()[0:5]\n",
    "print(man_of_matches)"
   ]
  },
  {
   "cell_type": "code",
   "execution_count": 36,
   "metadata": {},
   "outputs": [
    {
     "data": {
      "text/html": [
       "<div>\n",
       "<style scoped>\n",
       "    .dataframe tbody tr th:only-of-type {\n",
       "        vertical-align: middle;\n",
       "    }\n",
       "\n",
       "    .dataframe tbody tr th {\n",
       "        vertical-align: top;\n",
       "    }\n",
       "\n",
       "    .dataframe thead th {\n",
       "        text-align: right;\n",
       "    }\n",
       "</style>\n",
       "<table border=\"1\" class=\"dataframe\">\n",
       "  <thead>\n",
       "    <tr style=\"text-align: right;\">\n",
       "      <th></th>\n",
       "      <th>Player Name</th>\n",
       "      <th>Highest Score</th>\n",
       "      <th>Country</th>\n",
       "    </tr>\n",
       "  </thead>\n",
       "  <tbody>\n",
       "    <tr>\n",
       "      <th>11</th>\n",
       "      <td>V Kohli</td>\n",
       "      <td>183</td>\n",
       "      <td>India</td>\n",
       "    </tr>\n",
       "  </tbody>\n",
       "</table>\n",
       "</div>"
      ],
      "text/plain": [
       "   Player Name  Highest Score Country\n",
       "11    V Kohli             183   India"
      ]
     },
     "execution_count": 36,
     "metadata": {},
     "output_type": "execute_result"
    }
   ],
   "source": [
    "#highest Score by batsmen in Asia Cup\n",
    "bat_data[bat_data['Highest Score']==bat_data['Highest Score'].max()][['Player Name','Highest Score','Country']]"
   ]
  },
  {
   "cell_type": "code",
   "execution_count": 37,
   "metadata": {},
   "outputs": [
    {
     "data": {
      "text/html": [
       "<div>\n",
       "<style scoped>\n",
       "    .dataframe tbody tr th:only-of-type {\n",
       "        vertical-align: middle;\n",
       "    }\n",
       "\n",
       "    .dataframe tbody tr th {\n",
       "        vertical-align: top;\n",
       "    }\n",
       "\n",
       "    .dataframe thead th {\n",
       "        text-align: right;\n",
       "    }\n",
       "</style>\n",
       "<table border=\"1\" class=\"dataframe\">\n",
       "  <thead>\n",
       "    <tr style=\"text-align: right;\">\n",
       "      <th></th>\n",
       "      <th>Player Name</th>\n",
       "      <th>Strike Rate</th>\n",
       "      <th>Country</th>\n",
       "    </tr>\n",
       "  </thead>\n",
       "  <tbody>\n",
       "    <tr>\n",
       "      <th>17</th>\n",
       "      <td>Shahid Afridi</td>\n",
       "      <td>140.74</td>\n",
       "      <td>Pakistan</td>\n",
       "    </tr>\n",
       "  </tbody>\n",
       "</table>\n",
       "</div>"
      ],
      "text/plain": [
       "       Player Name  Strike Rate   Country\n",
       "17  Shahid Afridi        140.74  Pakistan"
      ]
     },
     "execution_count": 37,
     "metadata": {},
     "output_type": "execute_result"
    }
   ],
   "source": [
    "#batsmen with best strike rate in asia cup\n",
    "bat_data[bat_data['Strike Rate']==bat_data['Strike Rate'].max()][['Player Name','Strike Rate','Country']]"
   ]
  },
  {
   "cell_type": "markdown",
   "metadata": {},
   "source": [
    "### Bowlers Interpreatations"
   ]
  },
  {
   "cell_type": "code",
   "execution_count": 38,
   "metadata": {},
   "outputs": [
    {
     "data": {
      "text/html": [
       "<div>\n",
       "<style scoped>\n",
       "    .dataframe tbody tr th:only-of-type {\n",
       "        vertical-align: middle;\n",
       "    }\n",
       "\n",
       "    .dataframe tbody tr th {\n",
       "        vertical-align: top;\n",
       "    }\n",
       "\n",
       "    .dataframe thead th {\n",
       "        text-align: right;\n",
       "    }\n",
       "</style>\n",
       "<table border=\"1\" class=\"dataframe\">\n",
       "  <thead>\n",
       "    <tr style=\"text-align: right;\">\n",
       "      <th></th>\n",
       "      <th>Player Name</th>\n",
       "      <th>Country</th>\n",
       "      <th>Time Period</th>\n",
       "      <th>Matches</th>\n",
       "      <th>Played</th>\n",
       "      <th>Maiden Overs</th>\n",
       "      <th>Runs</th>\n",
       "      <th>Wickets</th>\n",
       "      <th>Best Figure</th>\n",
       "      <th>Bowling Average</th>\n",
       "      <th>Economy Rate</th>\n",
       "      <th>Strike Rate</th>\n",
       "      <th>Five Wickets</th>\n",
       "    </tr>\n",
       "  </thead>\n",
       "  <tbody>\n",
       "    <tr>\n",
       "      <th>0</th>\n",
       "      <td>M Muralidaran</td>\n",
       "      <td>Sri Lanka</td>\n",
       "      <td>1995-2010</td>\n",
       "      <td>24</td>\n",
       "      <td>24</td>\n",
       "      <td>13</td>\n",
       "      <td>865</td>\n",
       "      <td>30</td>\n",
       "      <td>5/31</td>\n",
       "      <td>28.83</td>\n",
       "      <td>3.75</td>\n",
       "      <td>46.0</td>\n",
       "      <td>1</td>\n",
       "    </tr>\n",
       "    <tr>\n",
       "      <th>1</th>\n",
       "      <td>SL Malinga</td>\n",
       "      <td>Sri Lanka</td>\n",
       "      <td>2004-2018</td>\n",
       "      <td>14</td>\n",
       "      <td>14</td>\n",
       "      <td>6</td>\n",
       "      <td>596</td>\n",
       "      <td>29</td>\n",
       "      <td>5/34</td>\n",
       "      <td>20.55</td>\n",
       "      <td>4.65</td>\n",
       "      <td>26.5</td>\n",
       "      <td>3</td>\n",
       "    </tr>\n",
       "    <tr>\n",
       "      <th>2</th>\n",
       "      <td>BAW Mendis</td>\n",
       "      <td>Sri Lanka</td>\n",
       "      <td>2008-2014</td>\n",
       "      <td>8</td>\n",
       "      <td>8</td>\n",
       "      <td>5</td>\n",
       "      <td>271</td>\n",
       "      <td>26</td>\n",
       "      <td>6/13</td>\n",
       "      <td>10.42</td>\n",
       "      <td>3.98</td>\n",
       "      <td>15.6</td>\n",
       "      <td>2</td>\n",
       "    </tr>\n",
       "    <tr>\n",
       "      <th>3</th>\n",
       "      <td>Saeed Ajmal</td>\n",
       "      <td>Pakistan</td>\n",
       "      <td>2008-2014</td>\n",
       "      <td>12</td>\n",
       "      <td>12</td>\n",
       "      <td>6</td>\n",
       "      <td>485</td>\n",
       "      <td>25</td>\n",
       "      <td>3/26</td>\n",
       "      <td>19.40</td>\n",
       "      <td>4.21</td>\n",
       "      <td>27.6</td>\n",
       "      <td>0</td>\n",
       "    </tr>\n",
       "    <tr>\n",
       "      <th>4</th>\n",
       "      <td>WPUJC Vaas</td>\n",
       "      <td>Sri Lanka</td>\n",
       "      <td>1995-2008</td>\n",
       "      <td>19</td>\n",
       "      <td>19</td>\n",
       "      <td>20</td>\n",
       "      <td>639</td>\n",
       "      <td>23</td>\n",
       "      <td>3/30</td>\n",
       "      <td>27.78</td>\n",
       "      <td>4.19</td>\n",
       "      <td>39.7</td>\n",
       "      <td>0</td>\n",
       "    </tr>\n",
       "  </tbody>\n",
       "</table>\n",
       "</div>"
      ],
      "text/plain": [
       "      Player Name    Country Time Period  Matches  Played  Maiden Overs  Runs  \\\n",
       "0  M Muralidaran   Sri Lanka   1995-2010       24      24            13   865   \n",
       "1     SL Malinga   Sri Lanka   2004-2018       14      14             6   596   \n",
       "2     BAW Mendis   Sri Lanka   2008-2014        8       8             5   271   \n",
       "3    Saeed Ajmal    Pakistan   2008-2014       12      12             6   485   \n",
       "4     WPUJC Vaas   Sri Lanka   1995-2008       19      19            20   639   \n",
       "\n",
       "   Wickets Best Figure  Bowling Average  Economy Rate  Strike Rate  \\\n",
       "0       30        5/31            28.83          3.75         46.0   \n",
       "1       29        5/34            20.55          4.65         26.5   \n",
       "2       26        6/13            10.42          3.98         15.6   \n",
       "3       25        3/26            19.40          4.21         27.6   \n",
       "4       23        3/30            27.78          4.19         39.7   \n",
       "\n",
       "   Five Wickets  \n",
       "0             1  \n",
       "1             3  \n",
       "2             2  \n",
       "3             0  \n",
       "4             0  "
      ]
     },
     "execution_count": 38,
     "metadata": {},
     "output_type": "execute_result"
    }
   ],
   "source": [
    "ball_data.head()"
   ]
  },
  {
   "cell_type": "code",
   "execution_count": 39,
   "metadata": {},
   "outputs": [
    {
     "data": {
      "text/html": [
       "<div>\n",
       "<style scoped>\n",
       "    .dataframe tbody tr th:only-of-type {\n",
       "        vertical-align: middle;\n",
       "    }\n",
       "\n",
       "    .dataframe tbody tr th {\n",
       "        vertical-align: top;\n",
       "    }\n",
       "\n",
       "    .dataframe thead th {\n",
       "        text-align: right;\n",
       "    }\n",
       "</style>\n",
       "<table border=\"1\" class=\"dataframe\">\n",
       "  <thead>\n",
       "    <tr style=\"text-align: right;\">\n",
       "      <th></th>\n",
       "      <th>Player Name</th>\n",
       "      <th>Maiden Overs</th>\n",
       "      <th>Country</th>\n",
       "    </tr>\n",
       "  </thead>\n",
       "  <tbody>\n",
       "    <tr>\n",
       "      <th>4</th>\n",
       "      <td>WPUJC Vaas</td>\n",
       "      <td>20</td>\n",
       "      <td>Sri Lanka</td>\n",
       "    </tr>\n",
       "  </tbody>\n",
       "</table>\n",
       "</div>"
      ],
      "text/plain": [
       "   Player Name  Maiden Overs    Country\n",
       "4  WPUJC Vaas             20  Sri Lanka"
      ]
     },
     "execution_count": 39,
     "metadata": {},
     "output_type": "execute_result"
    }
   ],
   "source": [
    "#bowler with max madien overs\n",
    "ball_data[ball_data['Maiden Overs']==ball_data['Maiden Overs'].max()][['Player Name','Maiden Overs','Country']]"
   ]
  },
  {
   "cell_type": "code",
   "execution_count": 40,
   "metadata": {},
   "outputs": [
    {
     "data": {
      "text/html": [
       "<div>\n",
       "<style scoped>\n",
       "    .dataframe tbody tr th:only-of-type {\n",
       "        vertical-align: middle;\n",
       "    }\n",
       "\n",
       "    .dataframe tbody tr th {\n",
       "        vertical-align: top;\n",
       "    }\n",
       "\n",
       "    .dataframe thead th {\n",
       "        text-align: right;\n",
       "    }\n",
       "</style>\n",
       "<table border=\"1\" class=\"dataframe\">\n",
       "  <thead>\n",
       "    <tr style=\"text-align: right;\">\n",
       "      <th></th>\n",
       "      <th>Player Name</th>\n",
       "      <th>Economy Rate</th>\n",
       "      <th>Country</th>\n",
       "    </tr>\n",
       "  </thead>\n",
       "  <tbody>\n",
       "    <tr>\n",
       "      <th>13</th>\n",
       "      <td>Wasim Akram</td>\n",
       "      <td>3.22</td>\n",
       "      <td>Pakistan</td>\n",
       "    </tr>\n",
       "  </tbody>\n",
       "</table>\n",
       "</div>"
      ],
      "text/plain": [
       "     Player Name  Economy Rate   Country\n",
       "13  Wasim Akram           3.22  Pakistan"
      ]
     },
     "execution_count": 40,
     "metadata": {},
     "output_type": "execute_result"
    }
   ],
   "source": [
    "ball_data[ball_data['Economy Rate']==ball_data['Economy Rate'].min()][['Player Name','Economy Rate','Country']]"
   ]
  },
  {
   "cell_type": "code",
   "execution_count": 41,
   "metadata": {},
   "outputs": [
    {
     "data": {
      "text/html": [
       "<div>\n",
       "<style scoped>\n",
       "    .dataframe tbody tr th:only-of-type {\n",
       "        vertical-align: middle;\n",
       "    }\n",
       "\n",
       "    .dataframe tbody tr th {\n",
       "        vertical-align: top;\n",
       "    }\n",
       "\n",
       "    .dataframe thead th {\n",
       "        text-align: right;\n",
       "    }\n",
       "</style>\n",
       "<table border=\"1\" class=\"dataframe\">\n",
       "  <thead>\n",
       "    <tr style=\"text-align: right;\">\n",
       "      <th></th>\n",
       "      <th>Player Name</th>\n",
       "      <th>Maximum Dismissals</th>\n",
       "    </tr>\n",
       "  </thead>\n",
       "  <tbody>\n",
       "    <tr>\n",
       "      <th>0</th>\n",
       "      <td>MS Dhoni</td>\n",
       "      <td>5</td>\n",
       "    </tr>\n",
       "    <tr>\n",
       "      <th>5</th>\n",
       "      <td>RS Kaluwitharana</td>\n",
       "      <td>5</td>\n",
       "    </tr>\n",
       "  </tbody>\n",
       "</table>\n",
       "</div>"
      ],
      "text/plain": [
       "         Player Name  Maximum Dismissals\n",
       "0          MS Dhoni                    5\n",
       "5  RS Kaluwitharana                    5"
      ]
     },
     "execution_count": 41,
     "metadata": {},
     "output_type": "execute_result"
    }
   ],
   "source": [
    "#weeket Keeper with maximum no of dismissals in a match \n",
    "wkd[wkd['Maximum Dismissals']==wkd['Maximum Dismissals'].max()][['Player Name','Maximum Dismissals']]"
   ]
  },
  {
   "cell_type": "markdown",
   "metadata": {},
   "source": [
    "## Visualizations"
   ]
  },
  {
   "cell_type": "code",
   "execution_count": 42,
   "metadata": {},
   "outputs": [
    {
     "data": {
      "image/png": "[encoded data removed]",
      "text/plain": [
       "<Figure size 432x288 with 1 Axes>"
      ]
     },
     "metadata": {
      "needs_background": "light"
     },
     "output_type": "display_data"
    }
   ],
   "source": [
    "#No of matches played each year in asia cup\n",
    "no_matches_plot= sns.countplot(x='Year',data=data_asia_cup)\n",
    "plt.setp(no_matches_plot.get_xticklabels(), rotation=90)\n",
    "plt.show()"
   ]
  },
  {
   "cell_type": "code",
   "execution_count": 43,
   "metadata": {
    "id": "R2HalOsOy2yQ"
   },
   "outputs": [
    {
     "data": {
      "image/png": "[encoded data removed]",
      "text/plain": [
       "<Figure size 432x288 with 1 Axes>"
      ]
     },
     "metadata": {
      "needs_background": "light"
     },
     "output_type": "display_data"
    }
   ],
   "source": [
    "#Top 5 players with most number of centuries\n",
    "bat_data_centuries = bat_data.sort_values('Centuries', ascending=False)\n",
    "bat_data_centuries.head()\n",
    "x_centuries = bat_data_centuries['Player Name'][0:5]\n",
    "y_centuries = bat_data_centuries['Centuries'][0:5]\n",
    "plt.title('Top 5 players with most number of centuries')\n",
    "plt.ylabel('Player Name')\n",
    "plt.xlabel('No of Centuries')\n",
    "plt.barh(x_centuries,y_centuries,color='c')\n",
    "plt.show()"
   ]
  },
  {
   "cell_type": "code",
   "execution_count": 44,
   "metadata": {
    "id": "oDGLcImpFIDf"
   },
   "outputs": [
    {
     "data": {
      "image/png": "[encoded data removed]",
      "text/plain": [
       "<Figure size 432x288 with 1 Axes>"
      ]
     },
     "metadata": {
      "needs_background": "light"
     },
     "output_type": "display_data"
    }
   ],
   "source": [
    "#Best weeket Keeper\n",
    "x_wicketkeeper = wkd['Player Name'][0:5]\n",
    "y_wicketkeeper = wkd['Dismissals'][0:5]\n",
    "plt.ylabel('Player')\n",
    "plt.xlabel('No of Dismissals')\n",
    "plt.title('Top_5_WeeketKeepers')\n",
    "plt.barh(x_wicketkeeper,y_wicketkeeper)\n",
    "plt.show()"
   ]
  },
  {
   "cell_type": "code",
   "execution_count": 45,
   "metadata": {
    "id": "Qq0i8CbbsOF0"
   },
   "outputs": [
    {
     "data": {
      "text/html": [
       "<div>\n",
       "<style scoped>\n",
       "    .dataframe tbody tr th:only-of-type {\n",
       "        vertical-align: middle;\n",
       "    }\n",
       "\n",
       "    .dataframe tbody tr th {\n",
       "        vertical-align: top;\n",
       "    }\n",
       "\n",
       "    .dataframe thead th {\n",
       "        text-align: right;\n",
       "    }\n",
       "</style>\n",
       "<table border=\"1\" class=\"dataframe\">\n",
       "  <thead>\n",
       "    <tr style=\"text-align: right;\">\n",
       "      <th></th>\n",
       "      <th>Year</th>\n",
       "      <th>Host</th>\n",
       "      <th>Champion</th>\n",
       "      <th>Runner Up</th>\n",
       "      <th>Player Of The Series</th>\n",
       "      <th>Highest Run Scorer</th>\n",
       "      <th>Highest Wicket Taker</th>\n",
       "    </tr>\n",
       "  </thead>\n",
       "  <tbody>\n",
       "    <tr>\n",
       "      <th>0</th>\n",
       "      <td>1984</td>\n",
       "      <td>UAE</td>\n",
       "      <td>India</td>\n",
       "      <td>Sri Lanka</td>\n",
       "      <td>Surinder Khanna</td>\n",
       "      <td>Surinder Khanna</td>\n",
       "      <td>Ravi Shastri</td>\n",
       "    </tr>\n",
       "    <tr>\n",
       "      <th>1</th>\n",
       "      <td>1986</td>\n",
       "      <td>Sri Lanka</td>\n",
       "      <td>Sri Lanka</td>\n",
       "      <td>Pakistan</td>\n",
       "      <td>Arjuna Ranatunga</td>\n",
       "      <td>Arjuna Ranatunga</td>\n",
       "      <td>Abdul Qadir</td>\n",
       "    </tr>\n",
       "    <tr>\n",
       "      <th>2</th>\n",
       "      <td>1988</td>\n",
       "      <td>Bangladesh</td>\n",
       "      <td>India</td>\n",
       "      <td>Sri Lanka</td>\n",
       "      <td>Navjot Sidhu</td>\n",
       "      <td>Ijaz Ahmed</td>\n",
       "      <td>Arshad Ayub</td>\n",
       "    </tr>\n",
       "    <tr>\n",
       "      <th>3</th>\n",
       "      <td>1990</td>\n",
       "      <td>India</td>\n",
       "      <td>India</td>\n",
       "      <td>Sri Lanka</td>\n",
       "      <td>Not Awarded</td>\n",
       "      <td>Arjuna Ranatunga</td>\n",
       "      <td>Kapil Dev</td>\n",
       "    </tr>\n",
       "    <tr>\n",
       "      <th>4</th>\n",
       "      <td>1995</td>\n",
       "      <td>UAE</td>\n",
       "      <td>India</td>\n",
       "      <td>Sri Lanka</td>\n",
       "      <td>Navjot Sidhu</td>\n",
       "      <td>Sachin Tendulkar</td>\n",
       "      <td>Anil Kumble</td>\n",
       "    </tr>\n",
       "  </tbody>\n",
       "</table>\n",
       "</div>"
      ],
      "text/plain": [
       "   Year        Host   Champion  Runner Up Player Of The Series  \\\n",
       "0  1984         UAE      India  Sri Lanka      Surinder Khanna   \n",
       "1  1986   Sri Lanka  Sri Lanka   Pakistan     Arjuna Ranatunga   \n",
       "2  1988  Bangladesh      India  Sri Lanka         Navjot Sidhu   \n",
       "3  1990       India      India  Sri Lanka          Not Awarded   \n",
       "4  1995         UAE      India  Sri Lanka         Navjot Sidhu   \n",
       "\n",
       "  Highest Run Scorer Highest Wicket Taker  \n",
       "0    Surinder Khanna         Ravi Shastri  \n",
       "1   Arjuna Ranatunga          Abdul Qadir  \n",
       "2         Ijaz Ahmed          Arshad Ayub  \n",
       "3   Arjuna Ranatunga            Kapil Dev  \n",
       "4   Sachin Tendulkar          Anil Kumble  "
      ]
     },
     "execution_count": 45,
     "metadata": {},
     "output_type": "execute_result"
    }
   ],
   "source": [
    "champion_data.head()"
   ]
  },
  {
   "cell_type": "code",
   "execution_count": 46,
   "metadata": {
    "id": "COb-aHHZzW93"
   },
   "outputs": [
    {
     "data": {
      "image/png": "[encoded data removed]",
      "text/plain": [
       "<Figure size 432x288 with 1 Axes>"
      ]
     },
     "metadata": {},
     "output_type": "display_data"
    }
   ],
   "source": [
    "#Percentage of matches conducted in diffrent veniues visulization\n",
    "hosts_no_data = champion_data['Host']\n",
    "hosts_no_data = hosts_no_data.value_counts()\n",
    "x_host = hosts_no_data.index\n",
    "y_host = hosts_no_data.values\n",
    "plt.title('Percentage of matches conducted in diffrent veniues')\n",
    "plt.pie(y_host,labels=x_host,explode=(0.1,0,0,0,0),colors=['orange', 'pink', 'yellow', '#ADD8E6', '#7eb54e'],shadow=True,autopct='%1.0f%%')\n",
    "plt.show()"
   ]
  },
  {
   "cell_type": "code",
   "execution_count": 47,
   "metadata": {
    "id": "kCpUMDONsQxX"
   },
   "outputs": [
    {
     "data": {
      "image/png": "[encoded data removed]",
      "text/plain": [
       "<Waffle size 432x288 with 1 Axes>"
      ]
     },
     "metadata": {
      "needs_background": "light"
     },
     "output_type": "display_data"
    }
   ],
   "source": [
    "#chapions visulization\n",
    "champion_no_data = champion_data['Champion']\n",
    "champion_no_data = champion_no_data.value_counts()\n",
    "fig_champion = plt.figure(\n",
    "    FigureClass = Waffle,\n",
    "    rows = 2,\n",
    "    values = champion_no_data.values,\n",
    "    labels = list(champion_no_data.index),\n",
    "    legend={\n",
    "        'loc': 'lower left',\n",
    "        'bbox_to_anchor': (0.2, -0.4),\n",
    "        'ncol': len(champion_no_data)\n",
    "    },\n",
    "    title={\n",
    "        'label': 'Champions of asia cup',\n",
    "        'loc': 'center'\n",
    "    },\n",
    ")"
   ]
  }
 ],
 "metadata": {
  "colab": {
   "provenance": []
  },
  "kernelspec": {
   "display_name": "Python 3 (ipykernel)",
   "language": "python",
   "name": "python3"
  },
  "language_info": {
   "codemirror_mode": {
    "name": "ipython",
    "version": 3
   },
   "file_extension": ".py",
   "mimetype": "text/x-python",
   "name": "python",
   "nbconvert_exporter": "python",
   "pygments_lexer": "ipython3",
   "version": "3.9.12"
  }
 },
 "nbformat": 4,
 "nbformat_minor": 1
}
