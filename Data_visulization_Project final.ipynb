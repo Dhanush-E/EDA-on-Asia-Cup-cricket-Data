{
 "cells": [
  {
   "cell_type": "markdown",
   "metadata": {},
   "source": [
    "# Asia Cup Data Analysis "
   ]
  },
  {
   "cell_type": "markdown",
   "metadata": {
    "id": "-t2Vwb5n1Cac"
   },
   "source": [
    "Here we have used Asia cup data set it contains ODI Batsman data , ODI Bowler\n",
    "data ,T20 Batsman data,T20 Bowler data,champion data and Wiketkeeper\n",
    "data.This dataset contains around 255 columns and 15 rows.\n",
    "Some of the column names are Players,Teams,Ground,Format,Year\n",
    "Toss,Strike Rate ,Result etc.\n",
    "The detailed information of the Asia cup from 1984 – 2022 and it covers all the\n",
    "information of what and all the teams involved ,who won the cup,which player\n",
    "got the man of the match and almost all information this data set covers.So this\n",
    "is all about our data set information."
   ]
  },
  {
   "cell_type": "markdown",
   "metadata": {
    "id": "KfxgJEUQ1Cah"
   },
   "source": [
    "## Installing Required libraries"
   ]
  },
  {
   "cell_type": "code",
   "execution_count": 1,
   "metadata": {
    "colab": {
     "base_uri": "https://localhost:8080/"
    },
    "id": "1l6J5ups1Cah",
    "outputId": "91303c38-0110-4bf9-9828-b2645785107e"
   },
   "outputs": [
    {
     "name": "stdout",
     "output_type": "stream",
     "text": [
      "Requirement already satisfied: numpy in c:\\users\\dhanu\\anaconda3\\lib\\site-packages (1.21.5)\n",
      "Note: you may need to restart the kernel to use updated packages.\n"
     ]
    }
   ],
   "source": [
    "pip install numpy"
   ]
  },
  {
   "cell_type": "code",
   "execution_count": 2,
   "metadata": {
    "colab": {
     "base_uri": "https://localhost:8080/"
    },
    "id": "LBb_sgzI1Caj",
    "outputId": "4ae8874f-1f6b-4737-a21c-c16246dd648d"
   },
   "outputs": [
    {
     "name": "stdout",
     "output_type": "stream",
     "text": [
      "Requirement already satisfied: pandas in c:\\users\\dhanu\\anaconda3\\lib\\site-packages (1.4.2)\n",
      "Requirement already satisfied: python-dateutil>=2.8.1 in c:\\users\\dhanu\\anaconda3\\lib\\site-packages (from pandas) (2.8.2)\n",
      "Requirement already satisfied: pytz>=2020.1 in c:\\users\\dhanu\\anaconda3\\lib\\site-packages (from pandas) (2021.3)\n",
      "Requirement already satisfied: numpy>=1.18.5 in c:\\users\\dhanu\\anaconda3\\lib\\site-packages (from pandas) (1.21.5)\n",
      "Requirement already satisfied: six>=1.5 in c:\\users\\dhanu\\anaconda3\\lib\\site-packages (from python-dateutil>=2.8.1->pandas) (1.16.0)\n",
      "Note: you may need to restart the kernel to use updated packages.\n"
     ]
    }
   ],
   "source": [
    "pip install pandas"
   ]
  },
  {
   "cell_type": "code",
   "execution_count": 3,
   "metadata": {
    "colab": {
     "base_uri": "https://localhost:8080/"
    },
    "id": "Jk34xlxZ1Caj",
    "outputId": "8160a7b6-80ca-405c-9dfc-0389e5a274a3"
   },
   "outputs": [
    {
     "name": "stdout",
     "output_type": "stream",
     "text": [
      "Requirement already satisfied: matplotlib in c:\\users\\dhanu\\anaconda3\\lib\\site-packages (3.5.1)\n",
      "Requirement already satisfied: packaging>=20.0 in c:\\users\\dhanu\\anaconda3\\lib\\site-packages (from matplotlib) (21.3)\n",
      "Requirement already satisfied: cycler>=0.10 in c:\\users\\dhanu\\anaconda3\\lib\\site-packages (from matplotlib) (0.11.0)\n",
      "Requirement already satisfied: kiwisolver>=1.0.1 in c:\\users\\dhanu\\anaconda3\\lib\\site-packages (from matplotlib) (1.3.2)\n",
      "Requirement already satisfied: python-dateutil>=2.7 in c:\\users\\dhanu\\anaconda3\\lib\\site-packages (from matplotlib) (2.8.2)\n",
      "Requirement already satisfied: numpy>=1.17 in c:\\users\\dhanu\\anaconda3\\lib\\site-packages (from matplotlib) (1.21.5)\n",
      "Requirement already satisfied: pillow>=6.2.0 in c:\\users\\dhanu\\anaconda3\\lib\\site-packages (from matplotlib) (9.0.1)\n",
      "Requirement already satisfied: pyparsing>=2.2.1 in c:\\users\\dhanu\\anaconda3\\lib\\site-packages (from matplotlib) (3.0.4)\n",
      "Requirement already satisfied: fonttools>=4.22.0 in c:\\users\\dhanu\\anaconda3\\lib\\site-packages (from matplotlib) (4.25.0)\n",
      "Requirement already satisfied: six>=1.5 in c:\\users\\dhanu\\anaconda3\\lib\\site-packages (from python-dateutil>=2.7->matplotlib) (1.16.0)\n",
      "Note: you may need to restart the kernel to use updated packages.\n"
     ]
    }
   ],
   "source": [
    "pip install matplotlib"
   ]
  },
  {
   "cell_type": "code",
   "execution_count": 4,
   "metadata": {
    "colab": {
     "base_uri": "https://localhost:8080/"
    },
    "id": "4s3bd9E61Cak",
    "outputId": "76819630-104d-4657-8013-0caa56fa5dda"
   },
   "outputs": [
    {
     "name": "stdout",
     "output_type": "stream",
     "text": [
      "Requirement already satisfied: seaborn in c:\\users\\dhanu\\anaconda3\\lib\\site-packages (0.11.2)\n",
      "Requirement already satisfied: scipy>=1.0 in c:\\users\\dhanu\\anaconda3\\lib\\site-packages (from seaborn) (1.7.3)\n",
      "Requirement already satisfied: pandas>=0.23 in c:\\users\\dhanu\\anaconda3\\lib\\site-packages (from seaborn) (1.4.2)\n",
      "Requirement already satisfied: matplotlib>=2.2 in c:\\users\\dhanu\\anaconda3\\lib\\site-packages (from seaborn) (3.5.1)\n",
      "Requirement already satisfied: numpy>=1.15 in c:\\users\\dhanu\\anaconda3\\lib\\site-packages (from seaborn) (1.21.5)\n",
      "Requirement already satisfied: pillow>=6.2.0 in c:\\users\\dhanu\\anaconda3\\lib\\site-packages (from matplotlib>=2.2->seaborn) (9.0.1)\n",
      "Requirement already satisfied: cycler>=0.10 in c:\\users\\dhanu\\anaconda3\\lib\\site-packages (from matplotlib>=2.2->seaborn) (0.11.0)\n",
      "Requirement already satisfied: fonttools>=4.22.0 in c:\\users\\dhanu\\anaconda3\\lib\\site-packages (from matplotlib>=2.2->seaborn) (4.25.0)\n",
      "Requirement already satisfied: packaging>=20.0 in c:\\users\\dhanu\\anaconda3\\lib\\site-packages (from matplotlib>=2.2->seaborn) (21.3)\n",
      "Requirement already satisfied: python-dateutil>=2.7 in c:\\users\\dhanu\\anaconda3\\lib\\site-packages (from matplotlib>=2.2->seaborn) (2.8.2)\n",
      "Requirement already satisfied: pyparsing>=2.2.1 in c:\\users\\dhanu\\anaconda3\\lib\\site-packages (from matplotlib>=2.2->seaborn) (3.0.4)\n",
      "Requirement already satisfied: kiwisolver>=1.0.1 in c:\\users\\dhanu\\anaconda3\\lib\\site-packages (from matplotlib>=2.2->seaborn) (1.3.2)\n",
      "Requirement already satisfied: pytz>=2020.1 in c:\\users\\dhanu\\anaconda3\\lib\\site-packages (from pandas>=0.23->seaborn) (2021.3)\n",
      "Requirement already satisfied: six>=1.5 in c:\\users\\dhanu\\anaconda3\\lib\\site-packages (from python-dateutil>=2.7->matplotlib>=2.2->seaborn) (1.16.0)\n",
      "Note: you may need to restart the kernel to use updated packages.\n"
     ]
    }
   ],
   "source": [
    "pip install seaborn"
   ]
  },
  {
   "cell_type": "code",
   "execution_count": 5,
   "metadata": {
    "colab": {
     "base_uri": "https://localhost:8080/"
    },
    "id": "laIC6R5gVnEg",
    "outputId": "2966ed4a-9fbf-42fd-8bc9-aed74c70340c"
   },
   "outputs": [
    {
     "name": "stdout",
     "output_type": "stream",
     "text": [
      "Requirement already satisfied: pywaffle in c:\\users\\dhanu\\anaconda3\\lib\\site-packages (1.1.0)\n",
      "Requirement already satisfied: fontawesomefree in c:\\users\\dhanu\\anaconda3\\lib\\site-packages (from pywaffle) (6.2.1)\n",
      "Requirement already satisfied: matplotlib in c:\\users\\dhanu\\anaconda3\\lib\\site-packages (from pywaffle) (3.5.1)\n",
      "Requirement already satisfied: packaging>=20.0 in c:\\users\\dhanu\\anaconda3\\lib\\site-packages (from matplotlib->pywaffle) (21.3)\n",
      "Requirement already satisfied: pillow>=6.2.0 in c:\\users\\dhanu\\anaconda3\\lib\\site-packages (from matplotlib->pywaffle) (9.0.1)\n",
      "Requirement already satisfied: fonttools>=4.22.0 in c:\\users\\dhanu\\anaconda3\\lib\\site-packages (from matplotlib->pywaffle) (4.25.0)\n",
      "Requirement already satisfied: numpy>=1.17 in c:\\users\\dhanu\\anaconda3\\lib\\site-packages (from matplotlib->pywaffle) (1.21.5)\n",
      "Requirement already satisfied: cycler>=0.10 in c:\\users\\dhanu\\anaconda3\\lib\\site-packages (from matplotlib->pywaffle) (0.11.0)\n",
      "Requirement already satisfied: kiwisolver>=1.0.1 in c:\\users\\dhanu\\anaconda3\\lib\\site-packages (from matplotlib->pywaffle) (1.3.2)\n",
      "Requirement already satisfied: python-dateutil>=2.7 in c:\\users\\dhanu\\anaconda3\\lib\\site-packages (from matplotlib->pywaffle) (2.8.2)\n",
      "Requirement already satisfied: pyparsing>=2.2.1 in c:\\users\\dhanu\\anaconda3\\lib\\site-packages (from matplotlib->pywaffle) (3.0.4)\n",
      "Requirement already satisfied: six>=1.5 in c:\\users\\dhanu\\anaconda3\\lib\\site-packages (from python-dateutil>=2.7->matplotlib->pywaffle) (1.16.0)\n",
      "Note: you may need to restart the kernel to use updated packages.\n"
     ]
    }
   ],
   "source": [
    "pip install pywaffle"
   ]
  },
  {
   "cell_type": "markdown",
   "metadata": {
    "id": "9CGcfot71Cal"
   },
   "source": [
    "## Importing libraries"
   ]
  },
  {
   "cell_type": "code",
   "execution_count": 6,
   "metadata": {
    "id": "yspiss6SpyCk"
   },
   "outputs": [],
   "source": [
    "import numpy as np\n",
    "import pandas as pd\n",
    "import matplotlib.pyplot as plt\n",
    "from pywaffle import Waffle\n",
    "import seaborn as sns"
   ]
  },
  {
   "cell_type": "markdown",
   "metadata": {
    "id": "_Lwk5BMX1Cal"
   },
   "source": [
    "## Loading the Data"
   ]
  },
  {
   "cell_type": "code",
   "execution_count": 7,
   "metadata": {
    "id": "MIEFlFNvy2a0"
   },
   "outputs": [],
   "source": [
    "data_asia_cup=pd.read_csv('asia_cup_data/asiacup.csv')\n",
    "champion_data = pd.read_csv('asia_cup_data/champion.csv')\n",
    "wkd = pd.read_csv('asia_cup_data/wicketkeeper data odi.csv')\n",
    "bat_data = pd.read_csv('asia_cup_data/batsman data odi.csv')\n",
    "ball_data = pd.read_csv('asia_cup_data/bowler data odi.csv')\n",
    "wkd1 = pd.read_csv('asia_cup_data/wicketkeeper data t20i.csv')\n",
    "bat_data1 = pd.read_csv('asia_cup_data/batsman data t20i.csv')\n",
    "ball_data1 = pd.read_csv('asia_cup_data/bowler data t20i.csv')"
   ]
  },
  {
   "cell_type": "code",
   "execution_count": 51,
   "metadata": {},
   "outputs": [
    {
     "data": {
      "text/html": [
       "<div>\n",
       "<style scoped>\n",
       "    .dataframe tbody tr th:only-of-type {\n",
       "        vertical-align: middle;\n",
       "    }\n",
       "\n",
       "    .dataframe tbody tr th {\n",
       "        vertical-align: top;\n",
       "    }\n",
       "\n",
       "    .dataframe thead th {\n",
       "        text-align: right;\n",
       "    }\n",
       "</style>\n",
       "<table border=\"1\" class=\"dataframe\">\n",
       "  <thead>\n",
       "    <tr style=\"text-align: right;\">\n",
       "      <th></th>\n",
       "      <th>Team</th>\n",
       "      <th>Opponent</th>\n",
       "      <th>Format</th>\n",
       "      <th>Ground</th>\n",
       "      <th>Year</th>\n",
       "      <th>Toss</th>\n",
       "      <th>Selection</th>\n",
       "      <th>Run Scored</th>\n",
       "      <th>Wicket Lost</th>\n",
       "      <th>Fours</th>\n",
       "      <th>Sixes</th>\n",
       "      <th>Extras</th>\n",
       "      <th>Run Rate</th>\n",
       "      <th>Avg Bat Strike Rate</th>\n",
       "      <th>Highest Score</th>\n",
       "      <th>Wicket Taken</th>\n",
       "      <th>Given Extras</th>\n",
       "      <th>Highest Individual wicket</th>\n",
       "      <th>Player Of The Match</th>\n",
       "      <th>Result</th>\n",
       "    </tr>\n",
       "  </thead>\n",
       "  <tbody>\n",
       "    <tr>\n",
       "      <th>0</th>\n",
       "      <td>Pakistan</td>\n",
       "      <td>Sri Lanka</td>\n",
       "      <td>ODI</td>\n",
       "      <td>Sharjah</td>\n",
       "      <td>1984</td>\n",
       "      <td>Lose</td>\n",
       "      <td>Batting</td>\n",
       "      <td>187.0</td>\n",
       "      <td>9.0</td>\n",
       "      <td>9.0</td>\n",
       "      <td>3.0</td>\n",
       "      <td>21.0</td>\n",
       "      <td>4.06</td>\n",
       "      <td>52.04</td>\n",
       "      <td>47.0</td>\n",
       "      <td>5.0</td>\n",
       "      <td>26.0</td>\n",
       "      <td>2.0</td>\n",
       "      <td>Roy Dias</td>\n",
       "      <td>Lose</td>\n",
       "    </tr>\n",
       "    <tr>\n",
       "      <th>1</th>\n",
       "      <td>Sri Lanka</td>\n",
       "      <td>Pakistan</td>\n",
       "      <td>ODI</td>\n",
       "      <td>Sharjah</td>\n",
       "      <td>1984</td>\n",
       "      <td>Win</td>\n",
       "      <td>Bowling</td>\n",
       "      <td>190.0</td>\n",
       "      <td>5.0</td>\n",
       "      <td>11.0</td>\n",
       "      <td>1.0</td>\n",
       "      <td>26.0</td>\n",
       "      <td>4.36</td>\n",
       "      <td>68.51</td>\n",
       "      <td>57.0</td>\n",
       "      <td>9.0</td>\n",
       "      <td>21.0</td>\n",
       "      <td>3.0</td>\n",
       "      <td>Roy Dias</td>\n",
       "      <td>Win</td>\n",
       "    </tr>\n",
       "    <tr>\n",
       "      <th>2</th>\n",
       "      <td>India</td>\n",
       "      <td>Sri Lanka</td>\n",
       "      <td>ODI</td>\n",
       "      <td>Sharjah</td>\n",
       "      <td>1984</td>\n",
       "      <td>Win</td>\n",
       "      <td>Bowling</td>\n",
       "      <td>97.0</td>\n",
       "      <td>0.0</td>\n",
       "      <td>9.0</td>\n",
       "      <td>0.0</td>\n",
       "      <td>14.0</td>\n",
       "      <td>4.47</td>\n",
       "      <td>60.48</td>\n",
       "      <td>51.0</td>\n",
       "      <td>10.0</td>\n",
       "      <td>8.0</td>\n",
       "      <td>3.0</td>\n",
       "      <td>Surinder Khanna</td>\n",
       "      <td>Win</td>\n",
       "    </tr>\n",
       "    <tr>\n",
       "      <th>3</th>\n",
       "      <td>Sri Lanka</td>\n",
       "      <td>India</td>\n",
       "      <td>ODI</td>\n",
       "      <td>Sharjah</td>\n",
       "      <td>1984</td>\n",
       "      <td>Lose</td>\n",
       "      <td>Batting</td>\n",
       "      <td>96.0</td>\n",
       "      <td>10.0</td>\n",
       "      <td>7.0</td>\n",
       "      <td>0.0</td>\n",
       "      <td>8.0</td>\n",
       "      <td>2.34</td>\n",
       "      <td>25.74</td>\n",
       "      <td>38.0</td>\n",
       "      <td>0.0</td>\n",
       "      <td>14.0</td>\n",
       "      <td>0.0</td>\n",
       "      <td>Surinder Khanna</td>\n",
       "      <td>Lose</td>\n",
       "    </tr>\n",
       "    <tr>\n",
       "      <th>4</th>\n",
       "      <td>India</td>\n",
       "      <td>Pakistan</td>\n",
       "      <td>ODI</td>\n",
       "      <td>Sharjah</td>\n",
       "      <td>1984</td>\n",
       "      <td>Win</td>\n",
       "      <td>Batting</td>\n",
       "      <td>188.0</td>\n",
       "      <td>4.0</td>\n",
       "      <td>13.0</td>\n",
       "      <td>3.0</td>\n",
       "      <td>17.0</td>\n",
       "      <td>4.08</td>\n",
       "      <td>60.21</td>\n",
       "      <td>56.0</td>\n",
       "      <td>10.0</td>\n",
       "      <td>5.0</td>\n",
       "      <td>3.0</td>\n",
       "      <td>Surinder Khanna</td>\n",
       "      <td>Win</td>\n",
       "    </tr>\n",
       "  </tbody>\n",
       "</table>\n",
       "</div>"
      ],
      "text/plain": [
       "        Team   Opponent Format   Ground  Year  Toss Selection  Run Scored  \\\n",
       "0   Pakistan  Sri Lanka    ODI  Sharjah  1984  Lose   Batting       187.0   \n",
       "1  Sri Lanka   Pakistan    ODI  Sharjah  1984   Win   Bowling       190.0   \n",
       "2      India  Sri Lanka    ODI  Sharjah  1984   Win   Bowling        97.0   \n",
       "3  Sri Lanka      India    ODI  Sharjah  1984  Lose   Batting        96.0   \n",
       "4      India   Pakistan    ODI  Sharjah  1984   Win   Batting       188.0   \n",
       "\n",
       "   Wicket Lost  Fours  Sixes  Extras  Run Rate  Avg Bat Strike Rate  \\\n",
       "0          9.0    9.0    3.0    21.0      4.06                52.04   \n",
       "1          5.0   11.0    1.0    26.0      4.36                68.51   \n",
       "2          0.0    9.0    0.0    14.0      4.47                60.48   \n",
       "3         10.0    7.0    0.0     8.0      2.34                25.74   \n",
       "4          4.0   13.0    3.0    17.0      4.08                60.21   \n",
       "\n",
       "   Highest Score  Wicket Taken  Given Extras  Highest Individual wicket  \\\n",
       "0           47.0           5.0          26.0                        2.0   \n",
       "1           57.0           9.0          21.0                        3.0   \n",
       "2           51.0          10.0           8.0                        3.0   \n",
       "3           38.0           0.0          14.0                        0.0   \n",
       "4           56.0          10.0           5.0                        3.0   \n",
       "\n",
       "  Player Of The Match Result  \n",
       "0            Roy Dias   Lose  \n",
       "1            Roy Dias    Win  \n",
       "2     Surinder Khanna    Win  \n",
       "3     Surinder Khanna   Lose  \n",
       "4     Surinder Khanna    Win  "
      ]
     },
     "execution_count": 51,
     "metadata": {},
     "output_type": "execute_result"
    }
   ],
   "source": [
    "data_asia_cup.head()"
   ]
  },
  {
   "cell_type": "markdown",
   "metadata": {
    "id": "x1WlsDkL1Cam"
   },
   "source": [
    "## Data Preprocessing"
   ]
  },
  {
   "cell_type": "code",
   "execution_count": 8,
   "metadata": {
    "colab": {
     "base_uri": "https://localhost:8080/",
     "height": 354
    },
    "id": "xxZOUpE8-T9k",
    "outputId": "e9d307c6-a2e0-43bb-dbd6-99fee1d18187"
   },
   "outputs": [
    {
     "data": {
      "text/html": [
       "<div>\n",
       "<style scoped>\n",
       "    .dataframe tbody tr th:only-of-type {\n",
       "        vertical-align: middle;\n",
       "    }\n",
       "\n",
       "    .dataframe tbody tr th {\n",
       "        vertical-align: top;\n",
       "    }\n",
       "\n",
       "    .dataframe thead th {\n",
       "        text-align: right;\n",
       "    }\n",
       "</style>\n",
       "<table border=\"1\" class=\"dataframe\">\n",
       "  <thead>\n",
       "    <tr style=\"text-align: right;\">\n",
       "      <th></th>\n",
       "      <th>Team</th>\n",
       "      <th>Opponent</th>\n",
       "      <th>Format</th>\n",
       "      <th>Ground</th>\n",
       "      <th>Year</th>\n",
       "      <th>Toss</th>\n",
       "      <th>Selection</th>\n",
       "      <th>Run Scored</th>\n",
       "      <th>Wicket Lost</th>\n",
       "      <th>Fours</th>\n",
       "      <th>Sixes</th>\n",
       "      <th>Extras</th>\n",
       "      <th>Run Rate</th>\n",
       "      <th>Avg Bat Strike Rate</th>\n",
       "      <th>Highest Score</th>\n",
       "      <th>Wicket Taken</th>\n",
       "      <th>Given Extras</th>\n",
       "      <th>Highest Individual wicket</th>\n",
       "      <th>Player Of The Match</th>\n",
       "      <th>Result</th>\n",
       "    </tr>\n",
       "  </thead>\n",
       "  <tbody>\n",
       "    <tr>\n",
       "      <th>0</th>\n",
       "      <td>Pakistan</td>\n",
       "      <td>Sri Lanka</td>\n",
       "      <td>ODI</td>\n",
       "      <td>Sharjah</td>\n",
       "      <td>1984</td>\n",
       "      <td>Lose</td>\n",
       "      <td>Batting</td>\n",
       "      <td>187.0</td>\n",
       "      <td>9.0</td>\n",
       "      <td>9.0</td>\n",
       "      <td>3.0</td>\n",
       "      <td>21.0</td>\n",
       "      <td>4.06</td>\n",
       "      <td>52.04</td>\n",
       "      <td>47.0</td>\n",
       "      <td>5.0</td>\n",
       "      <td>26.0</td>\n",
       "      <td>2.0</td>\n",
       "      <td>Roy Dias</td>\n",
       "      <td>Lose</td>\n",
       "    </tr>\n",
       "    <tr>\n",
       "      <th>1</th>\n",
       "      <td>Sri Lanka</td>\n",
       "      <td>Pakistan</td>\n",
       "      <td>ODI</td>\n",
       "      <td>Sharjah</td>\n",
       "      <td>1984</td>\n",
       "      <td>Win</td>\n",
       "      <td>Bowling</td>\n",
       "      <td>190.0</td>\n",
       "      <td>5.0</td>\n",
       "      <td>11.0</td>\n",
       "      <td>1.0</td>\n",
       "      <td>26.0</td>\n",
       "      <td>4.36</td>\n",
       "      <td>68.51</td>\n",
       "      <td>57.0</td>\n",
       "      <td>9.0</td>\n",
       "      <td>21.0</td>\n",
       "      <td>3.0</td>\n",
       "      <td>Roy Dias</td>\n",
       "      <td>Win</td>\n",
       "    </tr>\n",
       "    <tr>\n",
       "      <th>2</th>\n",
       "      <td>India</td>\n",
       "      <td>Sri Lanka</td>\n",
       "      <td>ODI</td>\n",
       "      <td>Sharjah</td>\n",
       "      <td>1984</td>\n",
       "      <td>Win</td>\n",
       "      <td>Bowling</td>\n",
       "      <td>97.0</td>\n",
       "      <td>0.0</td>\n",
       "      <td>9.0</td>\n",
       "      <td>0.0</td>\n",
       "      <td>14.0</td>\n",
       "      <td>4.47</td>\n",
       "      <td>60.48</td>\n",
       "      <td>51.0</td>\n",
       "      <td>10.0</td>\n",
       "      <td>8.0</td>\n",
       "      <td>3.0</td>\n",
       "      <td>Surinder Khanna</td>\n",
       "      <td>Win</td>\n",
       "    </tr>\n",
       "    <tr>\n",
       "      <th>3</th>\n",
       "      <td>Sri Lanka</td>\n",
       "      <td>India</td>\n",
       "      <td>ODI</td>\n",
       "      <td>Sharjah</td>\n",
       "      <td>1984</td>\n",
       "      <td>Lose</td>\n",
       "      <td>Batting</td>\n",
       "      <td>96.0</td>\n",
       "      <td>10.0</td>\n",
       "      <td>7.0</td>\n",
       "      <td>0.0</td>\n",
       "      <td>8.0</td>\n",
       "      <td>2.34</td>\n",
       "      <td>25.74</td>\n",
       "      <td>38.0</td>\n",
       "      <td>0.0</td>\n",
       "      <td>14.0</td>\n",
       "      <td>0.0</td>\n",
       "      <td>Surinder Khanna</td>\n",
       "      <td>Lose</td>\n",
       "    </tr>\n",
       "    <tr>\n",
       "      <th>4</th>\n",
       "      <td>India</td>\n",
       "      <td>Pakistan</td>\n",
       "      <td>ODI</td>\n",
       "      <td>Sharjah</td>\n",
       "      <td>1984</td>\n",
       "      <td>Win</td>\n",
       "      <td>Batting</td>\n",
       "      <td>188.0</td>\n",
       "      <td>4.0</td>\n",
       "      <td>13.0</td>\n",
       "      <td>3.0</td>\n",
       "      <td>17.0</td>\n",
       "      <td>4.08</td>\n",
       "      <td>60.21</td>\n",
       "      <td>56.0</td>\n",
       "      <td>10.0</td>\n",
       "      <td>5.0</td>\n",
       "      <td>3.0</td>\n",
       "      <td>Surinder Khanna</td>\n",
       "      <td>Win</td>\n",
       "    </tr>\n",
       "  </tbody>\n",
       "</table>\n",
       "</div>"
      ],
      "text/plain": [
       "        Team   Opponent Format   Ground  Year  Toss Selection  Run Scored  \\\n",
       "0   Pakistan  Sri Lanka    ODI  Sharjah  1984  Lose   Batting       187.0   \n",
       "1  Sri Lanka   Pakistan    ODI  Sharjah  1984   Win   Bowling       190.0   \n",
       "2      India  Sri Lanka    ODI  Sharjah  1984   Win   Bowling        97.0   \n",
       "3  Sri Lanka      India    ODI  Sharjah  1984  Lose   Batting        96.0   \n",
       "4      India   Pakistan    ODI  Sharjah  1984   Win   Batting       188.0   \n",
       "\n",
       "   Wicket Lost  Fours  Sixes  Extras  Run Rate  Avg Bat Strike Rate  \\\n",
       "0          9.0    9.0    3.0    21.0      4.06                52.04   \n",
       "1          5.0   11.0    1.0    26.0      4.36                68.51   \n",
       "2          0.0    9.0    0.0    14.0      4.47                60.48   \n",
       "3         10.0    7.0    0.0     8.0      2.34                25.74   \n",
       "4          4.0   13.0    3.0    17.0      4.08                60.21   \n",
       "\n",
       "   Highest Score  Wicket Taken  Given Extras  Highest Individual wicket  \\\n",
       "0           47.0           5.0          26.0                        2.0   \n",
       "1           57.0           9.0          21.0                        3.0   \n",
       "2           51.0          10.0           8.0                        3.0   \n",
       "3           38.0           0.0          14.0                        0.0   \n",
       "4           56.0          10.0           5.0                        3.0   \n",
       "\n",
       "  Player Of The Match Result  \n",
       "0            Roy Dias   Lose  \n",
       "1            Roy Dias    Win  \n",
       "2     Surinder Khanna    Win  \n",
       "3     Surinder Khanna   Lose  \n",
       "4     Surinder Khanna    Win  "
      ]
     },
     "execution_count": 8,
     "metadata": {},
     "output_type": "execute_result"
    }
   ],
   "source": [
    "#checking the data \n",
    "data_asia_cup.head()"
   ]
  },
  {
   "cell_type": "code",
   "execution_count": 9,
   "metadata": {
    "colab": {
     "base_uri": "https://localhost:8080/",
     "height": 206
    },
    "id": "Qq0i8CbbsOF0",
    "outputId": "96b80111-14b7-409a-bca7-f836feb8de04"
   },
   "outputs": [
    {
     "data": {
      "text/html": [
       "<div>\n",
       "<style scoped>\n",
       "    .dataframe tbody tr th:only-of-type {\n",
       "        vertical-align: middle;\n",
       "    }\n",
       "\n",
       "    .dataframe tbody tr th {\n",
       "        vertical-align: top;\n",
       "    }\n",
       "\n",
       "    .dataframe thead th {\n",
       "        text-align: right;\n",
       "    }\n",
       "</style>\n",
       "<table border=\"1\" class=\"dataframe\">\n",
       "  <thead>\n",
       "    <tr style=\"text-align: right;\">\n",
       "      <th></th>\n",
       "      <th>Year</th>\n",
       "      <th>Host</th>\n",
       "      <th>No Of Team</th>\n",
       "      <th>Champion</th>\n",
       "      <th>Runner Up</th>\n",
       "      <th>Player Of The Series</th>\n",
       "      <th>Highest Run Scorer</th>\n",
       "      <th>Highest Wicket Taker</th>\n",
       "    </tr>\n",
       "  </thead>\n",
       "  <tbody>\n",
       "    <tr>\n",
       "      <th>0</th>\n",
       "      <td>1984</td>\n",
       "      <td>UAE</td>\n",
       "      <td>3</td>\n",
       "      <td>India</td>\n",
       "      <td>Sri Lanka</td>\n",
       "      <td>Surinder Khanna</td>\n",
       "      <td>Surinder Khanna</td>\n",
       "      <td>Ravi Shastri</td>\n",
       "    </tr>\n",
       "    <tr>\n",
       "      <th>1</th>\n",
       "      <td>1986</td>\n",
       "      <td>Sri Lanka</td>\n",
       "      <td>3</td>\n",
       "      <td>Sri Lanka</td>\n",
       "      <td>Pakistan</td>\n",
       "      <td>Arjuna Ranatunga</td>\n",
       "      <td>Arjuna Ranatunga</td>\n",
       "      <td>Abdul Qadir</td>\n",
       "    </tr>\n",
       "    <tr>\n",
       "      <th>2</th>\n",
       "      <td>1988</td>\n",
       "      <td>Bangladesh</td>\n",
       "      <td>4</td>\n",
       "      <td>India</td>\n",
       "      <td>Sri Lanka</td>\n",
       "      <td>Navjot Sidhu</td>\n",
       "      <td>Ijaz Ahmed</td>\n",
       "      <td>Arshad Ayub</td>\n",
       "    </tr>\n",
       "    <tr>\n",
       "      <th>3</th>\n",
       "      <td>1990</td>\n",
       "      <td>India</td>\n",
       "      <td>3</td>\n",
       "      <td>India</td>\n",
       "      <td>Sri Lanka</td>\n",
       "      <td>Not Awarded</td>\n",
       "      <td>Arjuna Ranatunga</td>\n",
       "      <td>Kapil Dev</td>\n",
       "    </tr>\n",
       "    <tr>\n",
       "      <th>4</th>\n",
       "      <td>1995</td>\n",
       "      <td>UAE</td>\n",
       "      <td>4</td>\n",
       "      <td>India</td>\n",
       "      <td>Sri Lanka</td>\n",
       "      <td>Navjot Sidhu</td>\n",
       "      <td>Sachin Tendulkar</td>\n",
       "      <td>Anil Kumble</td>\n",
       "    </tr>\n",
       "  </tbody>\n",
       "</table>\n",
       "</div>"
      ],
      "text/plain": [
       "   Year        Host  No Of Team   Champion  Runner Up Player Of The Series  \\\n",
       "0  1984         UAE           3      India  Sri Lanka      Surinder Khanna   \n",
       "1  1986   Sri Lanka           3  Sri Lanka   Pakistan     Arjuna Ranatunga   \n",
       "2  1988  Bangladesh           4      India  Sri Lanka         Navjot Sidhu   \n",
       "3  1990       India           3      India  Sri Lanka          Not Awarded   \n",
       "4  1995         UAE           4      India  Sri Lanka         Navjot Sidhu   \n",
       "\n",
       "  Highest Run Scorer Highest Wicket Taker  \n",
       "0    Surinder Khanna         Ravi Shastri  \n",
       "1   Arjuna Ranatunga          Abdul Qadir  \n",
       "2         Ijaz Ahmed          Arshad Ayub  \n",
       "3   Arjuna Ranatunga            Kapil Dev  \n",
       "4   Sachin Tendulkar          Anil Kumble  "
      ]
     },
     "execution_count": 9,
     "metadata": {},
     "output_type": "execute_result"
    }
   ],
   "source": [
    "champion_data.head()"
   ]
  },
  {
   "cell_type": "code",
   "execution_count": 10,
   "metadata": {
    "colab": {
     "base_uri": "https://localhost:8080/"
    },
    "id": "jSHzfYswB9It",
    "outputId": "1e6d87f5-2722-4672-fd0c-1eec30e4659d"
   },
   "outputs": [
    {
     "name": "stdout",
     "output_type": "stream",
     "text": [
      "There are 20 columns in the dataset\n"
     ]
    }
   ],
   "source": [
    "shaped = data_asia_cup.shape\n",
    "print(f'There are {shaped[1]} columns in the dataset')"
   ]
  },
  {
   "cell_type": "code",
   "execution_count": 11,
   "metadata": {
    "colab": {
     "base_uri": "https://localhost:8080/"
    },
    "id": "oZL2ad_vBX3N",
    "outputId": "c8d075dc-0d01-4d2f-de5b-269f4e59afdc"
   },
   "outputs": [
    {
     "data": {
      "text/plain": [
       "Index(['Team', 'Opponent', 'Format', 'Ground', 'Year', 'Toss', 'Selection',\n",
       "       'Run Scored', 'Wicket Lost', 'Fours', 'Sixes', 'Extras', 'Run Rate',\n",
       "       'Avg Bat Strike Rate', 'Highest Score', 'Wicket Taken', 'Given Extras',\n",
       "       'Highest Individual wicket', 'Player Of The Match', 'Result'],\n",
       "      dtype='object')"
      ]
     },
     "execution_count": 11,
     "metadata": {},
     "output_type": "execute_result"
    }
   ],
   "source": [
    "data_asia_cup.columns"
   ]
  },
  {
   "cell_type": "code",
   "execution_count": 12,
   "metadata": {
    "colab": {
     "base_uri": "https://localhost:8080/"
    },
    "id": "Z2g1YeJk-kJG",
    "outputId": "a633cb0a-9f7c-4eec-ad37-155c8e3ebebb"
   },
   "outputs": [
    {
     "data": {
      "text/plain": [
       "0"
      ]
     },
     "execution_count": 12,
     "metadata": {},
     "output_type": "execute_result"
    }
   ],
   "source": [
    "#checking for duplicated data\n",
    "data_asia_cup.duplicated().sum()"
   ]
  },
  {
   "cell_type": "markdown",
   "metadata": {
    "id": "AmUTfWA81Cam"
   },
   "source": [
    "There is no duplicated data in the data set"
   ]
  },
  {
   "cell_type": "code",
   "execution_count": 13,
   "metadata": {
    "colab": {
     "base_uri": "https://localhost:8080/"
    },
    "id": "cyb3vCB7-x-_",
    "outputId": "c91ef310-42ef-4897-a2f0-9450ca00ff81"
   },
   "outputs": [
    {
     "data": {
      "text/plain": [
       "Team                         0\n",
       "Opponent                     0\n",
       "Format                       0\n",
       "Ground                       0\n",
       "Year                         0\n",
       "Toss                         0\n",
       "Selection                    0\n",
       "Run Scored                   2\n",
       "Wicket Lost                  2\n",
       "Fours                        2\n",
       "Sixes                        2\n",
       "Extras                       2\n",
       "Run Rate                     2\n",
       "Avg Bat Strike Rate          2\n",
       "Highest Score                2\n",
       "Wicket Taken                 2\n",
       "Given Extras                 2\n",
       "Highest Individual wicket    2\n",
       "Player Of The Match          2\n",
       "Result                       0\n",
       "dtype: int64"
      ]
     },
     "execution_count": 13,
     "metadata": {},
     "output_type": "execute_result"
    }
   ],
   "source": [
    "#checking for null values\n",
    "data_asia_cup.isna().sum()"
   ]
  },
  {
   "cell_type": "markdown",
   "metadata": {
    "id": "kMp03_wS1Can"
   },
   "source": [
    "There are very few null values so they can be ignored"
   ]
  },
  {
   "cell_type": "code",
   "execution_count": 14,
   "metadata": {
    "colab": {
     "base_uri": "https://localhost:8080/"
    },
    "id": "BgVS82E21Can",
    "outputId": "7b7cfb93-d362-40ad-8267-ee8fdae5efd5"
   },
   "outputs": [
    {
     "data": {
      "text/plain": [
       "Index(['Player Name', 'Country', 'Time Period', 'Matches', 'Played',\n",
       "       'Not Outs', 'Runs', 'Highest Score', 'Batting Average', 'Balls Faced',\n",
       "       'Strike Rate', 'Centuries', 'Fifties', 'Ducks', 'Fours', 'Sixes'],\n",
       "      dtype='object')"
      ]
     },
     "execution_count": 14,
     "metadata": {},
     "output_type": "execute_result"
    }
   ],
   "source": [
    "bat_data.columns"
   ]
  },
  {
   "cell_type": "code",
   "execution_count": 15,
   "metadata": {
    "id": "DVm8I3B41Can"
   },
   "outputs": [],
   "source": [
    "bat_data.drop(['Balls Faced'],axis=1,inplace=True)"
   ]
  },
  {
   "cell_type": "code",
   "execution_count": 16,
   "metadata": {
    "colab": {
     "base_uri": "https://localhost:8080/"
    },
    "id": "wInk8i_O1Can",
    "outputId": "79cccdfe-822f-4854-f726-a71022e9c1e3"
   },
   "outputs": [
    {
     "data": {
      "text/plain": [
       "Player Name        0\n",
       "Country            0\n",
       "Time Period        0\n",
       "Matches            0\n",
       "Played             0\n",
       "Not Outs           0\n",
       "Runs               0\n",
       "Highest Score      0\n",
       "Batting Average    0\n",
       "Strike Rate        0\n",
       "Centuries          0\n",
       "Fifties            0\n",
       "Ducks              0\n",
       "Fours              0\n",
       "Sixes              0\n",
       "dtype: int64"
      ]
     },
     "execution_count": 16,
     "metadata": {},
     "output_type": "execute_result"
    }
   ],
   "source": [
    "bat_data.isna().sum()"
   ]
  },
  {
   "cell_type": "markdown",
   "metadata": {
    "id": "3IAJ_Bma1Can"
   },
   "source": [
    "There are no null values in the data set"
   ]
  },
  {
   "cell_type": "code",
   "execution_count": 17,
   "metadata": {
    "colab": {
     "base_uri": "https://localhost:8080/"
    },
    "id": "cMs3YVzs1Cao",
    "outputId": "774a7596-f387-4fa2-a9b6-496f4c43911d"
   },
   "outputs": [
    {
     "data": {
      "text/plain": [
       "0"
      ]
     },
     "execution_count": 17,
     "metadata": {},
     "output_type": "execute_result"
    }
   ],
   "source": [
    "bat_data.duplicated().sum()"
   ]
  },
  {
   "cell_type": "markdown",
   "metadata": {
    "id": "dTgePNgc1Cao"
   },
   "source": [
    "There is no duplicated data in the data set"
   ]
  },
  {
   "cell_type": "code",
   "execution_count": 18,
   "metadata": {
    "colab": {
     "base_uri": "https://localhost:8080/"
    },
    "id": "B7mjgWpq1Cao",
    "outputId": "63238dc1-7403-4403-f13b-67d60c9de843"
   },
   "outputs": [
    {
     "data": {
      "text/plain": [
       "Index(['Player Name', 'Country', 'Time Period', 'Matches', 'Played', 'Overs',\n",
       "       'Maiden Overs', 'Runs', 'Wickets', 'Best Figure', 'Bowling Average',\n",
       "       'Economy Rate', 'Strike Rate', 'Four Wickets', 'Five Wickets'],\n",
       "      dtype='object')"
      ]
     },
     "execution_count": 18,
     "metadata": {},
     "output_type": "execute_result"
    }
   ],
   "source": [
    "ball_data.columns"
   ]
  },
  {
   "cell_type": "code",
   "execution_count": 19,
   "metadata": {
    "id": "QQ96VEVt1Cao"
   },
   "outputs": [],
   "source": [
    "ball_data.drop(['Overs','Four Wickets'],axis=1,inplace=True)"
   ]
  },
  {
   "cell_type": "code",
   "execution_count": 20,
   "metadata": {
    "colab": {
     "base_uri": "https://localhost:8080/"
    },
    "id": "xLVMGeOr1Cao",
    "outputId": "d2f14a50-c92e-42cb-e7c6-0b5aa2019bcd"
   },
   "outputs": [
    {
     "data": {
      "text/plain": [
       "Player Name        0\n",
       "Country            0\n",
       "Time Period        0\n",
       "Matches            0\n",
       "Played             0\n",
       "Maiden Overs       0\n",
       "Runs               0\n",
       "Wickets            0\n",
       "Best Figure        0\n",
       "Bowling Average    0\n",
       "Economy Rate       0\n",
       "Strike Rate        0\n",
       "Five Wickets       0\n",
       "dtype: int64"
      ]
     },
     "execution_count": 20,
     "metadata": {},
     "output_type": "execute_result"
    }
   ],
   "source": [
    "ball_data.isna().sum()"
   ]
  },
  {
   "cell_type": "markdown",
   "metadata": {
    "id": "N00Ab8La1Cao"
   },
   "source": [
    "There are no null values in the data set"
   ]
  },
  {
   "cell_type": "code",
   "execution_count": 21,
   "metadata": {
    "colab": {
     "base_uri": "https://localhost:8080/"
    },
    "id": "qbwwbtU01Cao",
    "outputId": "7a0cb12f-54ba-41d4-8409-87346c890cb2"
   },
   "outputs": [
    {
     "data": {
      "text/plain": [
       "0"
      ]
     },
     "execution_count": 21,
     "metadata": {},
     "output_type": "execute_result"
    }
   ],
   "source": [
    "ball_data.duplicated().sum()"
   ]
  },
  {
   "cell_type": "markdown",
   "metadata": {
    "id": "SJercKqp1Cao"
   },
   "source": [
    "There is no duplicated data in the data set"
   ]
  },
  {
   "cell_type": "code",
   "execution_count": 22,
   "metadata": {
    "colab": {
     "base_uri": "https://localhost:8080/"
    },
    "id": "J7rIzOWR1Cao",
    "outputId": "a4400d96-bf54-4889-d9f2-ea0e8bd23ea6"
   },
   "outputs": [
    {
     "data": {
      "text/plain": [
       "Index(['Player Name', 'Country', 'Time Period', 'Matches', 'Played',\n",
       "       'Dismissals', 'Catches', 'Stumpings', 'Maximum Dismissals'],\n",
       "      dtype='object')"
      ]
     },
     "execution_count": 22,
     "metadata": {},
     "output_type": "execute_result"
    }
   ],
   "source": [
    "wkd.columns"
   ]
  },
  {
   "cell_type": "code",
   "execution_count": 23,
   "metadata": {
    "colab": {
     "base_uri": "https://localhost:8080/"
    },
    "id": "l7d2YY5m1Cap",
    "outputId": "499c5a2d-07a9-4d92-f207-3b5640ea5c1d"
   },
   "outputs": [
    {
     "data": {
      "text/plain": [
       "Player Name           0\n",
       "Country               0\n",
       "Time Period           0\n",
       "Matches               0\n",
       "Played                0\n",
       "Dismissals            0\n",
       "Catches               0\n",
       "Stumpings             0\n",
       "Maximum Dismissals    0\n",
       "dtype: int64"
      ]
     },
     "execution_count": 23,
     "metadata": {},
     "output_type": "execute_result"
    }
   ],
   "source": [
    "wkd.isna().sum()"
   ]
  },
  {
   "cell_type": "markdown",
   "metadata": {
    "id": "cezEE_PL1Cap"
   },
   "source": [
    "There are no null values in the data set"
   ]
  },
  {
   "cell_type": "code",
   "execution_count": 24,
   "metadata": {
    "colab": {
     "base_uri": "https://localhost:8080/"
    },
    "id": "Jy6gSvR91Cap",
    "outputId": "911ea0ea-ab6d-4e81-c27c-5a4992b6496f"
   },
   "outputs": [
    {
     "data": {
      "text/plain": [
       "0"
      ]
     },
     "execution_count": 24,
     "metadata": {},
     "output_type": "execute_result"
    }
   ],
   "source": [
    "wkd.duplicated().sum()"
   ]
  },
  {
   "cell_type": "markdown",
   "metadata": {
    "id": "TLZaz9rT1Cap"
   },
   "source": [
    "There is no duplicated data in the data set"
   ]
  },
  {
   "cell_type": "code",
   "execution_count": 25,
   "metadata": {
    "colab": {
     "base_uri": "https://localhost:8080/"
    },
    "id": "QcIwXTNE1Cap",
    "outputId": "379a8abc-9592-47df-a6d2-3b8f8491fbb6"
   },
   "outputs": [
    {
     "data": {
      "text/plain": [
       "Index(['Year', 'Host', 'No Of Team', 'Champion', 'Runner Up',\n",
       "       'Player Of The Series', 'Highest Run Scorer', 'Highest Wicket Taker'],\n",
       "      dtype='object')"
      ]
     },
     "execution_count": 25,
     "metadata": {},
     "output_type": "execute_result"
    }
   ],
   "source": [
    "champion_data.columns"
   ]
  },
  {
   "cell_type": "code",
   "execution_count": 26,
   "metadata": {
    "id": "okEs-wQ71Cap"
   },
   "outputs": [],
   "source": [
    "champion_data.drop(['No Of Team'],axis=1,inplace=True)"
   ]
  },
  {
   "cell_type": "code",
   "execution_count": 27,
   "metadata": {
    "colab": {
     "base_uri": "https://localhost:8080/"
    },
    "id": "xsdmjb_r1Cap",
    "outputId": "7b785b47-ff8c-4aae-a490-cc2ef3092448"
   },
   "outputs": [
    {
     "data": {
      "text/plain": [
       "Year                    0\n",
       "Host                    0\n",
       "Champion                0\n",
       "Runner Up               0\n",
       "Player Of The Series    0\n",
       "Highest Run Scorer      0\n",
       "Highest Wicket Taker    0\n",
       "dtype: int64"
      ]
     },
     "execution_count": 27,
     "metadata": {},
     "output_type": "execute_result"
    }
   ],
   "source": [
    "champion_data.isna().sum()"
   ]
  },
  {
   "cell_type": "markdown",
   "metadata": {
    "id": "3B95Ggx41Cap"
   },
   "source": [
    "There are no null values in the data set"
   ]
  },
  {
   "cell_type": "code",
   "execution_count": 28,
   "metadata": {
    "colab": {
     "base_uri": "https://localhost:8080/"
    },
    "id": "J_jiGdYB1Cap",
    "outputId": "5c285185-1ea9-4dee-c493-3eb11097d412"
   },
   "outputs": [
    {
     "data": {
      "text/plain": [
       "0"
      ]
     },
     "execution_count": 28,
     "metadata": {},
     "output_type": "execute_result"
    }
   ],
   "source": [
    "champion_data.duplicated().sum()"
   ]
  },
  {
   "cell_type": "markdown",
   "metadata": {
    "id": "1c3k15Qi1Caq"
   },
   "source": [
    "There is no duplicated data in the data set"
   ]
  },
  {
   "cell_type": "markdown",
   "metadata": {
    "id": "21ijNAXq1Caq"
   },
   "source": [
    "## Interpretations"
   ]
  },
  {
   "cell_type": "code",
   "execution_count": 29,
   "metadata": {
    "colab": {
     "base_uri": "https://localhost:8080/"
    },
    "id": "rNHYZKOgy2kY",
    "outputId": "891ef3ca-301f-4853-f8f9-0283042723d5"
   },
   "outputs": [
    {
     "name": "stdout",
     "output_type": "stream",
     "text": [
      "Batting    127\n",
      "Bowling    127\n",
      "Name: Selection, dtype: int64\n"
     ]
    }
   ],
   "source": [
    "#decision of the Toss winner\n",
    "toss_selection = data_asia_cup['Selection'].value_counts()\n",
    "print(toss_selection)"
   ]
  },
  {
   "cell_type": "code",
   "execution_count": 30,
   "metadata": {
    "colab": {
     "base_uri": "https://localhost:8080/"
    },
    "id": "HYr4P1p5y2sD",
    "outputId": "8401b732-0693-429a-e568-ce2fd0081357"
   },
   "outputs": [
    {
     "name": "stdout",
     "output_type": "stream",
     "text": [
      "The average runs scored : 201.9206349206349\n",
      "The average high score : 69.30952380952381\n",
      "The average wickets lost: 6.892857142857143\n",
      "The average Extras Given: 13.238095238095237\n"
     ]
    }
   ],
   "source": [
    "#average runs scored, Wicket lost and Extras in Asia cup\n",
    "print(f\"The average runs scored : {data_asia_cup['Run Scored'].mean()}\")\n",
    "print(f\"The average high score : {data_asia_cup['Highest Score'].mean()}\")\n",
    "print(f\"The average wickets lost: {data_asia_cup['Wicket Lost'].mean()}\")\n",
    "print(f\"The average Extras Given: {data_asia_cup['Extras'].mean()}\")"
   ]
  },
  {
   "cell_type": "code",
   "execution_count": 31,
   "metadata": {
    "colab": {
     "base_uri": "https://localhost:8080/"
    },
    "id": "RaUnV0HV1Caq",
    "outputId": "e430b6a4-edb7-4528-804b-8eb69b0856c1"
   },
   "outputs": [
    {
     "name": "stdout",
     "output_type": "stream",
     "text": [
      "Virat Kohli          12\n",
      "Sanath Jayasuriya    10\n",
      "Shoaib Malik         10\n",
      "Shahid Afridi         8\n",
      "Kumar Sangakkara      8\n",
      "Name: Player Of The Match, dtype: int64\n"
     ]
    }
   ],
   "source": [
    "#Man of the matches\n",
    "man_of_matches =  data_asia_cup['Player Of The Match'].value_counts()[0:5]\n",
    "print(man_of_matches)"
   ]
  },
  {
   "cell_type": "code",
   "execution_count": 32,
   "metadata": {
    "colab": {
     "base_uri": "https://localhost:8080/",
     "height": 81
    },
    "id": "piIZOPud1Caq",
    "outputId": "f1213056-c05a-4cca-c3b9-99b0e6168e79"
   },
   "outputs": [
    {
     "data": {
      "text/html": [
       "<div>\n",
       "<style scoped>\n",
       "    .dataframe tbody tr th:only-of-type {\n",
       "        vertical-align: middle;\n",
       "    }\n",
       "\n",
       "    .dataframe tbody tr th {\n",
       "        vertical-align: top;\n",
       "    }\n",
       "\n",
       "    .dataframe thead th {\n",
       "        text-align: right;\n",
       "    }\n",
       "</style>\n",
       "<table border=\"1\" class=\"dataframe\">\n",
       "  <thead>\n",
       "    <tr style=\"text-align: right;\">\n",
       "      <th></th>\n",
       "      <th>Player Name</th>\n",
       "      <th>Highest Score</th>\n",
       "      <th>Country</th>\n",
       "    </tr>\n",
       "  </thead>\n",
       "  <tbody>\n",
       "    <tr>\n",
       "      <th>11</th>\n",
       "      <td>V Kohli</td>\n",
       "      <td>183</td>\n",
       "      <td>India</td>\n",
       "    </tr>\n",
       "  </tbody>\n",
       "</table>\n",
       "</div>"
      ],
      "text/plain": [
       "   Player Name  Highest Score Country\n",
       "11    V Kohli             183   India"
      ]
     },
     "execution_count": 32,
     "metadata": {},
     "output_type": "execute_result"
    }
   ],
   "source": [
    "#highest Score by batsmen in Asia Cup\n",
    "bat_data[bat_data['Highest Score']==bat_data['Highest Score'].max()][['Player Name','Highest Score','Country']]"
   ]
  },
  {
   "cell_type": "code",
   "execution_count": 33,
   "metadata": {
    "colab": {
     "base_uri": "https://localhost:8080/",
     "height": 81
    },
    "id": "uVYmxlri1Caq",
    "outputId": "57a0431d-5018-44a7-a24e-c1f7a5ab3333"
   },
   "outputs": [
    {
     "data": {
      "text/html": [
       "<div>\n",
       "<style scoped>\n",
       "    .dataframe tbody tr th:only-of-type {\n",
       "        vertical-align: middle;\n",
       "    }\n",
       "\n",
       "    .dataframe tbody tr th {\n",
       "        vertical-align: top;\n",
       "    }\n",
       "\n",
       "    .dataframe thead th {\n",
       "        text-align: right;\n",
       "    }\n",
       "</style>\n",
       "<table border=\"1\" class=\"dataframe\">\n",
       "  <thead>\n",
       "    <tr style=\"text-align: right;\">\n",
       "      <th></th>\n",
       "      <th>Player Name</th>\n",
       "      <th>Strike Rate</th>\n",
       "      <th>Country</th>\n",
       "    </tr>\n",
       "  </thead>\n",
       "  <tbody>\n",
       "    <tr>\n",
       "      <th>17</th>\n",
       "      <td>Shahid Afridi</td>\n",
       "      <td>140.74</td>\n",
       "      <td>Pakistan</td>\n",
       "    </tr>\n",
       "  </tbody>\n",
       "</table>\n",
       "</div>"
      ],
      "text/plain": [
       "       Player Name  Strike Rate   Country\n",
       "17  Shahid Afridi        140.74  Pakistan"
      ]
     },
     "execution_count": 33,
     "metadata": {},
     "output_type": "execute_result"
    }
   ],
   "source": [
    "#batsman with best strike rate in asia cup\n",
    "bat_data[bat_data['Strike Rate']==bat_data['Strike Rate'].max()][['Player Name','Strike Rate','Country']]"
   ]
  },
  {
   "cell_type": "code",
   "execution_count": 34,
   "metadata": {
    "colab": {
     "base_uri": "https://localhost:8080/",
     "height": 81
    },
    "id": "ueIIvNiQ1Caq",
    "outputId": "6d8d1d40-3b68-4933-bd4b-67e8d6d99cac"
   },
   "outputs": [
    {
     "data": {
      "text/html": [
       "<div>\n",
       "<style scoped>\n",
       "    .dataframe tbody tr th:only-of-type {\n",
       "        vertical-align: middle;\n",
       "    }\n",
       "\n",
       "    .dataframe tbody tr th {\n",
       "        vertical-align: top;\n",
       "    }\n",
       "\n",
       "    .dataframe thead th {\n",
       "        text-align: right;\n",
       "    }\n",
       "</style>\n",
       "<table border=\"1\" class=\"dataframe\">\n",
       "  <thead>\n",
       "    <tr style=\"text-align: right;\">\n",
       "      <th></th>\n",
       "      <th>Player Name</th>\n",
       "      <th>Maiden Overs</th>\n",
       "      <th>Country</th>\n",
       "    </tr>\n",
       "  </thead>\n",
       "  <tbody>\n",
       "    <tr>\n",
       "      <th>4</th>\n",
       "      <td>WPUJC Vaas</td>\n",
       "      <td>20</td>\n",
       "      <td>Sri Lanka</td>\n",
       "    </tr>\n",
       "  </tbody>\n",
       "</table>\n",
       "</div>"
      ],
      "text/plain": [
       "   Player Name  Maiden Overs    Country\n",
       "4  WPUJC Vaas             20  Sri Lanka"
      ]
     },
     "execution_count": 34,
     "metadata": {},
     "output_type": "execute_result"
    }
   ],
   "source": [
    "#bowler with max maiden overs\n",
    "ball_data[ball_data['Maiden Overs']==ball_data['Maiden Overs'].max()][['Player Name','Maiden Overs','Country']]"
   ]
  },
  {
   "cell_type": "code",
   "execution_count": 35,
   "metadata": {
    "colab": {
     "base_uri": "https://localhost:8080/",
     "height": 81
    },
    "id": "T7TlcxO11Caq",
    "outputId": "0c1debed-9497-48d6-b1b6-4a841a52b5f6"
   },
   "outputs": [
    {
     "data": {
      "text/html": [
       "<div>\n",
       "<style scoped>\n",
       "    .dataframe tbody tr th:only-of-type {\n",
       "        vertical-align: middle;\n",
       "    }\n",
       "\n",
       "    .dataframe tbody tr th {\n",
       "        vertical-align: top;\n",
       "    }\n",
       "\n",
       "    .dataframe thead th {\n",
       "        text-align: right;\n",
       "    }\n",
       "</style>\n",
       "<table border=\"1\" class=\"dataframe\">\n",
       "  <thead>\n",
       "    <tr style=\"text-align: right;\">\n",
       "      <th></th>\n",
       "      <th>Player Name</th>\n",
       "      <th>Economy Rate</th>\n",
       "      <th>Country</th>\n",
       "    </tr>\n",
       "  </thead>\n",
       "  <tbody>\n",
       "    <tr>\n",
       "      <th>13</th>\n",
       "      <td>Wasim Akram</td>\n",
       "      <td>3.22</td>\n",
       "      <td>Pakistan</td>\n",
       "    </tr>\n",
       "  </tbody>\n",
       "</table>\n",
       "</div>"
      ],
      "text/plain": [
       "     Player Name  Economy Rate   Country\n",
       "13  Wasim Akram           3.22  Pakistan"
      ]
     },
     "execution_count": 35,
     "metadata": {},
     "output_type": "execute_result"
    }
   ],
   "source": [
    "ball_data[ball_data['Economy Rate']==ball_data['Economy Rate'].min()][['Player Name','Economy Rate','Country']]"
   ]
  },
  {
   "cell_type": "code",
   "execution_count": 36,
   "metadata": {
    "colab": {
     "base_uri": "https://localhost:8080/",
     "height": 112
    },
    "id": "VhixjciB1Caq",
    "outputId": "7d2cd980-a042-464c-c2f3-0fdb6d81c3d2"
   },
   "outputs": [
    {
     "data": {
      "text/html": [
       "<div>\n",
       "<style scoped>\n",
       "    .dataframe tbody tr th:only-of-type {\n",
       "        vertical-align: middle;\n",
       "    }\n",
       "\n",
       "    .dataframe tbody tr th {\n",
       "        vertical-align: top;\n",
       "    }\n",
       "\n",
       "    .dataframe thead th {\n",
       "        text-align: right;\n",
       "    }\n",
       "</style>\n",
       "<table border=\"1\" class=\"dataframe\">\n",
       "  <thead>\n",
       "    <tr style=\"text-align: right;\">\n",
       "      <th></th>\n",
       "      <th>Player Name</th>\n",
       "      <th>Maximum Dismissals</th>\n",
       "    </tr>\n",
       "  </thead>\n",
       "  <tbody>\n",
       "    <tr>\n",
       "      <th>0</th>\n",
       "      <td>MS Dhoni</td>\n",
       "      <td>5</td>\n",
       "    </tr>\n",
       "    <tr>\n",
       "      <th>5</th>\n",
       "      <td>RS Kaluwitharana</td>\n",
       "      <td>5</td>\n",
       "    </tr>\n",
       "  </tbody>\n",
       "</table>\n",
       "</div>"
      ],
      "text/plain": [
       "         Player Name  Maximum Dismissals\n",
       "0          MS Dhoni                    5\n",
       "5  RS Kaluwitharana                    5"
      ]
     },
     "execution_count": 36,
     "metadata": {},
     "output_type": "execute_result"
    }
   ],
   "source": [
    "#wicket Keeper with maximum no of dismissals in a match \n",
    "wkd[wkd['Maximum Dismissals']==wkd['Maximum Dismissals'].max()][['Player Name','Maximum Dismissals']]"
   ]
  },
  {
   "cell_type": "code",
   "execution_count": 37,
   "metadata": {
    "colab": {
     "base_uri": "https://localhost:8080/",
     "height": 269
    },
    "id": "zV8RJjuq1Car",
    "outputId": "0bc112cb-cbaa-48fb-862e-e5f91d999c38"
   },
   "outputs": [
    {
     "data": {
      "text/html": [
       "<div>\n",
       "<style scoped>\n",
       "    .dataframe tbody tr th:only-of-type {\n",
       "        vertical-align: middle;\n",
       "    }\n",
       "\n",
       "    .dataframe tbody tr th {\n",
       "        vertical-align: top;\n",
       "    }\n",
       "\n",
       "    .dataframe thead th {\n",
       "        text-align: right;\n",
       "    }\n",
       "</style>\n",
       "<table border=\"1\" class=\"dataframe\">\n",
       "  <thead>\n",
       "    <tr style=\"text-align: right;\">\n",
       "      <th></th>\n",
       "      <th>Team</th>\n",
       "      <th>Given Extras</th>\n",
       "      <th>Result</th>\n",
       "    </tr>\n",
       "  </thead>\n",
       "  <tbody>\n",
       "    <tr>\n",
       "      <th>48</th>\n",
       "      <td>India</td>\n",
       "      <td>37.0</td>\n",
       "      <td>Win</td>\n",
       "    </tr>\n",
       "    <tr>\n",
       "      <th>73</th>\n",
       "      <td>Pakistan</td>\n",
       "      <td>38.0</td>\n",
       "      <td>Win</td>\n",
       "    </tr>\n",
       "    <tr>\n",
       "      <th>80</th>\n",
       "      <td>India</td>\n",
       "      <td>34.0</td>\n",
       "      <td>Win</td>\n",
       "    </tr>\n",
       "    <tr>\n",
       "      <th>88</th>\n",
       "      <td>Sri Lanka</td>\n",
       "      <td>34.0</td>\n",
       "      <td>Win</td>\n",
       "    </tr>\n",
       "    <tr>\n",
       "      <th>91</th>\n",
       "      <td>India</td>\n",
       "      <td>37.0</td>\n",
       "      <td>Win</td>\n",
       "    </tr>\n",
       "    <tr>\n",
       "      <th>97</th>\n",
       "      <td>Pakistan</td>\n",
       "      <td>38.0</td>\n",
       "      <td>Win</td>\n",
       "    </tr>\n",
       "    <tr>\n",
       "      <th>101</th>\n",
       "      <td>Pakistan</td>\n",
       "      <td>37.0</td>\n",
       "      <td>Win</td>\n",
       "    </tr>\n",
       "  </tbody>\n",
       "</table>\n",
       "</div>"
      ],
      "text/plain": [
       "          Team  Given Extras Result\n",
       "48       India          37.0    Win\n",
       "73    Pakistan          38.0    Win\n",
       "80       India          34.0    Win\n",
       "88   Sri Lanka          34.0    Win\n",
       "91       India          37.0    Win\n",
       "97    Pakistan          38.0    Win\n",
       "101   Pakistan          37.0    Win"
      ]
     },
     "execution_count": 37,
     "metadata": {},
     "output_type": "execute_result"
    }
   ],
   "source": [
    "#Displaying the name of teams, extras given and result of the match on satisfying the condition i.e., extras given by team greater than 29 and won the match\n",
    "data_asia_cup.loc[(data_asia_cup['Given Extras']>=30)&(data_asia_cup['Result']=='Win'),['Team','Given Extras','Result']]"
   ]
  },
  {
   "cell_type": "code",
   "execution_count": 38,
   "metadata": {
    "colab": {
     "base_uri": "https://localhost:8080/"
    },
    "id": "DEnzYRjw1Car",
    "outputId": "3e10e17e-95fb-49fe-9832-8c891e6c1794"
   },
   "outputs": [
    {
     "name": "stdout",
     "output_type": "stream",
     "text": [
      "Champion\n",
      "India        7\n",
      "Pakistan     2\n",
      "Sri Lanka    6\n",
      "dtype: int64\n",
      "Runner Up\n",
      "Bangladesh    3\n",
      "India         3\n",
      "Pakistan      3\n",
      "Sri Lanka     6\n",
      "dtype: int64\n"
     ]
    }
   ],
   "source": [
    "#Getting the total count of teams who were champtions between the year 1984-2022 \n",
    "champion = champion_data.pivot_table(index=['Champion'],aggfunc='size')\n",
    "print(champion)\n",
    "#Getting the total count of teams who were runner ups between the year 1984-2022 \n",
    "runner = champion_data.pivot_table(index=['Runner Up'],aggfunc='size')\n",
    "print(runner)"
   ]
  },
  {
   "cell_type": "code",
   "execution_count": 39,
   "metadata": {
    "colab": {
     "base_uri": "https://localhost:8080/",
     "height": 269
    },
    "id": "1YccTO0Z1Car",
    "outputId": "31cbf8c7-53e6-4747-86b9-d856b8de4945"
   },
   "outputs": [
    {
     "data": {
      "text/html": [
       "<div>\n",
       "<style scoped>\n",
       "    .dataframe tbody tr th:only-of-type {\n",
       "        vertical-align: middle;\n",
       "    }\n",
       "\n",
       "    .dataframe tbody tr th {\n",
       "        vertical-align: top;\n",
       "    }\n",
       "\n",
       "    .dataframe thead th {\n",
       "        text-align: right;\n",
       "    }\n",
       "</style>\n",
       "<table border=\"1\" class=\"dataframe\">\n",
       "  <thead>\n",
       "    <tr style=\"text-align: right;\">\n",
       "      <th></th>\n",
       "      <th>Player Name</th>\n",
       "      <th>Runs</th>\n",
       "    </tr>\n",
       "  </thead>\n",
       "  <tbody>\n",
       "    <tr>\n",
       "      <th>0</th>\n",
       "      <td>V Kohli</td>\n",
       "      <td>429</td>\n",
       "    </tr>\n",
       "    <tr>\n",
       "      <th>2</th>\n",
       "      <td>RG Sharma</td>\n",
       "      <td>271</td>\n",
       "    </tr>\n",
       "    <tr>\n",
       "      <th>15</th>\n",
       "      <td>SA Yadav</td>\n",
       "      <td>139</td>\n",
       "    </tr>\n",
       "    <tr>\n",
       "      <th>17</th>\n",
       "      <td>KL Rahul</td>\n",
       "      <td>132</td>\n",
       "    </tr>\n",
       "    <tr>\n",
       "      <th>31</th>\n",
       "      <td>Yuvraj Singh</td>\n",
       "      <td>89</td>\n",
       "    </tr>\n",
       "    <tr>\n",
       "      <th>33</th>\n",
       "      <td>HH Pandya</td>\n",
       "      <td>83</td>\n",
       "    </tr>\n",
       "    <tr>\n",
       "      <th>35</th>\n",
       "      <td>S Dhawan</td>\n",
       "      <td>79</td>\n",
       "    </tr>\n",
       "  </tbody>\n",
       "</table>\n",
       "</div>"
      ],
      "text/plain": [
       "      Player Name  Runs\n",
       "0        V Kohli    429\n",
       "2      RG Sharma    271\n",
       "15      SA Yadav    139\n",
       "17      KL Rahul    132\n",
       "31  Yuvraj Singh     89\n",
       "33     HH Pandya     83\n",
       "35      S Dhawan     79"
      ]
     },
     "execution_count": 39,
     "metadata": {},
     "output_type": "execute_result"
    }
   ],
   "source": [
    "#Displaying the name and runs scored by each Indian batsman\n",
    "bat_data1.loc[(bat_data1['Country']=='India'),['Player Name','Runs']]"
   ]
  },
  {
   "cell_type": "code",
   "execution_count": 40,
   "metadata": {
    "colab": {
     "base_uri": "https://localhost:8080/",
     "height": 81
    },
    "id": "cfhyBrnt1Car",
    "outputId": "c8072b7d-cabb-412a-da71-f1d07cc1ef84"
   },
   "outputs": [
    {
     "data": {
      "text/html": [
       "<div>\n",
       "<style scoped>\n",
       "    .dataframe tbody tr th:only-of-type {\n",
       "        vertical-align: middle;\n",
       "    }\n",
       "\n",
       "    .dataframe tbody tr th {\n",
       "        vertical-align: top;\n",
       "    }\n",
       "\n",
       "    .dataframe thead th {\n",
       "        text-align: right;\n",
       "    }\n",
       "</style>\n",
       "<table border=\"1\" class=\"dataframe\">\n",
       "  <thead>\n",
       "    <tr style=\"text-align: right;\">\n",
       "      <th></th>\n",
       "      <th>Player Name</th>\n",
       "      <th>Runs</th>\n",
       "    </tr>\n",
       "  </thead>\n",
       "  <tbody>\n",
       "    <tr>\n",
       "      <th>0</th>\n",
       "      <td>ST Jayasuriya</td>\n",
       "      <td>1220</td>\n",
       "    </tr>\n",
       "  </tbody>\n",
       "</table>\n",
       "</div>"
      ],
      "text/plain": [
       "      Player Name  Runs\n",
       "0  ST Jayasuriya   1220"
      ]
     },
     "execution_count": 40,
     "metadata": {},
     "output_type": "execute_result"
    }
   ],
   "source": [
    "#Displaying the name of the player who scored maximum runs\n",
    "bat_data.loc[(bat_data['Runs']==bat_data['Runs'].max()),['Player Name','Runs']]"
   ]
  },
  {
   "cell_type": "markdown",
   "metadata": {
    "id": "xN-lZBhV1Car"
   },
   "source": [
    "## Visualizations"
   ]
  },
  {
   "cell_type": "code",
   "execution_count": 41,
   "metadata": {
    "colab": {
     "base_uri": "https://localhost:8080/",
     "height": 295
    },
    "id": "q4kmfBtQ1Car",
    "outputId": "765448d0-17d0-4eed-87d2-aa4ce538e1dc"
   },
   "outputs": [
    {
     "data": {
      "image/png": "[encoded data removed]",
      "text/plain": [
       "<Figure size 432x288 with 1 Axes>"
      ]
     },
     "metadata": {
      "needs_background": "light"
     },
     "output_type": "display_data"
    }
   ],
   "source": [
    "#No of matches played each year in asia cup\n",
    "no_matches_plot= sns.countplot(x='Year',data=data_asia_cup)\n",
    "plt.setp(no_matches_plot.get_xticklabels(), rotation=90)\n",
    "plt.show()"
   ]
  },
  {
   "cell_type": "code",
   "execution_count": 42,
   "metadata": {
    "colab": {
     "base_uri": "https://localhost:8080/",
     "height": 295
    },
    "id": "R2HalOsOy2yQ",
    "outputId": "f6ccd879-fc45-4946-ee95-6d60bce7ea1a"
   },
   "outputs": [
    {
     "data": {
      "image/png": "[encoded data removed]",
      "text/plain": [
       "<Figure size 432x288 with 1 Axes>"
      ]
     },
     "metadata": {
      "needs_background": "light"
     },
     "output_type": "display_data"
    }
   ],
   "source": [
    "#Top 5 players with most number of centuries\n",
    "bat_data_centuries = bat_data.sort_values('Centuries', ascending=False)\n",
    "bat_data_centuries.head()\n",
    "x_centuries = bat_data_centuries['Player Name'][0:5]\n",
    "y_centuries = bat_data_centuries['Centuries'][0:5]\n",
    "plt.title('Top 5 players with most number of centuries')\n",
    "plt.ylabel('Player Name')\n",
    "plt.xlabel('No of Centuries')\n",
    "plt.barh(x_centuries,y_centuries,color='c')\n",
    "plt.show()"
   ]
  },
  {
   "cell_type": "code",
   "execution_count": 43,
   "metadata": {
    "colab": {
     "base_uri": "https://localhost:8080/",
     "height": 264
    },
    "id": "COb-aHHZzW93",
    "outputId": "bc302f5a-85d4-4acc-8107-9c7ab68aed98"
   },
   "outputs": [
    {
     "data": {
      "image/png": "[encoded data removed]",
      "text/plain": [
       "<Figure size 432x288 with 1 Axes>"
      ]
     },
     "metadata": {},
     "output_type": "display_data"
    }
   ],
   "source": [
    "#Percentage of matches conducted in diffrent venue's visulization\n",
    "hosts_no_data = champion_data['Host']\n",
    "hosts_no_data = hosts_no_data.value_counts()\n",
    "x_host = hosts_no_data.index\n",
    "y_host = hosts_no_data.values\n",
    "plt.title('Percentage of matches conducted in diffrent veniues')\n",
    "plt.pie(y_host,labels=x_host,explode=(0.1,0,0,0,0),colors=['orange', 'pink', 'yellow', '#ADD8E6', '#7eb54e'],shadow=True,autopct='%1.0f%%')\n",
    "plt.show()"
   ]
  },
  {
   "cell_type": "code",
   "execution_count": 44,
   "metadata": {
    "colab": {
     "base_uri": "https://localhost:8080/",
     "height": 295
    },
    "id": "oDGLcImpFIDf",
    "outputId": "d1387ea4-f107-4c86-b866-7fd8e39a0c10"
   },
   "outputs": [
    {
     "data": {
      "image/png": "[encoded data removed]",
      "text/plain": [
       "<Figure size 432x288 with 1 Axes>"
      ]
     },
     "metadata": {
      "needs_background": "light"
     },
     "output_type": "display_data"
    }
   ],
   "source": [
    "#Best wicket Keeper\n",
    "x_wicketkeeper = wkd['Player Name'][0:5]\n",
    "y_wicketkeeper = wkd['Dismissals'][0:5]\n",
    "plt.ylabel('Player')\n",
    "plt.xlabel('No of Dismissals')\n",
    "plt.title('Top_5_WeeketKeepers')\n",
    "plt.barh(x_wicketkeeper,y_wicketkeeper)\n",
    "plt.show()"
   ]
  },
  {
   "cell_type": "code",
   "execution_count": 45,
   "metadata": {
    "colab": {
     "base_uri": "https://localhost:8080/",
     "height": 176
    },
    "id": "kCpUMDONsQxX",
    "outputId": "0d427bbd-7fb9-459f-c4e2-b3670137cc86"
   },
   "outputs": [
    {
     "data": {
      "image/png": "[encoded data removed]",
      "text/plain": [
       "<Waffle size 432x288 with 1 Axes>"
      ]
     },
     "metadata": {
      "needs_background": "light"
     },
     "output_type": "display_data"
    }
   ],
   "source": [
    "#champions visulization\n",
    "champion_no_data = champion_data['Champion']\n",
    "champion_no_data = champion_no_data.value_counts()\n",
    "fig_champion = plt.figure(\n",
    "    FigureClass = Waffle,\n",
    "    rows = 2,\n",
    "    values = champion_no_data.values,\n",
    "    labels = list(champion_no_data.index),\n",
    "    legend={\n",
    "        'loc': 'lower left',\n",
    "        'bbox_to_anchor': (0.2, -0.4),\n",
    "        'ncol': len(champion_no_data)\n",
    "    },\n",
    "    title={\n",
    "        'label': 'Champions of asia cup',\n",
    "        'loc': 'center'\n",
    "    },\n",
    ")"
   ]
  },
  {
   "cell_type": "code",
   "execution_count": 46,
   "metadata": {
    "colab": {
     "base_uri": "https://localhost:8080/",
     "height": 295
    },
    "id": "5JzvHqxs1Cas",
    "outputId": "262b6dfa-c754-402e-e57a-39dee1d5edf3"
   },
   "outputs": [
    {
     "data": {
      "image/png": "[encoded data removed]",
      "text/plain": [
       "<Figure size 432x288 with 1 Axes>"
      ]
     },
     "metadata": {
      "needs_background": "light"
     },
     "output_type": "display_data"
    }
   ],
   "source": [
    "out = ball_data['Wickets']\n",
    "name = ball_data['Country']\n",
    "#Labeling X-axis data\n",
    "plt.xlabel(\"Wickets\")\n",
    "c=\"#784B84\"\n",
    "#Displaying horizontal bars\n",
    "plt.barh(name, out, color=c)\n",
    "plt.title(\"Highest wickets taken by Players from each Country\")\n",
    "plt.show()"
   ]
  },
  {
   "cell_type": "code",
   "execution_count": 47,
   "metadata": {
    "colab": {
     "base_uri": "https://localhost:8080/",
     "height": 281
    },
    "id": "hkyz6OdZ1Cas",
    "outputId": "e7c8d41d-e330-4831-ffa5-07cb594477dd"
   },
   "outputs": [
    {
     "data": {
      "image/png": "[encoded data removed]",
      "text/plain": [
       "<Figure size 576x288 with 1 Axes>"
      ]
     },
     "metadata": {
      "needs_background": "light"
     },
     "output_type": "display_data"
    }
   ],
   "source": [
    "#Assigning width and height for the figure\n",
    "fig = plt.figure(figsize=(8,4)) \n",
    "extra = data_asia_cup['Extras']\n",
    "name = data_asia_cup['Team']\n",
    "plt.scatter(name, extra, s=50, edgecolors='black', linewidths=1, alpha=0.75)\n",
    "plt.title(\"Extras given by Team in each match\")\n",
    "plt.show()"
   ]
  },
  {
   "cell_type": "code",
   "execution_count": 48,
   "metadata": {
    "colab": {
     "base_uri": "https://localhost:8080/",
     "height": 281
    },
    "id": "EeDiZWig1Cat",
    "outputId": "bf8cc949-899b-41a2-d861-27d865f12d90"
   },
   "outputs": [
    {
     "data": {
      "image/png": "[encoded data removed]",
      "text/plain": [
       "<Figure size 720x288 with 1 Axes>"
      ]
     },
     "metadata": {
      "needs_background": "light"
     },
     "output_type": "display_data"
    }
   ],
   "source": [
    "#Assigning width and height for the figure\n",
    "fig = plt.figure(figsize=(10,4))\n",
    "runs = bat_data1['Runs']\n",
    "name = bat_data1['Country']\n",
    "#Labeling Y-axis data\n",
    "plt.ylabel(\"Runs\")\n",
    "c=\"Teal\"\n",
    "#Displaying default vertical bars\n",
    "plt.bar(name, runs, color=c, width=0.5)\n",
    "plt.title(\"Max runs scored by Players from each Country\")\n",
    "plt.show()"
   ]
  },
  {
   "cell_type": "code",
   "execution_count": 49,
   "metadata": {
    "colab": {
     "base_uri": "https://localhost:8080/",
     "height": 281
    },
    "id": "M2j1B5v_1Cat",
    "outputId": "b71aa21a-0866-4bdb-d41b-3ee2b2b444f8"
   },
   "outputs": [
    {
     "data": {
      "image/png": "[encoded data removed]",
      "text/plain": [
       "<Figure size 432x288 with 1 Axes>"
      ]
     },
     "metadata": {
      "needs_background": "light"
     },
     "output_type": "display_data"
    }
   ],
   "source": [
    "#Getting the total count of teams who were champtions between the year 1984-2022\n",
    "champion = champion_data.pivot_table(index=['Champion'],aggfunc='size')\n",
    "#Getting the total count of teams who were runner ups between the year 1984-2022\n",
    "runner = champion_data.pivot_table(index=['Runner Up'],aggfunc='size')\n",
    "plt.title(\"Champion vs Runner Up Teams\")\n",
    "plt.plot(champion, label=\"Champion\")\n",
    "plt.plot(runner, label=\"Runner Up\")\n",
    "#Labeling Y-axis data\n",
    "plt.ylabel(\"No of Times\")\n",
    "plt.legend()\n",
    "plt.show()"
   ]
  },
  {
   "cell_type": "code",
   "execution_count": 50,
   "metadata": {
    "colab": {
     "base_uri": "https://localhost:8080/",
     "height": 264
    },
    "id": "G-ZLklF71Cat",
    "outputId": "edd41779-79ae-4579-de40-4938e2342b7d"
   },
   "outputs": [
    {
     "data": {
      "image/png": "[encoded data removed]",
      "text/plain": [
       "<Figure size 432x288 with 1 Axes>"
      ]
     },
     "metadata": {},
     "output_type": "display_data"
    }
   ],
   "source": [
    "#Getting the total count of teams who were champtions between the year 1984-2022\n",
    "champion = champion_data.pivot_table(index=['Champion'],aggfunc='size')\n",
    "#Labeling each data\n",
    "label = [\"India\",\"Pakistan\",\"Srilanka\"]\n",
    "#Coloring each data\n",
    "color = [\"Teal\",\"Indianred\",\"Purple\"]\n",
    "plt.title(\"Ratio of Winning Teams\")\n",
    "plt.pie(champion, labels=label, colors=color, startangle=90, wedgeprops={'edgecolor':'black'})\n",
    "plt.show()"
   ]
  }
 ],
 "metadata": {
  "colab": {
   "collapsed_sections": [
    "xN-lZBhV1Car"
   ],
   "provenance": []
  },
  "kernelspec": {
   "display_name": "Python 3 (ipykernel)",
   "language": "python",
   "name": "python3"
  },
  "language_info": {
   "codemirror_mode": {
    "name": "ipython",
    "version": 3
   },
   "file_extension": ".py",
   "mimetype": "text/x-python",
   "name": "python",
   "nbconvert_exporter": "python",
   "pygments_lexer": "ipython3",
   "version": "3.9.12"
  }
 },
 "nbformat": 4,
 "nbformat_minor": 1
}
