{
      "source": [
        "Here we have used Asia cup data set it contains ODI Batsman data , ODI Bowler\n",
        "data ,T20 Batsman data,T20 Bowler data,champion data and Wiketkeeper\n",
        "data.This dataset contains around 255 columns and 15 rows.\n",
        "Some of the column names are Players,Teams,Ground,Format,Year\n",
        "Toss,Strike Rate ,Result etc.\n",
        "The detailed information of the Asia cup from 1984 – 2022 and it covers all the\n",
        "information of what and all the teams involved ,who won the cup,which player\n",
        "got the man of the match and almost all information this data set covers.So this\n",
        "is all about our data set information."
      ]
    },
    {
      "cell_type": "markdown",
      "metadata": {
        "id": "KfxgJEUQ1Cah"
      },
      "source": [
        "## Installing Required libraries"
      ]
    },
    {
      "cell_type": "code",
      "execution_count": 68,
      "metadata": {
        "colab": {
          "base_uri": "https://localhost:8080/"
        },
        "id": "1l6J5ups1Cah",
        "outputId": "91303c38-0110-4bf9-9828-b2645785107e"
      },
      "outputs": [
        {
          "output_type": "stream",
          "name": "stdout",
          "text": [
            "Looking in indexes: https://pypi.org/simple, https://us-python.pkg.dev/colab-wheels/public/simple/\n",
            "Requirement already satisfied: numpy in /usr/local/lib/python3.8/dist-packages (1.21.6)\n"
          ]
        }
      ],
      "source": [
        "pip install numpy"
      ]
    },
    {
      "cell_type": "code",
      "execution_count": 69,
      "metadata": {
        "colab": {
          "base_uri": "https://localhost:8080/"
        },
        "id": "LBb_sgzI1Caj",
        "outputId": "4ae8874f-1f6b-4737-a21c-c16246dd648d"
      },
      "outputs": [
        {
          "output_type": "stream",
          "name": "stdout",
          "text": [
            "Looking in indexes: https://pypi.org/simple, https://us-python.pkg.dev/colab-wheels/public/simple/\n",
            "Requirement already satisfied: pandas in /usr/local/lib/python3.8/dist-packages (1.3.5)\n",
            "Requirement already satisfied: numpy>=1.17.3 in /usr/local/lib/python3.8/dist-packages (from pandas) (1.21.6)\n",
            "Requirement already satisfied: pytz>=2017.3 in /usr/local/lib/python3.8/dist-packages (from pandas) (2022.6)\n",
            "Requirement already satisfied: python-dateutil>=2.7.3 in /usr/local/lib/python3.8/dist-packages (from pandas) (2.8.2)\n",
            "Requirement already satisfied: six>=1.5 in /usr/local/lib/python3.8/dist-packages (from python-dateutil>=2.7.3->pandas) (1.15.0)\n"
          ]
        }
      ],
      "source": [
        "pip install pandas"
      ]
    },
    {
      "cell_type": "code",
      "execution_count": 70,
      "metadata": {
        "colab": {
          "base_uri": "https://localhost:8080/"
        },
        "id": "Jk34xlxZ1Caj",
        "outputId": "8160a7b6-80ca-405c-9dfc-0389e5a274a3"
      },
      "outputs": [
        {
          "output_type": "stream",
          "name": "stdout",
          "text": [
            "Looking in indexes: https://pypi.org/simple, https://us-python.pkg.dev/colab-wheels/public/simple/\n",
            "Requirement already satisfied: matplotlib in /usr/local/lib/python3.8/dist-packages (3.2.2)\n",
            "Requirement already satisfied: kiwisolver>=1.0.1 in /usr/local/lib/python3.8/dist-packages (from matplotlib) (1.4.4)\n",
            "Requirement already satisfied: numpy>=1.11 in /usr/local/lib/python3.8/dist-packages (from matplotlib) (1.21.6)\n",
            "Requirement already satisfied: pyparsing!=2.0.4,!=2.1.2,!=2.1.6,>=2.0.1 in /usr/local/lib/python3.8/dist-packages (from matplotlib) (3.0.9)\n",
            "Requirement already satisfied: cycler>=0.10 in /usr/local/lib/python3.8/dist-packages (from matplotlib) (0.11.0)\n",
            "Requirement already satisfied: python-dateutil>=2.1 in /usr/local/lib/python3.8/dist-packages (from matplotlib) (2.8.2)\n",
            "Requirement already satisfied: six>=1.5 in /usr/local/lib/python3.8/dist-packages (from python-dateutil>=2.1->matplotlib) (1.15.0)\n"
          ]
        }
      ],
      "source": [
        "pip install matplotlib"
      ]
    },
    {
      "cell_type": "code",
      "execution_count": 71,
      "metadata": {
        "colab": {
          "base_uri": "https://localhost:8080/"
        },
        "id": "4s3bd9E61Cak",
        "outputId": "76819630-104d-4657-8013-0caa56fa5dda"
      },
      "outputs": [
        {
          "output_type": "stream",
          "name": "stdout",
          "text": [
            "Looking in indexes: https://pypi.org/simple, https://us-python.pkg.dev/colab-wheels/public/simple/\n",
            "Requirement already satisfied: seaborn in /usr/local/lib/python3.8/dist-packages (0.11.2)\n",
            "Requirement already satisfied: scipy>=1.0 in /usr/local/lib/python3.8/dist-packages (from seaborn) (1.7.3)\n",
            "Requirement already satisfied: numpy>=1.15 in /usr/local/lib/python3.8/dist-packages (from seaborn) (1.21.6)\n",
            "Requirement already satisfied: pandas>=0.23 in /usr/local/lib/python3.8/dist-packages (from seaborn) (1.3.5)\n",
            "Requirement already satisfied: matplotlib>=2.2 in /usr/local/lib/python3.8/dist-packages (from seaborn) (3.2.2)\n",
            "Requirement already satisfied: cycler>=0.10 in /usr/local/lib/python3.8/dist-packages (from matplotlib>=2.2->seaborn) (0.11.0)\n",
            "Requirement already satisfied: kiwisolver>=1.0.1 in /usr/local/lib/python3.8/dist-packages (from matplotlib>=2.2->seaborn) (1.4.4)\n",
            "Requirement already satisfied: python-dateutil>=2.1 in /usr/local/lib/python3.8/dist-packages (from matplotlib>=2.2->seaborn) (2.8.2)\n",
            "Requirement already satisfied: pyparsing!=2.0.4,!=2.1.2,!=2.1.6,>=2.0.1 in /usr/local/lib/python3.8/dist-packages (from matplotlib>=2.2->seaborn) (3.0.9)\n",
            "Requirement already satisfied: pytz>=2017.3 in /usr/local/lib/python3.8/dist-packages (from pandas>=0.23->seaborn) (2022.6)\n",
            "Requirement already satisfied: six>=1.5 in /usr/local/lib/python3.8/dist-packages (from python-dateutil>=2.1->matplotlib>=2.2->seaborn) (1.15.0)\n"
          ]
        }
      ],
      "source": [
        "pip install seaborn"
      ]
    },
    {
      "cell_type": "code",
      "execution_count": 72,
      "metadata": {
        "colab": {
          "base_uri": "https://localhost:8080/"
        },
        "id": "laIC6R5gVnEg",
        "outputId": "2966ed4a-9fbf-42fd-8bc9-aed74c70340c"
      },
      "outputs": [
        {
          "output_type": "stream",
          "name": "stdout",
          "text": [
            "Looking in indexes: https://pypi.org/simple, https://us-python.pkg.dev/colab-wheels/public/simple/\n",
            "Requirement already satisfied: pywaffle in /usr/local/lib/python3.8/dist-packages (1.1.0)\n",
            "Requirement already satisfied: fontawesomefree in /usr/local/lib/python3.8/dist-packages (from pywaffle) (6.2.1)\n",
            "Requirement already satisfied: matplotlib in /usr/local/lib/python3.8/dist-packages (from pywaffle) (3.2.2)\n",
            "Requirement already satisfied: numpy>=1.11 in /usr/local/lib/python3.8/dist-packages (from matplotlib->pywaffle) (1.21.6)\n",
            "Requirement already satisfied: pyparsing!=2.0.4,!=2.1.2,!=2.1.6,>=2.0.1 in /usr/local/lib/python3.8/dist-packages (from matplotlib->pywaffle) (3.0.9)\n",
            "Requirement already satisfied: cycler>=0.10 in /usr/local/lib/python3.8/dist-packages (from matplotlib->pywaffle) (0.11.0)\n",
            "Requirement already satisfied: python-dateutil>=2.1 in /usr/local/lib/python3.8/dist-packages (from matplotlib->pywaffle) (2.8.2)\n",
            "Requirement already satisfied: kiwisolver>=1.0.1 in /usr/local/lib/python3.8/dist-packages (from matplotlib->pywaffle) (1.4.4)\n",
            "Requirement already satisfied: six>=1.5 in /usr/local/lib/python3.8/dist-packages (from python-dateutil>=2.1->matplotlib->pywaffle) (1.15.0)\n"
          ]
        }
      ],
      "source": [
        "pip install pywaffle"
      ]
    },
    {
      "cell_type": "markdown",
      "metadata": {
        "id": "9CGcfot71Cal"
      },
      "source": [
        "## Importing libraries"
      ]
    },
    {
      "cell_type": "code",
      "execution_count": 73,
      "metadata": {
        "id": "yspiss6SpyCk"
      },
      "outputs": [],
      "source": [
        "import numpy as np\n",
        "import pandas as pd\n",
        "import matplotlib.pyplot as plt\n",
        "from pywaffle import Waffle\n",
        "import seaborn as sns"
      ]
    },
    {
      "cell_type": "markdown",
      "metadata": {
        "id": "_Lwk5BMX1Cal"
      },
      "source": [
        "## Loading the Data"
      ]
    },
    {
      "cell_type": "code",
      "execution_count": 74,
      "metadata": {
        "id": "MIEFlFNvy2a0"
      },
      "outputs": [],
      "source": [
        "data_asia_cup=pd.read_csv('asia_cup_data/asiacup.csv')\n",
        "champion_data = pd.read_csv('asia_cup_data/champion.csv')\n",
        "wkd = pd.read_csv('asia_cup_data/wicketkeeper data odi.csv')\n",
        "bat_data = pd.read_csv('asia_cup_data/batsman data odi.csv')\n",
        "ball_data = pd.read_csv('asia_cup_data/bowler data odi.csv')\n",
        "wkd1 = pd.read_csv('asia_cup_data/wicketkeeper data t20i.csv')\n",
        "bat_data1 = pd.read_csv('asia_cup_data/batsman data t20i.csv')\n",
        "ball_data1 = pd.read_csv('asia_cup_data/bowler data t20i.csv')"
      ]
    },
    {
      "cell_type": "markdown",
      "metadata": {
        "id": "x1WlsDkL1Cam"
      },
      "source": [
        "## Data Preprocessing"
      ]
    },
    {
      "cell_type": "code",
      "execution_count": 75,
      "metadata": {
        "id": "xxZOUpE8-T9k",
        "colab": {
          "base_uri": "https://localhost:8080/",
          "height": 354
        },
        "outputId": "e9d307c6-a2e0-43bb-dbd6-99fee1d18187"
      },
      "outputs": [
        {
          "output_type": "execute_result",
          "data": {
            "text/plain": [
              "        Team   Opponent Format   Ground  Year  Toss Selection  Run Scored  \\\n",
              "0   Pakistan  Sri Lanka    ODI  Sharjah  1984  Lose   Batting       187.0   \n",
              "1  Sri Lanka   Pakistan    ODI  Sharjah  1984   Win   Bowling       190.0   \n",
              "2      India  Sri Lanka    ODI  Sharjah  1984   Win   Bowling        97.0   \n",
              "3  Sri Lanka      India    ODI  Sharjah  1984  Lose   Batting        96.0   \n",
              "4      India   Pakistan    ODI  Sharjah  1984   Win   Batting       188.0   \n",
              "\n",
              "   Wicket Lost  Fours  Sixes  Extras  Run Rate  Avg Bat Strike Rate  \\\n",
              "0          9.0    9.0    3.0    21.0      4.06                52.04   \n",
              "1          5.0   11.0    1.0    26.0      4.36                68.51   \n",
              "2          0.0    9.0    0.0    14.0      4.47                60.48   \n",
              "3         10.0    7.0    0.0     8.0      2.34                25.74   \n",
              "4          4.0   13.0    3.0    17.0      4.08                60.21   \n",
              "\n",
              "   Highest Score  Wicket Taken  Given Extras  Highest Individual wicket  \\\n",
              "0           47.0           5.0          26.0                        2.0   \n",
              "1           57.0           9.0          21.0                        3.0   \n",
              "2           51.0          10.0           8.0                        3.0   \n",
              "3           38.0           0.0          14.0                        0.0   \n",
              "4           56.0          10.0           5.0                        3.0   \n",
              "\n",
              "  Player Of The Match Result  \n",
              "0            Roy Dias   Lose  \n",
              "1            Roy Dias    Win  \n",
              "2     Surinder Khanna    Win  \n",
              "3     Surinder Khanna   Lose  \n",
              "4     Surinder Khanna    Win  "
            ],
            "text/html": [
              "\n",
              "  <div id=\"df-b9670a39-e1aa-4584-b370-42a679d71c1d\">\n",
              "    <div class=\"colab-df-container\">\n",
              "      <div>\n",
              "<style scoped>\n",
              "    .dataframe tbody tr th:only-of-type {\n",
              "        vertical-align: middle;\n",
              "    }\n",
              "\n",
              "    .dataframe tbody tr th {\n",
              "        vertical-align: top;\n",
              "    }\n",
              "\n",
              "    .dataframe thead th {\n",
              "        text-align: right;\n",
              "    }\n",
              "</style>\n",
              "<table border=\"1\" class=\"dataframe\">\n",
              "  <thead>\n",
              "    <tr style=\"text-align: right;\">\n",
              "      <th></th>\n",
              "      <th>Team</th>\n",
              "      <th>Opponent</th>\n",
              "      <th>Format</th>\n",
              "      <th>Ground</th>\n",
              "      <th>Year</th>\n",
              "      <th>Toss</th>\n",
              "      <th>Selection</th>\n",
              "      <th>Run Scored</th>\n",
              "      <th>Wicket Lost</th>\n",
              "      <th>Fours</th>\n",
              "      <th>Sixes</th>\n",
              "      <th>Extras</th>\n",
              "      <th>Run Rate</th>\n",
              "      <th>Avg Bat Strike Rate</th>\n",
              "      <th>Highest Score</th>\n",
              "      <th>Wicket Taken</th>\n",
              "      <th>Given Extras</th>\n",
              "      <th>Highest Individual wicket</th>\n",
              "      <th>Player Of The Match</th>\n",
              "      <th>Result</th>\n",
              "    </tr>\n",
              "  </thead>\n",
              "  <tbody>\n",
              "    <tr>\n",
              "      <th>0</th>\n",
              "      <td>Pakistan</td>\n",
              "      <td>Sri Lanka</td>\n",
              "      <td>ODI</td>\n",
              "      <td>Sharjah</td>\n",
              "      <td>1984</td>\n",
              "      <td>Lose</td>\n",
              "      <td>Batting</td>\n",
              "      <td>187.0</td>\n",
              "      <td>9.0</td>\n",
              "      <td>9.0</td>\n",
              "      <td>3.0</td>\n",
              "      <td>21.0</td>\n",
              "      <td>4.06</td>\n",
              "      <td>52.04</td>\n",
              "      <td>47.0</td>\n",
              "      <td>5.0</td>\n",
              "      <td>26.0</td>\n",
              "      <td>2.0</td>\n",
              "      <td>Roy Dias</td>\n",
              "      <td>Lose</td>\n",
              "    </tr>\n",
              "    <tr>\n",
              "      <th>1</th>\n",
              "      <td>Sri Lanka</td>\n",
              "      <td>Pakistan</td>\n",
              "      <td>ODI</td>\n",
              "      <td>Sharjah</td>\n",
              "      <td>1984</td>\n",
              "      <td>Win</td>\n",
              "      <td>Bowling</td>\n",
              "      <td>190.0</td>\n",
              "      <td>5.0</td>\n",
              "      <td>11.0</td>\n",
              "      <td>1.0</td>\n",
              "      <td>26.0</td>\n",
              "      <td>4.36</td>\n",
              "      <td>68.51</td>\n",
              "      <td>57.0</td>\n",
              "      <td>9.0</td>\n",
              "      <td>21.0</td>\n",
              "      <td>3.0</td>\n",
              "      <td>Roy Dias</td>\n",
              "      <td>Win</td>\n",
              "    </tr>\n",
              "    <tr>\n",
              "      <th>2</th>\n",
              "      <td>India</td>\n",
              "      <td>Sri Lanka</td>\n",
              "      <td>ODI</td>\n",
              "      <td>Sharjah</td>\n",
              "      <td>1984</td>\n",
              "      <td>Win</td>\n",
              "      <td>Bowling</td>\n",
              "      <td>97.0</td>\n",
              "      <td>0.0</td>\n",
              "      <td>9.0</td>\n",
              "      <td>0.0</td>\n",
              "      <td>14.0</td>\n",
              "      <td>4.47</td>\n",
              "      <td>60.48</td>\n",
              "      <td>51.0</td>\n",
              "      <td>10.0</td>\n",
              "      <td>8.0</td>\n",
              "      <td>3.0</td>\n",
              "      <td>Surinder Khanna</td>\n",
              "      <td>Win</td>\n",
              "    </tr>\n",
              "    <tr>\n",
              "      <th>3</th>\n",
              "      <td>Sri Lanka</td>\n",
              "      <td>India</td>\n",
              "      <td>ODI</td>\n",
              "      <td>Sharjah</td>\n",
              "      <td>1984</td>\n",
              "      <td>Lose</td>\n",
              "      <td>Batting</td>\n",
              "      <td>96.0</td>\n",
              "      <td>10.0</td>\n",
              "      <td>7.0</td>\n",
              "      <td>0.0</td>\n",
              "      <td>8.0</td>\n",
              "      <td>2.34</td>\n",
              "      <td>25.74</td>\n",
              "      <td>38.0</td>\n",
              "      <td>0.0</td>\n",
              "      <td>14.0</td>\n",
              "      <td>0.0</td>\n",
              "      <td>Surinder Khanna</td>\n",
              "      <td>Lose</td>\n",
              "    </tr>\n",
              "    <tr>\n",
              "      <th>4</th>\n",
              "      <td>India</td>\n",
              "      <td>Pakistan</td>\n",
              "      <td>ODI</td>\n",
              "      <td>Sharjah</td>\n",
              "      <td>1984</td>\n",
              "      <td>Win</td>\n",
              "      <td>Batting</td>\n",
              "      <td>188.0</td>\n",
              "      <td>4.0</td>\n",
              "      <td>13.0</td>\n",
              "      <td>3.0</td>\n",
              "      <td>17.0</td>\n",
              "      <td>4.08</td>\n",
              "      <td>60.21</td>\n",
              "      <td>56.0</td>\n",
              "      <td>10.0</td>\n",
              "      <td>5.0</td>\n",
              "      <td>3.0</td>\n",
              "      <td>Surinder Khanna</td>\n",
              "      <td>Win</td>\n",
              "    </tr>\n",
              "  </tbody>\n",
              "</table>\n",
              "</div>\n",
              "      <button class=\"colab-df-convert\" onclick=\"convertToInteractive('df-b9670a39-e1aa-4584-b370-42a679d71c1d')\"\n",
              "              title=\"Convert this dataframe to an interactive table.\"\n",
              "              style=\"display:none;\">\n",
              "        \n",
              "  <svg xmlns=\"http://www.w3.org/2000/svg\" height=\"24px\"viewBox=\"0 0 24 24\"\n",
              "       width=\"24px\">\n",
              "    <path d=\"M0 0h24v24H0V0z\" fill=\"none\"/>\n",
              "    <path d=\"M18.56 5.44l.94 2.06.94-2.06 2.06-.94-2.06-.94-.94-2.06-.94 2.06-2.06.94zm-11 1L8.5 8.5l.94-2.06 2.06-.94-2.06-.94L8.5 2.5l-.94 2.06-2.06.94zm10 10l.94 2.06.94-2.06 2.06-.94-2.06-.94-.94-2.06-.94 2.06-2.06.94z\"/><path d=\"M17.41 7.96l-1.37-1.37c-.4-.4-.92-.59-1.43-.59-.52 0-1.04.2-1.43.59L10.3 9.45l-7.72 7.72c-.78.78-.78 2.05 0 2.83L4 21.41c.39.39.9.59 1.41.59.51 0 1.02-.2 1.41-.59l7.78-7.78 2.81-2.81c.8-.78.8-2.07 0-2.86zM5.41 20L4 18.59l7.72-7.72 1.47 1.35L5.41 20z\"/>\n",
              "  </svg>\n",
              "      </button>\n",
              "      \n",
              "  <style>\n",
              "    .colab-df-container {\n",
              "      display:flex;\n",
              "      flex-wrap:wrap;\n",
              "      gap: 12px;\n",
              "    }\n",
              "\n",
              "    .colab-df-convert {\n",
              "      background-color: #E8F0FE;\n",
              "      border: none;\n",
              "      border-radius: 50%;\n",
              "      cursor: pointer;\n",
              "      display: none;\n",
              "      fill: #1967D2;\n",
              "      height: 32px;\n",
              "      padding: 0 0 0 0;\n",
              "      width: 32px;\n",
              "    }\n",
              "\n",
              "    .colab-df-convert:hover {\n",
              "      background-color: #E2EBFA;\n",
              "      box-shadow: 0px 1px 2px rgba(60, 64, 67, 0.3), 0px 1px 3px 1px rgba(60, 64, 67, 0.15);\n",
              "      fill: #174EA6;\n",
              "    }\n",
              "\n",
              "    [theme=dark] .colab-df-convert {\n",
              "      background-color: #3B4455;\n",
              "      fill: #D2E3FC;\n",
              "    }\n",
              "\n",
              "    [theme=dark] .colab-df-convert:hover {\n",
              "      background-color: #434B5C;\n",
              "      box-shadow: 0px 1px 3px 1px rgba(0, 0, 0, 0.15);\n",
              "      filter: drop-shadow(0px 1px 2px rgba(0, 0, 0, 0.3));\n",
              "      fill: #FFFFFF;\n",
              "    }\n",
              "  </style>\n",
              "\n",
              "      <script>\n",
              "        const buttonEl =\n",
              "          document.querySelector('#df-b9670a39-e1aa-4584-b370-42a679d71c1d button.colab-df-convert');\n",
              "        buttonEl.style.display =\n",
              "          google.colab.kernel.accessAllowed ? 'block' : 'none';\n",
              "\n",
              "        async function convertToInteractive(key) {\n",
              "          const element = document.querySelector('#df-b9670a39-e1aa-4584-b370-42a679d71c1d');\n",
              "          const dataTable =\n",
              "            await google.colab.kernel.invokeFunction('convertToInteractive',\n",
              "                                                     [key], {});\n",
              "          if (!dataTable) return;\n",
              "\n",
              "          const docLinkHtml = 'Like what you see? Visit the ' +\n",
              "            '<a target=\"_blank\" href=https://colab.research.google.com/notebooks/data_table.ipynb>data table notebook</a>'\n",
              "            + ' to learn more about interactive tables.';\n",
              "          element.innerHTML = '';\n",
              "          dataTable['output_type'] = 'display_data';\n",
              "          await google.colab.output.renderOutput(dataTable, element);\n",
              "          const docLink = document.createElement('div');\n",
              "          docLink.innerHTML = docLinkHtml;\n",
              "          element.appendChild(docLink);\n",
              "        }\n",
              "      </script>\n",
              "    </div>\n",
              "  </div>\n",
              "  "
            ]
          },
          "metadata": {},
          "execution_count": 75
        }
      ],
      "source": [
        "#checking the data \n",
        "data_asia_cup.head()"
      ]
    },
    {
      "cell_type": "code",
      "execution_count": 76,
      "metadata": {
        "id": "Qq0i8CbbsOF0",
        "outputId": "96b80111-14b7-409a-bca7-f836feb8de04",
        "colab": {
          "base_uri": "https://localhost:8080/",
          "height": 206
        }
      },
      "outputs": [
        {
          "output_type": "execute_result",
          "data": {
            "text/plain": [
              "   Year        Host  No Of Team   Champion  Runner Up Player Of The Series  \\\n",
              "0  1984         UAE           3      India  Sri Lanka      Surinder Khanna   \n",
              "1  1986   Sri Lanka           3  Sri Lanka   Pakistan     Arjuna Ranatunga   \n",
              "2  1988  Bangladesh           4      India  Sri Lanka         Navjot Sidhu   \n",
              "3  1990       India           3      India  Sri Lanka          Not Awarded   \n",
              "4  1995         UAE           4      India  Sri Lanka         Navjot Sidhu   \n",
              "\n",
              "  Highest Run Scorer Highest Wicket Taker  \n",
              "0    Surinder Khanna         Ravi Shastri  \n",
              "1   Arjuna Ranatunga          Abdul Qadir  \n",
              "2         Ijaz Ahmed          Arshad Ayub  \n",
              "3   Arjuna Ranatunga            Kapil Dev  \n",
              "4   Sachin Tendulkar          Anil Kumble  "
            ],
            "text/html": [
              "\n",
              "  <div id=\"df-a7814821-79c6-4136-99ef-332d21fcd659\">\n",
              "    <div class=\"colab-df-container\">\n",
              "      <div>\n",
              "<style scoped>\n",
              "    .dataframe tbody tr th:only-of-type {\n",
              "        vertical-align: middle;\n",
              "    }\n",
              "\n",
              "    .dataframe tbody tr th {\n",
              "        vertical-align: top;\n",
              "    }\n",
              "\n",
              "    .dataframe thead th {\n",
              "        text-align: right;\n",
              "    }\n",
              "</style>\n",
              "<table border=\"1\" class=\"dataframe\">\n",
              "  <thead>\n",
              "    <tr style=\"text-align: right;\">\n",
              "      <th></th>\n",
              "      <th>Year</th>\n",
              "      <th>Host</th>\n",
              "      <th>No Of Team</th>\n",
              "      <th>Champion</th>\n",
              "      <th>Runner Up</th>\n",
              "      <th>Player Of The Series</th>\n",
              "      <th>Highest Run Scorer</th>\n",
              "      <th>Highest Wicket Taker</th>\n",
              "    </tr>\n",
              "  </thead>\n",
              "  <tbody>\n",
              "    <tr>\n",
              "      <th>0</th>\n",
              "      <td>1984</td>\n",
              "      <td>UAE</td>\n",
              "      <td>3</td>\n",
              "      <td>India</td>\n",
              "      <td>Sri Lanka</td>\n",
              "      <td>Surinder Khanna</td>\n",
              "      <td>Surinder Khanna</td>\n",
              "      <td>Ravi Shastri</td>\n",
              "    </tr>\n",
              "    <tr>\n",
              "      <th>1</th>\n",
              "      <td>1986</td>\n",
              "      <td>Sri Lanka</td>\n",
              "      <td>3</td>\n",
              "      <td>Sri Lanka</td>\n",
              "      <td>Pakistan</td>\n",
              "      <td>Arjuna Ranatunga</td>\n",
              "      <td>Arjuna Ranatunga</td>\n",
              "      <td>Abdul Qadir</td>\n",
              "    </tr>\n",
              "    <tr>\n",
              "      <th>2</th>\n",
              "      <td>1988</td>\n",
              "      <td>Bangladesh</td>\n",
              "      <td>4</td>\n",
              "      <td>India</td>\n",
              "      <td>Sri Lanka</td>\n",
              "      <td>Navjot Sidhu</td>\n",
              "      <td>Ijaz Ahmed</td>\n",
              "      <td>Arshad Ayub</td>\n",
              "    </tr>\n",
              "    <tr>\n",
              "      <th>3</th>\n",
              "      <td>1990</td>\n",
              "      <td>India</td>\n",
              "      <td>3</td>\n",
              "      <td>India</td>\n",
              "      <td>Sri Lanka</td>\n",
              "      <td>Not Awarded</td>\n",
              "      <td>Arjuna Ranatunga</td>\n",
              "      <td>Kapil Dev</td>\n",
              "    </tr>\n",
              "    <tr>\n",
              "      <th>4</th>\n",
              "      <td>1995</td>\n",
              "      <td>UAE</td>\n",
              "      <td>4</td>\n",
              "      <td>India</td>\n",
              "      <td>Sri Lanka</td>\n",
              "      <td>Navjot Sidhu</td>\n",
              "      <td>Sachin Tendulkar</td>\n",
              "      <td>Anil Kumble</td>\n",
              "    </tr>\n",
              "  </tbody>\n",
              "</table>\n",
              "</div>\n",
              "      <button class=\"colab-df-convert\" onclick=\"convertToInteractive('df-a7814821-79c6-4136-99ef-332d21fcd659')\"\n",
              "              title=\"Convert this dataframe to an interactive table.\"\n",
              "              style=\"display:none;\">\n",
              "        \n",
              "  <svg xmlns=\"http://www.w3.org/2000/svg\" height=\"24px\"viewBox=\"0 0 24 24\"\n",
              "       width=\"24px\">\n",
              "    <path d=\"M0 0h24v24H0V0z\" fill=\"none\"/>\n",
              "    <path d=\"M18.56 5.44l.94 2.06.94-2.06 2.06-.94-2.06-.94-.94-2.06-.94 2.06-2.06.94zm-11 1L8.5 8.5l.94-2.06 2.06-.94-2.06-.94L8.5 2.5l-.94 2.06-2.06.94zm10 10l.94 2.06.94-2.06 2.06-.94-2.06-.94-.94-2.06-.94 2.06-2.06.94z\"/><path d=\"M17.41 7.96l-1.37-1.37c-.4-.4-.92-.59-1.43-.59-.52 0-1.04.2-1.43.59L10.3 9.45l-7.72 7.72c-.78.78-.78 2.05 0 2.83L4 21.41c.39.39.9.59 1.41.59.51 0 1.02-.2 1.41-.59l7.78-7.78 2.81-2.81c.8-.78.8-2.07 0-2.86zM5.41 20L4 18.59l7.72-7.72 1.47 1.35L5.41 20z\"/>\n",
              "  </svg>\n",
              "      </button>\n",
              "      \n",
              "  <style>\n",
              "    .colab-df-container {\n",
              "      display:flex;\n",
              "      flex-wrap:wrap;\n",
              "      gap: 12px;\n",
              "    }\n",
              "\n",
              "    .colab-df-convert {\n",
              "      background-color: #E8F0FE;\n",
              "      border: none;\n",
              "      border-radius: 50%;\n",
              "      cursor: pointer;\n",
              "      display: none;\n",
              "      fill: #1967D2;\n",
              "      height: 32px;\n",
              "      padding: 0 0 0 0;\n",
              "      width: 32px;\n",
              "    }\n",
              "\n",
              "    .colab-df-convert:hover {\n",
              "      background-color: #E2EBFA;\n",
              "      box-shadow: 0px 1px 2px rgba(60, 64, 67, 0.3), 0px 1px 3px 1px rgba(60, 64, 67, 0.15);\n",
              "      fill: #174EA6;\n",
              "    }\n",
              "\n",
              "    [theme=dark] .colab-df-convert {\n",
              "      background-color: #3B4455;\n",
              "      fill: #D2E3FC;\n",
              "    }\n",
              "\n",
              "    [theme=dark] .colab-df-convert:hover {\n",
              "      background-color: #434B5C;\n",
              "      box-shadow: 0px 1px 3px 1px rgba(0, 0, 0, 0.15);\n",
              "      filter: drop-shadow(0px 1px 2px rgba(0, 0, 0, 0.3));\n",
              "      fill: #FFFFFF;\n",
              "    }\n",
              "  </style>\n",
              "\n",
              "      <script>\n",
              "        const buttonEl =\n",
              "          document.querySelector('#df-a7814821-79c6-4136-99ef-332d21fcd659 button.colab-df-convert');\n",
              "        buttonEl.style.display =\n",
              "          google.colab.kernel.accessAllowed ? 'block' : 'none';\n",
              "\n",
              "        async function convertToInteractive(key) {\n",
              "          const element = document.querySelector('#df-a7814821-79c6-4136-99ef-332d21fcd659');\n",
              "          const dataTable =\n",
              "            await google.colab.kernel.invokeFunction('convertToInteractive',\n",
              "                                                     [key], {});\n",
              "          if (!dataTable) return;\n",
              "\n",
              "          const docLinkHtml = 'Like what you see? Visit the ' +\n",
              "            '<a target=\"_blank\" href=https://colab.research.google.com/notebooks/data_table.ipynb>data table notebook</a>'\n",
              "            + ' to learn more about interactive tables.';\n",
              "          element.innerHTML = '';\n",
              "          dataTable['output_type'] = 'display_data';\n",
              "          await google.colab.output.renderOutput(dataTable, element);\n",
              "          const docLink = document.createElement('div');\n",
              "          docLink.innerHTML = docLinkHtml;\n",
              "          element.appendChild(docLink);\n",
              "        }\n",
              "      </script>\n",
              "    </div>\n",
              "  </div>\n",
              "  "
            ]
          },
          "metadata": {},
          "execution_count": 76
        }
      ],
      "source": [
        "champion_data.head()"
      ]
    },
    {
      "cell_type": "code",
      "execution_count": 77,
      "metadata": {
        "id": "jSHzfYswB9It",
        "outputId": "1e6d87f5-2722-4672-fd0c-1eec30e4659d",
        "colab": {
          "base_uri": "https://localhost:8080/"
        }
      },
      "outputs": [
        {
          "output_type": "stream",
          "name": "stdout",
          "text": [
            "There are 20 columns in the dataset\n"
          ]
        }
      ],
      "source": [
        "shaped = data_asia_cup.shape\n",
        "print(f'There are {shaped[1]} columns in the dataset')"
      ]
    },
    {
      "cell_type": "code",
      "execution_count": 78,
      "metadata": {
        "id": "oZL2ad_vBX3N",
        "outputId": "c8d075dc-0d01-4d2f-de5b-269f4e59afdc",
        "colab": {
          "base_uri": "https://localhost:8080/"
        }
      },
      "outputs": [
        {
          "output_type": "execute_result",
          "data": {
            "text/plain": [
              "Index(['Team', 'Opponent', 'Format', 'Ground', 'Year', 'Toss', 'Selection',\n",
              "       'Run Scored', 'Wicket Lost', 'Fours', 'Sixes', 'Extras', 'Run Rate',\n",
              "       'Avg Bat Strike Rate', 'Highest Score', 'Wicket Taken', 'Given Extras',\n",
              "       'Highest Individual wicket', 'Player Of The Match', 'Result'],\n",
              "      dtype='object')"
            ]
          },
          "metadata": {},
          "execution_count": 78
        }
      ],
      "source": [
        "data_asia_cup.columns"
      ]
    },
    {
      "cell_type": "code",
      "execution_count": 79,
      "metadata": {
        "id": "Z2g1YeJk-kJG",
        "outputId": "a633cb0a-9f7c-4eec-ad37-155c8e3ebebb",
        "colab": {
          "base_uri": "https://localhost:8080/"
        }
      },
      "outputs": [
        {
          "output_type": "execute_result",
          "data": {
            "text/plain": [
              "0"
            ]
          },
          "metadata": {},
          "execution_count": 79
        }
      ],
      "source": [
        "#checking for duplicated data\n",
        "data_asia_cup.duplicated().sum()"
      ]
    },
    {
      "cell_type": "markdown",
      "metadata": {
        "id": "AmUTfWA81Cam"
      },
      "source": [
        "There is no duplicated data in the data set"
      ]
    },
    {
      "cell_type": "code",
      "execution_count": 80,
      "metadata": {
        "id": "cyb3vCB7-x-_",
        "outputId": "c91ef310-42ef-4897-a2f0-9450ca00ff81",
        "colab": {
          "base_uri": "https://localhost:8080/"
        }
      },
      "outputs": [
        {
          "output_type": "execute_result",
          "data": {
            "text/plain": [
              "Team                         0\n",
              "Opponent                     0\n",
              "Format                       0\n",
              "Ground                       0\n",
              "Year                         0\n",
              "Toss                         0\n",
              "Selection                    0\n",
              "Run Scored                   2\n",
              "Wicket Lost                  2\n",
              "Fours                        2\n",
              "Sixes                        2\n",
              "Extras                       2\n",
              "Run Rate                     2\n",
              "Avg Bat Strike Rate          2\n",
              "Highest Score                2\n",
              "Wicket Taken                 2\n",
              "Given Extras                 2\n",
              "Highest Individual wicket    2\n",
              "Player Of The Match          2\n",
              "Result                       0\n",
              "dtype: int64"
            ]
          },
          "metadata": {},
          "execution_count": 80
        }
      ],
      "source": [
        "#checking for null values\n",
        "data_asia_cup.isna().sum()"
      ]
    },
    {
      "cell_type": "markdown",
      "metadata": {
        "id": "kMp03_wS1Can"
      },
      "source": [
        "There are very few null values so they can be ignored"
      ]
    },
    {
      "cell_type": "code",
      "execution_count": 81,
      "metadata": {
        "id": "BgVS82E21Can",
        "outputId": "7b7cfb93-d362-40ad-8267-ee8fdae5efd5",
        "colab": {
          "base_uri": "https://localhost:8080/"
        }
      },
      "outputs": [
        {
          "output_type": "execute_result",
          "data": {
            "text/plain": [
              "Index(['Player Name', 'Country', 'Time Period', 'Matches', 'Played',\n",
              "       'Not Outs', 'Runs', 'Highest Score', 'Batting Average', 'Balls Faced',\n",
              "       'Strike Rate', 'Centuries', 'Fifties', 'Ducks', 'Fours', 'Sixes'],\n",
              "      dtype='object')"
            ]
          },
          "metadata": {},
          "execution_count": 81
        }
      ],
      "source": [
        "bat_data.columns"
      ]
    },
    {
      "cell_type": "code",
      "execution_count": 82,
      "metadata": {
        "id": "DVm8I3B41Can"
      },
      "outputs": [],
      "source": [
        "bat_data.drop(['Balls Faced'],axis=1,inplace=True)"
      ]
    },
    {
      "cell_type": "code",
      "execution_count": 83,
      "metadata": {
        "id": "wInk8i_O1Can",
        "outputId": "79cccdfe-822f-4854-f726-a71022e9c1e3",
        "colab": {
          "base_uri": "https://localhost:8080/"
        }
      },
      "outputs": [
        {
          "output_type": "execute_result",
          "data": {
            "text/plain": [
              "Player Name        0\n",
              "Country            0\n",
              "Time Period        0\n",
              "Matches            0\n",
              "Played             0\n",
              "Not Outs           0\n",
              "Runs               0\n",
              "Highest Score      0\n",
              "Batting Average    0\n",
              "Strike Rate        0\n",
              "Centuries          0\n",
              "Fifties            0\n",
              "Ducks              0\n",
              "Fours              0\n",
              "Sixes              0\n",
              "dtype: int64"
            ]
          },
          "metadata": {},
          "execution_count": 83
        }
      ],
      "source": [
        "bat_data.isna().sum()"
      ]
    },
    {
      "cell_type": "markdown",
      "metadata": {
        "id": "3IAJ_Bma1Can"
      },
      "source": [
        "There are no null values in the data set"
      ]
    },
    {
      "cell_type": "code",
      "execution_count": 84,
      "metadata": {
        "id": "cMs3YVzs1Cao",
        "outputId": "774a7596-f387-4fa2-a9b6-496f4c43911d",
        "colab": {
          "base_uri": "https://localhost:8080/"
        }
      },
      "outputs": [
        {
          "output_type": "execute_result",
          "data": {
            "text/plain": [
              "0"
            ]
          },
          "metadata": {},
          "execution_count": 84
        }
      ],
      "source": [
        "bat_data.duplicated().sum()"
      ]
    },
    {
      "cell_type": "markdown",
      "metadata": {
        "id": "dTgePNgc1Cao"
      },
      "source": [
        "There is no duplicated data in the data set"
      ]
    },
    {
      "cell_type": "code",
      "execution_count": 85,
      "metadata": {
        "id": "B7mjgWpq1Cao",
        "outputId": "63238dc1-7403-4403-f13b-67d60c9de843",
        "colab": {
          "base_uri": "https://localhost:8080/"
        }
      },
      "outputs": [
        {
          "output_type": "execute_result",
          "data": {
            "text/plain": [
              "Index(['Player Name', 'Country', 'Time Period', 'Matches', 'Played', 'Overs',\n",
              "       'Maiden Overs', 'Runs', 'Wickets', 'Best Figure', 'Bowling Average',\n",
              "       'Economy Rate', 'Strike Rate', 'Four Wickets', 'Five Wickets'],\n",
              "      dtype='object')"
            ]
          },
          "metadata": {},
          "execution_count": 85
        }
      ],
      "source": [
        "ball_data.columns"
      ]
    },
    {
      "cell_type": "code",
      "execution_count": 86,
      "metadata": {
        "id": "QQ96VEVt1Cao"
      },
      "outputs": [],
      "source": [
        "ball_data.drop(['Overs','Four Wickets'],axis=1,inplace=True)"
      ]
    },
    {
      "cell_type": "code",
      "execution_count": 87,
      "metadata": {
        "id": "xLVMGeOr1Cao",
        "outputId": "d2f14a50-c92e-42cb-e7c6-0b5aa2019bcd",
        "colab": {
          "base_uri": "https://localhost:8080/"
        }
      },
      "outputs": [
        {
          "output_type": "execute_result",
          "data": {
            "text/plain": [
              "Player Name        0\n",
              "Country            0\n",
              "Time Period        0\n",
              "Matches            0\n",
              "Played             0\n",
              "Maiden Overs       0\n",
              "Runs               0\n",
              "Wickets            0\n",
              "Best Figure        0\n",
              "Bowling Average    0\n",
              "Economy Rate       0\n",
              "Strike Rate        0\n",
              "Five Wickets       0\n",
              "dtype: int64"
            ]
          },
          "metadata": {},
          "execution_count": 87
        }
      ],
      "source": [
        "ball_data.isna().sum()"
      ]
    },
    {
      "cell_type": "markdown",
      "metadata": {
        "id": "N00Ab8La1Cao"
      },
      "source": [
        "There are no null values in the data set"
      ]
    },
    {
      "cell_type": "code",
      "execution_count": 88,
      "metadata": {
        "id": "qbwwbtU01Cao",
        "outputId": "7a0cb12f-54ba-41d4-8409-87346c890cb2",
        "colab": {
          "base_uri": "https://localhost:8080/"
        }
      },
      "outputs": [
        {
          "output_type": "execute_result",
          "data": {
            "text/plain": [
              "0"
            ]
          },
          "metadata": {},
          "execution_count": 88
        }
      ],
      "source": [
        "ball_data.duplicated().sum()"
      ]
    },
    {
      "cell_type": "markdown",
      "metadata": {
        "id": "SJercKqp1Cao"
      },
      "source": [
        "There is no duplicated data in the data set"
      ]
    },
    {
      "cell_type": "code",
      "execution_count": 89,
      "metadata": {
        "id": "J7rIzOWR1Cao",
        "outputId": "a4400d96-bf54-4889-d9f2-ea0e8bd23ea6",
        "colab": {
          "base_uri": "https://localhost:8080/"
        }
      },
      "outputs": [
        {
          "output_type": "execute_result",
          "data": {
            "text/plain": [
              "Index(['Player Name', 'Country', 'Time Period', 'Matches', 'Played',\n",
              "       'Dismissals', 'Catches', 'Stumpings', 'Maximum Dismissals'],\n",
              "      dtype='object')"
            ]
          },
          "metadata": {},
          "execution_count": 89
        }
      ],
      "source": [
        "wkd.columns"
      ]
    },
    {
      "cell_type": "code",
      "execution_count": 90,
      "metadata": {
        "id": "l7d2YY5m1Cap",
        "outputId": "499c5a2d-07a9-4d92-f207-3b5640ea5c1d",
        "colab": {
          "base_uri": "https://localhost:8080/"
        }
      },
      "outputs": [
        {
          "output_type": "execute_result",
          "data": {
            "text/plain": [
              "Player Name           0\n",
              "Country               0\n",
              "Time Period           0\n",
              "Matches               0\n",
              "Played                0\n",
              "Dismissals            0\n",
              "Catches               0\n",
              "Stumpings             0\n",
              "Maximum Dismissals    0\n",
              "dtype: int64"
            ]
          },
          "metadata": {},
          "execution_count": 90
        }
      ],
      "source": [
        "wkd.isna().sum()"
      ]
    },
    {
      "cell_type": "markdown",
      "metadata": {
        "id": "cezEE_PL1Cap"
      },
      "source": [
        "There are no null values in the data set"
      ]
    },
    {
      "cell_type": "code",
      "execution_count": 91,
      "metadata": {
        "id": "Jy6gSvR91Cap",
        "outputId": "911ea0ea-ab6d-4e81-c27c-5a4992b6496f",
        "colab": {
          "base_uri": "https://localhost:8080/"
        }
      },
      "outputs": [
        {
          "output_type": "execute_result",
          "data": {
            "text/plain": [
              "0"
            ]
          },
          "metadata": {},
          "execution_count": 91
        }
      ],
      "source": [
        "wkd.duplicated().sum()"
      ]
    },
    {
      "cell_type": "markdown",
      "metadata": {
        "id": "TLZaz9rT1Cap"
      },
      "source": [
        "There is no duplicated data in the data set"
      ]
    },
    {
      "cell_type": "code",
      "execution_count": 92,
      "metadata": {
        "id": "QcIwXTNE1Cap",
        "outputId": "379a8abc-9592-47df-a6d2-3b8f8491fbb6",
        "colab": {
          "base_uri": "https://localhost:8080/"
        }
      },
      "outputs": [
        {
          "output_type": "execute_result",
          "data": {
            "text/plain": [
              "Index(['Year', 'Host', 'No Of Team', 'Champion', 'Runner Up',\n",
              "       'Player Of The Series', 'Highest Run Scorer', 'Highest Wicket Taker'],\n",
              "      dtype='object')"
            ]
          },
          "metadata": {},
          "execution_count": 92
        }
      ],
      "source": [
        "champion_data.columns"
      ]
    },
    {
      "cell_type": "code",
      "execution_count": 93,
      "metadata": {
        "id": "okEs-wQ71Cap"
      },
      "outputs": [],
      "source": [
        "champion_data.drop(['No Of Team'],axis=1,inplace=True)"
      ]
    },
    {
      "cell_type": "code",
      "execution_count": 94,
      "metadata": {
        "id": "xsdmjb_r1Cap",
        "outputId": "7b785b47-ff8c-4aae-a490-cc2ef3092448",
        "colab": {
          "base_uri": "https://localhost:8080/"
        }
      },
      "outputs": [
        {
          "output_type": "execute_result",
          "data": {
            "text/plain": [
              "Year                    0\n",
              "Host                    0\n",
              "Champion                0\n",
              "Runner Up               0\n",
              "Player Of The Series    0\n",
              "Highest Run Scorer      0\n",
              "Highest Wicket Taker    0\n",
              "dtype: int64"
            ]
          },
          "metadata": {},
          "execution_count": 94
        }
      ],
      "source": [
        "champion_data.isna().sum()"
      ]
    },
    {
      "cell_type": "markdown",
      "metadata": {
        "id": "3B95Ggx41Cap"
      },
      "source": [
        "There are no null values in the data set"
      ]
    },
    {
      "cell_type": "code",
      "execution_count": 95,
      "metadata": {
        "id": "J_jiGdYB1Cap",
        "outputId": "5c285185-1ea9-4dee-c493-3eb11097d412",
        "colab": {
          "base_uri": "https://localhost:8080/"
        }
      },
      "outputs": [
        {
          "output_type": "execute_result",
          "data": {
            "text/plain": [
              "0"
            ]
          },
          "metadata": {},
          "execution_count": 95
        }
      ],
      "source": [
        "champion_data.duplicated().sum()"
      ]
    },
    {
      "cell_type": "markdown",
      "metadata": {
        "id": "1c3k15Qi1Caq"
      },
      "source": [
        "There is no duplicated data in the data set"
      ]
    },
    {
      "cell_type": "markdown",
      "metadata": {
        "id": "21ijNAXq1Caq"
      },
      "source": [
        "## Interpretations"
      ]
    },
    {
      "cell_type": "code",
      "execution_count": 96,
      "metadata": {
        "id": "rNHYZKOgy2kY",
        "outputId": "891ef3ca-301f-4853-f8f9-0283042723d5",
        "colab": {
          "base_uri": "https://localhost:8080/"
        }
      },
      "outputs": [
        {
          "output_type": "stream",
          "name": "stdout",
          "text": [
            "Batting    127\n",
            "Bowling    127\n",
            "Name: Selection, dtype: int64\n"
          ]
        }
      ],
      "source": [
        "#decision of the Toss winner\n",
        "toss_selection = data_asia_cup['Selection'].value_counts()\n",
        "print(toss_selection)"
      ]
    },
    {
      "cell_type": "code",
      "execution_count": 97,
      "metadata": {
        "id": "HYr4P1p5y2sD",
        "outputId": "8401b732-0693-429a-e568-ce2fd0081357",
        "colab": {
          "base_uri": "https://localhost:8080/"
        }
      },
      "outputs": [
        {
          "output_type": "stream",
          "name": "stdout",
          "text": [
            "The average runs scored : 201.9206349206349\n",
            "The average high score : 69.30952380952381\n",
            "The average wickets lost: 6.892857142857143\n",
            "The average Extras Given: 13.238095238095237\n"
          ]
        }
      ],
      "source": [
        "#average runs scored, Wicket lost and Extras in Asia cup\n",
        "print(f\"The average runs scored : {data_asia_cup['Run Scored'].mean()}\")\n",
        "print(f\"The average high score : {data_asia_cup['Highest Score'].mean()}\")\n",
        "print(f\"The average wickets lost: {data_asia_cup['Wicket Lost'].mean()}\")\n",
        "print(f\"The average Extras Given: {data_asia_cup['Extras'].mean()}\")"
      ]
    },
    {
      "cell_type": "code",
      "execution_count": 98,
      "metadata": {
        "id": "RaUnV0HV1Caq",
        "outputId": "e430b6a4-edb7-4528-804b-8eb69b0856c1",
        "colab": {
          "base_uri": "https://localhost:8080/"
        }
      },
      "outputs": [
        {
          "output_type": "stream",
          "name": "stdout",
          "text": [
            "Virat Kohli          12\n",
            "Sanath Jayasuriya    10\n",
            "Shoaib Malik         10\n",
            "Shahid Afridi         8\n",
            "Kumar Sangakkara      8\n",
            "Name: Player Of The Match, dtype: int64\n"
          ]
        }
      ],
      "source": [
        "#Man of the matches\n",
        "man_of_matches =  data_asia_cup['Player Of The Match'].value_counts()[0:5]\n",
        "print(man_of_matches)"
      ]
    },
    {
      "cell_type": "code",
      "execution_count": 99,
      "metadata": {
        "id": "piIZOPud1Caq",
        "outputId": "f1213056-c05a-4cca-c3b9-99b0e6168e79",
        "colab": {
          "base_uri": "https://localhost:8080/",
          "height": 81
        }
      },
      "outputs": [
        {
          "output_type": "execute_result",
          "data": {
            "text/plain": [
              "   Player Name  Highest Score Country\n",
              "11    V Kohli             183   India"
            ],
            "text/html": [
              "\n",
              "  <div id=\"df-a1aa0c02-4cb2-406f-9f45-cd1493a6943e\">\n",
              "    <div class=\"colab-df-container\">\n",
              "      <div>\n",
              "<style scoped>\n",
              "    .dataframe tbody tr th:only-of-type {\n",
              "        vertical-align: middle;\n",
              "    }\n",
              "\n",
              "    .dataframe tbody tr th {\n",
              "        vertical-align: top;\n",
              "    }\n",
              "\n",
              "    .dataframe thead th {\n",
              "        text-align: right;\n",
              "    }\n",
              "</style>\n",
              "<table border=\"1\" class=\"dataframe\">\n",
              "  <thead>\n",
              "    <tr style=\"text-align: right;\">\n",
              "      <th></th>\n",
              "      <th>Player Name</th>\n",
              "      <th>Highest Score</th>\n",
              "      <th>Country</th>\n",
              "    </tr>\n",
              "  </thead>\n",
              "  <tbody>\n",
              "    <tr>\n",
              "      <th>11</th>\n",
              "      <td>V Kohli</td>\n",
              "      <td>183</td>\n",
              "      <td>India</td>\n",
              "    </tr>\n",
              "  </tbody>\n",
              "</table>\n",
              "</div>\n",
              "      <button class=\"colab-df-convert\" onclick=\"convertToInteractive('df-a1aa0c02-4cb2-406f-9f45-cd1493a6943e')\"\n",
              "              title=\"Convert this dataframe to an interactive table.\"\n",
              "              style=\"display:none;\">\n",
              "        \n",
              "  <svg xmlns=\"http://www.w3.org/2000/svg\" height=\"24px\"viewBox=\"0 0 24 24\"\n",
              "       width=\"24px\">\n",
              "    <path d=\"M0 0h24v24H0V0z\" fill=\"none\"/>\n",
              "    <path d=\"M18.56 5.44l.94 2.06.94-2.06 2.06-.94-2.06-.94-.94-2.06-.94 2.06-2.06.94zm-11 1L8.5 8.5l.94-2.06 2.06-.94-2.06-.94L8.5 2.5l-.94 2.06-2.06.94zm10 10l.94 2.06.94-2.06 2.06-.94-2.06-.94-.94-2.06-.94 2.06-2.06.94z\"/><path d=\"M17.41 7.96l-1.37-1.37c-.4-.4-.92-.59-1.43-.59-.52 0-1.04.2-1.43.59L10.3 9.45l-7.72 7.72c-.78.78-.78 2.05 0 2.83L4 21.41c.39.39.9.59 1.41.59.51 0 1.02-.2 1.41-.59l7.78-7.78 2.81-2.81c.8-.78.8-2.07 0-2.86zM5.41 20L4 18.59l7.72-7.72 1.47 1.35L5.41 20z\"/>\n",
              "  </svg>\n",
              "      </button>\n",
              "      \n",
              "  <style>\n",
              "    .colab-df-container {\n",
              "      display:flex;\n",
              "      flex-wrap:wrap;\n",
              "      gap: 12px;\n",
              "    }\n",
              "\n",
              "    .colab-df-convert {\n",
              "      background-color: #E8F0FE;\n",
              "      border: none;\n",
              "      border-radius: 50%;\n",
              "      cursor: pointer;\n",
              "      display: none;\n",
              "      fill: #1967D2;\n",
              "      height: 32px;\n",
              "      padding: 0 0 0 0;\n",
              "      width: 32px;\n",
              "    }\n",
              "\n",
              "    .colab-df-convert:hover {\n",
              "      background-color: #E2EBFA;\n",
              "      box-shadow: 0px 1px 2px rgba(60, 64, 67, 0.3), 0px 1px 3px 1px rgba(60, 64, 67, 0.15);\n",
              "      fill: #174EA6;\n",
              "    }\n",
              "\n",
              "    [theme=dark] .colab-df-convert {\n",
              "      background-color: #3B4455;\n",
              "      fill: #D2E3FC;\n",
              "    }\n",
              "\n",
              "    [theme=dark] .colab-df-convert:hover {\n",
              "      background-color: #434B5C;\n",
              "      box-shadow: 0px 1px 3px 1px rgba(0, 0, 0, 0.15);\n",
              "      filter: drop-shadow(0px 1px 2px rgba(0, 0, 0, 0.3));\n",
              "      fill: #FFFFFF;\n",
              "    }\n",
              "  </style>\n",
              "\n",
              "      <script>\n",
              "        const buttonEl =\n",
              "          document.querySelector('#df-a1aa0c02-4cb2-406f-9f45-cd1493a6943e button.colab-df-convert');\n",
              "        buttonEl.style.display =\n",
              "          google.colab.kernel.accessAllowed ? 'block' : 'none';\n",
              "\n",
              "        async function convertToInteractive(key) {\n",
              "          const element = document.querySelector('#df-a1aa0c02-4cb2-406f-9f45-cd1493a6943e');\n",
              "          const dataTable =\n",
              "            await google.colab.kernel.invokeFunction('convertToInteractive',\n",
              "                                                     [key], {});\n",
              "          if (!dataTable) return;\n",
              "\n",
              "          const docLinkHtml = 'Like what you see? Visit the ' +\n",
              "            '<a target=\"_blank\" href=https://colab.research.google.com/notebooks/data_table.ipynb>data table notebook</a>'\n",
              "            + ' to learn more about interactive tables.';\n",
              "          element.innerHTML = '';\n",
              "          dataTable['output_type'] = 'display_data';\n",
              "          await google.colab.output.renderOutput(dataTable, element);\n",
              "          const docLink = document.createElement('div');\n",
              "          docLink.innerHTML = docLinkHtml;\n",
              "          element.appendChild(docLink);\n",
              "        }\n",
              "      </script>\n",
              "    </div>\n",
              "  </div>\n",
              "  "
            ]
          },
          "metadata": {},
          "execution_count": 99
        }
      ],
      "source": [
        "#highest Score by batsmen in Asia Cup\n",
        "bat_data[bat_data['Highest Score']==bat_data['Highest Score'].max()][['Player Name','Highest Score','Country']]"
      ]
    },
    {
      "cell_type": "code",
      "execution_count": 100,
      "metadata": {
        "id": "uVYmxlri1Caq",
        "outputId": "57a0431d-5018-44a7-a24e-c1f7a5ab3333",
        "colab": {
          "base_uri": "https://localhost:8080/",
          "height": 81
        }
      },
      "outputs": [
        {
          "output_type": "execute_result",
          "data": {
            "text/plain": [
              "       Player Name  Strike Rate   Country\n",
              "17  Shahid Afridi        140.74  Pakistan"
            ],
            "text/html": [
              "\n",
              "  <div id=\"df-3e2495c2-ad2f-4cf6-97fd-be6ae3fb0574\">\n",
              "    <div class=\"colab-df-container\">\n",
              "      <div>\n",
              "<style scoped>\n",
              "    .dataframe tbody tr th:only-of-type {\n",
              "        vertical-align: middle;\n",
              "    }\n",
              "\n",
              "    .dataframe tbody tr th {\n",
              "        vertical-align: top;\n",
              "    }\n",
              "\n",
              "    .dataframe thead th {\n",
              "        text-align: right;\n",
              "    }\n",
              "</style>\n",
              "<table border=\"1\" class=\"dataframe\">\n",
              "  <thead>\n",
              "    <tr style=\"text-align: right;\">\n",
              "      <th></th>\n",
              "      <th>Player Name</th>\n",
              "      <th>Strike Rate</th>\n",
              "      <th>Country</th>\n",
              "    </tr>\n",
              "  </thead>\n",
              "  <tbody>\n",
              "    <tr>\n",
              "      <th>17</th>\n",
              "      <td>Shahid Afridi</td>\n",
              "      <td>140.74</td>\n",
              "      <td>Pakistan</td>\n",
              "    </tr>\n",
              "  </tbody>\n",
              "</table>\n",
              "</div>\n",
              "      <button class=\"colab-df-convert\" onclick=\"convertToInteractive('df-3e2495c2-ad2f-4cf6-97fd-be6ae3fb0574')\"\n",
              "              title=\"Convert this dataframe to an interactive table.\"\n",
              "              style=\"display:none;\">\n",
              "        \n",
              "  <svg xmlns=\"http://www.w3.org/2000/svg\" height=\"24px\"viewBox=\"0 0 24 24\"\n",
              "       width=\"24px\">\n",
              "    <path d=\"M0 0h24v24H0V0z\" fill=\"none\"/>\n",
              "    <path d=\"M18.56 5.44l.94 2.06.94-2.06 2.06-.94-2.06-.94-.94-2.06-.94 2.06-2.06.94zm-11 1L8.5 8.5l.94-2.06 2.06-.94-2.06-.94L8.5 2.5l-.94 2.06-2.06.94zm10 10l.94 2.06.94-2.06 2.06-.94-2.06-.94-.94-2.06-.94 2.06-2.06.94z\"/><path d=\"M17.41 7.96l-1.37-1.37c-.4-.4-.92-.59-1.43-.59-.52 0-1.04.2-1.43.59L10.3 9.45l-7.72 7.72c-.78.78-.78 2.05 0 2.83L4 21.41c.39.39.9.59 1.41.59.51 0 1.02-.2 1.41-.59l7.78-7.78 2.81-2.81c.8-.78.8-2.07 0-2.86zM5.41 20L4 18.59l7.72-7.72 1.47 1.35L5.41 20z\"/>\n",
              "  </svg>\n",
              "      </button>\n",
              "      \n",
              "  <style>\n",
              "    .colab-df-container {\n",
              "      display:flex;\n",
              "      flex-wrap:wrap;\n",
              "      gap: 12px;\n",
              "    }\n",
              "\n",
              "    .colab-df-convert {\n",
              "      background-color: #E8F0FE;\n",
              "      border: none;\n",
              "      border-radius: 50%;\n",
              "      cursor: pointer;\n",
              "      display: none;\n",
              "      fill: #1967D2;\n",
              "      height: 32px;\n",
              "      padding: 0 0 0 0;\n",
              "      width: 32px;\n",
              "    }\n",
              "\n",
              "    .colab-df-convert:hover {\n",
              "      background-color: #E2EBFA;\n",
              "      box-shadow: 0px 1px 2px rgba(60, 64, 67, 0.3), 0px 1px 3px 1px rgba(60, 64, 67, 0.15);\n",
              "      fill: #174EA6;\n",
              "    }\n",
              "\n",
              "    [theme=dark] .colab-df-convert {\n",
              "      background-color: #3B4455;\n",
              "      fill: #D2E3FC;\n",
              "    }\n",
              "\n",
              "    [theme=dark] .colab-df-convert:hover {\n",
              "      background-color: #434B5C;\n",
              "      box-shadow: 0px 1px 3px 1px rgba(0, 0, 0, 0.15);\n",
              "      filter: drop-shadow(0px 1px 2px rgba(0, 0, 0, 0.3));\n",
              "      fill: #FFFFFF;\n",
              "    }\n",
              "  </style>\n",
              "\n",
              "      <script>\n",
              "        const buttonEl =\n",
              "          document.querySelector('#df-3e2495c2-ad2f-4cf6-97fd-be6ae3fb0574 button.colab-df-convert');\n",
              "        buttonEl.style.display =\n",
              "          google.colab.kernel.accessAllowed ? 'block' : 'none';\n",
              "\n",
              "        async function convertToInteractive(key) {\n",
              "          const element = document.querySelector('#df-3e2495c2-ad2f-4cf6-97fd-be6ae3fb0574');\n",
              "          const dataTable =\n",
              "            await google.colab.kernel.invokeFunction('convertToInteractive',\n",
              "                                                     [key], {});\n",
              "          if (!dataTable) return;\n",
              "\n",
              "          const docLinkHtml = 'Like what you see? Visit the ' +\n",
              "            '<a target=\"_blank\" href=https://colab.research.google.com/notebooks/data_table.ipynb>data table notebook</a>'\n",
              "            + ' to learn more about interactive tables.';\n",
              "          element.innerHTML = '';\n",
              "          dataTable['output_type'] = 'display_data';\n",
              "          await google.colab.output.renderOutput(dataTable, element);\n",
              "          const docLink = document.createElement('div');\n",
              "          docLink.innerHTML = docLinkHtml;\n",
              "          element.appendChild(docLink);\n",
              "        }\n",
              "      </script>\n",
              "    </div>\n",
              "  </div>\n",
              "  "
            ]
          },
          "metadata": {},
          "execution_count": 100
        }
      ],
      "source": [
        "#batsman with best strike rate in asia cup\n",
        "bat_data[bat_data['Strike Rate']==bat_data['Strike Rate'].max()][['Player Name','Strike Rate','Country']]"
      ]
    },
    {
      "cell_type": "code",
      "execution_count": 101,
      "metadata": {
        "id": "ueIIvNiQ1Caq",
        "outputId": "6d8d1d40-3b68-4933-bd4b-67e8d6d99cac",
        "colab": {
          "base_uri": "https://localhost:8080/",
          "height": 81
        }
      },
      "outputs": [
        {
          "output_type": "execute_result",
          "data": {
            "text/plain": [
              "   Player Name  Maiden Overs    Country\n",
              "4  WPUJC Vaas             20  Sri Lanka"
            ],
            "text/html": [
              "\n",
              "  <div id=\"df-f92cbf62-0529-41a5-bd71-a03c1807da24\">\n",
              "    <div class=\"colab-df-container\">\n",
              "      <div>\n",
              "<style scoped>\n",
              "    .dataframe tbody tr th:only-of-type {\n",
              "        vertical-align: middle;\n",
              "    }\n",
              "\n",
              "    .dataframe tbody tr th {\n",
              "        vertical-align: top;\n",
              "    }\n",
              "\n",
              "    .dataframe thead th {\n",
              "        text-align: right;\n",
              "    }\n",
              "</style>\n",
              "<table border=\"1\" class=\"dataframe\">\n",
              "  <thead>\n",
              "    <tr style=\"text-align: right;\">\n",
              "      <th></th>\n",
              "      <th>Player Name</th>\n",
              "      <th>Maiden Overs</th>\n",
              "      <th>Country</th>\n",
              "    </tr>\n",
              "  </thead>\n",
              "  <tbody>\n",
              "    <tr>\n",
              "      <th>4</th>\n",
              "      <td>WPUJC Vaas</td>\n",
              "      <td>20</td>\n",
              "      <td>Sri Lanka</td>\n",
              "    </tr>\n",
              "  </tbody>\n",
              "</table>\n",
              "</div>\n",
              "      <button class=\"colab-df-convert\" onclick=\"convertToInteractive('df-f92cbf62-0529-41a5-bd71-a03c1807da24')\"\n",
              "              title=\"Convert this dataframe to an interactive table.\"\n",
              "              style=\"display:none;\">\n",
              "        \n",
              "  <svg xmlns=\"http://www.w3.org/2000/svg\" height=\"24px\"viewBox=\"0 0 24 24\"\n",
              "       width=\"24px\">\n",
              "    <path d=\"M0 0h24v24H0V0z\" fill=\"none\"/>\n",
              "    <path d=\"M18.56 5.44l.94 2.06.94-2.06 2.06-.94-2.06-.94-.94-2.06-.94 2.06-2.06.94zm-11 1L8.5 8.5l.94-2.06 2.06-.94-2.06-.94L8.5 2.5l-.94 2.06-2.06.94zm10 10l.94 2.06.94-2.06 2.06-.94-2.06-.94-.94-2.06-.94 2.06-2.06.94z\"/><path d=\"M17.41 7.96l-1.37-1.37c-.4-.4-.92-.59-1.43-.59-.52 0-1.04.2-1.43.59L10.3 9.45l-7.72 7.72c-.78.78-.78 2.05 0 2.83L4 21.41c.39.39.9.59 1.41.59.51 0 1.02-.2 1.41-.59l7.78-7.78 2.81-2.81c.8-.78.8-2.07 0-2.86zM5.41 20L4 18.59l7.72-7.72 1.47 1.35L5.41 20z\"/>\n",
              "  </svg>\n",
              "      </button>\n",
              "      \n",
              "  <style>\n",
              "    .colab-df-container {\n",
              "      display:flex;\n",
              "      flex-wrap:wrap;\n",
              "      gap: 12px;\n",
              "    }\n",
              "\n",
              "    .colab-df-convert {\n",
              "      background-color: #E8F0FE;\n",
              "      border: none;\n",
              "      border-radius: 50%;\n",
              "      cursor: pointer;\n",
              "      display: none;\n",
              "      fill: #1967D2;\n",
              "      height: 32px;\n",
              "      padding: 0 0 0 0;\n",
              "      width: 32px;\n",
              "    }\n",
              "\n",
              "    .colab-df-convert:hover {\n",
              "      background-color: #E2EBFA;\n",
              "      box-shadow: 0px 1px 2px rgba(60, 64, 67, 0.3), 0px 1px 3px 1px rgba(60, 64, 67, 0.15);\n",
              "      fill: #174EA6;\n",
              "    }\n",
              "\n",
              "    [theme=dark] .colab-df-convert {\n",
              "      background-color: #3B4455;\n",
              "      fill: #D2E3FC;\n",
              "    }\n",
              "\n",
              "    [theme=dark] .colab-df-convert:hover {\n",
              "      background-color: #434B5C;\n",
              "      box-shadow: 0px 1px 3px 1px rgba(0, 0, 0, 0.15);\n",
              "      filter: drop-shadow(0px 1px 2px rgba(0, 0, 0, 0.3));\n",
              "      fill: #FFFFFF;\n",
              "    }\n",
              "  </style>\n",
              "\n",
              "      <script>\n",
              "        const buttonEl =\n",
              "          document.querySelector('#df-f92cbf62-0529-41a5-bd71-a03c1807da24 button.colab-df-convert');\n",
              "        buttonEl.style.display =\n",
              "          google.colab.kernel.accessAllowed ? 'block' : 'none';\n",
              "\n",
              "        async function convertToInteractive(key) {\n",
              "          const element = document.querySelector('#df-f92cbf62-0529-41a5-bd71-a03c1807da24');\n",
              "          const dataTable =\n",
              "            await google.colab.kernel.invokeFunction('convertToInteractive',\n",
              "                                                     [key], {});\n",
              "          if (!dataTable) return;\n",
              "\n",
              "          const docLinkHtml = 'Like what you see? Visit the ' +\n",
              "            '<a target=\"_blank\" href=https://colab.research.google.com/notebooks/data_table.ipynb>data table notebook</a>'\n",
              "            + ' to learn more about interactive tables.';\n",
              "          element.innerHTML = '';\n",
              "          dataTable['output_type'] = 'display_data';\n",
              "          await google.colab.output.renderOutput(dataTable, element);\n",
              "          const docLink = document.createElement('div');\n",
              "          docLink.innerHTML = docLinkHtml;\n",
              "          element.appendChild(docLink);\n",
              "        }\n",
              "      </script>\n",
              "    </div>\n",
              "  </div>\n",
              "  "
            ]
          },
          "metadata": {},
          "execution_count": 101
        }
      ],
      "source": [
        "#bowler with max maiden overs\n",
        "ball_data[ball_data['Maiden Overs']==ball_data['Maiden Overs'].max()][['Player Name','Maiden Overs','Country']]"
      ]
    },
    {
      "cell_type": "code",
      "execution_count": 102,
      "metadata": {
        "id": "T7TlcxO11Caq",
        "outputId": "0c1debed-9497-48d6-b1b6-4a841a52b5f6",
        "colab": {
          "base_uri": "https://localhost:8080/",
          "height": 81
        }
      },
      "outputs": [
        {
          "output_type": "execute_result",
          "data": {
            "text/plain": [
              "     Player Name  Economy Rate   Country\n",
              "13  Wasim Akram           3.22  Pakistan"
            ],
            "text/html": [
              "\n",
              "  <div id=\"df-4254273c-e148-4d8e-8279-11650cf46c9d\">\n",
              "    <div class=\"colab-df-container\">\n",
              "      <div>\n",
              "<style scoped>\n",
              "    .dataframe tbody tr th:only-of-type {\n",
              "        vertical-align: middle;\n",
              "    }\n",
              "\n",
              "    .dataframe tbody tr th {\n",
              "        vertical-align: top;\n",
              "    }\n",
              "\n",
              "    .dataframe thead th {\n",
              "        text-align: right;\n",
              "    }\n",
              "</style>\n",
              "<table border=\"1\" class=\"dataframe\">\n",
              "  <thead>\n",
              "    <tr style=\"text-align: right;\">\n",
              "      <th></th>\n",
              "      <th>Player Name</th>\n",
              "      <th>Economy Rate</th>\n",
              "      <th>Country</th>\n",
              "    </tr>\n",
              "  </thead>\n",
              "  <tbody>\n",
              "    <tr>\n",
              "      <th>13</th>\n",
              "      <td>Wasim Akram</td>\n",
              "      <td>3.22</td>\n",
              "      <td>Pakistan</td>\n",
              "    </tr>\n",
              "  </tbody>\n",
              "</table>\n",
              "</div>\n",
              "      <button class=\"colab-df-convert\" onclick=\"convertToInteractive('df-4254273c-e148-4d8e-8279-11650cf46c9d')\"\n",
              "              title=\"Convert this dataframe to an interactive table.\"\n",
              "              style=\"display:none;\">\n",
              "        \n",
              "  <svg xmlns=\"http://www.w3.org/2000/svg\" height=\"24px\"viewBox=\"0 0 24 24\"\n",
              "       width=\"24px\">\n",
              "    <path d=\"M0 0h24v24H0V0z\" fill=\"none\"/>\n",
              "    <path d=\"M18.56 5.44l.94 2.06.94-2.06 2.06-.94-2.06-.94-.94-2.06-.94 2.06-2.06.94zm-11 1L8.5 8.5l.94-2.06 2.06-.94-2.06-.94L8.5 2.5l-.94 2.06-2.06.94zm10 10l.94 2.06.94-2.06 2.06-.94-2.06-.94-.94-2.06-.94 2.06-2.06.94z\"/><path d=\"M17.41 7.96l-1.37-1.37c-.4-.4-.92-.59-1.43-.59-.52 0-1.04.2-1.43.59L10.3 9.45l-7.72 7.72c-.78.78-.78 2.05 0 2.83L4 21.41c.39.39.9.59 1.41.59.51 0 1.02-.2 1.41-.59l7.78-7.78 2.81-2.81c.8-.78.8-2.07 0-2.86zM5.41 20L4 18.59l7.72-7.72 1.47 1.35L5.41 20z\"/>\n",
              "  </svg>\n",
              "      </button>\n",
              "      \n",
              "  <style>\n",
              "    .colab-df-container {\n",
              "      display:flex;\n",
              "      flex-wrap:wrap;\n",
              "      gap: 12px;\n",
              "    }\n",
              "\n",
              "    .colab-df-convert {\n",
              "      background-color: #E8F0FE;\n",
              "      border: none;\n",
              "      border-radius: 50%;\n",
              "      cursor: pointer;\n",
              "      display: none;\n",
              "      fill: #1967D2;\n",
              "      height: 32px;\n",
              "      padding: 0 0 0 0;\n",
              "      width: 32px;\n",
              "    }\n",
              "\n",
              "    .colab-df-convert:hover {\n",
              "      background-color: #E2EBFA;\n",
              "      box-shadow: 0px 1px 2px rgba(60, 64, 67, 0.3), 0px 1px 3px 1px rgba(60, 64, 67, 0.15);\n",
              "      fill: #174EA6;\n",
              "    }\n",
              "\n",
              "    [theme=dark] .colab-df-convert {\n",
              "      background-color: #3B4455;\n",
              "      fill: #D2E3FC;\n",
              "    }\n",
              "\n",
              "    [theme=dark] .colab-df-convert:hover {\n",
              "      background-color: #434B5C;\n",
              "      box-shadow: 0px 1px 3px 1px rgba(0, 0, 0, 0.15);\n",
              "      filter: drop-shadow(0px 1px 2px rgba(0, 0, 0, 0.3));\n",
              "      fill: #FFFFFF;\n",
              "    }\n",
              "  </style>\n",
              "\n",
              "      <script>\n",
              "        const buttonEl =\n",
              "          document.querySelector('#df-4254273c-e148-4d8e-8279-11650cf46c9d button.colab-df-convert');\n",
              "        buttonEl.style.display =\n",
              "          google.colab.kernel.accessAllowed ? 'block' : 'none';\n",
              "\n",
              "        async function convertToInteractive(key) {\n",
              "          const element = document.querySelector('#df-4254273c-e148-4d8e-8279-11650cf46c9d');\n",
              "          const dataTable =\n",
              "            await google.colab.kernel.invokeFunction('convertToInteractive',\n",
              "                                                     [key], {});\n",
              "          if (!dataTable) return;\n",
              "\n",
              "          const docLinkHtml = 'Like what you see? Visit the ' +\n",
              "            '<a target=\"_blank\" href=https://colab.research.google.com/notebooks/data_table.ipynb>data table notebook</a>'\n",
              "            + ' to learn more about interactive tables.';\n",
              "          element.innerHTML = '';\n",
              "          dataTable['output_type'] = 'display_data';\n",
              "          await google.colab.output.renderOutput(dataTable, element);\n",
              "          const docLink = document.createElement('div');\n",
              "          docLink.innerHTML = docLinkHtml;\n",
              "          element.appendChild(docLink);\n",
              "        }\n",
              "      </script>\n",
              "    </div>\n",
              "  </div>\n",
              "  "
            ]
          },
          "metadata": {},
          "execution_count": 102
        }
      ],
      "source": [
        "ball_data[ball_data['Economy Rate']==ball_data['Economy Rate'].min()][['Player Name','Economy Rate','Country']]"
      ]
    },
    {
      "cell_type": "code",
      "execution_count": 103,
      "metadata": {
        "id": "VhixjciB1Caq",
        "outputId": "7d2cd980-a042-464c-c2f3-0fdb6d81c3d2",
        "colab": {
          "base_uri": "https://localhost:8080/",
          "height": 112
        }
      },
      "outputs": [
        {
          "output_type": "execute_result",
          "data": {
            "text/plain": [
              "         Player Name  Maximum Dismissals\n",
              "0          MS Dhoni                    5\n",
              "5  RS Kaluwitharana                    5"
            ],
            "text/html": [
              "\n",
              "  <div id=\"df-cd7c5ad2-b862-434a-b38d-f195f1571f9f\">\n",
              "    <div class=\"colab-df-container\">\n",
              "      <div>\n",
              "<style scoped>\n",
              "    .dataframe tbody tr th:only-of-type {\n",
              "        vertical-align: middle;\n",
              "    }\n",
              "\n",
              "    .dataframe tbody tr th {\n",
              "        vertical-align: top;\n",
              "    }\n",
              "\n",
              "    .dataframe thead th {\n",
              "        text-align: right;\n",
              "    }\n",
              "</style>\n",
              "<table border=\"1\" class=\"dataframe\">\n",
              "  <thead>\n",
              "    <tr style=\"text-align: right;\">\n",
              "      <th></th>\n",
              "      <th>Player Name</th>\n",
              "      <th>Maximum Dismissals</th>\n",
              "    </tr>\n",
              "  </thead>\n",
              "  <tbody>\n",
              "    <tr>\n",
              "      <th>0</th>\n",
              "      <td>MS Dhoni</td>\n",
              "      <td>5</td>\n",
              "    </tr>\n",
              "    <tr>\n",
              "      <th>5</th>\n",
              "      <td>RS Kaluwitharana</td>\n",
              "      <td>5</td>\n",
              "    </tr>\n",
              "  </tbody>\n",
              "</table>\n",
              "</div>\n",
              "      <button class=\"colab-df-convert\" onclick=\"convertToInteractive('df-cd7c5ad2-b862-434a-b38d-f195f1571f9f')\"\n",
              "              title=\"Convert this dataframe to an interactive table.\"\n",
              "              style=\"display:none;\">\n",
              "        \n",
              "  <svg xmlns=\"http://www.w3.org/2000/svg\" height=\"24px\"viewBox=\"0 0 24 24\"\n",
              "       width=\"24px\">\n",
              "    <path d=\"M0 0h24v24H0V0z\" fill=\"none\"/>\n",
              "    <path d=\"M18.56 5.44l.94 2.06.94-2.06 2.06-.94-2.06-.94-.94-2.06-.94 2.06-2.06.94zm-11 1L8.5 8.5l.94-2.06 2.06-.94-2.06-.94L8.5 2.5l-.94 2.06-2.06.94zm10 10l.94 2.06.94-2.06 2.06-.94-2.06-.94-.94-2.06-.94 2.06-2.06.94z\"/><path d=\"M17.41 7.96l-1.37-1.37c-.4-.4-.92-.59-1.43-.59-.52 0-1.04.2-1.43.59L10.3 9.45l-7.72 7.72c-.78.78-.78 2.05 0 2.83L4 21.41c.39.39.9.59 1.41.59.51 0 1.02-.2 1.41-.59l7.78-7.78 2.81-2.81c.8-.78.8-2.07 0-2.86zM5.41 20L4 18.59l7.72-7.72 1.47 1.35L5.41 20z\"/>\n",
              "  </svg>\n",
              "      </button>\n",
              "      \n",
              "  <style>\n",
              "    .colab-df-container {\n",
              "      display:flex;\n",
              "      flex-wrap:wrap;\n",
              "      gap: 12px;\n",
              "    }\n",
              "\n",
              "    .colab-df-convert {\n",
              "      background-color: #E8F0FE;\n",
              "      border: none;\n",
              "      border-radius: 50%;\n",
              "      cursor: pointer;\n",
              "      display: none;\n",
              "      fill: #1967D2;\n",
              "      height: 32px;\n",
              "      padding: 0 0 0 0;\n",
              "      width: 32px;\n",
              "    }\n",
              "\n",
              "    .colab-df-convert:hover {\n",
              "      background-color: #E2EBFA;\n",
              "      box-shadow: 0px 1px 2px rgba(60, 64, 67, 0.3), 0px 1px 3px 1px rgba(60, 64, 67, 0.15);\n",
              "      fill: #174EA6;\n",
              "    }\n",
              "\n",
              "    [theme=dark] .colab-df-convert {\n",
              "      background-color: #3B4455;\n",
              "      fill: #D2E3FC;\n",
              "    }\n",
              "\n",
              "    [theme=dark] .colab-df-convert:hover {\n",
              "      background-color: #434B5C;\n",
              "      box-shadow: 0px 1px 3px 1px rgba(0, 0, 0, 0.15);\n",
              "      filter: drop-shadow(0px 1px 2px rgba(0, 0, 0, 0.3));\n",
              "      fill: #FFFFFF;\n",
              "    }\n",
              "  </style>\n",
              "\n",
              "      <script>\n",
              "        const buttonEl =\n",
              "          document.querySelector('#df-cd7c5ad2-b862-434a-b38d-f195f1571f9f button.colab-df-convert');\n",
              "        buttonEl.style.display =\n",
              "          google.colab.kernel.accessAllowed ? 'block' : 'none';\n",
              "\n",
              "        async function convertToInteractive(key) {\n",
              "          const element = document.querySelector('#df-cd7c5ad2-b862-434a-b38d-f195f1571f9f');\n",
              "          const dataTable =\n",
              "            await google.colab.kernel.invokeFunction('convertToInteractive',\n",
              "                                                     [key], {});\n",
              "          if (!dataTable) return;\n",
              "\n",
              "          const docLinkHtml = 'Like what you see? Visit the ' +\n",
              "            '<a target=\"_blank\" href=https://colab.research.google.com/notebooks/data_table.ipynb>data table notebook</a>'\n",
              "            + ' to learn more about interactive tables.';\n",
              "          element.innerHTML = '';\n",
              "          dataTable['output_type'] = 'display_data';\n",
              "          await google.colab.output.renderOutput(dataTable, element);\n",
              "          const docLink = document.createElement('div');\n",
              "          docLink.innerHTML = docLinkHtml;\n",
              "          element.appendChild(docLink);\n",
              "        }\n",
              "      </script>\n",
              "    </div>\n",
              "  </div>\n",
              "  "
            ]
          },
          "metadata": {},
          "execution_count": 103
        }
      ],
      "source": [
        "#wicket Keeper with maximum no of dismissals in a match \n",
        "wkd[wkd['Maximum Dismissals']==wkd['Maximum Dismissals'].max()][['Player Name','Maximum Dismissals']]"
      ]
    },
    {
      "cell_type": "code",
      "execution_count": 104,
      "metadata": {
        "id": "zV8RJjuq1Car",
        "outputId": "0bc112cb-cbaa-48fb-862e-e5f91d999c38",
        "colab": {
          "base_uri": "https://localhost:8080/",
          "height": 269
        }
      },
      "outputs": [
        {
          "output_type": "execute_result",
          "data": {
            "text/plain": [
              "          Team  Given Extras Result\n",
              "48       India          37.0    Win\n",
              "73    Pakistan          38.0    Win\n",
              "80       India          34.0    Win\n",
              "88   Sri Lanka          34.0    Win\n",
              "91       India          37.0    Win\n",
              "97    Pakistan          38.0    Win\n",
              "101   Pakistan          37.0    Win"
            ],
            "text/html": [
              "\n",
              "  <div id=\"df-641f8a20-ac89-49fc-81b8-4d428e25705d\">\n",
              "    <div class=\"colab-df-container\">\n",
              "      <div>\n",
              "<style scoped>\n",
              "    .dataframe tbody tr th:only-of-type {\n",
              "        vertical-align: middle;\n",
              "    }\n",
              "\n",
              "    .dataframe tbody tr th {\n",
              "        vertical-align: top;\n",
              "    }\n",
              "\n",
              "    .dataframe thead th {\n",
              "        text-align: right;\n",
              "    }\n",
              "</style>\n",
              "<table border=\"1\" class=\"dataframe\">\n",
              "  <thead>\n",
              "    <tr style=\"text-align: right;\">\n",
              "      <th></th>\n",
              "      <th>Team</th>\n",
              "      <th>Given Extras</th>\n",
              "      <th>Result</th>\n",
              "    </tr>\n",
              "  </thead>\n",
              "  <tbody>\n",
              "    <tr>\n",
              "      <th>48</th>\n",
              "      <td>India</td>\n",
              "      <td>37.0</td>\n",
              "      <td>Win</td>\n",
              "    </tr>\n",
              "    <tr>\n",
              "      <th>73</th>\n",
              "      <td>Pakistan</td>\n",
              "      <td>38.0</td>\n",
              "      <td>Win</td>\n",
              "    </tr>\n",
              "    <tr>\n",
              "      <th>80</th>\n",
              "      <td>India</td>\n",
              "      <td>34.0</td>\n",
              "      <td>Win</td>\n",
              "    </tr>\n",
              "    <tr>\n",
              "      <th>88</th>\n",
              "      <td>Sri Lanka</td>\n",
              "      <td>34.0</td>\n",
              "      <td>Win</td>\n",
              "    </tr>\n",
              "    <tr>\n",
              "      <th>91</th>\n",
              "      <td>India</td>\n",
              "      <td>37.0</td>\n",
              "      <td>Win</td>\n",
              "    </tr>\n",
              "    <tr>\n",
              "      <th>97</th>\n",
              "      <td>Pakistan</td>\n",
              "      <td>38.0</td>\n",
              "      <td>Win</td>\n",
              "    </tr>\n",
              "    <tr>\n",
              "      <th>101</th>\n",
              "      <td>Pakistan</td>\n",
              "      <td>37.0</td>\n",
              "      <td>Win</td>\n",
              "    </tr>\n",
              "  </tbody>\n",
              "</table>\n",
              "</div>\n",
              "      <button class=\"colab-df-convert\" onclick=\"convertToInteractive('df-641f8a20-ac89-49fc-81b8-4d428e25705d')\"\n",
              "              title=\"Convert this dataframe to an interactive table.\"\n",
              "              style=\"display:none;\">\n",
              "        \n",
              "  <svg xmlns=\"http://www.w3.org/2000/svg\" height=\"24px\"viewBox=\"0 0 24 24\"\n",
              "       width=\"24px\">\n",
              "    <path d=\"M0 0h24v24H0V0z\" fill=\"none\"/>\n",
              "    <path d=\"M18.56 5.44l.94 2.06.94-2.06 2.06-.94-2.06-.94-.94-2.06-.94 2.06-2.06.94zm-11 1L8.5 8.5l.94-2.06 2.06-.94-2.06-.94L8.5 2.5l-.94 2.06-2.06.94zm10 10l.94 2.06.94-2.06 2.06-.94-2.06-.94-.94-2.06-.94 2.06-2.06.94z\"/><path d=\"M17.41 7.96l-1.37-1.37c-.4-.4-.92-.59-1.43-.59-.52 0-1.04.2-1.43.59L10.3 9.45l-7.72 7.72c-.78.78-.78 2.05 0 2.83L4 21.41c.39.39.9.59 1.41.59.51 0 1.02-.2 1.41-.59l7.78-7.78 2.81-2.81c.8-.78.8-2.07 0-2.86zM5.41 20L4 18.59l7.72-7.72 1.47 1.35L5.41 20z\"/>\n",
              "  </svg>\n",
              "      </button>\n",
              "      \n",
              "  <style>\n",
              "    .colab-df-container {\n",
              "      display:flex;\n",
              "      flex-wrap:wrap;\n",
              "      gap: 12px;\n",
              "    }\n",
              "\n",
              "    .colab-df-convert {\n",
              "      background-color: #E8F0FE;\n",
              "      border: none;\n",
              "      border-radius: 50%;\n",
              "      cursor: pointer;\n",
              "      display: none;\n",
              "      fill: #1967D2;\n",
              "      height: 32px;\n",
              "      padding: 0 0 0 0;\n",
              "      width: 32px;\n",
              "    }\n",
              "\n",
              "    .colab-df-convert:hover {\n",
              "      background-color: #E2EBFA;\n",
              "      box-shadow: 0px 1px 2px rgba(60, 64, 67, 0.3), 0px 1px 3px 1px rgba(60, 64, 67, 0.15);\n",
              "      fill: #174EA6;\n",
              "    }\n",
              "\n",
              "    [theme=dark] .colab-df-convert {\n",
              "      background-color: #3B4455;\n",
              "      fill: #D2E3FC;\n",
              "    }\n",
              "\n",
              "    [theme=dark] .colab-df-convert:hover {\n",
              "      background-color: #434B5C;\n",
              "      box-shadow: 0px 1px 3px 1px rgba(0, 0, 0, 0.15);\n",
              "      filter: drop-shadow(0px 1px 2px rgba(0, 0, 0, 0.3));\n",
              "      fill: #FFFFFF;\n",
              "    }\n",
              "  </style>\n",
              "\n",
              "      <script>\n",
              "        const buttonEl =\n",
              "          document.querySelector('#df-641f8a20-ac89-49fc-81b8-4d428e25705d button.colab-df-convert');\n",
              "        buttonEl.style.display =\n",
              "          google.colab.kernel.accessAllowed ? 'block' : 'none';\n",
              "\n",
              "        async function convertToInteractive(key) {\n",
              "          const element = document.querySelector('#df-641f8a20-ac89-49fc-81b8-4d428e25705d');\n",
              "          const dataTable =\n",
              "            await google.colab.kernel.invokeFunction('convertToInteractive',\n",
              "                                                     [key], {});\n",
              "          if (!dataTable) return;\n",
              "\n",
              "          const docLinkHtml = 'Like what you see? Visit the ' +\n",
              "            '<a target=\"_blank\" href=https://colab.research.google.com/notebooks/data_table.ipynb>data table notebook</a>'\n",
              "            + ' to learn more about interactive tables.';\n",
              "          element.innerHTML = '';\n",
              "          dataTable['output_type'] = 'display_data';\n",
              "          await google.colab.output.renderOutput(dataTable, element);\n",
              "          const docLink = document.createElement('div');\n",
              "          docLink.innerHTML = docLinkHtml;\n",
              "          element.appendChild(docLink);\n",
              "        }\n",
              "      </script>\n",
              "    </div>\n",
              "  </div>\n",
              "  "
            ]
          },
          "metadata": {},
          "execution_count": 104
        }
      ],
      "source": [
        "#Displaying the name of teams, extras given and result of the match on satisfying the condition i.e., extras given by team greater than 29 and won the match\n",
        "data_asia_cup.loc[(data_asia_cup['Given Extras']>=30)&(data_asia_cup['Result']=='Win'),['Team','Given Extras','Result']]"
      ]
    },
    {
      "cell_type": "code",
      "execution_count": 105,
      "metadata": {
        "id": "DEnzYRjw1Car",
        "outputId": "3e10e17e-95fb-49fe-9832-8c891e6c1794",
        "colab": {
          "base_uri": "https://localhost:8080/"
        }
      },
      "outputs": [
        {
          "output_type": "stream",
          "name": "stdout",
          "text": [
            "Champion\n",
            "India        7\n",
            "Pakistan     2\n",
            "Sri Lanka    6\n",
            "dtype: int64\n",
            "Runner Up\n",
            "Bangladesh    3\n",
            "India         3\n",
            "Pakistan      3\n",
            "Sri Lanka     6\n",
            "dtype: int64\n"
          ]
        }
      ],
      "source": [
        "#Getting the total count of teams who were champtions between the year 1984-2022 \n",
        "champion = champion_data.pivot_table(index=['Champion'],aggfunc='size')\n",
        "print(champion)\n",
        "#Getting the total count of teams who were runner ups between the year 1984-2022 \n",
        "runner = champion_data.pivot_table(index=['Runner Up'],aggfunc='size')\n",
        "print(runner)"
      ]
    },
    {
      "cell_type": "code",
      "execution_count": 106,
      "metadata": {
        "id": "1YccTO0Z1Car",
        "outputId": "31cbf8c7-53e6-4747-86b9-d856b8de4945",
        "colab": {
          "base_uri": "https://localhost:8080/",
          "height": 269
        }
      },
      "outputs": [
        {
          "output_type": "execute_result",
          "data": {
            "text/plain": [
              "      Player Name  Runs\n",
              "0        V Kohli    429\n",
              "2      RG Sharma    271\n",
              "15      SA Yadav    139\n",
              "17      KL Rahul    132\n",
              "31  Yuvraj Singh     89\n",
              "33     HH Pandya     83\n",
              "35      S Dhawan     79"
            ],
            "text/html": [
              "\n",
              "  <div id=\"df-15f5c13b-7995-414f-a570-7fb24529825b\">\n",
              "    <div class=\"colab-df-container\">\n",
              "      <div>\n",
              "<style scoped>\n",
              "    .dataframe tbody tr th:only-of-type {\n",
              "        vertical-align: middle;\n",
              "    }\n",
              "\n",
              "    .dataframe tbody tr th {\n",
              "        vertical-align: top;\n",
              "    }\n",
              "\n",
              "    .dataframe thead th {\n",
              "        text-align: right;\n",
              "    }\n",
              "</style>\n",
              "<table border=\"1\" class=\"dataframe\">\n",
              "  <thead>\n",
              "    <tr style=\"text-align: right;\">\n",
              "      <th></th>\n",
              "      <th>Player Name</th>\n",
              "      <th>Runs</th>\n",
              "    </tr>\n",
              "  </thead>\n",
              "  <tbody>\n",
              "    <tr>\n",
              "      <th>0</th>\n",
              "      <td>V Kohli</td>\n",
              "      <td>429</td>\n",
              "    </tr>\n",
              "    <tr>\n",
              "      <th>2</th>\n",
              "      <td>RG Sharma</td>\n",
              "      <td>271</td>\n",
              "    </tr>\n",
              "    <tr>\n",
              "      <th>15</th>\n",
              "      <td>SA Yadav</td>\n",
              "      <td>139</td>\n",
              "    </tr>\n",
              "    <tr>\n",
              "      <th>17</th>\n",
              "      <td>KL Rahul</td>\n",
              "      <td>132</td>\n",
              "    </tr>\n",
              "    <tr>\n",
              "      <th>31</th>\n",
              "      <td>Yuvraj Singh</td>\n",
              "      <td>89</td>\n",
              "    </tr>\n",
              "    <tr>\n",
              "      <th>33</th>\n",
              "      <td>HH Pandya</td>\n",
              "      <td>83</td>\n",
              "    </tr>\n",
              "    <tr>\n",
              "      <th>35</th>\n",
              "      <td>S Dhawan</td>\n",
              "      <td>79</td>\n",
              "    </tr>\n",
              "  </tbody>\n",
              "</table>\n",
              "</div>\n",
              "      <button class=\"colab-df-convert\" onclick=\"convertToInteractive('df-15f5c13b-7995-414f-a570-7fb24529825b')\"\n",
              "              title=\"Convert this dataframe to an interactive table.\"\n",
              "              style=\"display:none;\">\n",
              "        \n",
              "  <svg xmlns=\"http://www.w3.org/2000/svg\" height=\"24px\"viewBox=\"0 0 24 24\"\n",
              "       width=\"24px\">\n",
              "    <path d=\"M0 0h24v24H0V0z\" fill=\"none\"/>\n",
              "    <path d=\"M18.56 5.44l.94 2.06.94-2.06 2.06-.94-2.06-.94-.94-2.06-.94 2.06-2.06.94zm-11 1L8.5 8.5l.94-2.06 2.06-.94-2.06-.94L8.5 2.5l-.94 2.06-2.06.94zm10 10l.94 2.06.94-2.06 2.06-.94-2.06-.94-.94-2.06-.94 2.06-2.06.94z\"/><path d=\"M17.41 7.96l-1.37-1.37c-.4-.4-.92-.59-1.43-.59-.52 0-1.04.2-1.43.59L10.3 9.45l-7.72 7.72c-.78.78-.78 2.05 0 2.83L4 21.41c.39.39.9.59 1.41.59.51 0 1.02-.2 1.41-.59l7.78-7.78 2.81-2.81c.8-.78.8-2.07 0-2.86zM5.41 20L4 18.59l7.72-7.72 1.47 1.35L5.41 20z\"/>\n",
              "  </svg>\n",
              "      </button>\n",
              "      \n",
              "  <style>\n",
              "    .colab-df-container {\n",
              "      display:flex;\n",
              "      flex-wrap:wrap;\n",
              "      gap: 12px;\n",
              "    }\n",
              "\n",
              "    .colab-df-convert {\n",
              "      background-color: #E8F0FE;\n",
              "      border: none;\n",
              "      border-radius: 50%;\n",
              "      cursor: pointer;\n",
              "      display: none;\n",
              "      fill: #1967D2;\n",
              "      height: 32px;\n",
              "      padding: 0 0 0 0;\n",
              "      width: 32px;\n",
              "    }\n",
              "\n",
              "    .colab-df-convert:hover {\n",
              "      background-color: #E2EBFA;\n",
              "      box-shadow: 0px 1px 2px rgba(60, 64, 67, 0.3), 0px 1px 3px 1px rgba(60, 64, 67, 0.15);\n",
              "      fill: #174EA6;\n",
              "    }\n",
              "\n",
              "    [theme=dark] .colab-df-convert {\n",
              "      background-color: #3B4455;\n",
              "      fill: #D2E3FC;\n",
              "    }\n",
              "\n",
              "    [theme=dark] .colab-df-convert:hover {\n",
              "      background-color: #434B5C;\n",
              "      box-shadow: 0px 1px 3px 1px rgba(0, 0, 0, 0.15);\n",
              "      filter: drop-shadow(0px 1px 2px rgba(0, 0, 0, 0.3));\n",
              "      fill: #FFFFFF;\n",
              "    }\n",
              "  </style>\n",
              "\n",
              "      <script>\n",
              "        const buttonEl =\n",
              "          document.querySelector('#df-15f5c13b-7995-414f-a570-7fb24529825b button.colab-df-convert');\n",
              "        buttonEl.style.display =\n",
              "          google.colab.kernel.accessAllowed ? 'block' : 'none';\n",
              "\n",
              "        async function convertToInteractive(key) {\n",
              "          const element = document.querySelector('#df-15f5c13b-7995-414f-a570-7fb24529825b');\n",
              "          const dataTable =\n",
              "            await google.colab.kernel.invokeFunction('convertToInteractive',\n",
              "                                                     [key], {});\n",
              "          if (!dataTable) return;\n",
              "\n",
              "          const docLinkHtml = 'Like what you see? Visit the ' +\n",
              "            '<a target=\"_blank\" href=https://colab.research.google.com/notebooks/data_table.ipynb>data table notebook</a>'\n",
              "            + ' to learn more about interactive tables.';\n",
              "          element.innerHTML = '';\n",
              "          dataTable['output_type'] = 'display_data';\n",
              "          await google.colab.output.renderOutput(dataTable, element);\n",
              "          const docLink = document.createElement('div');\n",
              "          docLink.innerHTML = docLinkHtml;\n",
              "          element.appendChild(docLink);\n",
              "        }\n",
              "      </script>\n",
              "    </div>\n",
              "  </div>\n",
              "  "
            ]
          },
          "metadata": {},
          "execution_count": 106
        }
      ],
      "source": [
        "#Displaying the name and runs scored by each Indian batsman\n",
        "bat_data1.loc[(bat_data1['Country']=='India'),['Player Name','Runs']]"
      ]
    },
    {
      "cell_type": "code",
      "execution_count": 107,
      "metadata": {
        "id": "cfhyBrnt1Car",
        "outputId": "c8072b7d-cabb-412a-da71-f1d07cc1ef84",
        "colab": {
          "base_uri": "https://localhost:8080/",
          "height": 81
        }
      },
      "outputs": [
        {
          "output_type": "execute_result",
          "data": {
            "text/plain": [
              "      Player Name  Runs\n",
              "0  ST Jayasuriya   1220"
            ],
            "text/html": [
              "\n",
              "  <div id=\"df-7892fd68-9259-4b69-a52e-7fffe2d5f48f\">\n",
              "    <div class=\"colab-df-container\">\n",
              "      <div>\n",
              "<style scoped>\n",
              "    .dataframe tbody tr th:only-of-type {\n",
              "        vertical-align: middle;\n",
              "    }\n",
              "\n",
              "    .dataframe tbody tr th {\n",
              "        vertical-align: top;\n",
              "    }\n",
              "\n",
              "    .dataframe thead th {\n",
              "        text-align: right;\n",
              "    }\n",
              "</style>\n",
              "<table border=\"1\" class=\"dataframe\">\n",
              "  <thead>\n",
              "    <tr style=\"text-align: right;\">\n",
              "      <th></th>\n",
              "      <th>Player Name</th>\n",
              "      <th>Runs</th>\n",
              "    </tr>\n",
              "  </thead>\n",
              "  <tbody>\n",
              "    <tr>\n",
              "      <th>0</th>\n",
              "      <td>ST Jayasuriya</td>\n",
              "      <td>1220</td>\n",
              "    </tr>\n",
              "  </tbody>\n",
              "</table>\n",
              "</div>\n",
              "      <button class=\"colab-df-convert\" onclick=\"convertToInteractive('df-7892fd68-9259-4b69-a52e-7fffe2d5f48f')\"\n",
              "              title=\"Convert this dataframe to an interactive table.\"\n",
              "              style=\"display:none;\">\n",
              "        \n",
              "  <svg xmlns=\"http://www.w3.org/2000/svg\" height=\"24px\"viewBox=\"0 0 24 24\"\n",
              "       width=\"24px\">\n",
              "    <path d=\"M0 0h24v24H0V0z\" fill=\"none\"/>\n",
              "    <path d=\"M18.56 5.44l.94 2.06.94-2.06 2.06-.94-2.06-.94-.94-2.06-.94 2.06-2.06.94zm-11 1L8.5 8.5l.94-2.06 2.06-.94-2.06-.94L8.5 2.5l-.94 2.06-2.06.94zm10 10l.94 2.06.94-2.06 2.06-.94-2.06-.94-.94-2.06-.94 2.06-2.06.94z\"/><path d=\"M17.41 7.96l-1.37-1.37c-.4-.4-.92-.59-1.43-.59-.52 0-1.04.2-1.43.59L10.3 9.45l-7.72 7.72c-.78.78-.78 2.05 0 2.83L4 21.41c.39.39.9.59 1.41.59.51 0 1.02-.2 1.41-.59l7.78-7.78 2.81-2.81c.8-.78.8-2.07 0-2.86zM5.41 20L4 18.59l7.72-7.72 1.47 1.35L5.41 20z\"/>\n",
              "  </svg>\n",
              "      </button>\n",
              "      \n",
              "  <style>\n",
              "    .colab-df-container {\n",
              "      display:flex;\n",
              "      flex-wrap:wrap;\n",
              "      gap: 12px;\n",
              "    }\n",
              "\n",
              "    .colab-df-convert {\n",
              "      background-color: #E8F0FE;\n",
              "      border: none;\n",
              "      border-radius: 50%;\n",
              "      cursor: pointer;\n",
              "      display: none;\n",
              "      fill: #1967D2;\n",
              "      height: 32px;\n",
              "      padding: 0 0 0 0;\n",
              "      width: 32px;\n",
              "    }\n",
              "\n",
              "    .colab-df-convert:hover {\n",
              "      background-color: #E2EBFA;\n",
              "      box-shadow: 0px 1px 2px rgba(60, 64, 67, 0.3), 0px 1px 3px 1px rgba(60, 64, 67, 0.15);\n",
              "      fill: #174EA6;\n",
              "    }\n",
              "\n",
              "    [theme=dark] .colab-df-convert {\n",
              "      background-color: #3B4455;\n",
              "      fill: #D2E3FC;\n",
              "    }\n",
              "\n",
              "    [theme=dark] .colab-df-convert:hover {\n",
              "      background-color: #434B5C;\n",
              "      box-shadow: 0px 1px 3px 1px rgba(0, 0, 0, 0.15);\n",
              "      filter: drop-shadow(0px 1px 2px rgba(0, 0, 0, 0.3));\n",
              "      fill: #FFFFFF;\n",
              "    }\n",
              "  </style>\n",
              "\n",
              "      <script>\n",
              "        const buttonEl =\n",
              "          document.querySelector('#df-7892fd68-9259-4b69-a52e-7fffe2d5f48f button.colab-df-convert');\n",
              "        buttonEl.style.display =\n",
              "          google.colab.kernel.accessAllowed ? 'block' : 'none';\n",
              "\n",
              "        async function convertToInteractive(key) {\n",
              "          const element = document.querySelector('#df-7892fd68-9259-4b69-a52e-7fffe2d5f48f');\n",
              "          const dataTable =\n",
              "            await google.colab.kernel.invokeFunction('convertToInteractive',\n",
              "                                                     [key], {});\n",
              "          if (!dataTable) return;\n",
              "\n",
              "          const docLinkHtml = 'Like what you see? Visit the ' +\n",
              "            '<a target=\"_blank\" href=https://colab.research.google.com/notebooks/data_table.ipynb>data table notebook</a>'\n",
              "            + ' to learn more about interactive tables.';\n",
              "          element.innerHTML = '';\n",
              "          dataTable['output_type'] = 'display_data';\n",
              "          await google.colab.output.renderOutput(dataTable, element);\n",
              "          const docLink = document.createElement('div');\n",
              "          docLink.innerHTML = docLinkHtml;\n",
              "          element.appendChild(docLink);\n",
              "        }\n",
              "      </script>\n",
              "    </div>\n",
              "  </div>\n",
              "  "
            ]
          },
          "metadata": {},
          "execution_count": 107
        }
      ],
      "source": [
        "#Displaying the name of the player who scored maximum runs\n",
        "bat_data.loc[(bat_data['Runs']==bat_data['Runs'].max()),['Player Name','Runs']]"
      ]
    },
    {
      "cell_type": "markdown",
      "metadata": {
        "id": "xN-lZBhV1Car"
      },
      "source": [
        "## Visualizations"
      ]
    },
    {
      "cell_type": "code",
      "execution_count": 108,
      "metadata": {
        "id": "q4kmfBtQ1Car",
        "outputId": "765448d0-17d0-4eed-87d2-aa4ce538e1dc",
        "colab": {
          "base_uri": "https://localhost:8080/",
          "height": 295
        }
      },
      "outputs": [
        {
          "output_type": "display_data",
          "data": {
            "text/plain": [
              "<Figure size 432x288 with 1 Axes>"
            ],
            "image/png": "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\n"
          },
          "metadata": {
            "needs_background": "light"
          }
        }
      ],
      "source": [
        "#No of matches played each year in asia cup\n",
        "no_matches_plot= sns.countplot(x='Year',data=data_asia_cup)\n",
        "plt.setp(no_matches_plot.get_xticklabels(), rotation=90)\n",
        "plt.show()"
      ]
    },
    {
      "cell_type": "code",
      "execution_count": 109,
      "metadata": {
        "id": "R2HalOsOy2yQ",
        "outputId": "f6ccd879-fc45-4946-ee95-6d60bce7ea1a",
        "colab": {
          "base_uri": "https://localhost:8080/",
          "height": 295
        }
      },
      "outputs": [
        {
          "output_type": "display_data",
          "data": {
            "text/plain": [
              "<Figure size 432x288 with 1 Axes>"
            ],
            "image/png": "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\n"
          },
          "metadata": {
            "needs_background": "light"
          }
        }
      ],
      "source": [
        "#Top 5 players with most number of centuries\n",
        "bat_data_centuries = bat_data.sort_values('Centuries', ascending=False)\n",
        "bat_data_centuries.head()\n",
        "x_centuries = bat_data_centuries['Player Name'][0:5]\n",
        "y_centuries = bat_data_centuries['Centuries'][0:5]\n",
        "plt.title('Top 5 players with most number of centuries')\n",
        "plt.ylabel('Player Name')\n",
        "plt.xlabel('No of Centuries')\n",
        "plt.barh(x_centuries,y_centuries,color='c')\n",
        "plt.show()"
      ]
    },
    {
      "cell_type": "code",
      "execution_count": 110,
      "metadata": {
        "id": "oDGLcImpFIDf",
        "outputId": "d1387ea4-f107-4c86-b866-7fd8e39a0c10",
        "colab": {
          "base_uri": "https://localhost:8080/",
          "height": 295
        }
      },
      "outputs": [
        {
          "output_type": "display_data",
          "data": {
            "text/plain": [
              "<Figure size 432x288 with 1 Axes>"
            ],
            "image/png": "iVBORw0KGgoAAAANSUhEUgAAAcoAAAEWCAYAAADmYNeIAAAABHNCSVQICAgIfAhkiAAAAAlwSFlzAAALEgAACxIB0t1+/AAAADh0RVh0U29mdHdhcmUAbWF0cGxvdGxpYiB2ZXJzaW9uMy4yLjIsIGh0dHA6Ly9tYXRwbG90bGliLm9yZy+WH4yJAAAgAElEQVR4nO3deZxcVZ3+8c9DAiEQiEAAQ8REEGGAhAABR0UI+GNYZVGGRVRw0IgzKOrgD0SGRZEJm0YGAYkgILuCgCQu7InsHQjpsCrYLGEJGSCQBCHLd/64p+BSVJ+uTrq7qjvP+/WqV9865y7fupB++tx7615FBGZmZlbbCo0uwMzMrJk5KM3MzDIclGZmZhkOSjMzswwHpZmZWYaD0szMLMNBaWY9QtJYSc81ug6zznJQmnUzSfNKryWS3iy9P7iLt3WipIVV29ygg2X+JOno0vthkqKdtg92Zb31qBWw6XNeWlXfY5LOkqSertH6NgelWTeLiEGVF/AM8NlS22XdsMmrytuMiKc6mH8KsH3p/fbAYzXa/hoRL3ZxrctM0nCKz3BDRHwrmuQuKpL6NboG6xoOSrMGkTRA0gRJz6fXBEkDUt9YSc9JOlbSHEltXT36LJkCfEpS5ffBp4EJwJiqtimptk0k3STpFUmPS9q/6jOdIekZSS9JOk/SwHY+/7ckPSLpQ+0tJ2lV4A/AeqUR8nqldWyY6rosIv5/qf3fJD0q6dU0Yh5e6svVf1Ha9k2S3pB0RyeXPVfSZEnzgR0l7Z4+4xuSZkk6qtP/dazhHJRmjfMD4J+B0cAWwLbAcaX+DwJDgGHAIcD5kjauY72fTb/IH5b0jTrmvw8YkGqAYvR4E/C3qrYpKbhuAi4H1gEOBM6RtGmabzzwsfSZPppqP756g5KOBw4FdoiI59pbLiLmA7sBz5dGyM+n1WxAEZK/iIjjS+veGzgW+BywNjAVuCL1dVQ/wMHAjyj2/XTgsk4s+wXgx8BqwF+AC4CvR8RqwObArdX7wnqBiPDLL7966AW0Af8vTT8J7F7q2wVoS9NjgUXAqqX+q4H/6mD9mwLrAf2ATwIvAAfVUdftwJHAmsCzqW18qW0JMBw4AJhatewvgBMAAfOBDUt9nwD+XvpMs4CfUITI4NRez3LPVW3zROB14LXycqnvD8BhpfcrAAs6qj9NXwRcWeobBCwG1q9z2Uuq+p8Bvg6s3uj/9/xa+lf/dhPUzLrbesDTpfdPp7aKV6MYUbXX/z4R8Ujp7V2SfgbsRxpRZVTOU7YBd6a2vwBfSW3PRsTTkg4APi7ptdKy/YFfU4zeVgGmla6nEUVoV3wAGAccEBFzU1s9y9VyAzAbuFXS9hFR2ZfDgZ9JOrM0ryhGqcMz9Vc8W5mIiHmSXqHY751aNvk8xVGC8ZJmAMdExN0dfC5rMg5Ks8Z5nuKX78Pp/YdTW8UaklYtheWHgZmd3EZQhERHpgCHU4Ti1NR2J/DL1DYltT0L3BERO1evIJ3PfBPYLCJmtbOdV4EvAldL2jci7gTmdLBcuxfnRMR303ndSljOSjX+OGpcKJXON9asv2T90vyDKEbUz5P57O3VGhH3A3tLWhE4guKowPq1FrTm5XOUZo1zBXCcpLUlDaE4l3dp1TwnSVpJ0qeBPYHf5FYoaW9Ja6iwLfAt4Po6armbYrT3RVJQRsSrwMuprRKUNwIfk/QlSSum1zaS/ikilgATgZ9KWifVM0zSLuUNRcTtFOcBr5W0bR3LvQSsJWlwO7UfAdwG3CJpXeA84PuSNkvrGizpXzuqv7S+3SVtJ2klinOV90TEs3Uu+4703+1gSYMjYiHFoeIl7XwGa2IOSrPGORloAWYArcADqa3iRYoR2PMUF5QcHhGPdbDOAykuwnkDuAQ4NSIu7qiQNGqdBqzEe0etUykuXJmS5nsD+Je0nedTjadSXAwEcHTa/j2SXgduBt53AVJE3AT8G/B7SVvllkuf+QrgKUmvla96Tf1BcTj3vrTc1FTTlWldMykuCKqnfigu1jkBeAXYmuIPhXqXrfYloC3VcTjFHwjWy6j4f8zMmomkscClEfGhRteyPJF0EcWFQ8d1NK8tPzyiNDMzy3BQmvUy6fuR82q82j2sl86V1Vrm4faWMbOCD72amZlleERpZmaW4e9R9jFDhgyJESNGNLoMM7NeZdq0aXMiYu1afQ7KPmbEiBG0tLQ0ugwzs15F0tPt9fnQq5mZWYaD0szMLMNBaWZmluGgNDMzy3BQmpmZZTgozczMMhyUZmZmGQ5KMzOzDN9woI9pnTWXEcdManQZ1kPaxu/R6BLM+jyPKM3MzDIclGZmZhkOSjMzswwHpZmZWYaD0szMLMNBaWZmluGgNDMzy3BQmpmZZTgozczMMhyUZmZmGQ5KMzOzDAelmZlZhoPSzMwso6mCUtJiSdMlPSzpIUn/KWmF1LeKpMsktUqaKekvkgZVLfeQpAckfTK1j5D0Zup7RNJ5lfVVbXdeaXp3SU9IGt5Tn9vMzJpXsz1m682IGA0gaR3gcmB14ATgSOCliBiZ+jcGFtZYbhfgv4EdUt+TETFaUn/gVmAf4NpaG5f0GeAsYJeIeLqegiX1j4hFnf6kZmbWKzTViLIsImYD44AjJAkYCswq9T8eEW/VWHR14NUa61sE3AV8tNb2JG0PTAT2jIgn02h0Zqn/KEknpunbJU2Q1AIcKekiSfuV5p2Xfo6VNEXSJEmPl0e0kuZJ+mkaPd8iae3Susek6SGS2ureaWZm1uWaNigBIuIpoB+wDnAhcLSkuyWdLGmj0qwD0+HVx4BfAj+qXpekVYDPAK01NjUAuA7YJyIeq7O8lSJiTESc2cF82wLfBDYFNgQ+l9pXBVoiYjPgDopR81KRNE5Si6SWxQvmLu1qzMyshqYOyrKImA5sAJwOrAncL+mfUvebETE6IjYBdgUuSaNQgA0lTQfuBCZFxB9qrH4hxWjzsE6UdFWd890XEU9FxGLgCmC71L6ktI5LS+2dFhHnp9Ae02+VwUu7GjMzq6HZzlG+h6QNgMXAbICImEdxfvFaSUuA3YFHy8tExN2ShgBrp6YnK+cvM5YA+wO3SDo2Ik4BFvHePyRWrlpmfmn6nXnTodWVyiVVLVf9vrq9vN3qbZqZWQ9r2hFlOmd3HnB2RISkT0laI/WtRHEo830X3EjahOJw7f92ZnsRsQDYAzhY0mHAS8A6ktaSNADYM7N4G7B1mt4LWLHUt62kj6QAPQD4S2pfAaic1/xCqb28rnfOe5qZWWM024hyYDpMuiLFyOrXwE9S34bAuemQ6grAJOCaquUABBwSEYvfPfpan4h4RdKuwBTgZeCHwH0UFxHlzl1OBK6X9BDwR9472rwfOJviIqLbgN+l9vkUIXocxYj5gNR+BnC1pHHpM5qZWQMpor0jgbasJI0FjoqI941GJc2LiEFdvc0BQzeKoYdM6OrVWpNqG79Ho0sw6xMkTYuIMbX6mvbQq5mZWTNotkOvfUpE3A7c3k5fl48mzcys63lEaWZmluGgNDMzy3BQmpmZZTgozczMMhyUZmZmGQ5KMzOzDAelmZlZhoPSzMwswzcc6GNGDhtMi29rZmbWZTyiNDMzy3BQmpmZZTgozczMMhyUZmZmGQ5KMzOzDAelmZlZhoPSzMwsw9+j7GNaZ81lxDGTGl2G9UFt/n6uLac8ojQzM8twUJqZmWU4KM3MzDIclGZmZhkOSjMzswwHpZmZWYaD0szMLMNBaWZmluGgNDMzy3BQmpmZZTgozczMMhyUZmZmGQ5KMzOzjG4LSkkh6dLS+/6SXpZ041Kur03SkBrtAyTdLGm6pAMk/VLSpstSewc1tEqaIekOScM7mH9se5+3O+s0M7Ou052P2ZoPbC5pYES8CewMzOqG7WwJEBGj0/urumKlkvpHxKIaXTtGxBxJJwHHAV9bmvVHxFeXqUAzM+sR3X3odTJQeYjdQcAVlQ5JJ0o6qvR+pqQRklaVNEnSQ6ntgNL6vinpgTSq20TSOsClwDZpRLmhpNsljUnr/IqkJyTdJ2mipLNT+0WS9itte176OVbSVEk3AI908NnuBoal5Uak5R5Ir0+W5hsk6beSHpN0mSSlZcp1zpN0uqSH0+h429T/lKS96t/dZmbW1bo7KK8EDpS0MjAKuLeOZXYFno+ILSJic+CPpb45EbEVcC5wVETMBr4KTI2I0RHxZGVGSUOBk4BPAdsB9R7m3Ao4MiI+Vked16Xp2cDOqbYDgLNK820JfDttf4NUT7VVgVsjYjPgDeBkihH4vsAPOypY0jhJLZJaFi+Y29HsZmbWCd0alBExAxhBMZqcXOdircDOkk6V9OmIKP/mvzb9nJbWm/Nx4PaIeDki3qb+Q7L3RcTfM/23SZoF7Ma7I+QVgYmSWoHf8N5Qvi8inouIJcD0dup+m3f/IGgF7oiIhWm61vzvERHnR8SYiBjTb5XBHc1uZmad0BNXvd4AnEHpsGuyqGr7KwNExBMUo7pW4GRJx5fmeSv9XMyynV99Z9uSVgBWKvXN72DZHYHhFKF3Umr7DvASsAUwpmp9b5Wm26t7YUREml5SWSaFa3eeRzYzsw70RFBeCJwUEa1V7W0UgYikrYCPpOn1gAURcSlwemWepXAvsIOktSStCPxr1ba3TtN7UYwI65Yu8vk28GVJawKDgRdSsH0J6LeUNZuZWZPp9tFKRDzHe8/ZVVxDETQPU4TaE6l9JHC6pCXAQuAbS7ndFySdSHHRzWsUI8CKicD1kh6iOOTZ0SiyvfVfAfwHcA5wjaQvL+36zMysOendI359m6RDgTERcUSja+lOA4ZuFEMPmdDoMqwPahu/R8czmfVSkqZFxJhafb4zj5mZWcZyc6FIRFwEXNTgMszMrJfxiNLMzCzDQWlmZpbhoDQzM8twUJqZmWU4KM3MzDIclGZmZhkOSjMzswwHpZmZWcZyc8OB5cXIYYNp8a3GzMy6jEeUZmZmGQ5KMzOzDAelmZlZhoPSzMwsw0FpZmaW4aA0MzPLcFCamZllOCjNzMwyfMOBPqZ11lxGHDOp0WVYH9TmG1nYcsojSjMzs4wOg1KF9XuiGDMzs2bTYVBGRACTe6AWMzOzplPvodcHJG3TrZWYmZk1oXov5vk4cLCkp4H5gCgGm6O6rTIzM7MmUG9Q7tKtVZiZmTWpug69RsTTwPrATml6Qb3LmpmZ9WZ1hZ2kE4Cjge+nphWBS7urKDMzs2ZR76hwX2AvivOTRMTzwGrdVZSZmVmzqDco305fEwkASat2X0lmZmbNo96gvFrSL4APSPoacDMwsfvKMjMzaw51XfUaEWdI2hl4HdgYOD4iburWyszMzJpAvRfzfBNoiYjvRcRRvSUkJYWkS0vv+0t6WdKNHSy3l6RjOrmteaXp3SU9IWm4pIsk7df56s3MrBnUe+h1XeB+SVdL2lWSurOoLjQf2FzSwPR+Z2BWRwtFxA0RMX5pNijpM8BZwG7pqzRmZtaL1fs9yuOAjYALgEOBv0o6RdKG3VhbV5kMVJ4PdBBwRaVD0pqSrpM0Q9I9kkal9kMlnZ2mL5J0lqS7JD2VGx1K2p7i3O2eEfFkqWv76uUlDZJ0i6QHJLVK2ju1j5D0qKSJkh6W9OdS0JuZWQ+r+6YB6arXF9NrEbAG8FtJp3VTbV3lSuBASSsDo4B7S30nAQ+mW/EdC1zSzjqGAtsBewLtjTQHANcB+0TEY3Us/w9g34jYCtgROLM0Ut8I+HlEbAa8Bnw+9wEljZPUIqll8YK5uVnNzKyT6j1HeaSkacBpwJ3AyIj4BrA1HfwSb7SImAGMoBhNVj8FZTvg12m+W4G1JK1eYzXXRcSSiHiE4jB0LQuBu4DD6lxewCmSZlBcRTys1Pf3iJiepqel+nOf8fyIGBMRY/qtMjg3q5mZdVK993pdE/hc9Tm3iFgiac+uL6vL3QCcAYwF1lqK5d8qTbd3fnYJsD9wi6RjI+KUDpY/GFgb2DoiFkpqA1auMf9iwIdezcwapN6vh5wAIGkd3v1lTkQ8ExGPdlNtXelC4LWIaJU0ttQ+lSKwfpTa50TE60t7rVJELJC0BzBV0ksRcUFm9sHA7BSSOwLDl2qjZmbWreoKSkmfBX4CrAfMpvil/iiwWfeV1nUi4jmKK1GrnQhcmA5/LgAO6YJtvSJpV2CKpJczs14G/F5SK9ACVJ/XNDOzJqDiGp0OZpIeAnYCbo6ILdMI6IsRUet8nDXQgKEbxdBDJjS6DOuD2sbv0fFMZr2UpGkRMaZWX71XvS6MiP8FVpC0QkTcBtRcoZmZWV9S78U8r0kaBEwBLpM0m/QkETMzs76s3hHl3sCbwHeAPwJPAp/trqLMzMyaRb1XvZZHjxd3Uy1mZmZNJxuUkt6geAZl5fsSlSt/RHGznlpfzjczM+szskEZEav1VCFmZmbNqKMR5crA4cBHgRnAhRGxqCcKMzMzawYdXcxzMcXXQFqB3YEzu70iMzOzJtLRxTybRsRIAEkXAPd1f0lmZmbNo6MR5cLKhA+5mpnZ8qijEeUWkl5P0wIGpve+6tXMzJYLHV312q+nCrGuMXLYYFp8T04zsy5T7515zMzMlksOSjMzswwHpZmZWYaD0szMLMNBaWZmluGgNDMzy3BQmpmZZdT1PErrPVpnzWXEMZMaXYaZWY9q68bvj3tEaWZmluGgNDMzy3BQmpmZZTgozczMMhyUZmZmGQ5KMzOzDAelmZlZhoPSzMwsw0FpZmaW4aA0MzPLcFCamZllOCjNzMwyGh6UkuaVpneX9ISk4ZI+KOlKSU9KmiZpsqSP1Vj+B5IeljRD0nRJH+/B2tskDalqGyFpZk/VYGZm3atpnh4i6TPAWcAuwDPAXcDFEXFg6t8CWBd4orTMJ4A9ga0i4q0UWiv1dO1dRVL/iFjU6DrMzOxdDR9RAkjaHpgI7BkRTwI7Agsj4rzKPBHxUERMrVp0KDAnIt5K88yJiOfTOo+XdL+kmZLOl6TUfrukUyXdl0avn07tq0i6WtIjkn4n6V5JY1LfuZJa0sj1pBr1D5T0B0lfq2rfQNKDkraRtK2ku9P7uyRtnOY5VNINkm4FbpE0SNItkh6Q1Cpp7y7ZyWZmtlSaISgHANcB+0TEY6ltc2BaHcv+GVg/Bd45knYo9Z0dEdtExObAQIqRZ0X/iNgW+DZwQmr7d+DViNgU+C9g69L8P4iIMcAoYAdJo0p9g4DfA1dExMRKYwrCa4BDI+J+4DHg0xGxJXA8cEppHVsB+0XEDsA/gH0jYiuKPxjOrIR8eySNS0HesnjB3NysZmbWSc0QlAspDrMe1tkFI2IeRaCNA14GrpJ0aOreMY0KW4GdgM1Ki16bfk4DRqTp7YAr03pnAjNK8+8v6QHgwbSeTUt91wO/iohLSm1rp/aDI+Kh1DYY+E06f/nTqnpuiohX0rSAUyTNAG4GhlEccs7th/MjYkxEjOm3yuDcrGZm1knNEJRLgP2BbSUdm9oe5r0junZFxOKIuD0iTgCOAD4vaWXgHIpR2kiKw7orlxZ7K/1cTAfnaSV9BDgK+ExEjAImVa3rTmDXqlHfXIrzrNuV2n4E3JZGuJ+tWsf80vTBFEG7dUSMBl6qmtfMzHpQMwQlEbEA2AM4WNJhwK3AAEnjKvNIGlU5n1hq21jSRqWm0cDTvBsscyQNAvaro4w7KQIbSZsCI1P76hRBNlfSusBuVcsdD7wK/LzU9jawL/BlSV9IbYOBWWn60Ewdg4HZEbFQ0o7A8DpqNzOzbtI0V71GxCuSdgWmUBxG3ReYIOloivN2bRTnFMsGAf8j6QPAIuBvwLiIeE3SRGAm8CJwfx0lnANcLOkRivOJDwNzI+Kvkh5Mbc9SBGq1I4ELJZ2W1kNEzJe0J3BT+grMaWn9x1GMSttzGfD7dMi4JW3XzMwaRBHR6BqagqR+wIoR8Q9JG1KcH9w4It5ucGmdMmDoRjH0kAmNLsPMrEe1jd9jmZaXNC1dtPk+TTOibAKrALdJWpHigpp/720haWZmXc9BmUTEG0DNvybMzGz51RQX85iZmTUrB6WZmVmGg9LMzCzDQWlmZpbhoDQzM8twUJqZmWU4KM3MzDIclGZmZhkOSjMzswzfmaePGTlsMC3LeM9DMzN7l0eUZmZmGQ5KMzOzDAelmZlZhoPSzMwsw0FpZmaW4aA0MzPLcFCamZll+HuUfUzrrLmMOGZSo8swM+tRbd34/XGPKM3MzDIclGZmZhkOSjMzswwHpZmZWYaD0szMLMNBaWZmluGgNDMzy3BQmpmZZTgozczMMhyUZmZmGQ5KMzOzDAelmZlZxnIXlJJC0qWl9/0lvSzpxvR+XUk3SnpI0iOSJreznsWSpkt6OM37n5JWSH2HSjq7i+o9XNKXu2JdZmbWecvj00PmA5tLGhgRbwI7A7NK/T8EboqInwFIGtXOet6MiNFpnnWAy4HVgRO6stiIOK8r12dmZp2z3I0ok8lA5ZksBwFXlPqGAs9V3kTEjI5WFhGzgXHAEZKUmteT9EdJf5V0WmVeSQdJapU0U9KppfZ5kn6cRqf3SFo3tZ8o6ail/aBmZrZsltegvBI4UNLKwCjg3lLfz4ELJN0m6QeS1qtnhRHxFNAPWCc1jQYOAEYCB0haP63rVGCn1L+NpH3S/KsC90TEFsAU4Gv1fhhJ4yS1SGpZvGBuvYuZmVkdlsugTKPEERSjyclVfX8CNgAmApsAD0paeyk2c0tEzI2IfwCPAMOBbYDbI+LliFgEXAZsn+Z/G7gxTU9L9dX7ec6PiDERMabfKoOXolQzM2vPchmUyQ3AGbz3sCsAEfFKRFweEV8C7ufdMGuXpA2AxcDs1PRWqXsxHZ8PXhgR0Yn5zcysByzPQXkhcFJEtJYbJe0kaZU0vRqwIfBMbkVpxHkecHYp7Gq5D9hB0hBJ/ShGtHcsw2cwM7NuttyOWiLiOeCsGl1bA2dLWkTxh8QvI+L+GvMNlDQdWBFYBPwa+EkH23xB0jHAbYCASRFx/TJ8DDMz62bKD4CstxkwdKMYesiERpdhZtaj2sbv0fFMGZKmRcSYWn3L86FXMzOzDjkozczMMhyUZmZmGQ5KMzOzDAelmZlZhoPSzMwsw0FpZmaW4aA0MzPLcFCamZllOCjNzMwyHJRmZmYZy+1N0fuqkcMG07KM9zw0M7N3eURpZmaW4aA0MzPLcFCamZllOCjNzMwyHJRmZmYZDkozM7MMB6WZmVmGg9LMzCzDQWlmZpahiGh0DdaFJL0BPN7oOjphCDCn0UV0Um+r2fV2v95Ws+t9v+ERsXatDt/Cru95PCLGNLqIeklq6U31Qu+r2fV2v95Ws+vtHB96NTMzy3BQmpmZZTgo+57zG11AJ/W2eqH31ex6u19vq9n1doIv5jEzM8vwiNLMzCzDQWlmZpbhoOxDJO0q6XFJf5N0TKPr6YikNkmtkqZLaml0PdUkXShptqSZpbY1Jd0k6a/p5xqNrLFaOzWfKGlW2s/TJe3eyBrLJK0v6TZJj0h6WNKRqb0p93Om3qbcx5JWlnSfpIdSvSel9o9Iujf9rrhK0kqNrhWy9V4k6e+l/Tu6R+vyOcq+QVI/4AlgZ+A54H7goIh4pKGFZUhqA8ZERFN+8VnS9sA84JKI2Dy1nQa8EhHj0x8ja0TE0Y2ss6ydmk8E5kXEGY2srRZJQ4GhEfGApNWAacA+wKE04X7O1Ls/TbiPJQlYNSLmSVoR+AtwJPBd4NqIuFLSecBDEXFuI2uFbL2HAzdGxG8bUZdHlH3HtsDfIuKpiHgbuBLYu8E19WoRMQV4pap5b+DiNH0xxS/JptFOzU0rIl6IiAfS9BvAo8AwmnQ/Z+ptSlGYl96umF4B7ARUQqeZ9m979TaUg7LvGAY8W3r/HE38DzgJ4M+Spkka1+hi6rRuRLyQpl8E1m1kMZ1whKQZ6dBsUxzGrCZpBLAlcC+9YD9X1QtNuo8l9ZM0HZgN3AQ8CbwWEYvSLE31u6K63oio7N8fp/37U0kDerImB6U10nYRsRWwG/Af6bBhrxHFeYuG/7Vbh3OBDYHRwAvAmY0t5/0kDQKuAb4dEa+X+5pxP9eot2n3cUQsjojRwIcojjxt0uCSsqrrlbQ58H2KurcB1gR69DC8g7LvmAWsX3r/odTWtCJiVvo5G/gdxT/iZvdSOk9VOV81u8H1dCgiXkq/fJYAE2my/ZzORV0DXBYR16bmpt3Ptept9n0MEBGvAbcBnwA+IKlyr++m/F1RqnfXdMg7IuIt4Ff08P51UPYd9wMbpavZVgIOBG5ocE3tkrRquhgCSasC/wLMzC/VFG4ADknThwDXN7CWulQCJ9mXJtrP6eKNC4BHI+Inpa6m3M/t1dus+1jS2pI+kKYHUlzs9yhFAO2XZmum/Vur3sdKfzSJ4nxqj+5fX/Xah6RL0icA/YALI+LHDS6pXZI2oBhFQvEUm8ubrV5JVwBjKR7x8xJwAnAdcDXwYeBpYP+IaJqLZ9qpeSzFIcEA2oCvl87/NZSk7YCpQCuwJDUfS3Her+n2c6beg2jCfSxpFMXFOv0oBkZXR8QP07+/KykOYz4IfDGN1hoqU++twNqAgOnA4aWLfrq/LgelmZlZ+3zo1czMLMNBaWZmluGgNDMzy3BQmpmZZTgozczMMhyUZn2EpJB0Zun9UemG6Mu63gGSbk5PbTigqq/yVIeHJD0h6RJJHyr1T658L24Ztr+epC67GXaqeb+O5zQrOCjN+o63gM9JGtLF690SICJGR8RVNfq/FxFbABtTfCfv1spjmyJi93SHlaUWEc9HhIPNGsZBadZ3LALOB75T3SFphKRb002lb5H04RrzrCnpujTPPZJGSVoHuBTYJo0oN2xv4+kWYz+luIn5bmmdbZKGpDsxTUojz5mVkWnq/++07hZJW0n6k6QnJR1eqn1mmt5MxfMKp6c6N8qs+3hJ96e289NdXao/83gVz5acIampHpFlzcNBada3/Bw4WNLgqvb/AS6OiFHAZcBZNZY9CXgwzXMsxTMtZwNfBaamEeWTddTwAO+/8fauwPMRsUV6TuYfS33PpJtgTwUuori12j+neqodDvwszT+G4skX7a377IjYJlejxnMAAAHcSURBVLUNBPYsr0jSWhS3m9ssfeaT6/hsthxyUJr1IelJFpcA36rq+gRweZr+NbBdjcW3S31ExK3AWpJWX4oy3jdyo7jl286STpX06YiYW+q7oTTPvRHxRkS8DLxV4/zm3cCxko4GhkfEm5l17yjpXkmtFM9f3KxqXXOBfwAXSPocsGApPqstBxyUZn3PBOAwYNUGbX9LihtvvyMingC2ogi1kyUdX+qu3GN0SWm68r5/6T0RcTmwF/AmMFnSTrXWLWll4Bxgv4gYSfFEj5Wr1rWI4ikUv6UYbZZHuWbvcFCa9THp5uFXU4RlxV0UT5QBOJjiMGe1qakPSWOBOdXPhsxR4VvAUKpCR9J6wIKIuBQ4nSLYOi3dzPupiDiL4okXo9pZdyUU56h4duT7LgZK7YMjYjLFed0tlqYm6/v6dzyLmfVCZwJHlN5/E/iVpO8BLwNfqbHMicCFkmZQHIY8pMY8tZwu6b+AVYB7gB0j4u2qeUam+ZYAC4Fv1PtBquwPfEnSQoqLhk6heJjve9YdEa9JmkjxOKYXKR5DV2014Po0+hTw3aWsyfo4Pz3EzMwsw4dezczMMhyUZmZmGQ5KMzOzDAelmZlZhoPSzMwsw0FpZmaW4aA0MzPL+D+z1mkbtQEZxAAAAABJRU5ErkJggg==\n"
          },
          "metadata": {
            "needs_background": "light"
          }
        }
      ],
      "source": [
        "#Best wicket Keeper\n",
        "x_wicketkeeper = wkd['Player Name'][0:5]\n",
        "y_wicketkeeper = wkd['Dismissals'][0:5]\n",
        "plt.ylabel('Player')\n",
        "plt.xlabel('No of Dismissals')\n",
        "plt.title('Top_5_WeeketKeepers')\n",
        "plt.barh(x_wicketkeeper,y_wicketkeeper)\n",
        "plt.show()"
      ]
    },
    {
      "cell_type": "code",
      "execution_count": 111,
      "metadata": {
        "id": "COb-aHHZzW93",
        "outputId": "bc302f5a-85d4-4acc-8107-9c7ab68aed98",
        "colab": {
          "base_uri": "https://localhost:8080/",
          "height": 264
        }
      },
      "outputs": [
        {
          "output_type": "display_data",
          "data": {
            "text/plain": [
              "<Figure size 432x288 with 1 Axes>"
            ],
            "image/png": "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\n"
          },
          "metadata": {}
        }
      ],
      "source": [
        "#Percentage of matches conducted in diffrent venue's visulization\n",
        "hosts_no_data = champion_data['Host']\n",
        "hosts_no_data = hosts_no_data.value_counts()\n",
        "x_host = hosts_no_data.index\n",
        "y_host = hosts_no_data.values\n",
        "plt.title('Percentage of matches conducted in diffrent veniues')\n",
        "plt.pie(y_host,labels=x_host,explode=(0.1,0,0,0,0),colors=['orange', 'pink', 'yellow', '#ADD8E6', '#7eb54e'],shadow=True,autopct='%1.0f%%')\n",
        "plt.show()"
      ]
    },
    {
      "cell_type": "code",
      "execution_count": 112,
      "metadata": {
        "id": "kCpUMDONsQxX",
        "outputId": "0d427bbd-7fb9-459f-c4e2-b3670137cc86",
        "colab": {
          "base_uri": "https://localhost:8080/",
          "height": 176
        }
      },
      "outputs": [
        {
          "output_type": "display_data",
          "data": {
            "text/plain": [
              "<Waffle size 432x288 with 1 Axes>"
            ],
            "image/png": "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\n"
          },
          "metadata": {
            "needs_background": "light"
          }
        }
      ],
      "source": [
        "#champions visulization\n",
        "champion_no_data = champion_data['Champion']\n",
        "champion_no_data = champion_no_data.value_counts()\n",
        "fig_champion = plt.figure(\n",
        "    FigureClass = Waffle,\n",
        "    rows = 2,\n",
        "    values = champion_no_data.values,\n",
        "    labels = list(champion_no_data.index),\n",
        "    legend={\n",
        "        'loc': 'lower left',\n",
        "        'bbox_to_anchor': (0.2, -0.4),\n",
        "        'ncol': len(champion_no_data)\n",
        "    },\n",
        "    title={\n",
        "        'label': 'Champions of asia cup',\n",
        "        'loc': 'center'\n",
        "    },\n",
        ")"
      ]
    },
    {
      "cell_type": "code",
      "execution_count": 113,
      "metadata": {
        "id": "5JzvHqxs1Cas",
        "outputId": "262b6dfa-c754-402e-e57a-39dee1d5edf3",
        "colab": {
          "base_uri": "https://localhost:8080/",
          "height": 295
        }
      },
      "outputs": [
        {
          "output_type": "display_data",
          "data": {
            "text/plain": [
              "<Figure size 432x288 with 1 Axes>"
            ],
            "image/png": "iVBORw0KGgoAAAANSUhEUgAAAaAAAAEWCAYAAAAgpUMxAAAABHNCSVQICAgIfAhkiAAAAAlwSFlzAAALEgAACxIB0t1+/AAAADh0RVh0U29mdHdhcmUAbWF0cGxvdGxpYiB2ZXJzaW9uMy4yLjIsIGh0dHA6Ly9tYXRwbG90bGliLm9yZy+WH4yJAAAgAElEQVR4nO3dd7wdVb338c+XlgSCCRDMPYRyhCChR0BKDB0VNDTBgqjkXqXowyOKIiBcRaTEio+CBR40ImjoECIXETRIkZJAChCQLsRICJCQgPTf/WOtI8Nm71OSfc7KDt/363VeZ8qamTV7Zs93r5nZsxURmJmZ9bXlSlfAzMzenhxAZmZWhAPIzMyKcACZmVkRDiAzMyvCAWRmZkU4gAqRdI+kXbpZ9lFJe/RylRabpEWS1u+iTLukkLRCX9VrcfTFay1prKSbenMZeTnjJZ3S28tZEpLeJ+mBvA/tV7o+zSBpsqTPla5HK3AA9YJ6B7Hag05EbBoRk/u8cm/U5yRJ5zdjXhExMCIebsa8ai1JcLVK6C2JfLB7MR/A50m6TFJb6Xr1wMnAmXkfuqJ0ZUqQ9A5JP5L097wdH8r9Q3p5uX3yQagzDiCz1ndkRAwE3g0MBs4oVZHFCPv1gHsazEuSluljlKSVgOuBTYE9gXcAOwBPA9sWrBoAkpbvzfkv0xt3aVZtJUkaIOnXkp6VNEvS1yQ9UTPJSEkzJC2QdKGk/pV5jZE0TdJ8SbdI2qIy7lhJsyUtlHS/pN0l7Ql8Hfh4/sQ1vU79/lPSVZX+ByRdXOl/XNLI3B2ShlfW5QeSHst1vUnSgDrzPyC/BptJWk7ScfmT39OSLpK0ei76l/x/fq7rDpKGS7ohz3+epAsbvMz1pt1A0p/ycuZJukDS4AbbaGNJj0g6qBuv86OSvtpoG9Wfvc7MZe+TtHse+FFJU2sKHi3pyk7mBUBEPANcCmxWZ2GrSZok6am8n02StHZ3limpn6Tv50/oT0r6ecc2lbSLpCfyfvZP4FeShuT5z5f0jKQb6wWJpIeA9YGr8vbpp9SiO1XSzcALwPqSRkm6I79Wd0gaVZnHZEmn5O2xSNJVktbI2/W5XL69k42wfZ52vqTpqpwWz++BWfm987Ckw2um3TfvD8/lfXfPyuj1JN2cp71WjVsznwHWBfaPiHsj4vWImBsR346Iq/NyNs7rOV/p1P0+Nev/uUr/m1o1Su/NI5Tev/MlnaVkY+DnwA75dZufy4+X9DNJV0t6Hjg6b/PlK/P8iOocMxZLRPivyX/Ao8AeNcPGAjfVKwOMA24AVgPWBmYAT9SUvR1YC1gdmAUckce9B5gLbAcsDxySy/cDNgIeB9bKZduBDXL3ScD5nazD+sB80oeUtYDHOuqUxz0LLJf7Axieu88CJgPDcn1G5bq053IrAP8JPFiZ5ijg1rzu/YBfAL+r1DmAFSp1+x1wQq5bf2B0g3WoN+1w4P15OWuSQupHtdsF2Ar4OzCmq9e5q21Up15jgVeBLwMrAh8HFuTp+gHPABtXyt8FHNBgXpOBz+XuIcCfgN/k/vHAKbl7DeAAYGVgVeBi4Io8rtNlklpUE3P9VgWuAk7P43bJ6/KdPJ8BwOmkg9uK+W9HQN15r+T1+TupRbACMJS0r3069x+U+9eolH8Q2AAYBNwL/C1vwxWA84BfNVj2MFJL40Okfen9uX/NPP7Deb4CdiYF4lZ53LZ5m70/TzsMGFGp00OkFumA3D+uQR0mAL/u5H24Yl6/rwMrAbsBC4GNard/g+NMAJNILeN1gaeAPeuVrewzC4D38cb7615gr0qZy4GvNOVY2YyZ+K/um2oR6QDe8fcCjQPoYeCDlXGf460B9KlK/3eBn+funwHfrln+/fkNM5x00NwDWLGmzEl0EkC5zOOkA/EngLNJB9gRpACZWCkXeVnLAf8Ctqwzr/Zc7qt5h167Mm4WsHulvw14hXQA6ZiuGiLn5fqs3UX93zJtnTL7AXfVvNbfAp4AdqkMb/g6d7WN6ixzLPAPKgfl/Np+urKsU3P3pqQDbr8G85qc9635wGzgAt44gI4nB1Cd6UYCz9as31uWSTr4Pk/+4JLH7wA8krt3AV4G+lfGnwxcSf6A0Y33Sm0AnVzp/zRwe800fwXGVsqfUBn3A+B/Kv17A9MaLPtYclhXhv0BOKRB+SuAo3L3L4AzOtkmJ1b6vwBc06DsH2kQTnn8jsA/yR/28rDfASdVltVVAI2u9F8EHFevbGWfOa/O63RB7l49729tXW3b7vz5FFzv2S8iBnf8kXbCRtYiHew7PF6nzD8r3S8AA3P3esBXcvN6fm5Kr0Nq9TwIfIkUNnMlTZC0Vg/W4QbSAWan3D2ZFGw75/5aQ0ifmB7qZJ7HAGdFRPUU43rA5ZX6zwJeI336redrpAPj7fmUxH91d4UkDc2vw2xJzwHn53pXHQHcEm++SaTh61wp02gb1TM78js6e6wyr18Dn5Qk0gH4ooh4qZN5fTHvZ8Mi4uCIeKq2gKSVJf1C6dToc6SW3+DKqZVGy1yT1GqaWlnva/LwDk9FxIuV/u+RPrVfm09dHddJ3eup7v8dre+qx0gtjg5PVrr/Vae/0XZYD/hozTYdTfoAhKS9JN2aTyPOJ7WUOvaVdeh8P+/uvvB0x/IaWAt4PCJerwyrXf+u9GS/hLcef84H9pa0CvAx4MaImNOD5TfkAFo6zCGdfuqwTg+mfZz0yXVw5W/liPgdQET8NiJGk95sQTpVQu7uSkcA7Zi7b6DzAJoHvEg6bdHIB4ATJR1Qsw571axD/4iYXa+eEfHPiDg0ItYCDgd+qnwNqrZonWGn5eGbR8Q7gE+RwqzqCGBdSdWL+Z2+zothWD7Yd1iX1CoiIm4ltSp2BD4J/GYxl1H1FdIp2e3yeu+Uh6uLZc4jHcQ3raz3oEg3PXR40+scEQsj4isRsT6wD+k6wu49qGt1fv8g7btV65Jae0vqcVILqLpNV4mIcZL6ka6nfR8Ymj9EXs0b+8rjdL6fd9d1wAfzwb2efwDr1FxDq67/86QPCB3+owfLbnQMqN2es0mtzo+QPpw0Y38EHEBLi4uA45UuFA8DjuzBtOcAR0jaLl9cXEXShyWtKmkjSbvlN9OLpANJxyepJ4F2dX6X0Q3ArsCA3GK5kXSnzhqkawRvkj+l/RL4oaS1JC2vdOG/X6XYPXkeZ1Uupv4cOFXSegCS1pS0bx73VK7zv79npHTRvCOwnyW9YaqfEGk0LekaxiJgQX6tj6kz3cJcx50kjcvDGr7OdabvjncCX5S0oqSPAhuTDnAdzgPOBF6JiGbcKrsqafvPV7rB45t1yrxlmXmbngOcIemdAJKGSfpgowUp3awxPAfsAlJrtt726Y6rgXdL+qSkFSR9HNiEdF1jSXV8sv9g3lf7K91UsTbpeks/0j70qqS9SB+eOpwL/KfSTT3L5ddkxGLU4TekMLtU0og8rzUkfV3Sh4DbSK2Wr+V9ZRfSacUJefppwEdyC3c48NkeLPtJYG2lO/G6ch7pzMPmwGU9WEanHEBLh5NJ1xweIX0iugTo7JTLv0XEFOBQ0oHjWdKpj7F5dD/SDQ7zSM3wdwLH53Edd7Q9LenOBvP+G+lgfWPuf450vermiHitQZW+CswE7iBd2P4ONftZREwHxgDn5Df2/yNd5L5W0kLSDQnb5bIvAKcCN+fTJNsD7wVuk7QoT3dU1PkeUoNpv0W6rrUA+D0N3kwRMZ90gXkvSd/u4nVeHLcBG5K2zanAgRHxdGX8b0h3szXlu1rAj0gXxOeRXt9r6pRptMxjSet7az59dx2pNdXIhrnMItIn559GxJ8Xp9L5NRlDasE9TToIjomIeYszv5p5Pw7sS7rA/xQpCI4hXW9ZCHyR9OHwWVKrcGJl2ttJ10LPIO1LN/DWllp36vAS6RrtfaTrQc+RrgcOAW6LiJdJgbMXadv9FPhMRNyXZ3EGqeX6JOk06gU9WPyfSB8I/ympq9fzcvKp8vy+agq9+TS0LQ0kfR74RETsXLouVobSbc5zSXddPbCsLtNah9Jt84dHxHXNmqdbQEsBSW1KjyRZTtJGpE97l5eulxX1eeCOPg6CEsu0FpCv2Qap1dQ0y+wjSlrMSqTbOt9Fup12AqmpbW9Dkh4lXezus2ejlVimtQZJk0nX3T5dczfeks/bp+DMzKwEn4IzM7MifAqum4YMGRLt7e2lq2Fm1lKmTp06LyLWrDfOAdRN7e3tTJkypXQ1zMxaiqTaJ1n8m0/BmZlZEQ4gMzMrwgFkZmZFOIDMzKwIB5CZmRXhADIzsyIcQGZmVoQDyMzMivAXUbtp9oNzOH7MqaWrYV04fdIJpatgZt3kFpCZmRXhADIzsyIcQGZmVoQDyMzMinAAmZlZEQ4gMzMrwgFkZmZFOIDMzKwIB5CZmRXhADIzsyIcQGZmVoQDyMzMinAAmZlZEd0KIEn7SQpJI3L/mpJuk3SXpB07mW68pAObUVFJJ0vao4s6btKMZZmZWe/rbgvoIOCm/B9gd2BmRLwnIm7slZrViIhvRMR1nRTZD3AAmZm1iC4DSNJAYDTwWeATkkYC3wX2lTRN0gBJn5X0N0m3SzpH0pmVWewk6RZJD3e0hiQNlHS9pDslzZS0bx7eLmlWnsc9kq6VNCCPG1+ZfpykeyXNkPR9SaOAfYDv5TptIOlQSXdImi7pUkkrV+bz49o6mZlZ3+pOC2hf4JqI+BvwNLA88A3gwogYCawG/DewPfA+YETN9G2kABsDjMvDXgT2j4itgF2BH0hSHrchcFZEbArMBw6ozkzSGsD+wKYRsQVwSkTcAkwEjomIkRHxEHBZRLw3IrYEZpECtLM6vYWkwyRNkTTlhZef78ZLZWZm3dWdADoImJC7J/DGabgO2wI3RMQzEfEKcHHN+Csi4vWIuBcYmocJOE3SDOA6YFhl3CMRMS13TwXaa+a3gBRg50r6CPBCg3pvJulGSTOBg4FNu6jTW0TE2RGxTURss/JKqzQqZmZmi6HTn+SWtDqwG7C5pCC1fgK4pwfLeKk6y/z/YGBNYOuIeEXSo0D/OuVfAwZUZxYRr0ralnQd6kDgyFzHWuOB/SJiuqSxwC5d1MnMzPpQVy2gA4HfRMR6EdEeEesAjwDrVMrcAewsaTVJK1BzyqyBQcDcHD67Aut1t8L5mtSgiLga+DKwZR61EFi1UnRVYI6kFUmBZ2ZmS5GuAugg4PKaYZcCx3f0RMRs4DTgduBm4FHSabLOXABsk0+PfQa4r/tVZlVgUj59dxNwdB4+ATgm3xq+Aem61G25Tj2Zv5mZ9QFFxJLPRBoYEYtyC+hy4JcRURtcLa1t8LAYO/oLpathXTh90gmlq2BmFZKmRsQ29cY160kIJ0maBtxNOkV3RZPma2Zmy6hOb0Loroj4ajPmY2Zmbx9+FpyZmRXhADIzsyIcQGZmVoQDyMzMinAAmZlZEQ4gMzMrwgFkZmZFOIDMzKyIpnwR9e1g2PA2P+bFzKyJ3AIyM7MiHEBmZlaEA8jMzIpwAJmZWREOIDMzK8IBZGZmRTiAzMysCH8PqJtmPziH48ecWroaZtYJf1evtbgFZGZmRTiAzMysCAeQmZkV4QAyM7MiHEBmZlaEA8jMzIpwAJmZWREOIDMzK8IBZGZmRTiAzMysCAeQmZkV4QAyM7MiHEBmZlZEtwJI0muSpkmaLulOSaOaXRFJu0ia1MNpJkvaZjGWNV7SgT2dzszMmqe7P8fwr4gYCSDpg8DpwM69ViszM1vmLc4puHcAzwJIGijp+twqmilp3zy8XdIsSedIukfStZIG5HHvlTQjt6i+J+nu2gVI2lbSXyXdJekWSRvl4QMkTcjzvhwYUJnmA3maOyVdLGlgHj5O0r15md+vLGanPO+H3RoyM+t73W0BDZA0DegPtAG75eEvAvtHxHOShgC3SpqYx20IHBQRh0q6CDgAOB/4FXBoRPxV0rgGy7sP2DEiXpW0B3Banv7zwAsRsbGkLYA7AfKyTwT2iIjnJR0LHC3pLGB/YEREhKTBlWW0AaOBEcBE4JLaSkg6DDgM4B0DBnXzpTIzs+5YnFNwOwDnSdoMEHCapJ2A14FhwNA8zSMRMS13TwXacwCsGhF/zcN/C4yps7xBwK8lbQgEsGIevhPwY4CImCFpRh6+PbAJcLMkgJWAvwILSCF5br6+VL3GdEVEvA7cK2kodUTE2cDZAG2Dh0UXr5GZmfVAj3+SO7dchgBrAh/K/7eOiFckPUpqJQG8VJnsNSqny7rh28CfI2J/Se3A5C7KC/hjRBz0lhHStsDuwIHAkbzReqvWTz2om5mZNUGPrwFJGgEsDzxNaqnMzeGzK7BeZ9NGxHxgoaTt8qBPNCg6CJidu8dWhv8F+GSux2bAFnn4rcD7JA3P41aR9O58HWhQRFwNfBnYstsramZmvaqn14AgtRYOiYjXJF0AXCVpJjCFdO2mK58FzpH0OnAD6TRZre+STsGdCPy+MvxnwK8kzQJmkU7tERFPSRoL/E5Sv1z2RGAhcKWk/rneR3dzfc3MrJcpom8vbUgaGBGLcvdxQFtEHNWnlVgMbYOHxdjRXyhdDTPrxOmTTihdBashaWpE1P2+Zo+vATXBhyUdn5f9GG8+xWZmZm8TfR5AEXEhcGFfL9fMzJYufhacmZkV4QAyM7MiHEBmZlaEA8jMzIpwAJmZWREOIDMzK8IBZGZmRTiAzMysiBJPQmhJw4a3+TEfZmZN5BaQmZkV4QAyM7MiHEBmZlaEA8jMzIpwAJmZWREOIDMzK8IBZGZmRTiAzMysCH8RtZtmPziH48ecWroaZtYJf1m8tbgFZGZmRTiAzMysCAeQmZkV4QAyM7MiHEBmZlaEA8jMzIpwAJmZWREOIDMzK8IBZGZmRTiAzMysCAeQmZkV4QAyM7MiWiqAJC3qYfldJE3K3ftIOq53amZmZj31tnkadkRMBCaWroeZmSUt1QLqkFs2kyVdIuk+SRdIUh63Zx52J/CRyjRjJZ2Zu/eWdJukuyRdJ2looVUxM3vbaskAyt4DfAnYBFgfeJ+k/sA5wN7A1sB/NJj2JmD7iHgPMAH4Wr1Ckg6TNEXSlBdefr7Z9Tcze1tr5VNwt0fEEwCSpgHtwCLgkYh4IA8/HziszrRrAxdKagNWAh6pt4CIOBs4G6Bt8LBo9gqYmb2dtXIL6KVK92v0LEx/ApwZEZsDhwP9m1kxMzPrWisHUD33Ae2SNsj9BzUoNwiYnbsP6fVamZnZWyxTARQRL5JOuf0+34Qwt0HRk4CLJU0F5vVR9czMrKKlrgFFxMD8fzIwuTL8yEr3NcCIOtOOB8bn7iuBK3uzrmZm1rllqgVkZmatwwFkZmZFOIDMzKwIB5CZmRXhADIzsyIcQGZmVoQDyMzMinAAmZlZEQ4gMzMrwgFkZmZFOIDMzKyIlnoWXEnDhrdx+qQTSlfDzGyZ4RaQmZkV4QAyM7MiHEBmZlaEA8jMzIpwAJmZWREOIDMzK8IBZGZmRfh7QN00+8E5HD/m1NLVMLOlmL8r2DNuAZmZWREOIDMzK8IBZGZmRTiAzMysCAeQmZkV4QAyM7MiHEBmZlaEA8jMzIpwAJmZWREOIDMzK8IBZGZmRTiAzMysiD4LIEmvSZom6W5JF0tauZOyJ0n6ap3hJ0vao5Pp9pO0SbPqbGZmvacvW0D/ioiREbEZ8DJwRE9nEBHfiIjrOimyH+AAMjNrAaVOwd0IDJe0t6TbJN0l6TpJQ2sLSjpU0v9IGiBpvKQD8/Bxku6VNEPS9yWNAvYBvpdbWhvkae+QNF3SpR2trjyfH0u6RdLDHfM0M7O+0+cBJGkFYC9gJnATsH1EvAeYAHytpuyRwBhgv4j4V2X4GsD+wKYRsQVwSkTcAkwEjsktrYeAyyLivRGxJTAL+Gxl9m3A6Dz/cQ3qepikKZKmvPDy881YfTMzy/ryB+kGSJqWu28EzgU2Ai6U1AasBDxSKf8Z4HFS+LxSM68FwIvAuZImAZMaLHMzSacAg4GBwB8q466IiNeBe+u1vAAi4mzgbIC2wcOie6tpZmbdUeIa0MiI+L8R8TLwE+DMiNgcOBzoXyk/E2gH1q6dUUS8CmwLXEJqwVzTYJnjgSPz/L9VM/+XKt1arDUyM7PFVvo27EHA7Nx9SM24u0ihNFHSWtURkgYCgyLiauDLwJZ51EJg1UrRVYE5klYEDm5y3c3MbAmUDqCTgIslTQXm1Y6MiJuArwK/lzSkMmpVYJKkGaTrSEfn4ROAY/JNDRsA/w3cBtwM3Ndra2FmZj2mCF/a6I62wcNi7OgvlK6GmS3FTp90QukqLHUkTY2IbeqNK90CMjOztykHkJmZFeEAMjOzIhxAZmZWhAPIzMyKcACZmVkRDiAzMyvCAWRmZkU4gMzMrAgHkJmZFeEAMjOzIvry94Ba2rDhbX7Ok5lZE7kFZGZmRTiAzMysCAeQmZkV4QAyM7MiHEBmZlaEA8jMzIpwAJmZWRH+HlA3zX5wDsePObV0NczM+lRvfv/RLSAzMyvCAWRmZkU4gMzMrAgHkJmZFeEAMjOzIhxAZmZWhAPIzMyKcACZmVkRDiAzMyvCAWRmZkU4gMzMrAgHkJmZFdFrASTpBEn3SJohaZqk7RqUO1nSHnWGj5d0YBPqMVnSNks6HzMza65eeRq2pB2AMcBWEfGSpCHASnXKLR8R3+iNOpiZ2dKtt1pAbcC8iHgJICLmRcQ/ACQ9Kuk7ku4EPtqTlo6kgZKul3SnpJmS9s3D2yXNknRObnVdK2lAzbTL5WWdkvuvkDQ1lz+smStvZmZd660AuhZYR9LfJP1U0s4145+OiK0iYkIP5/sisH9EbAXsCvxAkvK4DYGzImJTYD5wQGW6FYALgAci4sQ87L8iYmtgG+CLktaoXZikwyRNkTTlhZef72FVzcysM70SQBGxCNgaOAx4CrhQ0thKkQsXc9YCTpM0A7gOGAYMzeMeiYhpuXsq0F6Z7hfA3RFR/UW5L0qaDtwKrEMKsNr1ODsitomIbVZeaZXFrLKZmdXTazchRMRrETE5Ir4JHMmbWySL25w4GFgT2DoiRgJPAv3zuJcq5V7jzde3bgF2ldQfQNIuwB7ADhGxJXBXZT5mZtYHeiWAJG0kqdqiGAk81oRZDwLmRsQrknYF1uvmdOcCVwMXSVohz+fZiHhB0ghg+ybUzczMeqBX7oIDBgI/kTQYeBV4kHQ6rqd+IelHuftxYG/gKkkzgSnAfd2dUUT8UNIg4DfAWOAISbOA+0mn4czMrA8pIkrXoSW0DR4WY0d/oXQ1zMz61OmTTlii6SVNjYi638X0kxDMzKwIB5CZmRXhADIzsyIcQGZmVoQDyMzMinAAmZlZEQ4gMzMrwgFkZmZFOIDMzKwIB5CZmRXhADIzsyJ662Gky5xhw9uW+JlIZmb2BreAzMysCAeQmZkV4QAyM7MiHEBmZlaEA8jMzIpwAJmZWREOIDMzK8IBZGZmRTiAzMysCEVE6Tq0BEkLgftL16PJhgDzSleiyZbFdYJlc728Tq1hSddpvYhYs94IP4qn++6PiG1KV6KZJE3xOrWGZXG9vE6toTfXyafgzMysCAeQmZkV4QDqvrNLV6AXeJ1ax7K4Xl6n1tBr6+SbEMzMrAi3gMzMrAgHkJmZFeEA6gZJe0q6X9KDko4rXZ9mkPSopJmSpkmaUro+i0PSLyXNlXR3Zdjqkv4o6YH8f7WSdeypBut0kqTZeVtNk/ShknXsKUnrSPqzpHsl3SPpqDy8ZbdVJ+vUsttKUn9Jt0uantfpW3n4uyTdlo9/F0paqWnL9DWgzklaHvgb8H7gCeAO4KCIuLdoxZaQpEeBbSKiZb80J2knYBFwXkRslod9F3gmIsblDwurRcSxJevZEw3W6SRgUUR8v2TdFpekNqAtIu6UtCowFdgPGEuLbqtO1uljtOi2kiRglYhYJGlF4CbgKOBo4LKImCDp58D0iPhZM5bpFlDXtgUejIiHI+JlYAKwb+E6GRARfwGeqRm8L/Dr3P1r0kGhZTRYp5YWEXMi4s7cvRCYBQyjhbdVJ+vUsiJZlHtXzH8B7AZckoc3dTs5gLo2DHi80v8ELb6jZQFcK2mqpMNKV6aJhkbEnNz9T2Boyco00ZGSZuRTdC1zqqqWpHbgPcBtLCPbqmadoIW3laTlJU0D5gJ/BB4C5kfEq7lIU49/DqC3r9ERsRWwF/B/8qmfZUqk88vLwjnmnwEbACOBOcAPylZn8UgaCFwKfCkinquOa9VtVWedWnpbRcRrETESWJt09mdEby7PAdS12cA6lf6187CWFhGz8/+5wOWknW1Z8GQ+P99xnn5u4fossYh4Mh8YXgfOoQW3Vb6mcClwQURclge39Laqt07LwrYCiIj5wJ+BHYDBkjqeG9rU458DqGt3ABvmO0FWAj4BTCxcpyUiaZV84RRJqwAfAO7ufKqWMRE4JHcfAlxZsC5N0XGQzvanxbZVvrh9LjArIn5YGdWy26rROrXytpK0pqTBuXsA6carWaQgOjAXa+p28l1w3ZBvpfwRsDzwy4g4tXCVloik9UmtHkhPRP9tK66TpN8Bu5AeF/8k8E3gCuAiYF3gMeBjEdEyF/UbrNMupFM6ATwKHF65drLUkzQauBGYCbyeB3+ddM2kJbdVJ+t0EC26rSRtQbrJYHlS4+SiiDg5Hy8mAKsDdwGfioiXmrJMB5CZmZXgU3BmZlaEA8jMzIpwAJmZWREOIDMzK8IBZGZmRTiAzAqQdIakL1X6/yDp/1f6fyDpG509fV1Se/Wp2d1Y5n6SNln8Wps1lwPIrIybgVEAkpYjfe9n08r4UcC1ETGuicvcD3AA2VLDAWRWxi2kx5xACp67gYWSVpPUD9gY2ELSmQCShkq6PP9Wy3RJo6ozk7S+pLskvVfSBpKuyQ+avVHSiFx+H+B7+XdqNpD0xfx7NjMkTei7VTdLVui6iJk1W0T8Q9KrktYltXb+SnrK8A7AAtI37F+uTPJj4IaI2D//RtVAYDUASRuRvqk+NiKmS7oeOCIiHpC0HfDTiNhN0kRgUkRckqc7DnhXRLzU8QgWs77kADIr5xZS+IwCfkgKoFGkAB+yjIIAAAEqSURBVLq5puxuwGcgPbEYWJAf9b8m6dlcH4mIe/PTmUcBF6fHlQHQr8HyZwAXSLqC9Agjsz7lU3Bm5XRcB9qcdAruVlILaBQpnLpjAfB3YHTuX470+y0jK38bN5j2w8BZwFbAHZUnHpv1CQeQWTm3AGNIP0v9Wn4Q52BSCNUG0PXA5+HfPxo2KA9/mfTU5c9I+mT+TZpHJH00l5WkLXPZhUDHU9CXA9aJiD8DxwKDSKf1zPqMA8isnJmku99urRm2ICLm1ZQ9CthV0kxgKpW72SLieVKQfVnSPsDBwGclTQfu4Y2fkJ8AHCPpLmBD4Pw8v7uAH+ffgDHrM34atpmZFeEWkJmZFeEAMjOzIhxAZmZWhAPIzMyKcACZmVkRDiAzMyvCAWRmZkX8L+JPL9Nb9zAiAAAAAElFTkSuQmCC\n"
          },
          "metadata": {
            "needs_background": "light"
          }
        }
      ],
      "source": [
        "out = ball_data['Wickets']\n",
        "name = ball_data['Country']\n",
        "#Labeling X-axis data\n",
        "plt.xlabel(\"Wickets\")\n",
        "c=\"#784B84\"\n",
        "#Displaying horizontal bars\n",
        "plt.barh(name, out, color=c)\n",
        "plt.title(\"Highest wickets taken by Players from each Country\")\n",
        "plt.show()"
      ]
    },
    {
      "cell_type": "code",
      "execution_count": 114,
      "metadata": {
        "id": "hkyz6OdZ1Cas",
        "outputId": "e7c8d41d-e330-4831-ffa5-07cb594477dd",
        "colab": {
          "base_uri": "https://localhost:8080/",
          "height": 281
        }
      },
      "outputs": [
        {
          "output_type": "display_data",
          "data": {
            "text/plain": [
              "<Figure size 576x288 with 1 Axes>"
            ],
            "image/png": "iVBORw0KGgoAAAANSUhEUgAAAeoAAAEICAYAAACQ4bezAAAABHNCSVQICAgIfAhkiAAAAAlwSFlzAAALEgAACxIB0t1+/AAAADh0RVh0U29mdHdhcmUAbWF0cGxvdGxpYiB2ZXJzaW9uMy4yLjIsIGh0dHA6Ly9tYXRwbG90bGliLm9yZy+WH4yJAAAgAElEQVR4nOzde3xU9Z34/9dnMrcMIYRkEkgy5M6dkICAxWunoi249rKwrW1pu1taWvdHbEtdzbffX6vV/bbWUrUSa0vX/bZu3dZd2W5bUavWuLUVUVEE5CKQG0mAZBJCCJPLTPL5/nFmkgxMCEqYyeS8n49HHmTOZzLz5pNz5pNzPu/z/iitNUIIIYQYnyzxDkAIIYQQI5OBWgghhBjHZKAWQgghxjEZqIUQQohxTAZqIYQQYhyTgVoIIYQYx2SgFqaklMpTSnUppZJi/L4vKaW+FMv3jAWl1NVKqYPxjmM4pZRWSpXEO47RJEqcIn5koBbvmVKqTinVHRrowl9VF/BzH1RKNcYixtForRu01ila6/54x/JehQbFcL+fCX3QD/9d5MU6Jq31y1rr2bF+3/FoPO3nYmKwxjsAkbBu0lq/MNYvqpSyaq2DY/26E4nW+mUgBUApVQDUAmnSb0JMTHJGLcaUUuoRpdTWYY9/oJT6k1JqEvAMkDPszC9HKXWXUupJpdSvlFKdwN8rpZYppbYrpTqUUseUUlVKKXvo9ZRS6gGlVItSqlMptUcptWCEWAqVUn9WSp1WSr2glHpYKfWrUFtB6EzUqpT6lFLqjbN+9htKqd+HvncopTYppRqUUieUUj9VSiWH2j6olGpUSn0zFNMxpdQ/jNJNxUqp10Lx/04plR56rW1KqYqz4titlPrEe+j/KUqpR0NxNCml/jl8eV8pVayUelEp1aaU8imlHldKpQ372Tql1D+F3vNM6HWmKaWeGdaHU0d434izyNBr3RZ6rVNKqSeUUs7zxP1FpdR+pdRJpdQflVL5w9p+rJQ6GuqvnUqpq4e1JSmlvqWUOhKKcadSasawl16hlDoU2pceVkqpEd7/LqXUf4b2w9Oh/WqWUup/hX6vR5VSNwx7/j+E4j2tlKpRSn0ltH2k/XxM4hQmpbWWL/l6T19AHbBihDYX8C7w98DVgA/whNo+CDSe9fy7gADwcYw/HJOBy4APYFzxKQD2A18PPf/DwE4gDVDAXCB7hFi2A5sAO3AV0An8KtRWAOjQe7iA08DMYT/7OnBz6PsHgN8D6cBk4A/A94f9n4LA3YANWAX4gakjxPQS0AQsACYBW4fF9Elgx7DnlgFtgP08v4vB/0fo8W+Bn4VeOwt4DfhKqK0EuB5wAJnAn4EHz/q9vgpMA3KBFuBNYBHgBF4E7hwhjojfbei1XgNyQv22H/jqCD/7MeBw6HdpBf5/4JVh7WuBjFDbN4HjgDPU9k/AHmB2aH8oAzJCbRp4KrSv5AGtwEdGiOEuoAdj/7ICj2Fcqfjfod/rl4HaYc+/ESgOvee1od/54vPs52MSp3yZ8yvuAchX4n2FPoS7gI5hX18e1n450A7UA58etj3aB9hdwJ9Heb+vA78Nff8hjD8EPgBYzvMzeRgDqGvYtl8RZaAe1vad0PczMQZuV+hD9QxQPOx1loc/tEP/p+7w64S2tQAfGCGul4B7hz2eB/QBSRiD4UlCfzBg/JHxk1H6ZvD/gTHA9gLJw9o/DVSP8LMfB9466/f62WGPtwKPDHtcAfz3CK8V8bsNvdbaYY/vA346ws8+A6wb9tiCMfDlj/D8k0BZ6PuDwMdGeJ4Grhr2+D+AyhGeexfw/LDHN2Hs40mhx5NDr5c2ws//N/C18+znYxKnfJnzSy59i/fr41rrtGFfPw83aK13ADUYg9x/XMBrHR3+IHTJ8Sml1HFlXA7/HuAOvfaLQBXwMNCilNqilEqN8po5QLvW2j/S+5zl3zEGNYDPYAxIfowzTxewM3RZsgN4NrQ9rE1Hzg/7Cc0hX8D/tx7jjM2tte4BngDWKqUsoXj+7Tyvc7b80GsdGxbrzzDOrAldxv5N6JJ4J8YfJ+6zXuPEsO+7ozw+3//rbMeHfX++PskHfjws5naMfSc3FPdtocvMp0LtU4bFPQM4MgYxwLn/V58eSjbsDv0bzg1YqZR6VSnVHoppFef25XBjGacwGRmoxZhTSv1/GJdXm4HbhzWNtFTb2dsfAQ5gnFmmAt/C+OA2nqz1Q1rryzDORmdhXFY82zEgXSnlGrZtRpTnhT0PZCqlyjEGyH8PbfdhfEjPH/ZHyRSt9cV8kA6PIw/j0r8v9PiXwGeB6wC/1nr7e3jdoxhn1O5hsaZqreeH2r+H0deloX5dy7B+jaOjGJfnh//hl6y1fiU0H307xrTAVK11GnCKobiPYlyCjhmllAPjasMmYFoopqeHxRRtP495nGLikIFajCml1CzgnzEGgc8Bt4cGPzDOWDKUUlNGeZnJGPPJXUqpOcAtw15/qVLqcqWUDeOSdA8wcPYLaK3rgTeAu5RSdqXUcozLmVFprQPAfwI/xJhTfT60fQD4OfCAUip8ZpqrlPrwKP+H81mrlJoX+iPibuDJ8JlbaGAeAH7EezubRmt9DHgO+JFSKlUpZQklkF0bespkjMu5p5RSuUT/Aycefgr8L6XUfBhMiPu7UNtkjCmMVsCqlPoOMPwKyr8A9yilZirDQqVUxiWO147xh2grEFRKrQRuGNYebT+PR5xigpCBWrxff1CR9+7+Villxbic+gOt9dta60MYZ8P/ppRyaK0PAL8GakKXOXNGeO3bMC4/n8YYJJ8Y1pYa2nYS47JxG8bgGs1nMeaT2zD+eHgC44xzJP8OrAD+86xL2XdgJDu9Grpk/AJGUtD79W/ALwglRQG3ntX+GFCK0Zfv1ecxBpJ9GH30JJAdavsusBjjjHQb8F/v4/XHnNb6t8APgN+E+ncvsDLU/EeMqYZ3MX7fPUROHdyPMb3yHMYfd49iJCReynhPY/zO/gOjjz+DkWwYbo+2n8c8TjFxKK1HuhopxMSilHoCOKC1vjPesZyPUurzwHqt9VXxjkUIEX9yRi0mrNBl8uLQJeCPYNwG9N/xjut8QpfD/xHYEu9YhBDjgwzUYiKbjnE7VBfwEHCL1vqtuEZ0HqF571aMOc5/H+XpQgiTkEvfQgghxDgmZ9RCCCHEOBbTRTncbrcuKCiI5VsKIYQQcbNz506f1jpz9GeOLKYDdUFBAW+88cboTxRCCCEmAKVU/cW+hlz6FkIIIcYxGaiFEEKIcUwGaiGEEGIck4FaCCGEGMdimkwmRCz4fD6qqqo4fKSGkuIiNmzYgNt9vhUIhRBi/JIzajGhbN26lZKFS6l66nVe8E2m6qnXKVm4lK1bt8Y7NCGEeF/kjFpMGD6fj3UVt5F2/T+SWrhwcHtn7W7WVdyG1+slPT09jhEKIcR7J2fUYsKoqqrCmjMvYpAGSC1ciDVnHps3b45TZEII8f7JQC0mjMNHarBmFkRts7rzOXT4SGwDEkKIMSCXvicAv99PdXU1jU1NeHJz8Xq9uFyueIcVcyXFRTy7//WobUFfPTOXL4txRPEniXVCJD45o05we/bs4YaPreHuf/0d//fVJu7+199xw8fWsGfPnniHFnMbNmwg2LyPztrdEds7a3cTbN5HRUVFnCKLD0msE2JiiOkyl0uWLNFS63vs+P1+bvjYGlxL15BeMHdwe3vdfvyvP8nzv99KcnJyHCOMva1bt7Ku4jasOfOwuvMJ+uoJNu/j0c2bWL16dbzDixmfz0fJwqVRE+s6nv8JNXt3SmKdEDGglNqptV5yMa8hZ9QJrLq6mkCqJ2KQBkgvmEsg1UN1dXWcIouf1atXU7N3JxU3LWNFZhcVNy2jZu9OUw3SIIl1QkwkMkedwBqbmlBTsqO2qSnTaWxsinFE40N6ejp33nlnvMOIK0msE2LikDPqBObJzUWfOha1TZ86jseTG+OIxHhRUlxEsLUualvQV8/MkuLYBiSEeN9koE5gXq8XW2cj7XX7I7a31+3H1tmI1+uNU2Qi3iSxToiJQy59JzCXy8Uj9/+AWzbewamDHtSU6ehTx7F1NvLI/T8wXSKZGOJ2u3l08ybWVdxGV5TEOkkkEyJxSNb3BNDd3W3cR93YhMdj3Ectg7QAaG9vZ/PmzRw6fISZJcVUVFTIIC1EDI1F1rcM1EIIIcQlIrdnCSGEEBOcDNRCCCHEODbqQK2UciqlXlNKva2Uekcp9d3Q9l8opWqVUrtCX+WXPlwhhBDCXC4k67sX+JDWukspZQP+opR6JtT2T1rrJy9deEIIIYS5jTpQayPbrCv00Bb6il0GmhBCCGFiFzRHrZRKUkrtAlqA57XWO0JN/0cptVsp9YBSyjHCz65XSr2hlHqjtbV1jMIWQgghzOE93Z6llEoDfgtUAG3AccAObAGOaK3vPt/Py+1ZIhZkfW4hRifHSWzE5T5qpdR3AL/WetOwbR8EbtNa/835flYGanGp7dmzh1s23kEg1YOako0+dWywUltpaWm8wxNiXJDjJHZiMlArpTKBgNa6QymVDDwH/ADYqbU+ppRSwANAj9a68nyvJQO1uJRkfW4hRifHSWzFquBJNlCtlNoNvI4xR/0U8LhSag+wB3AD/3wxgQhxsWR9biFGJ8dJ4rmQrO/dwKIo2z90SSIS4n2S9bmFGJ0cJ4lHKpOJCUPW5xZidHKcJB4ZqMWEIetzCzE6OU4Sj6xHLSYMWZ9biNHJcZJ4ZJlLMeHI+txCjE6Ok9iQ9aiFEEKIcWwsBmq59D0B+Hw+qqqqOHykhpLiIjZs2IDb7Y53WEIIIcaAJJMluK1bt1KycClVT73OC77JVD31OiULl7J169Z4hyaEEGIMyBl1AvP5fKyruI206/+R1MKFg9s7a3ezruI2vF4v6enpcYxQCCHExZIz6gRWVVWFNWdexCANkFq4EGvOPDZv3hynyIQQQowVGagT2OEjNVgzC6K2Wd35HDp8JLYBCSGEGHMyUCewkuIigq11UduCvnpmlhTHNiAhhBBjTgbqBLZhwwaCzfvorN0dsb2zdjfB5n1UVFTEKTIhhBBjRZLJEpjb7ebRzZtYV3EbXTnzsLrzCfrqCTbv49HNmySRTAghJgA5o05wq1evpmbvTipuWsaKzC4qblpGzd6drF69Ot6hCSGEGANSmUwIIYS4RMaiMpmcUQshhBDjmAzUQgghxDg26kCtlHIqpV5TSr2tlHpHKfXd0PZCpdQOpdRhpdQTSin7pQ9XCCGEMJcLOaPuBT6ktS4DyoGPKKU+APwAeEBrXQKcBNZdujCFEEIIcxp1oNaGrtBDW+hLAx8Cngxt/yXw8UsSoRBCCGFiFzRHrZRKUkrtAlqA54EjQIfWOhh6SiOQO8LPrldKvaGUeqO1tXUsYhZCCCFM44IKnmit+4FypVQa8FtgzoW+gdZ6C7AFjNuz3k+Q4vz8fj/V1dU0NjXhyc3F6/XicrniHZYYB2TfiCT9IRLRe76PWin1HaAbuAOYrrUOKqWWA3dprT98vp+V+6jH3p49e7hl4x0EUj2oKdnoU8ewdTbyyP0/oLS0NN7hiTiSfSOS9IeIh7G4j3rUgVoplQkEtNYdSqlk4DmMRLIvAFu11r9RSv0U2K21/sn5XksG6rHl9/u54WNrcC1dQ3rB3MHt7XX78b/+JM//fivJyclxjFDEi+wbkaQ/RLzEquBJNlCtlNoNvA48r7V+CuOMeqNS6jCQATx6MYGI9666uppAqifigwcgvWAugVQP1dXVcYpMxJvsG5GkP0QiG3WOWmu9G1gUZXsNsOxSBCUuTGNTE2pKdtQ2NWU6jY1NMY5IjBeyb0SS/hCJTCqTJTBPbi761LGobfrUcTyeqIn4wgRk34gk/SESmQzUCczr9WLrbKS9bn/E9va6/dg6G/F6vXGKTMSb7BuRpD9EIpPVsxJcZCbrdPSp45LJKgDZN84m/SHiISZZ32NJBupLo7u727g3tLEJj8e4N1QyWAXIvnE26Q8RazJQCyGEEOPYWAzUF1SZTIxvUm1JCCEmLhmoE9y51Zbe4PsPPizzbkIIMUHIQJ3A/H4/t2y8I2q1pVs23iHVloQQYgKQ27MSmFRbEkKIiU8G6gQm1ZaEEGLik4E6gUm1JSGEmPhkjjqBeb1evv/gw5w4+BYdvha62ltISc8izZ1l6mpLkgUvhJhIZKBOYC6Xi79duYLKe+7GkbcQW2Yhx3e9Qm/Dbu799u2mTCSTLHghxEQjBU8SmM/no2ThUtJWfBXHtEIGggEsVhu9J2rpeOGn1OzdSXp6erzDjBlZc1gIMd7Eaj1qMU5VVVVhzZlHalE5jklTSJ7ixjFpCqlF5Vhz5rF58+Z4hxhTkgUvhJiIZKBOYIeP1GDNLIjaZnXnc+jwkdgGFGeSBS+EmIhkjjqBlRQX8ez+1xnoD9Ld0Up/Xy9JdgfJaZkEffXMXL4s3iHGlJEF/wY9XR0crn6SrtZmUjJzKPGuCWXBfyDeIQohxHs26hy1UmoG8BgwDdDAFq31j5VSdwFfBlpDT/2W1vrp872WzFGPLZ/PR8HccpzL/g5H7hyUzYkO9NDbdICe1/6ThoO7TTdHvXj5VdQ2tuDIK8WeWUBfax29DXso9GTx1qt/lTlqIURMxWpRjiDwTa31m0qpycBOpdTzobYHtNabLiYAcXH0QD9de/9E8GQz1vRcgu1N9DTtJ2mgP96hxZzf76f5RBtTr/8qyTPmg7KAHqD76Ds0v/Rzuru7ZaAWQiScUeeotdbHtNZvhr4/DewHpJLGOFBVVUVy4WKK1/4zk2fMJWkgwOQZcyle+88kFy42XTJZVVUVds8CMucsxWm3Y7dacNrtZM5Zit2zwHT9IYSYGN7THLVSqgBYBOwArgQ2KKU+D7yBcdZ9MsrPrAfWA+Tl5V1kuGK4cDJZks3B1LnLI9rMmEwW7g8F2GyRu7YZ+0MIMTFccNa3UioF2Ap8XWvdCTwCFAPlwDHgR9F+Tmu9RWu9RGu9JDMzcwxCFmElxUUEW+vQeoDeM6foPuWj98wptB4wkslKiuMdYkyF+2Mg0EPnuzto2/kMne/uYCDQY8r+EOJ8/H4/27Zt42dbtrBt2zb8fn+8QxIjuKCCJ0opG/AU8Eet9f1R2guAp7TWC873OpJMNrZ8Ph9FCxbjvPxmnLlzUFYHOthLT9MBenb8hrp9u0yVTObz+SicW0b/pEycnrlDc/aN+0k600r9wT2m6g8hRnJuBb9j2DobpYLfJRCTZDKllAIeBfYPH6SVUtla6/CKEJ8A9l5MIOK9c7lc5E7Lov6tp+lrqcWWnkugvYm+pv3kT8syXeKUy+VixgwPrTlX4sgxsuDt02eRlJZNZrNkfAsBso59IrqQS99XAp8DPqSU2hX6WgXcp5Tao5TaDXiBb1zKQMW5qqurSS1ZzMrbHqJw9nzSLH0Uzp7PytseIrVksekqcVVXVzO5sIxrV34Cj3sy6fYgHvdkrl35CSYXlpmuP4SIRir4JZ5Rz6i11n8BVJSm894zLS69cCUumzOZ2Vd8OKLNjJW4wv1htVkpKCiIaDNjfwgRjVTwSzwJWZlMljE0hCtx9XX7qX3z5cFlLgsXX23KSlzh/ojGjP0BcqyIc8lxkngSbvUsSYIY4vf7uWz5NdSf7MGeOxdbuodAe6MxRz3VyZuvvmyquSZZPSuSHCsiGjlOYmsskskSaqCWHSzSuVnfdnSwz7RZ33D24DQdfeq4KQcnOVbE+chxEjuxKiE6bpwvCeLUQSMJYtWqVXGKLvaMSlylTCv30uc/baxH7UhhSrmXY03vsHnzZu688854hxlTpaWlPP/7rcbl3sYmPJ4P4PV6TTcoybEizkeOk8SSUAO1JEFEGqzEpSw4Jk2JaDNzJa7k5GTTD0JyrIjRyHGSOBJqoA4nQQT7emg5uJPuDh/JaW6yZl9myiSI8DKXWg8MnVFbbdhdk025zKUYIseKEBNHws1RX3ndh2lo68aRO4ekqTn0n2ymt+kAeRnJvPLic6a6dCOVycRI5FgRYnww3Rw1gFJJpJTdgD17ljEweeZhc+ehml6Jd2gxJ5XJxPnIsSLExHDBi3KMB9XV1diyZ3H5dTdSkJ3J9FQHBdmZXH7djdiyZ5muoo5UJhMjkWNFiIkjoc6owwkyFouFjIzIS7pmTJCRymRiJHKsCDFxJNQZtZEgcyxqm5EgkxvjiOJL+kOMRPYNISaOhDqj9nq9fP/Bhzlx8C06fC2DJTPT3FnYOhvxer3xDjGmwv3RcngPfutkuru7SU5OxhU8bcr+CJOymUP7xvF9r+E7spuu1mZSMnNwFy809b4hRCJKqIHa5XLxtytXUHnP3TjyFmLLLOT4rlfobdjNvd++3XTJU0P98R2jP7IKCbTUmrY/IFrZzDf4/oMPm67i0tC+8f3BfaOtoZZ3/7LNtPuGEIkqoW7P8vl8lCxcStqKr+KYVjh433DviVo6XvgpNXt3mup2pHB/pHq/jIV+Ap1t2FIzGCCJzuqfm64/pGzmkMFj5fpbSPbMZ0APYFEWuhvfoeP5R0y3bwgRL2Nxe1ZCzVFXVVVhzZlHalE5jklTSJ7ixjFpCqlF5Vhz5rF58+Z4hxhT4f5Im3kZqTOXkXHZSlJnLiNt5mWm7A9ZZ3fI4LFSWIbNZsVht2OzWUktLDPlviFEIkuogTpcMjMaM5bMlP6IJGUzh8i+IcTEkVADdUlxEcHWuqhtQV89M0uKYxtQnIX7YyDQQ+e7O2jb+Qyd7+5gINBjyv4IZzoP9A/Q1tZOc/Mx2traGegfMF2mc3jfCAYDdLQep/34UTpajxMMBky5bwiRyEado1ZKzQAeA6YBGtiitf6xUiodeAIoAOqAT2qtT57vtcZsjvr6fyS1cOHg9s7a3XQ8/xPTzbv5fD4K55bRPykTp2cu1vRcgu1N9DTuJ+lMK/UH95iqP/x+P1etWEVb7hVD1biCvfQde5eMplf465+eMdUcde7M+Uy+ci2O3LkomwMd6KW3aT+n//orjh3Zb6p9Q4h4iVUJ0SDwTa31m0qpycBOpdTzwN8Df9Ja36uUqgQqgTsuJpjRuN1uHt28iXUVt9GVMw+rO5+gr55g8z4e3bzJdB88LpeLGTM8tOZciSNnDsrmxD59Fklp2WQ2/9U0g9JwWvfT9fZzOHwNJKVl099xjN6mA6RnmKsvDh06RLC3l9O7niXgq8ea7iHY3khP436Cvb3U1NSY7ngRIlGNeulba31Ma/1m6PvTwH4gF/gY8MvQ034JfPxSBTnc6tWrqdm7k4qblrEis4uKm5ZRs3cnq1evjsXbjyvV1dVMLizj2pWfwOOeTLo9iMc9mWtXfoLJhWWmSp4Coz/sOXPx3rqJkgWLmJ6SRMmCRXhv3YQ9Z66p+uPmm28muWQpWX/3XWzTihjoOY1tWhFZf/ddkkuWsmbNmniHKIS4QO/pPmqlVAGwCNgBTNNah0sfHce4NB7tZ9YD6wHy8vLeb5wR0tPTufPOO8fktRJZOHnKarNSUFAQ0Wa25CkY1h92BzmlV0S0ma0/fCc7cMwsIsmRTMrcayPa7JmFtNbuiFNkQoj36oIHaqVUCrAV+LrWulMpNdimtdZKqaiT3VrrLcAWMOaoLy5cMVx4zeG+bj+1b748WKmtcPHVplxzONwf3WdOc2D7C5w52cKkqVnMWb7CdP3hnppGW0uN8WB4HopS9LXWkpkhl72FSBQXVPBEKWUDngL+qLW+P7TtIPBBrfUxpVQ28JLWevb5Xudik8lEJL/fz2XLr6H+ZA/23LnY0j0E2huNZS6nOnnz1ZdNNU/t9/tZcNnlNJ/ux+GZN9gfvY37yJmcxDtvvmaa/ti+fTtXf/ijZKz6Os78ssHtPfVv0/b0g7z64jMsWXJR+S1CiAsQk2QyZZw6PwrsDw/SIb8HvgDcG/r3dxcTiHjv/H4/TSdaSLn8Zpy5c1BWOzq/lJ6sQpp2/Gaw9rdZ+Hw+Go+1kHr1543+sDlw5pViyyyk8eXHaG9vJzfXHLdolZWVkWpPou3pB3EWlGPPLKSvtZaeul2k2pOYP39+vEMUQlygC7mP+krgc8CHlFK7Ql+rMAbo65VSh4AVoccihqqqqrB7SplW7iV5Ugr2JEXypBSmlXuxe0pNV32qsrISR34ZU+Zfi9U5CYXG6pzElPnX4sgv4/bbb493iDFTXV3NzGs/ynVfux/VcojTrz6BajnEdV+7n5nXftRUiXVCJLpRz6i11n8B1AjN141tOOK9CFefUsqCY9KUiDYzVp86UlOHLasULBaSXKkkDWuzZRZy+MieuMUWa+HEuqkzSrjx7l9HtJ1qOmSqxDohEl1CrZ4V5vP5qKqq4vCRGkqKi9iwYQNutzveYcVcSXERz+5/nZ72Zpqf/RmBzlZsqZnkfOQrRvWp5cviHWJMFRcVsO+dWgZ6/Zw5/BrB021YJ2cwqWQZgdZaShYUxjvEmAkn1nW2NvPmfzzEmfYTTEqfxuJP3mq6xDohEl1CrZ4FsHXrVtZV3IY1Zx7WzAKjTGKo4InZ7qX2+Xzk5BczYHXgzC/DnlVEX0sNPfVvYwn2cvxoramKWjQ0NFA8fxGWKdNxeuZiy/AQaDOKfAycOk7dgd2mmaP2+/3MnFvKiY7T5+wb09Imc/jAXlPlLwgRL7GqTDZu+Hw+1lXcFrWE6LqK2/B6vaYamBobGxlIspOx8ms484b6o6dhN21PP0hzc7Op+sPlcmF3OEgu/8hg2UyHZwE2dz7dr/7aVAPT0aNHOXHyNBmrQvuGArSxb5x4+sc0NTVRUlIS7zCFEBcgoRblGFq6b2HE9tTChaZcum/t2rU4C8pJLigbyiJQkFxQhrOgnE9/+tNxjS/WqqqqSC5YxPRF1+FwJmPRQRzOZKYvuo7kgkWm2j/Wr1+Ps6CM5IJylFIoQClFckE5zoIyvvSlL8U7RCHEBUqogVqW7ot0rKUVe1YRoFDKgrJYUMoCKOyZhTQfPxHvEGMqvH9YkpJImeomLTOHlKluLElJpts/GhqbQvsGoBQoi/EvRmWy+obGOEYnhHgvEurSdzh5qq/7NG17/jyYLJRReo0pk6eys5BwHBoAACAASURBVDKpa6lhINBNT/1u+rtOkpQyFWf+QvpaaymcHrWq64QV3j8GBgbo7u5mYGAAi8VCcnKy6faPPE8uO1tqGAj0hPaNdpJS0gf3jfw8T7xDFGJc8fv9VFdX09jUhCc3F6/Xi8vlindYQIIlk/l8PnKL58DkrHMqT3G6hWO175pqTnbXrl1cdqUXm3sGjtx52NJzCbQ30du0j4DvKG/veJkFCxbEO8yY8fl85M8tY5J3Pc4ZC4yzSD1Az9G9nKnewlETLft58OBB5i1ejs3tibJvNHLw7ddkjlqIkD179nDLxjsIpHpQU7LRp45h62zkkft/QGlp6UW9tumSyRobG+kfgLRFq4xkIatRecqeWUDHS78wXfKUx+PBZrczab4XR+5cLDYn9uyZWNOmcWb7b8jJyYl3iDHl9/vp9XfR98IWnHkLsWXmE2itp6dhN7q3i+7u7niHGDMZGRnYHXZcUfYN/6tPmOo4EeJ8/H4/t2y8A9fSNaQXzB3c3l63n1s23sHzv98a90TUhJqjXrt2Lc7CRUyaew0WezLoASz2ZCbNvQZn4SJTJk+lFC9h2qIVWPQAA2c6sOgBpi1aQUrxElMlT4FRmSy55HJyPv8jbJPTCRw/hG1yOjmf/xHJJZebqjJZVVUVk4ouY/qiFVjRaP8prGimL1rBpKLLTLdvCDGS6upqAqmeiEEaIL1gLoFUz7io4pdQZ9THWlqxL7wSZUkiyRVZicueWUjz7rfjFFl8hJOnrDY76Z7iiDazJU/BUGUyqyuVqVd/NqLNbJXJwvtGks1OWm5RRJsZ9w0hRhKu4hfNeFkeN6HOqLOzMukLL913lr7WWnJMmDwVbK2L2hb01TOzpDhq20RVXFRAoKU2alugtZaSYvNUJpN9Q4gLY1TxOxa1zajiF/8iSQk1UP/qV7+ip24X3fW70HoAPTCA1gN01++ip24Xv/71r0d/kQlkw4YNBJv30Vmzi94zp+g+5aP3zCk6a3YRbN5HRUVFvEOMqXvvvZfeht346yKvrPjr3qa3YTf33XdfnCKLPdk3ovP7/Wzbto2fbdnCtm3b8Pv98Q4pbqQvDF6vF1tnI+11+yO2t9ftx9bZiNfrjVNkQxLq0nd5eTmLZhfw1rZzl+5bNLvAVBnOAG63m+/cVkHlPffhyFuILauQQEstvQ27uffbt5suYSgvL497v307lffcR1feQmyZhQRah/rDLOVDQfaNaM7N7H2D7z/48Jhk9iYa6YshLpeLR+7/AbdsvINTBz2oKdPRp44PZn3HO5EMEuz2rIaGBkrKljHlms9z5uBf6e9oISkti0mzr+TUnx+jdu9OU30Y+/1+bvjYGmxlN9HhO0FXWwspGVmkuacRePsP4yJbMR6ampq4/fbbOXzEuNx93333mWq/ANk3zhbuj2iZvf7XnzRVf0hfRNfd3W3cR93YhMdj3Ec9Fv1gutuzKisrceQtJHX+B0md/8GItp66Xdx+++08/vjj8QkuDsLZip5Z5UybFdlWW/sW1dXVrFq1Kj7BxVFubq6p9oNoZN+IdL7M3lMHPabqD+mL6JKTk8ft/zuh5qiNrN7oCUFGVm/0RKKJKhGyFUV8yL4RSfpjiPRF4kmoM+rwesO9J4/T/qd/IdjZijU1k/TrvmS69YZhaM3h3p5ejtQcobu7h+RkJ8VFxaZec1jWKx/aNwb6BzjZ0UFvby8Oh4OpaWmm3DfC/RGN2fpD+iLxjDpHrZT6V+BvgBat9YLQtruALwOtoad9S2v99GhvNhZz1AWz5mFxuM5ZY3eg18/RIwdNNRfp9/spXXoFp/I/iCN3DsqejO7rprfpAFPqX2LvG9tNN9ck65Ub/H4/V61YRVvuFdizZ6GsDnSwl75j75LR9Ap//dMzpto3ZF52iPRFbMVqjvoXQBXw2FnbH9Bab7qYN3+vmpqasNiTR1x/+dixY6YaqH0+Hw1Hj2LtqiZ46gTWqTkETzbT27iPUycbaW9vN11/yHrlQ7Tup+vt53D4GkhKy6a/4xi9TQdIzzDfh3AiZPbGivRF4rmgrG+lVAHw1Fln1F3vdaC+2DPq/Px82qbMwr3ya2g0aECBQuF75se4Ow9RV1f3vl8/0XzmM5/hD+/4cN9wCz31uwl2tWFNycCZvxDfc4/w0QWZpkqquuuuu6h66nVy/ubWc9qan3qIipuWceedd8Yhstjbtm0bd//r75jh/QwtB3fS3dFKclomWbMv42j1v3Pnuo+P28SZS+lSZfYmIumL2Ih31vcGpdTngTeAb2qtT0Z7klJqPbAejPtcL4bvZAeOmUWgFMoYoQfZMwtprd1xUa+faMIlMy02B66SpRFtZiuZCbJe+XDhhCGr3UFO6RURbWZOGBrPmb2xJn2RON7vQP0IcA/GOe09wI+AL0Z7otZ6C7AFjDPq9/l+ALinptF2njV2MzPMc1kThpLr0KC1RqNRKJRSpkyuC69H7W+pp/F3DxA8cxLrpKl4PvYN061HHU4Y6mo/zp7/eoSutmOkZGRT+re3SMKQEFEk/HrUZ1/6vtC2s13spe/t27dz1YpVI66/vON/nmfJkou6wpBQGhoaKFm4lKkfuZXk/KE52e763Zx89iFq33nTdHPU2TMK0LZko3JdONmwbhcq0M2JpgbTzFH7/X7ml19G44l2HPll2LMK6Wuppbf+bTzT0tn39ptymVOIkAm5HrVSKltrHa5i/glg78UEcaFmzpyJ1WqLuv5y119/TVFR0egvMoG43W5ys9JpfOah0IdxAX0tdYMfxmYZlMIOHTqEtiWTserrOPPLBrf31L9N29MPUlNTY5o+8fl8NLW0k77y3D/imp59yHSJhkKMZEKsR62U+jWwHZitlGpUSq0D7lNK7VFK7Qa8wDcucZyAscbu5JlLySrzovq66e9sQfV1k1XmZfLMpaZbY7e6upqs0qtZ+a2fk+FUqJrtZDgVK7/1c7JKrx4X66jG0s0334yzoJzkgrKI7ckFZTgLylmzZk2cIou9yspKHPllpBQtwqIsKKWwKAspRYtw5JeZam1uIc5nQqxHrbX+dJTNj16CWEYVThayOZLJKJwX0Wa2ZCEYShhyTc1k+ZfuimgzY8LQYLIhCqUi28yWbBhONARQllDyZYgZEw2FGEkiVGpLqMpk4WShYF8Pp0800B8MkGS1MXlanumShWAoYai94V12/N/v0nO6A+fkNC7/hztNmTAUTjbUWsNAP1prlFJgSTJdsqEkGkYnVevE2RKhil9CrZ7l8/mYMWsBrg98KjRHncxAoJvepv34X32CpsP7TDMHCcbcSkHxTNrP9J2TPJU+yU59zeG4z63E0vbt27n6wx8l/SMVOGcsAGUBPUDP0b20P7uZV198xjTJhpJoeC6pWieiudRV/OJ9H3XMtbW10dfbh36nmv6OE1jTcwi2N9PTtI9Abx/t7e2mGqjfffdd2s/0kbHq6yQPS57qDiVPHTlyxFRrdOfm5qIDvZx8/qc48hdizyygr7WO3vrd6EAv2dnRL29NRJJoGEmq1onzGe9V/BJq9az169eTXHwZWWvuwpE7B90fwJE7h6w1d5FcfBlf+tKX4h1iTK1duzaUPFUOKlQARimSC8pxFpTz6U9HSy+YuCorK3HN+gDZa+/DYnXQU7sLi9VB9tr7cM36gKkSqCTRMFJVVRXWnHkRgzRAauFCrDnzTJeIKoZUV1djz5mL99ZNlCxYxPSUJEoWLMJ76ybsOXPHxbGSUGfUDY1N2Auvw2JzkFwcWYnLnllIfe2LcYosPo61tGJfeOWwLUMJQ/bMQpp3vx37oOIonEBlm5xO5g1fiWgzWwKVJBpGkqp1YiSJUMUvoQbqPE8uO1tqAA39/YMJMiQZyUL5eZ54hxhT2VmZ1LXUgNboYclTKpQ8VTh9WrxDjKmhBCrNgB5Aa+NCg0VZTJdAFU6QOX5gJ9t//m0Cvd3YHMks//I94yZBJpbCiajRmDERVQwJHys9XR0crn6SrtZmUjJzKPGuGTfHSkIlkx08eJD5S68m/SMbcM5YgLJY0APhZKEqDrz5CiUlJWMY8fi2a9cullxz/YjJU7teqTbVHPXwBKqzV1czWwKV3+8nO8fDmYGkcxINJ1n6OX6syVSJhj6fj5KFS6POUXc8/xNq9u6UOWqT8vv9LF5+FbWNLTjySodyWxr2UOjJ4q1X/yrJZO/FjBkzmJ4xhRNRkoWmZ0wxzYdwmMfjwTIQjJo8ZRkIkpOTE+8QY8rlcmEZCND2zEOh9cqNBKqe+rex6oCpBqYdO3ZwZiBpxETDnTt3ctVVV8Uxwthyu908unkT6ypuoytnHlZ3PkFf/WDWtwzS5uX3+2k+0cbU679K8oz5gyc83Uffofmln9Pd3R33z46ESiarrq4md7GXlZU/J21yCrppN2mTU1hZ+XNyF3vHxaR/LFVVVZE65wqKv/gjrDYHvXW7sNocFH/xR6TOucJ0CTJVVVWkzFpOyRfvx6qD9Bz4C1YdpOSL95Mya7mp+uNTn/rUeRMNzXg70urVq6nZu5OKm5axIrOLipuWUbN3pyn7QgypqqrC7llA5pylOO127FYLTrudzDlLsXsWjIvPjYQ6ox5KkEnnqs99M6JtvEz6x1I4QcY+OZ28G/8xos2MCTKD/THFTd7qOyLazNYfp053MWnh8Nr3kYmGHe/+JfZBjQPp6emmWZNcXJjw54YCbLbIIXG8fG4k1Bm1Mel/LGqbMelvrkvfJcVFBFvrorYFffXMLCmObUBxJv0xZMrkFPpaaqK29bXWkjYlNcYRCTE+JcLnRkIlk/n9fm742Bosc2+g8Z3X6PIdI8WdjWf+Mgb2PzcuVjmJpXCCTMrVn6fv+BH6Ok5gT5uGfXoxXS8/ZroEmXB/JC9dw6ldfyR4ug3r5AymlH+Y7tefNFV/VFdXc/3HPmmsJDZjweAdAT1H99L29IO89PRvTTVHLcRILnWioemSyVwuF8vL5/PAlu+FkoVm0dJSQ8Mvv8c31n/BVIM0GAkyX/7sGh7Y8kioP4rwt9TQvus5vrH+C6YZlMLcbjfXLl3Itupf4CwoJ2Xmcvpaamit/gU3eq8wVX94vV5mz8ji4NMPGlnfmYX0tdbSU7eL2TOyZJAWIiQREg0T6oy6oaGBkrJlZKy81bgdSQ+AshhnCc88RO3enabK/B78S3DFLdhzZtM/MECSxUJf80E6XnjEVGeQELp9b9nVuFd9HWf+QtCAgp763fiefpADO81z+15435i0/LOcrtlJoNOHLdXN5KLLOLP9cdPtG0KMpr29nc2bN3Po8BFmlhRTUVExJseI6c6oKysrceQtxFVQHrHdVVBOV95Cbr/9dh5//PE4RRd7g2URiyLXX3YWldEVKotopsSZ9evX48wvwxm+HSmUPxXe9qUvfYmXXnopbvHFUnjfyCi9mozSqyPaeuvfMt2+IcRoxnOiYUIlkxklIqNXlzJKRNbGOKL4krKIkRoam7BnFUVts2cWUt/QGOOI4kf2DSEmjoQ6o44oETnQP3jp22JJMl2JSBgqi9h3poPW7b8dTCbLXP4JU5ZFHCoxey6zlZgN7xuBM6doffW/h/aND3zclPtGmN/vp7q6msamJjy5uXi9XlwuV7zDigvpi8Qx6hy1Uupfgb8BWrTWC0Lb0oEngAKgDvik1vrkaG82JnPUC5cy9YYNOPMWGIUctKanYS8nn6syVYlIMOYhPcWz6U9yhkrfGQlDvQ17SOrvobn2kKnmISPnqIemA3rq3zblHPWM4jkEkxw480qxZRYSaK2lp2EP1v5emmrfNdW+AbBnzx5u2XgHgVQPako2+tQxbJ2NPHL/DygtLY13eDElfRE7sZqj/gVQBTw2bFsl8Cet9b1KqcrQ4zui/OyYMtbYddP4wiM48xZiyywg0FpHT8NuPFlu033wtLW1EdQW0lesj1Lru8p063PPnj2bb6z/Ag9sedDIgg9nOte/zTfWf8E0gzQYZ0v9KompUfaNjud+Qnd3d7xDjCm/388tG+/AtXQN6QVzB7e31+3nlo13mOrWTumLxDPqHLXW+s9A+1mbPwb8MvT9L4GPj3FcURlr7F7Jjd96lCx3BtaWA2S5M4zHpVearoTo+vXrcRaU4yq8DBX6IFbKgqvwMpwF5aZbnxvghz/8IQd2vsKS9ABTal9kSXqAAztf4Yc//GG8Q4upyspKHPllTC5egsViwaIHsFgsTC5egiO/zFRrc4Px2RFI9UQMTADpBXMJpHpM9dkhfZF43u8c9TStdbhE2HFgxPUUlVLrgfUAeXl57/PtDOESos7UNJZ+ckPk+5iwhGh4fW6UQlntw4pEmnN97rCSkhLTZHePJLw2N0qRZHNEtJltbW4Y+uyIxmyfHdIXieeik8m01lopNeJEt9Z6C7AFjDnqi3mv8Lqhfd1+at98ma72FlLSsyhcfPW4WTc0lgaTp/QAA4G+oeQ6m910yVPDNTQ0UFlZyZGaOoqLCrj33nsv+o/ERBNOvNQD/fR3dzHQH8CSZCMpOcWUiZfhz46B/gFOdnTQ29uLw+Fgalqa6T47EmH95Xjw+XxUVVVx+EgNJcVFbNiwAbfbHe+wgAsseKKUKgCeGpZMdhD4oNb6mFIqG3hJaz17tNcZixKily2/hvqTPdhz52JL9xBob6SvaT/5U528+erLpppbMdbnvmpwfe6z56gPvLndVPOyAPfffz+V99yHI28htqxCAi219Dbs5t5v387GjRvjHV7MNDQ0UFK6hNRrPo8jdy7K6kAHe+lt2k/nnx+jdt9bpkq89Pv9XLViFW25V2DPnjXYH33H3iWj6RX++qdnTPPZcanXX05EW7duZV3FbVhz5mHNLCDYWjdYmexiV1eLZ8GT3wNfAO4N/fu7iwniQvn9fppOtJBy+c04c+egrHZ0fik9WYU07fjNuFg3NNYGAn2cfGHLOQfcQKAv3qHFXENDA5X33EfGyq/hKhjK+vbXvU3lPffxqU99yjSDk8vlwmpRnH7raQKtdVjTcwm2N9HTuA+rRZnuOAHQup+ut5/D4WsgKS2b/o5j9DYdID3DXH2RCOsvx5LP52NdxW1Ra32vq7gNr9cb96TcUZPJlFK/BrYDs5VSjUqpdRgD9PVKqUPAitDjS85YN7SUaeVekielYE9SJE9KYVq5F7undFysGxpL69evxzVzGdPWbsI6KZ3eY+9inZTOtLWbcM1cZrpksqHKdZGV2lwFZThClevMoqqqClfxEorX/h9cmTPgTDuuzBnG4+IlpjtWqqursefMxXvrJkoWLGJ6ShIlCxbhvXUT9py5pkqgSoT1l2NpsMLjsEEaILVwIdZQhcd4G/WMWmv96RGarhvjWEY1uG6osuCYNCWizYzVlsLJZFZXKmlXfzaizYzJZIMJVFGYLYEqfKxYnS4yL/tIRJsZj5VwApXV7iCn9IqINrMlUCXC+suxlAhV/BKqhGh43dBA92mO7/g9R1/4Bcd3/J5A9+lxs25oLOV5culrqWGg10/XO9WcevVJut6pZqDXb8pksuKiAgIttQS6TuJ74V84vvV7+F74FwJdJ40EqmLzJFCFjxWtB+g9c4ruUz56z5xC6wFTHiuylv2QRFh/OZbC/TEQ6KHz3R207XyGznd3MBDoGTf9kVCrZxmVuOaiJ2fi8MwbTCbrbdyHOt1Kc+3BuM8lxNLBgweZt+hyrOk5OD3zsKZ7CLY30tO4j2B7Mwd3v2GqZLKGhgaK5pSiHJNw5C8cmrOv343uPUP9oX2mmaP2+XwULViMczCfw0ie6mk6QM+O31C3b5epjpXwWvbRinz4X3/SVEU+LvX6y4nG5/NROLeM/kmZOD1zh+Vz7CfpTCv1B/fIetTvhVGJC9IWrRrMZHWGkqg6/ueXpqvEBaCSrEwuX2n0h82BnrEAmzufjv/55eg/PMF0d3eD1c7U678aJQt+s6mqcblcLnKnZVH/1tP0tdRiS88l0N5k3CExLcs0g1KYy+Xikft/wC0b7+DUQQ9qynT0qeODZTPN1B+JsP5yLLlcLmbM8NCacyWOnDkomxP79FkkpWWT2Tw+MuAT6oz62muvZedJO+6Vt9Lf04XuD6CSbCQ5U/A98xBL0gOmKnQx2B8fqaC/uxMdDKCsNpKSU/E9u9m8/bHqa+j+IFprlFKoJCu+p39sqv7Ytm0bd//r7/BcezM1b/6ZrrYWUjKyKFp8DY3/8xvuXPdxVq1aFe8wY667u9tYiKKxCY/HWIhiPHwQx8OlWn850YSPlRkf+hyNTY2DWe+eXA9HX/y3iz5WTHdGPVSJy0JScmpEmxmTpwb7w5JE0qSpEW2m7g8UKslm6kpt4eQpmzOZ2Vd8OKLNbMlTwyUnJ5vyD5RoxvP6y7E0mGhos1JQUBDRNl6OlYRKJgsnT0VjxuQp6Y9I0h9DJHlKiAuTCMdKQp1Rb9myhfnLrqa7bheO3LmgNShFb9N+eurf5l/+65V4hxhTg/1x5HW01vR3tZOUko5Sytz9Ub8Lp2fB4P7R07jXdP3h9Xr5/oMP07x3B43vvEaX7xgp7mw885dh62zE6/XGO0QRZ7IetSF8rJw4+BYdvpbB0tRp7qxxc6wk1EA9e/ZsZnsyOfj0gzgLyoeWMazbxewZWabKcAajP2784HK2/fFhoz+yCvG/+wo9dbu40XuFKfvj6sXzeXnbufvH1ZctMFV/uFwulpfP54Et3zOW/MyaRUtLDQ2//B7fWP8F087LCsO561G/wfcffNiU61G7XC7+duUKKu+52yg9nFnI8V2vDJYeHg/HSkIlk+3atYsl11zP1OvW03fiCMGO41jTpmOfVszJP21h1yvVLFiwYAwjHt/Ct1mkfmg9JKfRH+gjyWaH7g46X9xiutssGhoaKClbRtoH19FzdC/BUyewTpmGc8YCOl56lNq9O01ze1a4LzJW3mpkwIcWbOk5upe2Zx4yVV+ISHKrWqTB29VWfBXHtEIGggEsVhu9J2rpeOGnF/05OhbJZAk1R7127VqcBeVMmn0FU6/5HJkf/SemXvM5Js2+AmdBOZ/+9EhF1CamcOm7tJLFpOUWkVEwh7TcItJKFo+b0nexFC4hOnnulWTe8BWy/+47ZN7wFSbPvdJ0JUSHyqmWY0myYrHasSRZcRWUm64vRCRZjzrSYAnRonIck6aQPMWNY9IUUovKx83naEIN1MdaWrFnFUVts2cW0nz8RIwjiq9EKH0XS0YJ0ejVx4wSorUxjih+pC/ESGQ96kiJ8DmaUAN1dlYmfS01aD3AQLCXgUAPA8FetB6gr7WWnOnT4h1iTIVL3wX9pzhe/W80/HYTx6v/jaD/1LgpfRdL4RKiDPTT7+8kcLqNfn8nDPSbroToYF9EYba+GM7v97Nt2zZ+tmUL27Ztw+/3xzukmEuELOdYSoSSqgk5Rz3S+stmnKPOmzmPgLLhzFuILauAQEsdPQ27sekAjUcOmG+OeuFSUq/+vFE20+ZAB4yymZ0vP0btO2+aZl52aI763CU/2575sSnnqM9NoDo2WJnMTAlUMkcd6VKXVDVdwROPx0MS/Zx84Wc48obVcm7YTRL95OTkxDvEmLPYHKR/8Ms4ZixAKYuxCMPRvZx56efxDi3m3G43nuwsmt/aRqC1NqIWvCc7y1R/tOTl5XHvt2+n8p776AplsgZaawczWc02SPv9fm7ZeEfUwemWjXeYanCScqqREqGkakJd+q6qqmLyrOUUf/FB7JPS6G06gH1SGsVffJDJs5aPi0n/WKqqqsKZt5Csuctw2pKwWjROW5LxOG+h6fqjurqazHnLWfnNh8jOK8IZ6CA7r4iV33yIzHnLTZcks3HjRmr37uSjCzKZ2bWHjy7IpHbvTjZu3Bjv0GJOEqgilZaW8vzvt3Lnuo/zxQ/M4M51H+f532811ZWF4VavXk3N3p1U3LSMFZldVNy0jJq9O1m9enW8QwMS7Iw6POlvT5mC5/p/iGgbL5P+sTS0PrfC6XRGtJmxP8JJMo5Jkyhf8YmINjMmyQDk5uby+OOPxzuMuJMEqnNJOdVI47mkakIN1CXFRTy7/3V6On2c+PNvCJxqxTYlk2nX3GxM+i9fFu8QYyrcH8FePyf3b6ev04c91c3UuctN2R9Gkswb+E+1s/fZxwercS34yGdDSTIfiHeIMdfQ0EBlZSVHauooLirg3nvvJS8vL95hxVx434jGrPuGiDSeK7VdVDKZUqoOOA30A8HRJszHYj3q7IISsLnOWW+YgJ8TDTXjYj4hVoxksvn0T8rAOWx97p7GfSSdaaPxyH5T9Yff72d++VIafSeN5LrMAgKtRnKdxz2VfW+/Yar5t/vvv5/Ke+4zqi1lFRJoGZqjNtvlb0mgEudzKRMNx0symVdr7RuD1xnVoUOH0BYb6SOsN1xTY66B2u/3ExzQpJavwhHKcnbMWIDNXUDny4+Zav1lMP5waWrxkX7DBpx5C0Ap0Jqehr00PVdFe3u7aZKoGhoaqLznvqhZ35X33MenPvUp0/QFSAKVGFkiJBomVDLZzTffjLOgnOTCxShLEgDKkkRy4WKcBeWsWbMmzhHGVmVlJY6CclIXXEuSIxml+0lyJJO64FocBeWmqz5VWVmJI7+MlOLFWJKSsCiwJCWRUrwYR36ZqfpjqDJZWcR2V0GZaSuTSQKViCYREg0v9oxaA88ppTTwM631lrOfoJRaD6wHLnpuzHeyA8fMIpRSkGQ9Z73h1todF/X6icaoPlWKsiRhS4lcj9qoPrUnTpHFR7g/UApLUuSubbb+GOyLKMzWF8NJApU4WyIkGl7sQH2V1rpJKZUFPK+UOqC1/vPwJ4QG7y1gzFFfzJu5p6bR1lKD1hoG+tFaG4O2JYm+1loyM8xz2RuM6lP73jlP9akF5qo+Fe6P4JkOTr3xBwKnTmCbMo0pS24yXX8M7htaMzDQP7goh8WSZLq+GG48JwyJHM9lmwAAEYlJREFU+AgnGgb7emg5uJPuDh/JaW6yZl82bhINx6wymVLqLqBLa71ppOdcbDLZ9u3bufrDHyX9IxXGHLXFAgNDc9SvvvgMS5Zc1Jx9QpHqU5EaGhoomlOKcqbgyCsdXOayt2EPuqeL+kP7TNMf4SptU6PM1598rspUVdrCpDKZiMbv93PldR+moa0bR+4ckqbm0H+ymd6mA+RlJPPKi89d1Bx1XJPJlFKTAIvW+nTo+xuAuy8mmNGUlZUxxeXk5PM/PSfre4rLyfz58y/l2487Un3qXMrmYOqK9eckG57848PxDi2m3G43uVluGl945NwM+Cy3qZIuITEShkT8KJVEStkN2LNnoawOtGceNncequmVeIcGXFwy2TTgL0qpt4HXgG1a62fHJqzoqqurKblyJSv+6Sc4rVZ6a9/EabWy4p9+QsmVK8fFpH+sSfWpIZWVlTgLyplcvASLsqD0ABZlYXLxEpwmS66rrq4mq/RKbvzWo2S5M7C2HCDLnWE8Lr3SdMdKIiQMifiorq7Glj2Ly6+7kYLsTKanOijIzuTy627Elj1rXOwb7/uMWmtdA5SN+sQxFJ70n+Kexor1/zui7eQ4mfSPB6k+ZRieTJZkd0S0mS2BKnysOFPTWPrJDRFt4yVBJpYSIWFIxEd437BYLGSclec0XvaNhKpMFp70DwQCNDU10d3dTXJyMrm5ueNm0j8eJEHGIAlUQ8LHSk9XB4ern6SrtZmUzBxKvGtMeaxIZbJzyeeGIRGOlYRa5tLv97PkKi+tOVfiyJmDsjvRfT30Nh8gs/mv7PzrS6abZ5IEmSGSQDXE7/ezePlV1Da2hBLrwivN7aHQk8Vbr/7VVMeKVCaLJJ8bQy71sTJeKpPFjN/v5+jRRvrbX6S/4xjWqbkETzbR07ifnjOtg2fYZiEJMpEkgWqI3++n+UQbU6//Kskz5g8m1nUffYfml35uumNFKpMNkc+NSIlwrCRUZbKqqioc+eUUffZuUvPnYSNIav48ij57N478clMu6ygJMkMkgWpIVVUVds8CMucsxWm3Y7dacNrtZM5Zit2zwHTHCkhlsjD53IiUCMdKQp1Rh5d1tNgcpM6MXBnKzMs6RjNekiBiSRKohgwugQrYbJGHuRmPlTCpTCafG2dLhGMloc6oS4qLCLbWRW0L+uqZWVIc24DizEiCOBa1zUiCMMd8bJj0xxA5VsRI5DiJlAjHSkIN1Bs2bCDYvI/O2t0R2ztrdxNs3kdFRUWcIosPr9eLrbOR9rr9Edvb6/Zj62zE6/XGKbL4CPdH894dvPbEZl58+Fu89sRmmvfuMF1/yLEiRiKfG5ES4VhJqEvfbrebRzdvYl3FbXTlzMPqzifoqyfYvI9HN28yVbIQSILM2VwuF8vL5/PAlu/hzC/DnjWLlpYaGn75Pb6x/gum6g85VsRI5HMjUiIcKwl1e1ZYe3s7mzdv5tDhI8wsKaaiomJcdGa8dHd3G/dDNjbh8Rj3Q5rtYIPhtc9vNUqIhu6j7jm6l7ZnHjJd7XOQY0WMTD43Il2qY2Usbs9KyIFaiGg+85nP8Id3fGTd+PVz2lq2PchHF2RKBTchREyNxUCdUHPUQpyPUUI0evUxo4Ro9CVBhRBiPEuoOWoRnZQCNIRLiOqBfoL+TnR/AJVkw+pKNV0JUSHExCGXvhOclAIc0tDQQEnpElKv/jyO3DkomwMd6KW36QCdLz9G7b63TDdHLYSIL9OVEBWRpBRgJJfLhdWiOL3raQK+OmzpHgLtjfT8v/bOPEqq4orD308GZUYQRBEXBASUHIM6UaLivqAxJoqJxCMSt5AYTdAsR6MelxC3KBpjFDFqWIxRESSIC+4OboiiQBgEMR7cwLigxjiKjsLNH1XNvG6ne7ae7p7hfufMmXpV9Wq5Vbfuq6XfW7GEsg20XsnCcZz2g+9Rt2H8VYDpjBs3jor+g+l//GVUbNkP+/x/VGzZL1z3H1wSrwJ0HMdpKj6jbsP4qwDTSb0KsGyjcnpUHpwWViqvAnQcx2kqbdJQ++GpgH9jN50B/fvx4NJ5mK2l9rNPWPvVl2xQ1pENK7qEVwEO2b3hRBzHcUqMFi19SzpM0jJJr0o6J1+FykV1dTWHDhvORRNnMmnuSi6aOJNDhw2nurq6ENmXFP4qwHRGjx5N7Ypq3l1YxepPa6hdA6s/reHdhVXUrqguiVcBOo7jNJVmz6gldQCuBw4BVgDzJN1jZkvyVbhM/PBUOv4qwHQqKirYpucWvLFgFrXvvUbH7tvw5YcrqV25lD49t1jv5OE4TvugJUvfuwOvmtlyAElTgGFAqxnqXIenPl4WDk+tb5+wS31jt+5VgHuut68CrKqqYpMBu/Ld/Y9l+fwnqfngPToP/Cb9RpzGiiemrJf9w3Gctk9LDPU2wFuJ6xXAHpmRJJ0CnALQu3fvFmTnh6ey4d/YDaT6R8dO5Qzc6ztpYetz/3Acp23T6j/PMrObzGywmQ3u0aNHi9Ly76g6ufD+4ThOe6QlhnolsG3iulf0azX88JSTC+8fjuO0R1qy9D0P2F7SdgQDfSxwXF5KlQU/POXkwvuH4zjtkRa961vS4cA1QAdgopldmit+vt717d9RdXLh/cNxnFLBv0ftOI7jOCWMf4/acRzHcdo5bqgdx3Ecp4RxQ+04juM4JYwbasdxHMcpYQp6mEzS+8AbeUxyc2BVHtNr67g80nF51OGySMflUYfLIp18y6OPmbXobV8FNdT5RtILLT1N155weaTj8qjDZZGOy6MOl0U6pSgPX/p2HMdxnBLGDbXjOI7jlDBt3VDfVOwClBguj3RcHnW4LNJxedThskin5OTRpveoHcdxHKe909Zn1I7jOI7TrnFD7TiO4zglTEENtaQ1khZKWixpmqSKHHHHSDqzHv+LJA3Ncd9RknbMV5lbA0nnSXpJ0qIojz2yxKu3rpImSxqeh3LMllRSP0PIhaSaJsY/QNJ90X2kpHNap2RNJ6EL/5I0X9JerZDHuvo34Z5m9Yk89smajOuTJI1raboN5Lmu7JK6S1og6eTWzLNQSOoraXGG37qxVVKZpPclXZ4RZ7akZbGPLpR0VyHLnVGWoySZpG/E6x6SnovttG+O+/LSJ2NaRbU7hZ5RrzazSjMbBNQCpzY1ATO70MwezRHlKKBkDbWkIcD3gV3NbGdgKPBWPfE6NKKuTiMxs3vM7PKGYxaMlC7sApwL/LHYBVrfkdQVeAi4ycwmFbs8BeIQ4BXgR5KUETYy9tFKM8uLwWsmI4Cn43+Ag4FqM/uWmT1ViAIU2+4Uc+n7KWCApCMST0ePSuqZGVHSzyQ9IKk84+n3cklL4sz0qjgrORK4Mj4F9o/3zoszl+mpWXxM51pJcyQtz9eTVyPYClhlZl8AmNkqM3s7lul1SVdImk9QnEY/EUrqLOmxODurljQs+veVtFTSzXEW/7Ck8ox7N4h5XRKv75b0Yox/Sj4rnw/iTHG2pLskvSzpttQgI+mw6Dcf+GHinnUzs8b0uQKzCfBRLFuT21HSt1W3OnNl5gwqxtld0rOxznMkDYz+5ZKmxLRnAOWJew6N98xXWAHrHP3T9C6RzX6tqU9RBo/HfB+T1Dv616vLsV+Pj/3hEUmzcpSrM/AAcLuZ3RDvr5Q0N+Y3Q9Km0X921NPnJb2iOKuTVCFpapTNjNjHSn3FagTwF+BNYEiRy/I1Yp/bBxgFHCupEhgLDIv9vVzSqNgOz0f9SK7AfK1PNlPHimt3zKxgf0BN/F8GzAROAzal7vT5T4E/RfcY4ExgdIy7UfSfDAwHNgOWJe7tlgxP5LlZwn0JcHoi3jTCw8qOwKsFkkFnYCHhKXY8sH8i7HXgd4nrtLrk8o8y3SS6NwdeBQT0Bb4CKmPYVODH0T0b2BO4AzgvkVb3+L8cWJyUYTH/Ev3nAOBjoFdsv2cJytyJsDqxfaz7VOC+eM9JwLjorrfPFbgua2I/eDnWZbcWtONiYEh0Xw4sTsgpVf9NgLLoHgpMj+7fAhOje+eYx+CY95PAxjHsbOBCcutdi/UpIZfU35uJdrsXODG6fwLcnStvwjgxK/pvSXgYyqZPHwJjM/wXEfUTuAi4JqE3qXHqcODR6D4TuDG6B6VkWWSd6ZvqDwm/MbGsnYC3CXp+CnBdIs7s2M6pdriySOUfCUyI7jnAbqTr8taEcbM70JEwAUyFZesXzdGxyRTR7pRRWMolLYzup4AJwEDgTklbARsCryXin0AYeI8ysy8z0voY+ByYoLAPl20vbpDCTLEbwUg+lAi728zWAksKNasysxpJuwH7AgcS6n6OmU2OUe5sZtICLpO0H7AW2AZI1ek1M0vJ/UVCh0xxIzDVzC5N+J0h6QfRvS3B8H3QzHK1Fs+b2QqA2Kf6AjWEuv47+v+DMABl0ovsfa5QrDazSli3HfJ3SYNoYjtK6gZ0MbNno//thK2VTLoCt0jaHjDCoAawH3AtgJktkrQo+u9JGEieUVis2JDwQJRL7/KhT+vkAmElhPDgAGHGl1oluZUws8qV9z7AtOj/jqSqHPk+TpilXWVm7yksg3czsydi+C2EATbFP+P/pD7tQ5idYmaLE7IsJtl+f2uEflJlZqslTQcukPRrM1sT44w0sxcKUsrspGb8AFPidXLFaHfgCTP7EEDSNGCHRHh9/aK5YyUUye4Ua4+60sxON7Na4DrCE9BOwM8JT3kpqgmC6pWZkJl9RWikuwgd7sEseU4GRsf0/5CR/hcJd+b+TKthZmvMbLaZ/Z6wYnB0IvjTZiY7EuhBmJlVAu9SV9dkPddA2gPaHOBASZ0gLCsTZlxDLOyfLiBdZqVCrjo1RK4+V3Cikd2c0H7NbceGuJgwKA8CjqDhOgt4JKGvO5rZqAb0rij6lKe8pwB/BWZJ6tKE/JraDoXmA8IKUpLuhI9OjACGSnqdYJQ2Aw4qaOlyIKk7oTx/i2U8CziGprVvff2i2TpWLLtTCj/P6gqsjO4TM8IWEAbSeyRtnQyIexddzWwW8Btglxj0CZBUtC7AfyR1JDRQUZE0MM5qUlSSny+KdQXeM7MvJR0I9GnkfRMIy4NTJZXFdD4ys88UTlnumYeyFYqXCbPM/vF6RJZ4ufpcwYly7kAYVJvUjmb2X+AT1f1y4NgsUZN1Pinh/yRwXCzHIMLyN8BcYG9JA2LYxpJ2yKF3hWAOdfUbSViVy8UzwNFxr7onYSsgK2b2Z+Axwmx5NfCR6k4VHw88ke3eRH7HACicAN6pgfitjpnVEMa/g2Cd8TuMsJy9L9DbzPqaWV/gl2TXmWIwHLjVzPrEMm5LWP3aNhFnHrC/pE3j+HV0fQll0Nyxsmh2pxSeBMcA0yR9RFh+2i4ZaGZPK/yU4H5JhySCugAz40xQhL02CE/GN0s6g9DQFwDPAe/H/415Wm5NOgPXxSXLrwj7I805sHWjpGui+y3CLOleSdXACwSj1SjM7Oq41HcrYRA/VdJSwl7M3GaUrSiY2ecKh9/ul/QZYSCvr73HkKPPFYjkNpAIe69rJN1G09txFKHPryUYk4/riTOWsPR9PnB/wv8GYFJs76WEmRVm9n5cdr5D0kYx7vmEAak+vSsEp8eynkXQ54Z+QjWdcEJ4CUFH5lO/bNZhZmdLmkTQhZOB8fEg0PJG5DeeIOMlhHZ7qaH8CsQJwPWSro7XfyBMEB63eKg1MhMYm2jv2yStju5VZpb150mtxAjgigy/6dFvAoCZrZR0GfA84ZxB6sxHLpqjYymKYnf8FaKO08aR1DnOnFD4rfhWZvarIherJEjJRtJmhMF8bzN7p5Xy6gB0jA+M/YFHgYFxi89pJRJtXAbMIByOnFHscuWTUphRO47TMr4n6VyCPr9B+tL2+s59cfVqQ+Di1jLSkQqgKi53CviFG+mCMEbhZSSdgIeBu4tcnrzjM2rHcRzHKWFK4TCZ4ziO4zhZcEPtOI7jOCWMG2rHcRzHKWHcUDuO4zhOCeOG2nEcx3FKmP8DqznkCUoxXU0AAAAASUVORK5CYII=\n"
          },
          "metadata": {
            "needs_background": "light"
          }
        }
      ],
      "source": [
        "#Assigning width and height for the figure\n",
        "fig = plt.figure(figsize=(8,4)) \n",
        "extra = data_asia_cup['Extras']\n",
        "name = data_asia_cup['Team']\n",
        "plt.scatter(name, extra, s=50, edgecolors='black', linewidths=1, alpha=0.75)\n",
        "plt.title(\"Extras given by Team in each match\")\n",
        "plt.show()"
      ]
    },
    {
      "cell_type": "code",
      "execution_count": 115,
      "metadata": {
        "id": "EeDiZWig1Cat",
        "outputId": "bf8cc949-899b-41a2-d861-27d865f12d90",
        "colab": {
          "base_uri": "https://localhost:8080/",
          "height": 281
        }
      },
      "outputs": [
        {
          "output_type": "display_data",
          "data": {
            "text/plain": [
              "<Figure size 720x288 with 1 Axes>"
            ],
            "image/png": "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\n"
          },
          "metadata": {
            "needs_background": "light"
          }
        }
      ],
      "source": [
        "#Assigning width and height for the figure\n",
        "fig = plt.figure(figsize=(10,4))\n",
        "runs = bat_data1['Runs']\n",
        "name = bat_data1['Country']\n",
        "#Labeling Y-axis data\n",
        "plt.ylabel(\"Runs\")\n",
        "c=\"Teal\"\n",
        "#Displaying default vertical bars\n",
        "plt.bar(name, runs, color=c, width=0.5)\n",
        "plt.title(\"Max runs scored by Players from each Country\")\n",
        "plt.show()"
      ]
    },
    {
      "cell_type": "code",
      "execution_count": 116,
      "metadata": {
        "id": "M2j1B5v_1Cat",
        "outputId": "b71aa21a-0866-4bdb-d41b-3ee2b2b444f8",
        "colab": {
          "base_uri": "https://localhost:8080/",
          "height": 281
        }
      },
      "outputs": [
        {
          "output_type": "display_data",
          "data": {
            "text/plain": [
              "<Figure size 432x288 with 1 Axes>"
            ],
            "image/png": "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\n"
          },
          "metadata": {
            "needs_background": "light"
          }
        }
      ],
      "source": [
        "#Getting the total count of teams who were champtions between the year 1984-2022\n",
        "champion = champion_data.pivot_table(index=['Champion'],aggfunc='size')\n",
        "#Getting the total count of teams who were runner ups between the year 1984-2022\n",
        "runner = champion_data.pivot_table(index=['Runner Up'],aggfunc='size')\n",
        "plt.title(\"Champion vs Runner Up Teams\")\n",
        "plt.plot(champion, label=\"Champion\")\n",
        "plt.plot(runner, label=\"Runner Up\")\n",
        "#Labeling Y-axis data\n",
        "plt.ylabel(\"No of Times\")\n",
        "plt.legend()\n",
        "plt.show()"
      ]
    },
    {
      "cell_type": "code",
      "execution_count": 117,
      "metadata": {
        "id": "G-ZLklF71Cat",
        "outputId": "edd41779-79ae-4579-de40-4938e2342b7d",
        "colab": {
          "base_uri": "https://localhost:8080/",
          "height": 264
        }
      },
      "outputs": [
        {
          "output_type": "display_data",
          "data": {
            "text/plain": [
              "<Figure size 432x288 with 1 Axes>"
            ],
            "image/png": "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\n"
          },
          "metadata": {}
        }
      ],
      "source": [
        "#Getting the total count of teams who were champtions between the year 1984-2022\n",
        "champion = champion_data.pivot_table(index=['Champion'],aggfunc='size')\n",
        "#Labeling each data\n",
        "label = [\"India\",\"Pakistan\",\"Srilanka\"]\n",
        "#Coloring each data\n",
        "color = [\"Teal\",\"Indianred\",\"Purple\"]\n",
        "plt.title(\"Ratio of Winning Teams\")\n",
        "plt.pie(champion, labels=label, colors=color, startangle=90, wedgeprops={'edgecolor':'black'})\n",
        "plt.show()"
      ]
    }
  ],
  "metadata": {
    "colab": {
      "provenance": [],
      "collapsed_sections": [
        "xN-lZBhV1Car"
      ]
    },
    "kernelspec": {
      "display_name": "Python 3 (ipykernel)",
      "language": "python",
      "name": "python3"
    },
    "language_info": {
      "codemirror_mode": {
        "name": "ipython",
        "version": 3
      },
      "file_extension": ".py",
      "mimetype": "text/x-python",
      "name": "python",
      "nbconvert_exporter": "python",
      "pygments_lexer": "ipython3",
      "version": "3.9.12"
    }
  },
  "nbformat": 4,
  "nbformat_minor": 0
}
